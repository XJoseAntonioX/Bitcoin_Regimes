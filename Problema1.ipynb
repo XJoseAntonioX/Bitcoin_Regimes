{
 "cells": [
  {
   "cell_type": "markdown",
   "id": "ceae3809",
   "metadata": {},
   "source": [
    "# **Problema 1**\n",
    "**José Antonio Torres Villegas A00835737**"
   ]
  },
  {
   "cell_type": "markdown",
   "id": "b1806c6b",
   "metadata": {},
   "source": [
    "### **Planteamiento del problema**\n",
    "\n",
    "El problema lo pretendo abordar siguiendo este razonamiento: Para comprender la evolución de la criptomonedas, cuya seleccionada fue Bitcoin porque me gustaría dar con una solución robusta y que pueda tratar de generalizarse en otras acciones, estaría bien detectar alguna especie de patrón/comportamiento interesante. Para definir más cómo voy a abordar esto me voy a enfocar en el siguiente tema:\n",
    "\n",
    "**- Tema a investigar: Detectar tendencias (Alcista, bajista o colateral)**\n",
    "\n",
    "**- Razón de la selección: Detectar tendencias ayuda a identificar la dirección general del mercado, lo que beneficia en múltiples sentidos un análisis técnico desde evaluar el riesgo de una toma de decisión de entrar o salir del mercado hasta aumentar la precisión de modelos predictivos.**\n",
    "\n",
    "**- Columna de enfoque: Cierre de precio (Close) del bitcoin (Son datos diarios)**\n",
    "\n",
    "**- ¿En qué granularidad?: Se tiene una diaria, pero la idea es poder visualizarla \"Mensualmente\", esto se explica más en la metodología del cómo se logrará eso mismo**\n",
    "\n",
    "### **Metodología para cumplir con la propuesta de solución**\n",
    "\n",
    "1.- Generar 3 nuevos vectores (Columnas) para alimentar a futuros modelos: 'Diff_MA30', 'Diff_VAR30' y 'Log_Return'. Este proceso es que el que se sigue para la elaboración de los mismos y a continuación describiré el porqué de cada uno.\n",
    "\n",
    "* a) Media y desviación estándar móvil de 30 días (Esta es la visualización \"mensual\"): Suaviza los datos y modela la fluctuación de los mismos usando la media y desviación estándar; este fue usado en vez de varianza para no dar mayor peso a outliers, los cuales son clave para explicar comportamientos alcistas, bajistas o colaterales (En este último, por ejemplo, suele haber una desviación estándar constante). Por otra parte la selección \"mensual\" es para tener un mayor rango de visión para el análiis que busque enriquecerlo y que además pueda ser de apoyo para trading a mediano o largo plazo que es lo más común.\n",
    "\n",
    "$$\\text{MA30}_t = \\frac{1}{30} \\sum_{i=0}^{29} \\text{Close}_{t-i}$$\n",
    "$$\\text{VAR30}_t = \\sqrt{ \\frac{1}{29} \\sum_{i=0}^{29} \\left( \\text{Close}_{t-i} - \\text{MA30}_t \\right)^2 }$$\n",
    "\n",
    "* b) Diferencia relativa del precio con la media móvil mensual: Esto se hace para garantizar una mayor cercaía con una serie estacionaria en la distribución de los datos. Es un proceso muy común en series de tiempo y es parte de una buena práctica realizarla para eliminar ruido, tendencias y/o patrones cíclicos.\n",
    "\n",
    "$$\\text{Diff\\_MA30}_t = \\text{MA30}_t - \\text{Close}_t$$\n",
    "$$\\text{Diff\\_VAR30}_t = \\text{VAR30}_t - \\text{Close}_t$$\n",
    "\n",
    "* c) Retorno logarítmico móvil: Es otro indicador sumamente usado en análisis de acciones para medir el retorno relativo y no absoluto.\n",
    "\n",
    "$$\\text{RollingLogReturn}_t = \\sum_{i=0}^{29} \\log \\left( \\frac{\\text{Close}_{t-i}}{\\text{Close}_{t-i-1}} \\right)$$\n",
    "\n",
    "2.- Explorar periodicidad, esencialmente con Diff_MA30 porque explica el comportamiento estructural de mejor manera tras bucar la serie estacionaria; aunque también se intentó con Diff_VAR30, ya que al haber una periodicidad aumenta también las posibilidad de obtener mejores resultados. Nota: Se asume que los datos son estacionarios, a pesar de obtener ruidos con alta frecuencia, es decir outliers en términos de análisis de datos. Esto se logra mediante:\n",
    "\n",
    "* Implementación de encaje de Takens: Al cual se le específica encontrar los hiperparámetros óptimos para los datos del vector MA30\n",
    "* Diagrama de persistencia: Haciendo uso de este encaje para corroborar si hay presencia de alguna periodicidad.\n",
    "\n",
    "3.- Implementar un Mapper topólogico: Para observar posibles categorías (Esencialmente deberían ser 3: Los correspondientes a las tendencias esperadas, sin embargo pueden ser más por la cuestión de la cantidad de posibilidades en la interpretación de los vectores de datos para comprender la estructura particular de los precios de la acción en diversos rangos de tiempo)\n",
    "\n",
    "4.- Observar el histórico con las categorías (Componentes conexas generadas); manteniendo el índice de los registros categorizados.\n",
    "\n",
    "### **Conclusiones**\n",
    "\n",
    "Se dan conclusiones a los resultados obtenidos y se da una intrepretación lo más acertada posible"
   ]
  },
  {
   "cell_type": "markdown",
   "id": "70fceab4",
   "metadata": {},
   "source": [
    "## **1.- Lectura de datos y generación de vectores**"
   ]
  },
  {
   "cell_type": "code",
   "execution_count": 16,
   "id": "81bdbbcc",
   "metadata": {},
   "outputs": [],
   "source": [
    "import pandas as pd\n",
    "import numpy as np  "
   ]
  },
  {
   "cell_type": "code",
   "execution_count": 17,
   "id": "dd468f8f",
   "metadata": {},
   "outputs": [
    {
     "data": {
      "text/html": [
       "<div>\n",
       "<style scoped>\n",
       "    .dataframe tbody tr th:only-of-type {\n",
       "        vertical-align: middle;\n",
       "    }\n",
       "\n",
       "    .dataframe tbody tr th {\n",
       "        vertical-align: top;\n",
       "    }\n",
       "\n",
       "    .dataframe thead th {\n",
       "        text-align: right;\n",
       "    }\n",
       "</style>\n",
       "<table border=\"1\" class=\"dataframe\">\n",
       "  <thead>\n",
       "    <tr style=\"text-align: right;\">\n",
       "      <th></th>\n",
       "      <th>Date</th>\n",
       "      <th>Close</th>\n",
       "    </tr>\n",
       "  </thead>\n",
       "  <tbody>\n",
       "    <tr>\n",
       "      <th>0</th>\n",
       "      <td>2013-04-29 23:59:59</td>\n",
       "      <td>144.539993</td>\n",
       "    </tr>\n",
       "    <tr>\n",
       "      <th>1</th>\n",
       "      <td>2013-04-30 23:59:59</td>\n",
       "      <td>139.000000</td>\n",
       "    </tr>\n",
       "    <tr>\n",
       "      <th>2</th>\n",
       "      <td>2013-05-01 23:59:59</td>\n",
       "      <td>116.989998</td>\n",
       "    </tr>\n",
       "    <tr>\n",
       "      <th>3</th>\n",
       "      <td>2013-05-02 23:59:59</td>\n",
       "      <td>105.209999</td>\n",
       "    </tr>\n",
       "    <tr>\n",
       "      <th>4</th>\n",
       "      <td>2013-05-03 23:59:59</td>\n",
       "      <td>97.750000</td>\n",
       "    </tr>\n",
       "    <tr>\n",
       "      <th>...</th>\n",
       "      <td>...</td>\n",
       "      <td>...</td>\n",
       "    </tr>\n",
       "    <tr>\n",
       "      <th>2986</th>\n",
       "      <td>2021-07-02 23:59:59</td>\n",
       "      <td>33897.048590</td>\n",
       "    </tr>\n",
       "    <tr>\n",
       "      <th>2987</th>\n",
       "      <td>2021-07-03 23:59:59</td>\n",
       "      <td>34668.548402</td>\n",
       "    </tr>\n",
       "    <tr>\n",
       "      <th>2988</th>\n",
       "      <td>2021-07-04 23:59:59</td>\n",
       "      <td>35287.779766</td>\n",
       "    </tr>\n",
       "    <tr>\n",
       "      <th>2989</th>\n",
       "      <td>2021-07-05 23:59:59</td>\n",
       "      <td>33746.002456</td>\n",
       "    </tr>\n",
       "    <tr>\n",
       "      <th>2990</th>\n",
       "      <td>2021-07-06 23:59:59</td>\n",
       "      <td>34235.193451</td>\n",
       "    </tr>\n",
       "  </tbody>\n",
       "</table>\n",
       "<p>2991 rows × 2 columns</p>\n",
       "</div>"
      ],
      "text/plain": [
       "                    Date         Close\n",
       "0    2013-04-29 23:59:59    144.539993\n",
       "1    2013-04-30 23:59:59    139.000000\n",
       "2    2013-05-01 23:59:59    116.989998\n",
       "3    2013-05-02 23:59:59    105.209999\n",
       "4    2013-05-03 23:59:59     97.750000\n",
       "...                  ...           ...\n",
       "2986 2021-07-02 23:59:59  33897.048590\n",
       "2987 2021-07-03 23:59:59  34668.548402\n",
       "2988 2021-07-04 23:59:59  35287.779766\n",
       "2989 2021-07-05 23:59:59  33746.002456\n",
       "2990 2021-07-06 23:59:59  34235.193451\n",
       "\n",
       "[2991 rows x 2 columns]"
      ]
     },
     "execution_count": 17,
     "metadata": {},
     "output_type": "execute_result"
    }
   ],
   "source": [
    "df = pd.read_csv(\"coin_Bitcoin.csv\", usecols=[\"Date\", \"Close\"], parse_dates=[\"Date\"])\n",
    "df"
   ]
  },
  {
   "cell_type": "code",
   "execution_count": 18,
   "id": "a7b7d0d8",
   "metadata": {},
   "outputs": [
    {
     "data": {
      "text/html": [
       "<div>\n",
       "<style scoped>\n",
       "    .dataframe tbody tr th:only-of-type {\n",
       "        vertical-align: middle;\n",
       "    }\n",
       "\n",
       "    .dataframe tbody tr th {\n",
       "        vertical-align: top;\n",
       "    }\n",
       "\n",
       "    .dataframe thead th {\n",
       "        text-align: right;\n",
       "    }\n",
       "</style>\n",
       "<table border=\"1\" class=\"dataframe\">\n",
       "  <thead>\n",
       "    <tr style=\"text-align: right;\">\n",
       "      <th></th>\n",
       "      <th>Date</th>\n",
       "      <th>Close</th>\n",
       "      <th>Diff</th>\n",
       "      <th>MA30</th>\n",
       "      <th>STD30</th>\n",
       "      <th>Log_Return</th>\n",
       "      <th>Rolling_Log_Return</th>\n",
       "      <th>Diff_MA30</th>\n",
       "      <th>Diff_STD30</th>\n",
       "    </tr>\n",
       "  </thead>\n",
       "  <tbody>\n",
       "    <tr>\n",
       "      <th>30</th>\n",
       "      <td>2013-05-29 23:59:59</td>\n",
       "      <td>132.300003</td>\n",
       "      <td>3.300003</td>\n",
       "      <td>120.03</td>\n",
       "      <td>9.24</td>\n",
       "      <td>0.025260</td>\n",
       "      <td>-0.088484</td>\n",
       "      <td>-12.270003</td>\n",
       "      <td>-123.060003</td>\n",
       "    </tr>\n",
       "    <tr>\n",
       "      <th>31</th>\n",
       "      <td>2013-05-30 23:59:59</td>\n",
       "      <td>128.798996</td>\n",
       "      <td>-3.501007</td>\n",
       "      <td>119.69</td>\n",
       "      <td>8.69</td>\n",
       "      <td>-0.026819</td>\n",
       "      <td>-0.076221</td>\n",
       "      <td>-9.108996</td>\n",
       "      <td>-120.108996</td>\n",
       "    </tr>\n",
       "    <tr>\n",
       "      <th>32</th>\n",
       "      <td>2013-05-31 23:59:59</td>\n",
       "      <td>129.000000</td>\n",
       "      <td>0.201004</td>\n",
       "      <td>120.09</td>\n",
       "      <td>8.83</td>\n",
       "      <td>0.001559</td>\n",
       "      <td>0.097724</td>\n",
       "      <td>-8.910000</td>\n",
       "      <td>-120.170000</td>\n",
       "    </tr>\n",
       "    <tr>\n",
       "      <th>33</th>\n",
       "      <td>2013-06-01 23:59:59</td>\n",
       "      <td>129.300003</td>\n",
       "      <td>0.300003</td>\n",
       "      <td>120.90</td>\n",
       "      <td>8.52</td>\n",
       "      <td>0.002323</td>\n",
       "      <td>0.206177</td>\n",
       "      <td>-8.400003</td>\n",
       "      <td>-120.780003</td>\n",
       "    </tr>\n",
       "    <tr>\n",
       "      <th>34</th>\n",
       "      <td>2013-06-02 23:59:59</td>\n",
       "      <td>122.292000</td>\n",
       "      <td>-7.008003</td>\n",
       "      <td>121.71</td>\n",
       "      <td>7.32</td>\n",
       "      <td>-0.055724</td>\n",
       "      <td>0.223998</td>\n",
       "      <td>-0.582000</td>\n",
       "      <td>-114.972000</td>\n",
       "    </tr>\n",
       "    <tr>\n",
       "      <th>...</th>\n",
       "      <td>...</td>\n",
       "      <td>...</td>\n",
       "      <td>...</td>\n",
       "      <td>...</td>\n",
       "      <td>...</td>\n",
       "      <td>...</td>\n",
       "      <td>...</td>\n",
       "      <td>...</td>\n",
       "      <td>...</td>\n",
       "    </tr>\n",
       "    <tr>\n",
       "      <th>2986</th>\n",
       "      <td>2021-07-02 23:59:59</td>\n",
       "      <td>33897.048590</td>\n",
       "      <td>324.930937</td>\n",
       "      <td>35618.79</td>\n",
       "      <td>2402.39</td>\n",
       "      <td>0.009632</td>\n",
       "      <td>-0.103016</td>\n",
       "      <td>1721.741410</td>\n",
       "      <td>-31494.658590</td>\n",
       "    </tr>\n",
       "    <tr>\n",
       "      <th>2987</th>\n",
       "      <td>2021-07-03 23:59:59</td>\n",
       "      <td>34668.548402</td>\n",
       "      <td>771.499812</td>\n",
       "      <td>35467.45</td>\n",
       "      <td>2309.65</td>\n",
       "      <td>0.022505</td>\n",
       "      <td>-0.123067</td>\n",
       "      <td>798.901598</td>\n",
       "      <td>-32358.898402</td>\n",
       "    </tr>\n",
       "    <tr>\n",
       "      <th>2988</th>\n",
       "      <td>2021-07-04 23:59:59</td>\n",
       "      <td>35287.779766</td>\n",
       "      <td>619.231364</td>\n",
       "      <td>35413.90</td>\n",
       "      <td>2294.00</td>\n",
       "      <td>0.017704</td>\n",
       "      <td>-0.044523</td>\n",
       "      <td>126.120234</td>\n",
       "      <td>-32993.779766</td>\n",
       "    </tr>\n",
       "    <tr>\n",
       "      <th>2989</th>\n",
       "      <td>2021-07-05 23:59:59</td>\n",
       "      <td>33746.002456</td>\n",
       "      <td>-1541.777310</td>\n",
       "      <td>35353.70</td>\n",
       "      <td>2313.86</td>\n",
       "      <td>-0.044675</td>\n",
       "      <td>-0.052133</td>\n",
       "      <td>1607.697544</td>\n",
       "      <td>-31432.142456</td>\n",
       "    </tr>\n",
       "    <tr>\n",
       "      <th>2990</th>\n",
       "      <td>2021-07-06 23:59:59</td>\n",
       "      <td>34235.193451</td>\n",
       "      <td>489.190995</td>\n",
       "      <td>35299.46</td>\n",
       "      <td>2320.59</td>\n",
       "      <td>0.014392</td>\n",
       "      <td>-0.046435</td>\n",
       "      <td>1064.266549</td>\n",
       "      <td>-31914.603451</td>\n",
       "    </tr>\n",
       "  </tbody>\n",
       "</table>\n",
       "<p>2961 rows × 9 columns</p>\n",
       "</div>"
      ],
      "text/plain": [
       "                    Date         Close         Diff      MA30    STD30  \\\n",
       "30   2013-05-29 23:59:59    132.300003     3.300003    120.03     9.24   \n",
       "31   2013-05-30 23:59:59    128.798996    -3.501007    119.69     8.69   \n",
       "32   2013-05-31 23:59:59    129.000000     0.201004    120.09     8.83   \n",
       "33   2013-06-01 23:59:59    129.300003     0.300003    120.90     8.52   \n",
       "34   2013-06-02 23:59:59    122.292000    -7.008003    121.71     7.32   \n",
       "...                  ...           ...          ...       ...      ...   \n",
       "2986 2021-07-02 23:59:59  33897.048590   324.930937  35618.79  2402.39   \n",
       "2987 2021-07-03 23:59:59  34668.548402   771.499812  35467.45  2309.65   \n",
       "2988 2021-07-04 23:59:59  35287.779766   619.231364  35413.90  2294.00   \n",
       "2989 2021-07-05 23:59:59  33746.002456 -1541.777310  35353.70  2313.86   \n",
       "2990 2021-07-06 23:59:59  34235.193451   489.190995  35299.46  2320.59   \n",
       "\n",
       "      Log_Return  Rolling_Log_Return    Diff_MA30    Diff_STD30  \n",
       "30      0.025260           -0.088484   -12.270003   -123.060003  \n",
       "31     -0.026819           -0.076221    -9.108996   -120.108996  \n",
       "32      0.001559            0.097724    -8.910000   -120.170000  \n",
       "33      0.002323            0.206177    -8.400003   -120.780003  \n",
       "34     -0.055724            0.223998    -0.582000   -114.972000  \n",
       "...          ...                 ...          ...           ...  \n",
       "2986    0.009632           -0.103016  1721.741410 -31494.658590  \n",
       "2987    0.022505           -0.123067   798.901598 -32358.898402  \n",
       "2988    0.017704           -0.044523   126.120234 -32993.779766  \n",
       "2989   -0.044675           -0.052133  1607.697544 -31432.142456  \n",
       "2990    0.014392           -0.046435  1064.266549 -31914.603451  \n",
       "\n",
       "[2961 rows x 9 columns]"
      ]
     },
     "metadata": {},
     "output_type": "display_data"
    }
   ],
   "source": [
    "import pandas as pd\n",
    "import numpy as np\n",
    "\n",
    "# Convirtiendo la columna de fecha a datetime\n",
    "df['Date'] = pd.to_datetime(df['Date'])\n",
    "\n",
    "# Ordenando los datos por fecha para asegurar el cálculo correcto de las ventanas móviles\n",
    "df = df.sort_values('Date')\n",
    "\n",
    "# Diferencia de 1 día del precio de cierre\n",
    "df['Diff'] = df['Close'].diff()\n",
    "\n",
    "# Calculando la media móvil y varianza móvil con ventana de 30 días\n",
    "df['MA30'] = df['Close'].rolling(window=30).mean().round(2)\n",
    "df['STD30'] = df['Close'].rolling(window=30).std().round(2)\n",
    "\n",
    "# Retorno logarítmico diario\n",
    "df['Log_Return'] = np.log(df['Close'] / df['Close'].shift(1))\n",
    "\n",
    "# Retorno logarítmico acumulado en ventana de 30 días\n",
    "# FIX: Create column correctly instead of a row with label 'Rolling_Log_Return'\n",
    "df['Rolling_Log_Return'] = df['Log_Return'].rolling(window=30).sum()\n",
    "\n",
    "# Eliminando filas con NaN (primeros 29 días donde no hay suficientes datos para la ventana)\n",
    "df_clean = df.dropna(subset=['MA30', 'STD30', 'Rolling_Log_Return'])\n",
    "\n",
    "# Fluctuación diaria con respecto a la media móvil y varianza móvil\n",
    "# FIX: Create columns correctly instead of rows\n",
    "df_clean = df_clean.copy()  # Create a true copy to avoid SettingWithCopyWarning\n",
    "df_clean['Diff_MA30'] = df_clean['MA30'] - df_clean['Close']\n",
    "df_clean['Diff_STD30'] = df_clean['STD30'] - df_clean['Close']\n",
    "\n",
    "# Mostrando los primeros registros con las nuevas columnas\n",
    "display(df_clean)"
   ]
  },
  {
   "cell_type": "markdown",
   "id": "c9693465",
   "metadata": {},
   "source": [
    "## **2.- Aplicación de encaje de Takens**\n",
    "\n",
    "Se toman en cuenta los hiperparámetros óptimos "
   ]
  },
  {
   "cell_type": "code",
   "execution_count": 19,
   "id": "ca3b06ea",
   "metadata": {},
   "outputs": [
    {
     "data": {
      "application/vnd.plotly.v1+json": {
       "config": {
        "plotlyServerURL": "https://plot.ly"
       },
       "data": [
        {
         "type": "scatter",
         "x": {
          "bdata": "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",
          "dtype": "i4"
         },
         "y": {
          "bdata": "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",
          "dtype": "f8"
         }
        }
       ],
       "layout": {
        "template": {
         "data": {
          "bar": [
           {
            "error_x": {
             "color": "#2a3f5f"
            },
            "error_y": {
             "color": "#2a3f5f"
            },
            "marker": {
             "line": {
              "color": "#E5ECF6",
              "width": 0.5
             },
             "pattern": {
              "fillmode": "overlay",
              "size": 10,
              "solidity": 0.2
             }
            },
            "type": "bar"
           }
          ],
          "barpolar": [
           {
            "marker": {
             "line": {
              "color": "#E5ECF6",
              "width": 0.5
             },
             "pattern": {
              "fillmode": "overlay",
              "size": 10,
              "solidity": 0.2
             }
            },
            "type": "barpolar"
           }
          ],
          "carpet": [
           {
            "aaxis": {
             "endlinecolor": "#2a3f5f",
             "gridcolor": "white",
             "linecolor": "white",
             "minorgridcolor": "white",
             "startlinecolor": "#2a3f5f"
            },
            "baxis": {
             "endlinecolor": "#2a3f5f",
             "gridcolor": "white",
             "linecolor": "white",
             "minorgridcolor": "white",
             "startlinecolor": "#2a3f5f"
            },
            "type": "carpet"
           }
          ],
          "choropleth": [
           {
            "colorbar": {
             "outlinewidth": 0,
             "ticks": ""
            },
            "type": "choropleth"
           }
          ],
          "contour": [
           {
            "colorbar": {
             "outlinewidth": 0,
             "ticks": ""
            },
            "colorscale": [
             [
              0,
              "#0d0887"
             ],
             [
              0.1111111111111111,
              "#46039f"
             ],
             [
              0.2222222222222222,
              "#7201a8"
             ],
             [
              0.3333333333333333,
              "#9c179e"
             ],
             [
              0.4444444444444444,
              "#bd3786"
             ],
             [
              0.5555555555555556,
              "#d8576b"
             ],
             [
              0.6666666666666666,
              "#ed7953"
             ],
             [
              0.7777777777777778,
              "#fb9f3a"
             ],
             [
              0.8888888888888888,
              "#fdca26"
             ],
             [
              1,
              "#f0f921"
             ]
            ],
            "type": "contour"
           }
          ],
          "contourcarpet": [
           {
            "colorbar": {
             "outlinewidth": 0,
             "ticks": ""
            },
            "type": "contourcarpet"
           }
          ],
          "heatmap": [
           {
            "colorbar": {
             "outlinewidth": 0,
             "ticks": ""
            },
            "colorscale": [
             [
              0,
              "#0d0887"
             ],
             [
              0.1111111111111111,
              "#46039f"
             ],
             [
              0.2222222222222222,
              "#7201a8"
             ],
             [
              0.3333333333333333,
              "#9c179e"
             ],
             [
              0.4444444444444444,
              "#bd3786"
             ],
             [
              0.5555555555555556,
              "#d8576b"
             ],
             [
              0.6666666666666666,
              "#ed7953"
             ],
             [
              0.7777777777777778,
              "#fb9f3a"
             ],
             [
              0.8888888888888888,
              "#fdca26"
             ],
             [
              1,
              "#f0f921"
             ]
            ],
            "type": "heatmap"
           }
          ],
          "histogram": [
           {
            "marker": {
             "pattern": {
              "fillmode": "overlay",
              "size": 10,
              "solidity": 0.2
             }
            },
            "type": "histogram"
           }
          ],
          "histogram2d": [
           {
            "colorbar": {
             "outlinewidth": 0,
             "ticks": ""
            },
            "colorscale": [
             [
              0,
              "#0d0887"
             ],
             [
              0.1111111111111111,
              "#46039f"
             ],
             [
              0.2222222222222222,
              "#7201a8"
             ],
             [
              0.3333333333333333,
              "#9c179e"
             ],
             [
              0.4444444444444444,
              "#bd3786"
             ],
             [
              0.5555555555555556,
              "#d8576b"
             ],
             [
              0.6666666666666666,
              "#ed7953"
             ],
             [
              0.7777777777777778,
              "#fb9f3a"
             ],
             [
              0.8888888888888888,
              "#fdca26"
             ],
             [
              1,
              "#f0f921"
             ]
            ],
            "type": "histogram2d"
           }
          ],
          "histogram2dcontour": [
           {
            "colorbar": {
             "outlinewidth": 0,
             "ticks": ""
            },
            "colorscale": [
             [
              0,
              "#0d0887"
             ],
             [
              0.1111111111111111,
              "#46039f"
             ],
             [
              0.2222222222222222,
              "#7201a8"
             ],
             [
              0.3333333333333333,
              "#9c179e"
             ],
             [
              0.4444444444444444,
              "#bd3786"
             ],
             [
              0.5555555555555556,
              "#d8576b"
             ],
             [
              0.6666666666666666,
              "#ed7953"
             ],
             [
              0.7777777777777778,
              "#fb9f3a"
             ],
             [
              0.8888888888888888,
              "#fdca26"
             ],
             [
              1,
              "#f0f921"
             ]
            ],
            "type": "histogram2dcontour"
           }
          ],
          "mesh3d": [
           {
            "colorbar": {
             "outlinewidth": 0,
             "ticks": ""
            },
            "type": "mesh3d"
           }
          ],
          "parcoords": [
           {
            "line": {
             "colorbar": {
              "outlinewidth": 0,
              "ticks": ""
             }
            },
            "type": "parcoords"
           }
          ],
          "pie": [
           {
            "automargin": true,
            "type": "pie"
           }
          ],
          "scatter": [
           {
            "fillpattern": {
             "fillmode": "overlay",
             "size": 10,
             "solidity": 0.2
            },
            "type": "scatter"
           }
          ],
          "scatter3d": [
           {
            "line": {
             "colorbar": {
              "outlinewidth": 0,
              "ticks": ""
             }
            },
            "marker": {
             "colorbar": {
              "outlinewidth": 0,
              "ticks": ""
             }
            },
            "type": "scatter3d"
           }
          ],
          "scattercarpet": [
           {
            "marker": {
             "colorbar": {
              "outlinewidth": 0,
              "ticks": ""
             }
            },
            "type": "scattercarpet"
           }
          ],
          "scattergeo": [
           {
            "marker": {
             "colorbar": {
              "outlinewidth": 0,
              "ticks": ""
             }
            },
            "type": "scattergeo"
           }
          ],
          "scattergl": [
           {
            "marker": {
             "colorbar": {
              "outlinewidth": 0,
              "ticks": ""
             }
            },
            "type": "scattergl"
           }
          ],
          "scattermap": [
           {
            "marker": {
             "colorbar": {
              "outlinewidth": 0,
              "ticks": ""
             }
            },
            "type": "scattermap"
           }
          ],
          "scattermapbox": [
           {
            "marker": {
             "colorbar": {
              "outlinewidth": 0,
              "ticks": ""
             }
            },
            "type": "scattermapbox"
           }
          ],
          "scatterpolar": [
           {
            "marker": {
             "colorbar": {
              "outlinewidth": 0,
              "ticks": ""
             }
            },
            "type": "scatterpolar"
           }
          ],
          "scatterpolargl": [
           {
            "marker": {
             "colorbar": {
              "outlinewidth": 0,
              "ticks": ""
             }
            },
            "type": "scatterpolargl"
           }
          ],
          "scatterternary": [
           {
            "marker": {
             "colorbar": {
              "outlinewidth": 0,
              "ticks": ""
             }
            },
            "type": "scatterternary"
           }
          ],
          "surface": [
           {
            "colorbar": {
             "outlinewidth": 0,
             "ticks": ""
            },
            "colorscale": [
             [
              0,
              "#0d0887"
             ],
             [
              0.1111111111111111,
              "#46039f"
             ],
             [
              0.2222222222222222,
              "#7201a8"
             ],
             [
              0.3333333333333333,
              "#9c179e"
             ],
             [
              0.4444444444444444,
              "#bd3786"
             ],
             [
              0.5555555555555556,
              "#d8576b"
             ],
             [
              0.6666666666666666,
              "#ed7953"
             ],
             [
              0.7777777777777778,
              "#fb9f3a"
             ],
             [
              0.8888888888888888,
              "#fdca26"
             ],
             [
              1,
              "#f0f921"
             ]
            ],
            "type": "surface"
           }
          ],
          "table": [
           {
            "cells": {
             "fill": {
              "color": "#EBF0F8"
             },
             "line": {
              "color": "white"
             }
            },
            "header": {
             "fill": {
              "color": "#C8D4E3"
             },
             "line": {
              "color": "white"
             }
            },
            "type": "table"
           }
          ]
         },
         "layout": {
          "annotationdefaults": {
           "arrowcolor": "#2a3f5f",
           "arrowhead": 0,
           "arrowwidth": 1
          },
          "autotypenumbers": "strict",
          "coloraxis": {
           "colorbar": {
            "outlinewidth": 0,
            "ticks": ""
           }
          },
          "colorscale": {
           "diverging": [
            [
             0,
             "#8e0152"
            ],
            [
             0.1,
             "#c51b7d"
            ],
            [
             0.2,
             "#de77ae"
            ],
            [
             0.3,
             "#f1b6da"
            ],
            [
             0.4,
             "#fde0ef"
            ],
            [
             0.5,
             "#f7f7f7"
            ],
            [
             0.6,
             "#e6f5d0"
            ],
            [
             0.7,
             "#b8e186"
            ],
            [
             0.8,
             "#7fbc41"
            ],
            [
             0.9,
             "#4d9221"
            ],
            [
             1,
             "#276419"
            ]
           ],
           "sequential": [
            [
             0,
             "#0d0887"
            ],
            [
             0.1111111111111111,
             "#46039f"
            ],
            [
             0.2222222222222222,
             "#7201a8"
            ],
            [
             0.3333333333333333,
             "#9c179e"
            ],
            [
             0.4444444444444444,
             "#bd3786"
            ],
            [
             0.5555555555555556,
             "#d8576b"
            ],
            [
             0.6666666666666666,
             "#ed7953"
            ],
            [
             0.7777777777777778,
             "#fb9f3a"
            ],
            [
             0.8888888888888888,
             "#fdca26"
            ],
            [
             1,
             "#f0f921"
            ]
           ],
           "sequentialminus": [
            [
             0,
             "#0d0887"
            ],
            [
             0.1111111111111111,
             "#46039f"
            ],
            [
             0.2222222222222222,
             "#7201a8"
            ],
            [
             0.3333333333333333,
             "#9c179e"
            ],
            [
             0.4444444444444444,
             "#bd3786"
            ],
            [
             0.5555555555555556,
             "#d8576b"
            ],
            [
             0.6666666666666666,
             "#ed7953"
            ],
            [
             0.7777777777777778,
             "#fb9f3a"
            ],
            [
             0.8888888888888888,
             "#fdca26"
            ],
            [
             1,
             "#f0f921"
            ]
           ]
          },
          "colorway": [
           "#636efa",
           "#EF553B",
           "#00cc96",
           "#ab63fa",
           "#FFA15A",
           "#19d3f3",
           "#FF6692",
           "#B6E880",
           "#FF97FF",
           "#FECB52"
          ],
          "font": {
           "color": "#2a3f5f"
          },
          "geo": {
           "bgcolor": "white",
           "lakecolor": "white",
           "landcolor": "#E5ECF6",
           "showlakes": true,
           "showland": true,
           "subunitcolor": "white"
          },
          "hoverlabel": {
           "align": "left"
          },
          "hovermode": "closest",
          "mapbox": {
           "style": "light"
          },
          "paper_bgcolor": "white",
          "plot_bgcolor": "#E5ECF6",
          "polar": {
           "angularaxis": {
            "gridcolor": "white",
            "linecolor": "white",
            "ticks": ""
           },
           "bgcolor": "#E5ECF6",
           "radialaxis": {
            "gridcolor": "white",
            "linecolor": "white",
            "ticks": ""
           }
          },
          "scene": {
           "xaxis": {
            "backgroundcolor": "#E5ECF6",
            "gridcolor": "white",
            "gridwidth": 2,
            "linecolor": "white",
            "showbackground": true,
            "ticks": "",
            "zerolinecolor": "white"
           },
           "yaxis": {
            "backgroundcolor": "#E5ECF6",
            "gridcolor": "white",
            "gridwidth": 2,
            "linecolor": "white",
            "showbackground": true,
            "ticks": "",
            "zerolinecolor": "white"
           },
           "zaxis": {
            "backgroundcolor": "#E5ECF6",
            "gridcolor": "white",
            "gridwidth": 2,
            "linecolor": "white",
            "showbackground": true,
            "ticks": "",
            "zerolinecolor": "white"
           }
          },
          "shapedefaults": {
           "line": {
            "color": "#2a3f5f"
           }
          },
          "ternary": {
           "aaxis": {
            "gridcolor": "white",
            "linecolor": "white",
            "ticks": ""
           },
           "baxis": {
            "gridcolor": "white",
            "linecolor": "white",
            "ticks": ""
           },
           "bgcolor": "#E5ECF6",
           "caxis": {
            "gridcolor": "white",
            "linecolor": "white",
            "ticks": ""
           }
          },
          "title": {
           "x": 0.05
          },
          "xaxis": {
           "automargin": true,
           "gridcolor": "white",
           "linecolor": "white",
           "ticks": "",
           "title": {
            "standoff": 15
           },
           "zerolinecolor": "white",
           "zerolinewidth": 2
          },
          "yaxis": {
           "automargin": true,
           "gridcolor": "white",
           "linecolor": "white",
           "ticks": "",
           "title": {
            "standoff": 15
           },
           "zerolinecolor": "white",
           "zerolinewidth": 2
          }
         }
        },
        "title": {
         "text": "Precio de Cierre Histórico de Bitcoin"
        },
        "xaxis": {
         "title": {
          "text": "Índice de Tiempo (Días)"
         }
        },
        "yaxis": {
         "title": {
          "text": "Precio de Cierre (USD)"
         }
        }
       }
      }
     },
     "metadata": {},
     "output_type": "display_data"
    },
    {
     "data": {
      "application/vnd.plotly.v1+json": {
       "config": {
        "plotlyServerURL": "https://plot.ly"
       },
       "data": [
        {
         "type": "scatter",
         "x": {
          "bdata": "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",
          "dtype": "i4"
         },
         "y": {
          "bdata": "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",
          "dtype": "f8"
         }
        }
       ],
       "layout": {
        "template": {
         "data": {
          "bar": [
           {
            "error_x": {
             "color": "#2a3f5f"
            },
            "error_y": {
             "color": "#2a3f5f"
            },
            "marker": {
             "line": {
              "color": "#E5ECF6",
              "width": 0.5
             },
             "pattern": {
              "fillmode": "overlay",
              "size": 10,
              "solidity": 0.2
             }
            },
            "type": "bar"
           }
          ],
          "barpolar": [
           {
            "marker": {
             "line": {
              "color": "#E5ECF6",
              "width": 0.5
             },
             "pattern": {
              "fillmode": "overlay",
              "size": 10,
              "solidity": 0.2
             }
            },
            "type": "barpolar"
           }
          ],
          "carpet": [
           {
            "aaxis": {
             "endlinecolor": "#2a3f5f",
             "gridcolor": "white",
             "linecolor": "white",
             "minorgridcolor": "white",
             "startlinecolor": "#2a3f5f"
            },
            "baxis": {
             "endlinecolor": "#2a3f5f",
             "gridcolor": "white",
             "linecolor": "white",
             "minorgridcolor": "white",
             "startlinecolor": "#2a3f5f"
            },
            "type": "carpet"
           }
          ],
          "choropleth": [
           {
            "colorbar": {
             "outlinewidth": 0,
             "ticks": ""
            },
            "type": "choropleth"
           }
          ],
          "contour": [
           {
            "colorbar": {
             "outlinewidth": 0,
             "ticks": ""
            },
            "colorscale": [
             [
              0,
              "#0d0887"
             ],
             [
              0.1111111111111111,
              "#46039f"
             ],
             [
              0.2222222222222222,
              "#7201a8"
             ],
             [
              0.3333333333333333,
              "#9c179e"
             ],
             [
              0.4444444444444444,
              "#bd3786"
             ],
             [
              0.5555555555555556,
              "#d8576b"
             ],
             [
              0.6666666666666666,
              "#ed7953"
             ],
             [
              0.7777777777777778,
              "#fb9f3a"
             ],
             [
              0.8888888888888888,
              "#fdca26"
             ],
             [
              1,
              "#f0f921"
             ]
            ],
            "type": "contour"
           }
          ],
          "contourcarpet": [
           {
            "colorbar": {
             "outlinewidth": 0,
             "ticks": ""
            },
            "type": "contourcarpet"
           }
          ],
          "heatmap": [
           {
            "colorbar": {
             "outlinewidth": 0,
             "ticks": ""
            },
            "colorscale": [
             [
              0,
              "#0d0887"
             ],
             [
              0.1111111111111111,
              "#46039f"
             ],
             [
              0.2222222222222222,
              "#7201a8"
             ],
             [
              0.3333333333333333,
              "#9c179e"
             ],
             [
              0.4444444444444444,
              "#bd3786"
             ],
             [
              0.5555555555555556,
              "#d8576b"
             ],
             [
              0.6666666666666666,
              "#ed7953"
             ],
             [
              0.7777777777777778,
              "#fb9f3a"
             ],
             [
              0.8888888888888888,
              "#fdca26"
             ],
             [
              1,
              "#f0f921"
             ]
            ],
            "type": "heatmap"
           }
          ],
          "histogram": [
           {
            "marker": {
             "pattern": {
              "fillmode": "overlay",
              "size": 10,
              "solidity": 0.2
             }
            },
            "type": "histogram"
           }
          ],
          "histogram2d": [
           {
            "colorbar": {
             "outlinewidth": 0,
             "ticks": ""
            },
            "colorscale": [
             [
              0,
              "#0d0887"
             ],
             [
              0.1111111111111111,
              "#46039f"
             ],
             [
              0.2222222222222222,
              "#7201a8"
             ],
             [
              0.3333333333333333,
              "#9c179e"
             ],
             [
              0.4444444444444444,
              "#bd3786"
             ],
             [
              0.5555555555555556,
              "#d8576b"
             ],
             [
              0.6666666666666666,
              "#ed7953"
             ],
             [
              0.7777777777777778,
              "#fb9f3a"
             ],
             [
              0.8888888888888888,
              "#fdca26"
             ],
             [
              1,
              "#f0f921"
             ]
            ],
            "type": "histogram2d"
           }
          ],
          "histogram2dcontour": [
           {
            "colorbar": {
             "outlinewidth": 0,
             "ticks": ""
            },
            "colorscale": [
             [
              0,
              "#0d0887"
             ],
             [
              0.1111111111111111,
              "#46039f"
             ],
             [
              0.2222222222222222,
              "#7201a8"
             ],
             [
              0.3333333333333333,
              "#9c179e"
             ],
             [
              0.4444444444444444,
              "#bd3786"
             ],
             [
              0.5555555555555556,
              "#d8576b"
             ],
             [
              0.6666666666666666,
              "#ed7953"
             ],
             [
              0.7777777777777778,
              "#fb9f3a"
             ],
             [
              0.8888888888888888,
              "#fdca26"
             ],
             [
              1,
              "#f0f921"
             ]
            ],
            "type": "histogram2dcontour"
           }
          ],
          "mesh3d": [
           {
            "colorbar": {
             "outlinewidth": 0,
             "ticks": ""
            },
            "type": "mesh3d"
           }
          ],
          "parcoords": [
           {
            "line": {
             "colorbar": {
              "outlinewidth": 0,
              "ticks": ""
             }
            },
            "type": "parcoords"
           }
          ],
          "pie": [
           {
            "automargin": true,
            "type": "pie"
           }
          ],
          "scatter": [
           {
            "fillpattern": {
             "fillmode": "overlay",
             "size": 10,
             "solidity": 0.2
            },
            "type": "scatter"
           }
          ],
          "scatter3d": [
           {
            "line": {
             "colorbar": {
              "outlinewidth": 0,
              "ticks": ""
             }
            },
            "marker": {
             "colorbar": {
              "outlinewidth": 0,
              "ticks": ""
             }
            },
            "type": "scatter3d"
           }
          ],
          "scattercarpet": [
           {
            "marker": {
             "colorbar": {
              "outlinewidth": 0,
              "ticks": ""
             }
            },
            "type": "scattercarpet"
           }
          ],
          "scattergeo": [
           {
            "marker": {
             "colorbar": {
              "outlinewidth": 0,
              "ticks": ""
             }
            },
            "type": "scattergeo"
           }
          ],
          "scattergl": [
           {
            "marker": {
             "colorbar": {
              "outlinewidth": 0,
              "ticks": ""
             }
            },
            "type": "scattergl"
           }
          ],
          "scattermap": [
           {
            "marker": {
             "colorbar": {
              "outlinewidth": 0,
              "ticks": ""
             }
            },
            "type": "scattermap"
           }
          ],
          "scattermapbox": [
           {
            "marker": {
             "colorbar": {
              "outlinewidth": 0,
              "ticks": ""
             }
            },
            "type": "scattermapbox"
           }
          ],
          "scatterpolar": [
           {
            "marker": {
             "colorbar": {
              "outlinewidth": 0,
              "ticks": ""
             }
            },
            "type": "scatterpolar"
           }
          ],
          "scatterpolargl": [
           {
            "marker": {
             "colorbar": {
              "outlinewidth": 0,
              "ticks": ""
             }
            },
            "type": "scatterpolargl"
           }
          ],
          "scatterternary": [
           {
            "marker": {
             "colorbar": {
              "outlinewidth": 0,
              "ticks": ""
             }
            },
            "type": "scatterternary"
           }
          ],
          "surface": [
           {
            "colorbar": {
             "outlinewidth": 0,
             "ticks": ""
            },
            "colorscale": [
             [
              0,
              "#0d0887"
             ],
             [
              0.1111111111111111,
              "#46039f"
             ],
             [
              0.2222222222222222,
              "#7201a8"
             ],
             [
              0.3333333333333333,
              "#9c179e"
             ],
             [
              0.4444444444444444,
              "#bd3786"
             ],
             [
              0.5555555555555556,
              "#d8576b"
             ],
             [
              0.6666666666666666,
              "#ed7953"
             ],
             [
              0.7777777777777778,
              "#fb9f3a"
             ],
             [
              0.8888888888888888,
              "#fdca26"
             ],
             [
              1,
              "#f0f921"
             ]
            ],
            "type": "surface"
           }
          ],
          "table": [
           {
            "cells": {
             "fill": {
              "color": "#EBF0F8"
             },
             "line": {
              "color": "white"
             }
            },
            "header": {
             "fill": {
              "color": "#C8D4E3"
             },
             "line": {
              "color": "white"
             }
            },
            "type": "table"
           }
          ]
         },
         "layout": {
          "annotationdefaults": {
           "arrowcolor": "#2a3f5f",
           "arrowhead": 0,
           "arrowwidth": 1
          },
          "autotypenumbers": "strict",
          "coloraxis": {
           "colorbar": {
            "outlinewidth": 0,
            "ticks": ""
           }
          },
          "colorscale": {
           "diverging": [
            [
             0,
             "#8e0152"
            ],
            [
             0.1,
             "#c51b7d"
            ],
            [
             0.2,
             "#de77ae"
            ],
            [
             0.3,
             "#f1b6da"
            ],
            [
             0.4,
             "#fde0ef"
            ],
            [
             0.5,
             "#f7f7f7"
            ],
            [
             0.6,
             "#e6f5d0"
            ],
            [
             0.7,
             "#b8e186"
            ],
            [
             0.8,
             "#7fbc41"
            ],
            [
             0.9,
             "#4d9221"
            ],
            [
             1,
             "#276419"
            ]
           ],
           "sequential": [
            [
             0,
             "#0d0887"
            ],
            [
             0.1111111111111111,
             "#46039f"
            ],
            [
             0.2222222222222222,
             "#7201a8"
            ],
            [
             0.3333333333333333,
             "#9c179e"
            ],
            [
             0.4444444444444444,
             "#bd3786"
            ],
            [
             0.5555555555555556,
             "#d8576b"
            ],
            [
             0.6666666666666666,
             "#ed7953"
            ],
            [
             0.7777777777777778,
             "#fb9f3a"
            ],
            [
             0.8888888888888888,
             "#fdca26"
            ],
            [
             1,
             "#f0f921"
            ]
           ],
           "sequentialminus": [
            [
             0,
             "#0d0887"
            ],
            [
             0.1111111111111111,
             "#46039f"
            ],
            [
             0.2222222222222222,
             "#7201a8"
            ],
            [
             0.3333333333333333,
             "#9c179e"
            ],
            [
             0.4444444444444444,
             "#bd3786"
            ],
            [
             0.5555555555555556,
             "#d8576b"
            ],
            [
             0.6666666666666666,
             "#ed7953"
            ],
            [
             0.7777777777777778,
             "#fb9f3a"
            ],
            [
             0.8888888888888888,
             "#fdca26"
            ],
            [
             1,
             "#f0f921"
            ]
           ]
          },
          "colorway": [
           "#636efa",
           "#EF553B",
           "#00cc96",
           "#ab63fa",
           "#FFA15A",
           "#19d3f3",
           "#FF6692",
           "#B6E880",
           "#FF97FF",
           "#FECB52"
          ],
          "font": {
           "color": "#2a3f5f"
          },
          "geo": {
           "bgcolor": "white",
           "lakecolor": "white",
           "landcolor": "#E5ECF6",
           "showlakes": true,
           "showland": true,
           "subunitcolor": "white"
          },
          "hoverlabel": {
           "align": "left"
          },
          "hovermode": "closest",
          "mapbox": {
           "style": "light"
          },
          "paper_bgcolor": "white",
          "plot_bgcolor": "#E5ECF6",
          "polar": {
           "angularaxis": {
            "gridcolor": "white",
            "linecolor": "white",
            "ticks": ""
           },
           "bgcolor": "#E5ECF6",
           "radialaxis": {
            "gridcolor": "white",
            "linecolor": "white",
            "ticks": ""
           }
          },
          "scene": {
           "xaxis": {
            "backgroundcolor": "#E5ECF6",
            "gridcolor": "white",
            "gridwidth": 2,
            "linecolor": "white",
            "showbackground": true,
            "ticks": "",
            "zerolinecolor": "white"
           },
           "yaxis": {
            "backgroundcolor": "#E5ECF6",
            "gridcolor": "white",
            "gridwidth": 2,
            "linecolor": "white",
            "showbackground": true,
            "ticks": "",
            "zerolinecolor": "white"
           },
           "zaxis": {
            "backgroundcolor": "#E5ECF6",
            "gridcolor": "white",
            "gridwidth": 2,
            "linecolor": "white",
            "showbackground": true,
            "ticks": "",
            "zerolinecolor": "white"
           }
          },
          "shapedefaults": {
           "line": {
            "color": "#2a3f5f"
           }
          },
          "ternary": {
           "aaxis": {
            "gridcolor": "white",
            "linecolor": "white",
            "ticks": ""
           },
           "baxis": {
            "gridcolor": "white",
            "linecolor": "white",
            "ticks": ""
           },
           "bgcolor": "#E5ECF6",
           "caxis": {
            "gridcolor": "white",
            "linecolor": "white",
            "ticks": ""
           }
          },
          "title": {
           "x": 0.05
          },
          "xaxis": {
           "automargin": true,
           "gridcolor": "white",
           "linecolor": "white",
           "ticks": "",
           "title": {
            "standoff": 15
           },
           "zerolinecolor": "white",
           "zerolinewidth": 2
          },
          "yaxis": {
           "automargin": true,
           "gridcolor": "white",
           "linecolor": "white",
           "ticks": "",
           "title": {
            "standoff": 15
           },
           "zerolinecolor": "white",
           "zerolinewidth": 2
          }
         }
        },
        "title": {
         "text": "Valores de Diff_MA30"
        },
        "xaxis": {
         "title": {
          "text": "Índice de Tiempo (Días)"
         }
        },
        "yaxis": {
         "title": {
          "text": "Precio de Cierre (USD)"
         }
        }
       }
      }
     },
     "metadata": {},
     "output_type": "display_data"
    },
    {
     "data": {
      "application/vnd.plotly.v1+json": {
       "config": {
        "plotlyServerURL": "https://plot.ly"
       },
       "data": [
        {
         "type": "scatter",
         "x": {
          "bdata": "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",
          "dtype": "i4"
         },
         "y": {
          "bdata": "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",
          "dtype": "f8"
         }
        }
       ],
       "layout": {
        "template": {
         "data": {
          "bar": [
           {
            "error_x": {
             "color": "#2a3f5f"
            },
            "error_y": {
             "color": "#2a3f5f"
            },
            "marker": {
             "line": {
              "color": "#E5ECF6",
              "width": 0.5
             },
             "pattern": {
              "fillmode": "overlay",
              "size": 10,
              "solidity": 0.2
             }
            },
            "type": "bar"
           }
          ],
          "barpolar": [
           {
            "marker": {
             "line": {
              "color": "#E5ECF6",
              "width": 0.5
             },
             "pattern": {
              "fillmode": "overlay",
              "size": 10,
              "solidity": 0.2
             }
            },
            "type": "barpolar"
           }
          ],
          "carpet": [
           {
            "aaxis": {
             "endlinecolor": "#2a3f5f",
             "gridcolor": "white",
             "linecolor": "white",
             "minorgridcolor": "white",
             "startlinecolor": "#2a3f5f"
            },
            "baxis": {
             "endlinecolor": "#2a3f5f",
             "gridcolor": "white",
             "linecolor": "white",
             "minorgridcolor": "white",
             "startlinecolor": "#2a3f5f"
            },
            "type": "carpet"
           }
          ],
          "choropleth": [
           {
            "colorbar": {
             "outlinewidth": 0,
             "ticks": ""
            },
            "type": "choropleth"
           }
          ],
          "contour": [
           {
            "colorbar": {
             "outlinewidth": 0,
             "ticks": ""
            },
            "colorscale": [
             [
              0,
              "#0d0887"
             ],
             [
              0.1111111111111111,
              "#46039f"
             ],
             [
              0.2222222222222222,
              "#7201a8"
             ],
             [
              0.3333333333333333,
              "#9c179e"
             ],
             [
              0.4444444444444444,
              "#bd3786"
             ],
             [
              0.5555555555555556,
              "#d8576b"
             ],
             [
              0.6666666666666666,
              "#ed7953"
             ],
             [
              0.7777777777777778,
              "#fb9f3a"
             ],
             [
              0.8888888888888888,
              "#fdca26"
             ],
             [
              1,
              "#f0f921"
             ]
            ],
            "type": "contour"
           }
          ],
          "contourcarpet": [
           {
            "colorbar": {
             "outlinewidth": 0,
             "ticks": ""
            },
            "type": "contourcarpet"
           }
          ],
          "heatmap": [
           {
            "colorbar": {
             "outlinewidth": 0,
             "ticks": ""
            },
            "colorscale": [
             [
              0,
              "#0d0887"
             ],
             [
              0.1111111111111111,
              "#46039f"
             ],
             [
              0.2222222222222222,
              "#7201a8"
             ],
             [
              0.3333333333333333,
              "#9c179e"
             ],
             [
              0.4444444444444444,
              "#bd3786"
             ],
             [
              0.5555555555555556,
              "#d8576b"
             ],
             [
              0.6666666666666666,
              "#ed7953"
             ],
             [
              0.7777777777777778,
              "#fb9f3a"
             ],
             [
              0.8888888888888888,
              "#fdca26"
             ],
             [
              1,
              "#f0f921"
             ]
            ],
            "type": "heatmap"
           }
          ],
          "histogram": [
           {
            "marker": {
             "pattern": {
              "fillmode": "overlay",
              "size": 10,
              "solidity": 0.2
             }
            },
            "type": "histogram"
           }
          ],
          "histogram2d": [
           {
            "colorbar": {
             "outlinewidth": 0,
             "ticks": ""
            },
            "colorscale": [
             [
              0,
              "#0d0887"
             ],
             [
              0.1111111111111111,
              "#46039f"
             ],
             [
              0.2222222222222222,
              "#7201a8"
             ],
             [
              0.3333333333333333,
              "#9c179e"
             ],
             [
              0.4444444444444444,
              "#bd3786"
             ],
             [
              0.5555555555555556,
              "#d8576b"
             ],
             [
              0.6666666666666666,
              "#ed7953"
             ],
             [
              0.7777777777777778,
              "#fb9f3a"
             ],
             [
              0.8888888888888888,
              "#fdca26"
             ],
             [
              1,
              "#f0f921"
             ]
            ],
            "type": "histogram2d"
           }
          ],
          "histogram2dcontour": [
           {
            "colorbar": {
             "outlinewidth": 0,
             "ticks": ""
            },
            "colorscale": [
             [
              0,
              "#0d0887"
             ],
             [
              0.1111111111111111,
              "#46039f"
             ],
             [
              0.2222222222222222,
              "#7201a8"
             ],
             [
              0.3333333333333333,
              "#9c179e"
             ],
             [
              0.4444444444444444,
              "#bd3786"
             ],
             [
              0.5555555555555556,
              "#d8576b"
             ],
             [
              0.6666666666666666,
              "#ed7953"
             ],
             [
              0.7777777777777778,
              "#fb9f3a"
             ],
             [
              0.8888888888888888,
              "#fdca26"
             ],
             [
              1,
              "#f0f921"
             ]
            ],
            "type": "histogram2dcontour"
           }
          ],
          "mesh3d": [
           {
            "colorbar": {
             "outlinewidth": 0,
             "ticks": ""
            },
            "type": "mesh3d"
           }
          ],
          "parcoords": [
           {
            "line": {
             "colorbar": {
              "outlinewidth": 0,
              "ticks": ""
             }
            },
            "type": "parcoords"
           }
          ],
          "pie": [
           {
            "automargin": true,
            "type": "pie"
           }
          ],
          "scatter": [
           {
            "fillpattern": {
             "fillmode": "overlay",
             "size": 10,
             "solidity": 0.2
            },
            "type": "scatter"
           }
          ],
          "scatter3d": [
           {
            "line": {
             "colorbar": {
              "outlinewidth": 0,
              "ticks": ""
             }
            },
            "marker": {
             "colorbar": {
              "outlinewidth": 0,
              "ticks": ""
             }
            },
            "type": "scatter3d"
           }
          ],
          "scattercarpet": [
           {
            "marker": {
             "colorbar": {
              "outlinewidth": 0,
              "ticks": ""
             }
            },
            "type": "scattercarpet"
           }
          ],
          "scattergeo": [
           {
            "marker": {
             "colorbar": {
              "outlinewidth": 0,
              "ticks": ""
             }
            },
            "type": "scattergeo"
           }
          ],
          "scattergl": [
           {
            "marker": {
             "colorbar": {
              "outlinewidth": 0,
              "ticks": ""
             }
            },
            "type": "scattergl"
           }
          ],
          "scattermap": [
           {
            "marker": {
             "colorbar": {
              "outlinewidth": 0,
              "ticks": ""
             }
            },
            "type": "scattermap"
           }
          ],
          "scattermapbox": [
           {
            "marker": {
             "colorbar": {
              "outlinewidth": 0,
              "ticks": ""
             }
            },
            "type": "scattermapbox"
           }
          ],
          "scatterpolar": [
           {
            "marker": {
             "colorbar": {
              "outlinewidth": 0,
              "ticks": ""
             }
            },
            "type": "scatterpolar"
           }
          ],
          "scatterpolargl": [
           {
            "marker": {
             "colorbar": {
              "outlinewidth": 0,
              "ticks": ""
             }
            },
            "type": "scatterpolargl"
           }
          ],
          "scatterternary": [
           {
            "marker": {
             "colorbar": {
              "outlinewidth": 0,
              "ticks": ""
             }
            },
            "type": "scatterternary"
           }
          ],
          "surface": [
           {
            "colorbar": {
             "outlinewidth": 0,
             "ticks": ""
            },
            "colorscale": [
             [
              0,
              "#0d0887"
             ],
             [
              0.1111111111111111,
              "#46039f"
             ],
             [
              0.2222222222222222,
              "#7201a8"
             ],
             [
              0.3333333333333333,
              "#9c179e"
             ],
             [
              0.4444444444444444,
              "#bd3786"
             ],
             [
              0.5555555555555556,
              "#d8576b"
             ],
             [
              0.6666666666666666,
              "#ed7953"
             ],
             [
              0.7777777777777778,
              "#fb9f3a"
             ],
             [
              0.8888888888888888,
              "#fdca26"
             ],
             [
              1,
              "#f0f921"
             ]
            ],
            "type": "surface"
           }
          ],
          "table": [
           {
            "cells": {
             "fill": {
              "color": "#EBF0F8"
             },
             "line": {
              "color": "white"
             }
            },
            "header": {
             "fill": {
              "color": "#C8D4E3"
             },
             "line": {
              "color": "white"
             }
            },
            "type": "table"
           }
          ]
         },
         "layout": {
          "annotationdefaults": {
           "arrowcolor": "#2a3f5f",
           "arrowhead": 0,
           "arrowwidth": 1
          },
          "autotypenumbers": "strict",
          "coloraxis": {
           "colorbar": {
            "outlinewidth": 0,
            "ticks": ""
           }
          },
          "colorscale": {
           "diverging": [
            [
             0,
             "#8e0152"
            ],
            [
             0.1,
             "#c51b7d"
            ],
            [
             0.2,
             "#de77ae"
            ],
            [
             0.3,
             "#f1b6da"
            ],
            [
             0.4,
             "#fde0ef"
            ],
            [
             0.5,
             "#f7f7f7"
            ],
            [
             0.6,
             "#e6f5d0"
            ],
            [
             0.7,
             "#b8e186"
            ],
            [
             0.8,
             "#7fbc41"
            ],
            [
             0.9,
             "#4d9221"
            ],
            [
             1,
             "#276419"
            ]
           ],
           "sequential": [
            [
             0,
             "#0d0887"
            ],
            [
             0.1111111111111111,
             "#46039f"
            ],
            [
             0.2222222222222222,
             "#7201a8"
            ],
            [
             0.3333333333333333,
             "#9c179e"
            ],
            [
             0.4444444444444444,
             "#bd3786"
            ],
            [
             0.5555555555555556,
             "#d8576b"
            ],
            [
             0.6666666666666666,
             "#ed7953"
            ],
            [
             0.7777777777777778,
             "#fb9f3a"
            ],
            [
             0.8888888888888888,
             "#fdca26"
            ],
            [
             1,
             "#f0f921"
            ]
           ],
           "sequentialminus": [
            [
             0,
             "#0d0887"
            ],
            [
             0.1111111111111111,
             "#46039f"
            ],
            [
             0.2222222222222222,
             "#7201a8"
            ],
            [
             0.3333333333333333,
             "#9c179e"
            ],
            [
             0.4444444444444444,
             "#bd3786"
            ],
            [
             0.5555555555555556,
             "#d8576b"
            ],
            [
             0.6666666666666666,
             "#ed7953"
            ],
            [
             0.7777777777777778,
             "#fb9f3a"
            ],
            [
             0.8888888888888888,
             "#fdca26"
            ],
            [
             1,
             "#f0f921"
            ]
           ]
          },
          "colorway": [
           "#636efa",
           "#EF553B",
           "#00cc96",
           "#ab63fa",
           "#FFA15A",
           "#19d3f3",
           "#FF6692",
           "#B6E880",
           "#FF97FF",
           "#FECB52"
          ],
          "font": {
           "color": "#2a3f5f"
          },
          "geo": {
           "bgcolor": "white",
           "lakecolor": "white",
           "landcolor": "#E5ECF6",
           "showlakes": true,
           "showland": true,
           "subunitcolor": "white"
          },
          "hoverlabel": {
           "align": "left"
          },
          "hovermode": "closest",
          "mapbox": {
           "style": "light"
          },
          "paper_bgcolor": "white",
          "plot_bgcolor": "#E5ECF6",
          "polar": {
           "angularaxis": {
            "gridcolor": "white",
            "linecolor": "white",
            "ticks": ""
           },
           "bgcolor": "#E5ECF6",
           "radialaxis": {
            "gridcolor": "white",
            "linecolor": "white",
            "ticks": ""
           }
          },
          "scene": {
           "xaxis": {
            "backgroundcolor": "#E5ECF6",
            "gridcolor": "white",
            "gridwidth": 2,
            "linecolor": "white",
            "showbackground": true,
            "ticks": "",
            "zerolinecolor": "white"
           },
           "yaxis": {
            "backgroundcolor": "#E5ECF6",
            "gridcolor": "white",
            "gridwidth": 2,
            "linecolor": "white",
            "showbackground": true,
            "ticks": "",
            "zerolinecolor": "white"
           },
           "zaxis": {
            "backgroundcolor": "#E5ECF6",
            "gridcolor": "white",
            "gridwidth": 2,
            "linecolor": "white",
            "showbackground": true,
            "ticks": "",
            "zerolinecolor": "white"
           }
          },
          "shapedefaults": {
           "line": {
            "color": "#2a3f5f"
           }
          },
          "ternary": {
           "aaxis": {
            "gridcolor": "white",
            "linecolor": "white",
            "ticks": ""
           },
           "baxis": {
            "gridcolor": "white",
            "linecolor": "white",
            "ticks": ""
           },
           "bgcolor": "#E5ECF6",
           "caxis": {
            "gridcolor": "white",
            "linecolor": "white",
            "ticks": ""
           }
          },
          "title": {
           "x": 0.05
          },
          "xaxis": {
           "automargin": true,
           "gridcolor": "white",
           "linecolor": "white",
           "ticks": "",
           "title": {
            "standoff": 15
           },
           "zerolinecolor": "white",
           "zerolinewidth": 2
          },
          "yaxis": {
           "automargin": true,
           "gridcolor": "white",
           "linecolor": "white",
           "ticks": "",
           "title": {
            "standoff": 15
           },
           "zerolinecolor": "white",
           "zerolinewidth": 2
          }
         }
        },
        "title": {
         "text": "Valores de Diff_STD30"
        },
        "xaxis": {
         "title": {
          "text": "Índice de Tiempo (Días)"
         }
        },
        "yaxis": {
         "title": {
          "text": "Precio de Cierre (USD)"
         }
        }
       }
      }
     },
     "metadata": {},
     "output_type": "display_data"
    },
    {
     "name": "stdout",
     "output_type": "stream",
     "text": [
      "Encaje de takens para Diff_STD30\n"
     ]
    },
    {
     "data": {
      "application/vnd.plotly.v1+json": {
       "config": {
        "plotlyServerURL": "https://plot.ly"
       },
       "data": [
        {
         "marker": {
          "color": [
           0,
           1,
           2,
           3,
           4,
           5,
           6,
           7,
           8,
           9,
           10,
           11,
           12,
           13,
           14,
           15,
           16,
           17,
           18,
           19,
           20,
           21,
           22,
           23,
           24,
           25,
           26,
           27,
           28,
           29,
           30,
           31,
           32,
           33,
           34,
           35,
           36,
           37,
           38,
           39,
           40,
           41,
           42,
           43,
           44,
           45,
           46,
           47,
           48,
           49,
           50,
           51,
           52,
           53,
           54,
           55,
           56,
           57,
           58,
           59,
           60,
           61,
           62,
           63,
           64,
           65,
           66,
           67,
           68,
           69,
           70,
           71,
           72,
           73,
           74,
           75,
           76,
           77,
           78,
           79,
           80,
           81,
           82,
           83,
           84,
           85,
           86,
           87,
           88,
           89,
           90,
           91,
           92,
           93,
           94,
           95,
           96,
           97,
           98,
           99,
           100,
           101,
           102,
           103,
           104,
           105,
           106,
           107,
           108,
           109,
           110,
           111,
           112,
           113,
           114,
           115,
           116,
           117,
           118,
           119,
           120,
           121,
           122,
           123,
           124,
           125,
           126,
           127,
           128,
           129,
           130,
           131,
           132,
           133,
           134,
           135,
           136,
           137,
           138,
           139,
           140,
           141,
           142,
           143,
           144,
           145,
           146,
           147,
           148,
           149,
           150,
           151,
           152,
           153,
           154,
           155,
           156,
           157,
           158,
           159,
           160,
           161,
           162,
           163,
           164,
           165,
           166,
           167,
           168,
           169,
           170,
           171,
           172,
           173,
           174,
           175,
           176,
           177,
           178,
           179,
           180,
           181,
           182,
           183,
           184,
           185,
           186,
           187,
           188,
           189,
           190,
           191,
           192,
           193,
           194,
           195,
           196,
           197,
           198,
           199,
           200,
           201,
           202,
           203,
           204,
           205,
           206,
           207,
           208,
           209,
           210,
           211,
           212,
           213,
           214,
           215,
           216,
           217,
           218,
           219,
           220,
           221,
           222,
           223,
           224,
           225,
           226,
           227,
           228,
           229,
           230,
           231,
           232,
           233,
           234,
           235,
           236,
           237,
           238,
           239,
           240,
           241,
           242,
           243,
           244,
           245,
           246,
           247,
           248,
           249,
           250,
           251,
           252,
           253,
           254,
           255,
           256,
           257,
           258,
           259,
           260,
           261,
           262,
           263,
           264,
           265,
           266,
           267,
           268,
           269,
           270,
           271,
           272,
           273,
           274,
           275,
           276,
           277,
           278,
           279,
           280,
           281,
           282,
           283,
           284,
           285,
           286,
           287,
           288,
           289,
           290,
           291,
           292,
           293,
           294,
           295,
           296,
           297,
           298,
           299,
           300,
           301,
           302,
           303,
           304,
           305,
           306,
           307,
           308,
           309,
           310,
           311,
           312,
           313,
           314,
           315,
           316,
           317,
           318,
           319,
           320,
           321,
           322,
           323,
           324,
           325,
           326,
           327,
           328,
           329,
           330,
           331,
           332,
           333,
           334,
           335,
           336,
           337,
           338,
           339,
           340,
           341,
           342,
           343,
           344,
           345,
           346,
           347,
           348,
           349,
           350,
           351,
           352,
           353,
           354,
           355,
           356,
           357,
           358,
           359,
           360,
           361,
           362,
           363,
           364,
           365,
           366,
           367,
           368,
           369,
           370,
           371,
           372,
           373,
           374,
           375,
           376,
           377,
           378,
           379,
           380,
           381,
           382,
           383,
           384,
           385,
           386,
           387,
           388,
           389,
           390,
           391,
           392,
           393,
           394,
           395,
           396,
           397,
           398,
           399,
           400,
           401,
           402,
           403,
           404,
           405,
           406,
           407,
           408,
           409,
           410,
           411,
           412,
           413,
           414,
           415,
           416,
           417,
           418,
           419,
           420,
           421,
           422,
           423,
           424,
           425,
           426,
           427,
           428,
           429,
           430,
           431,
           432,
           433,
           434,
           435,
           436,
           437,
           438,
           439,
           440,
           441,
           442,
           443,
           444,
           445,
           446,
           447,
           448,
           449,
           450,
           451,
           452,
           453,
           454,
           455,
           456,
           457,
           458,
           459,
           460,
           461,
           462,
           463,
           464,
           465,
           466,
           467,
           468,
           469,
           470,
           471,
           472,
           473,
           474,
           475,
           476,
           477,
           478,
           479,
           480,
           481,
           482,
           483,
           484,
           485,
           486,
           487,
           488,
           489,
           490,
           491,
           492,
           493,
           494,
           495,
           496,
           497,
           498,
           499,
           500,
           501,
           502,
           503,
           504,
           505,
           506,
           507,
           508,
           509,
           510,
           511,
           512,
           513,
           514,
           515,
           516,
           517,
           518,
           519,
           520,
           521,
           522,
           523,
           524,
           525,
           526,
           527,
           528,
           529,
           530,
           531,
           532,
           533,
           534,
           535,
           536,
           537,
           538,
           539,
           540,
           541,
           542,
           543,
           544,
           545,
           546,
           547,
           548,
           549,
           550,
           551,
           552,
           553,
           554,
           555,
           556,
           557,
           558,
           559,
           560,
           561,
           562,
           563,
           564,
           565,
           566,
           567,
           568,
           569,
           570,
           571,
           572,
           573,
           574,
           575,
           576,
           577,
           578,
           579,
           580,
           581,
           582,
           583,
           584,
           585
          ],
          "colorscale": [
           [
            0,
            "#440154"
           ],
           [
            0.1111111111111111,
            "#482878"
           ],
           [
            0.2222222222222222,
            "#3e4989"
           ],
           [
            0.3333333333333333,
            "#31688e"
           ],
           [
            0.4444444444444444,
            "#26828e"
           ],
           [
            0.5555555555555556,
            "#1f9e89"
           ],
           [
            0.6666666666666666,
            "#35b779"
           ],
           [
            0.7777777777777778,
            "#6ece58"
           ],
           [
            0.8888888888888888,
            "#b5de2b"
           ],
           [
            1,
            "#fde725"
           ]
          ],
          "opacity": 0.8,
          "size": 4
         },
         "mode": "markers",
         "type": "scatter",
         "x": {
          "bdata": "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",
          "dtype": "f8"
         },
         "y": {
          "bdata": "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",
          "dtype": "f8"
         }
        }
       ],
       "layout": {
        "height": 600,
        "plot_bgcolor": "white",
        "template": {
         "data": {
          "bar": [
           {
            "error_x": {
             "color": "#2a3f5f"
            },
            "error_y": {
             "color": "#2a3f5f"
            },
            "marker": {
             "line": {
              "color": "#E5ECF6",
              "width": 0.5
             },
             "pattern": {
              "fillmode": "overlay",
              "size": 10,
              "solidity": 0.2
             }
            },
            "type": "bar"
           }
          ],
          "barpolar": [
           {
            "marker": {
             "line": {
              "color": "#E5ECF6",
              "width": 0.5
             },
             "pattern": {
              "fillmode": "overlay",
              "size": 10,
              "solidity": 0.2
             }
            },
            "type": "barpolar"
           }
          ],
          "carpet": [
           {
            "aaxis": {
             "endlinecolor": "#2a3f5f",
             "gridcolor": "white",
             "linecolor": "white",
             "minorgridcolor": "white",
             "startlinecolor": "#2a3f5f"
            },
            "baxis": {
             "endlinecolor": "#2a3f5f",
             "gridcolor": "white",
             "linecolor": "white",
             "minorgridcolor": "white",
             "startlinecolor": "#2a3f5f"
            },
            "type": "carpet"
           }
          ],
          "choropleth": [
           {
            "colorbar": {
             "outlinewidth": 0,
             "ticks": ""
            },
            "type": "choropleth"
           }
          ],
          "contour": [
           {
            "colorbar": {
             "outlinewidth": 0,
             "ticks": ""
            },
            "colorscale": [
             [
              0,
              "#0d0887"
             ],
             [
              0.1111111111111111,
              "#46039f"
             ],
             [
              0.2222222222222222,
              "#7201a8"
             ],
             [
              0.3333333333333333,
              "#9c179e"
             ],
             [
              0.4444444444444444,
              "#bd3786"
             ],
             [
              0.5555555555555556,
              "#d8576b"
             ],
             [
              0.6666666666666666,
              "#ed7953"
             ],
             [
              0.7777777777777778,
              "#fb9f3a"
             ],
             [
              0.8888888888888888,
              "#fdca26"
             ],
             [
              1,
              "#f0f921"
             ]
            ],
            "type": "contour"
           }
          ],
          "contourcarpet": [
           {
            "colorbar": {
             "outlinewidth": 0,
             "ticks": ""
            },
            "type": "contourcarpet"
           }
          ],
          "heatmap": [
           {
            "colorbar": {
             "outlinewidth": 0,
             "ticks": ""
            },
            "colorscale": [
             [
              0,
              "#0d0887"
             ],
             [
              0.1111111111111111,
              "#46039f"
             ],
             [
              0.2222222222222222,
              "#7201a8"
             ],
             [
              0.3333333333333333,
              "#9c179e"
             ],
             [
              0.4444444444444444,
              "#bd3786"
             ],
             [
              0.5555555555555556,
              "#d8576b"
             ],
             [
              0.6666666666666666,
              "#ed7953"
             ],
             [
              0.7777777777777778,
              "#fb9f3a"
             ],
             [
              0.8888888888888888,
              "#fdca26"
             ],
             [
              1,
              "#f0f921"
             ]
            ],
            "type": "heatmap"
           }
          ],
          "histogram": [
           {
            "marker": {
             "pattern": {
              "fillmode": "overlay",
              "size": 10,
              "solidity": 0.2
             }
            },
            "type": "histogram"
           }
          ],
          "histogram2d": [
           {
            "colorbar": {
             "outlinewidth": 0,
             "ticks": ""
            },
            "colorscale": [
             [
              0,
              "#0d0887"
             ],
             [
              0.1111111111111111,
              "#46039f"
             ],
             [
              0.2222222222222222,
              "#7201a8"
             ],
             [
              0.3333333333333333,
              "#9c179e"
             ],
             [
              0.4444444444444444,
              "#bd3786"
             ],
             [
              0.5555555555555556,
              "#d8576b"
             ],
             [
              0.6666666666666666,
              "#ed7953"
             ],
             [
              0.7777777777777778,
              "#fb9f3a"
             ],
             [
              0.8888888888888888,
              "#fdca26"
             ],
             [
              1,
              "#f0f921"
             ]
            ],
            "type": "histogram2d"
           }
          ],
          "histogram2dcontour": [
           {
            "colorbar": {
             "outlinewidth": 0,
             "ticks": ""
            },
            "colorscale": [
             [
              0,
              "#0d0887"
             ],
             [
              0.1111111111111111,
              "#46039f"
             ],
             [
              0.2222222222222222,
              "#7201a8"
             ],
             [
              0.3333333333333333,
              "#9c179e"
             ],
             [
              0.4444444444444444,
              "#bd3786"
             ],
             [
              0.5555555555555556,
              "#d8576b"
             ],
             [
              0.6666666666666666,
              "#ed7953"
             ],
             [
              0.7777777777777778,
              "#fb9f3a"
             ],
             [
              0.8888888888888888,
              "#fdca26"
             ],
             [
              1,
              "#f0f921"
             ]
            ],
            "type": "histogram2dcontour"
           }
          ],
          "mesh3d": [
           {
            "colorbar": {
             "outlinewidth": 0,
             "ticks": ""
            },
            "type": "mesh3d"
           }
          ],
          "parcoords": [
           {
            "line": {
             "colorbar": {
              "outlinewidth": 0,
              "ticks": ""
             }
            },
            "type": "parcoords"
           }
          ],
          "pie": [
           {
            "automargin": true,
            "type": "pie"
           }
          ],
          "scatter": [
           {
            "fillpattern": {
             "fillmode": "overlay",
             "size": 10,
             "solidity": 0.2
            },
            "type": "scatter"
           }
          ],
          "scatter3d": [
           {
            "line": {
             "colorbar": {
              "outlinewidth": 0,
              "ticks": ""
             }
            },
            "marker": {
             "colorbar": {
              "outlinewidth": 0,
              "ticks": ""
             }
            },
            "type": "scatter3d"
           }
          ],
          "scattercarpet": [
           {
            "marker": {
             "colorbar": {
              "outlinewidth": 0,
              "ticks": ""
             }
            },
            "type": "scattercarpet"
           }
          ],
          "scattergeo": [
           {
            "marker": {
             "colorbar": {
              "outlinewidth": 0,
              "ticks": ""
             }
            },
            "type": "scattergeo"
           }
          ],
          "scattergl": [
           {
            "marker": {
             "colorbar": {
              "outlinewidth": 0,
              "ticks": ""
             }
            },
            "type": "scattergl"
           }
          ],
          "scattermap": [
           {
            "marker": {
             "colorbar": {
              "outlinewidth": 0,
              "ticks": ""
             }
            },
            "type": "scattermap"
           }
          ],
          "scattermapbox": [
           {
            "marker": {
             "colorbar": {
              "outlinewidth": 0,
              "ticks": ""
             }
            },
            "type": "scattermapbox"
           }
          ],
          "scatterpolar": [
           {
            "marker": {
             "colorbar": {
              "outlinewidth": 0,
              "ticks": ""
             }
            },
            "type": "scatterpolar"
           }
          ],
          "scatterpolargl": [
           {
            "marker": {
             "colorbar": {
              "outlinewidth": 0,
              "ticks": ""
             }
            },
            "type": "scatterpolargl"
           }
          ],
          "scatterternary": [
           {
            "marker": {
             "colorbar": {
              "outlinewidth": 0,
              "ticks": ""
             }
            },
            "type": "scatterternary"
           }
          ],
          "surface": [
           {
            "colorbar": {
             "outlinewidth": 0,
             "ticks": ""
            },
            "colorscale": [
             [
              0,
              "#0d0887"
             ],
             [
              0.1111111111111111,
              "#46039f"
             ],
             [
              0.2222222222222222,
              "#7201a8"
             ],
             [
              0.3333333333333333,
              "#9c179e"
             ],
             [
              0.4444444444444444,
              "#bd3786"
             ],
             [
              0.5555555555555556,
              "#d8576b"
             ],
             [
              0.6666666666666666,
              "#ed7953"
             ],
             [
              0.7777777777777778,
              "#fb9f3a"
             ],
             [
              0.8888888888888888,
              "#fdca26"
             ],
             [
              1,
              "#f0f921"
             ]
            ],
            "type": "surface"
           }
          ],
          "table": [
           {
            "cells": {
             "fill": {
              "color": "#EBF0F8"
             },
             "line": {
              "color": "white"
             }
            },
            "header": {
             "fill": {
              "color": "#C8D4E3"
             },
             "line": {
              "color": "white"
             }
            },
            "type": "table"
           }
          ]
         },
         "layout": {
          "annotationdefaults": {
           "arrowcolor": "#2a3f5f",
           "arrowhead": 0,
           "arrowwidth": 1
          },
          "autotypenumbers": "strict",
          "coloraxis": {
           "colorbar": {
            "outlinewidth": 0,
            "ticks": ""
           }
          },
          "colorscale": {
           "diverging": [
            [
             0,
             "#8e0152"
            ],
            [
             0.1,
             "#c51b7d"
            ],
            [
             0.2,
             "#de77ae"
            ],
            [
             0.3,
             "#f1b6da"
            ],
            [
             0.4,
             "#fde0ef"
            ],
            [
             0.5,
             "#f7f7f7"
            ],
            [
             0.6,
             "#e6f5d0"
            ],
            [
             0.7,
             "#b8e186"
            ],
            [
             0.8,
             "#7fbc41"
            ],
            [
             0.9,
             "#4d9221"
            ],
            [
             1,
             "#276419"
            ]
           ],
           "sequential": [
            [
             0,
             "#0d0887"
            ],
            [
             0.1111111111111111,
             "#46039f"
            ],
            [
             0.2222222222222222,
             "#7201a8"
            ],
            [
             0.3333333333333333,
             "#9c179e"
            ],
            [
             0.4444444444444444,
             "#bd3786"
            ],
            [
             0.5555555555555556,
             "#d8576b"
            ],
            [
             0.6666666666666666,
             "#ed7953"
            ],
            [
             0.7777777777777778,
             "#fb9f3a"
            ],
            [
             0.8888888888888888,
             "#fdca26"
            ],
            [
             1,
             "#f0f921"
            ]
           ],
           "sequentialminus": [
            [
             0,
             "#0d0887"
            ],
            [
             0.1111111111111111,
             "#46039f"
            ],
            [
             0.2222222222222222,
             "#7201a8"
            ],
            [
             0.3333333333333333,
             "#9c179e"
            ],
            [
             0.4444444444444444,
             "#bd3786"
            ],
            [
             0.5555555555555556,
             "#d8576b"
            ],
            [
             0.6666666666666666,
             "#ed7953"
            ],
            [
             0.7777777777777778,
             "#fb9f3a"
            ],
            [
             0.8888888888888888,
             "#fdca26"
            ],
            [
             1,
             "#f0f921"
            ]
           ]
          },
          "colorway": [
           "#636efa",
           "#EF553B",
           "#00cc96",
           "#ab63fa",
           "#FFA15A",
           "#19d3f3",
           "#FF6692",
           "#B6E880",
           "#FF97FF",
           "#FECB52"
          ],
          "font": {
           "color": "#2a3f5f"
          },
          "geo": {
           "bgcolor": "white",
           "lakecolor": "white",
           "landcolor": "#E5ECF6",
           "showlakes": true,
           "showland": true,
           "subunitcolor": "white"
          },
          "hoverlabel": {
           "align": "left"
          },
          "hovermode": "closest",
          "mapbox": {
           "style": "light"
          },
          "paper_bgcolor": "white",
          "plot_bgcolor": "#E5ECF6",
          "polar": {
           "angularaxis": {
            "gridcolor": "white",
            "linecolor": "white",
            "ticks": ""
           },
           "bgcolor": "#E5ECF6",
           "radialaxis": {
            "gridcolor": "white",
            "linecolor": "white",
            "ticks": ""
           }
          },
          "scene": {
           "xaxis": {
            "backgroundcolor": "#E5ECF6",
            "gridcolor": "white",
            "gridwidth": 2,
            "linecolor": "white",
            "showbackground": true,
            "ticks": "",
            "zerolinecolor": "white"
           },
           "yaxis": {
            "backgroundcolor": "#E5ECF6",
            "gridcolor": "white",
            "gridwidth": 2,
            "linecolor": "white",
            "showbackground": true,
            "ticks": "",
            "zerolinecolor": "white"
           },
           "zaxis": {
            "backgroundcolor": "#E5ECF6",
            "gridcolor": "white",
            "gridwidth": 2,
            "linecolor": "white",
            "showbackground": true,
            "ticks": "",
            "zerolinecolor": "white"
           }
          },
          "shapedefaults": {
           "line": {
            "color": "#2a3f5f"
           }
          },
          "ternary": {
           "aaxis": {
            "gridcolor": "white",
            "linecolor": "white",
            "ticks": ""
           },
           "baxis": {
            "gridcolor": "white",
            "linecolor": "white",
            "ticks": ""
           },
           "bgcolor": "#E5ECF6",
           "caxis": {
            "gridcolor": "white",
            "linecolor": "white",
            "ticks": ""
           }
          },
          "title": {
           "x": 0.05
          },
          "xaxis": {
           "automargin": true,
           "gridcolor": "white",
           "linecolor": "white",
           "ticks": "",
           "title": {
            "standoff": 15
           },
           "zerolinecolor": "white",
           "zerolinewidth": 2
          },
          "yaxis": {
           "automargin": true,
           "gridcolor": "white",
           "linecolor": "white",
           "ticks": "",
           "title": {
            "standoff": 15
           },
           "zerolinecolor": "white",
           "zerolinewidth": 2
          }
         }
        },
        "width": 600,
        "xaxis": {
         "anchor": "x",
         "exponentformat": "e",
         "linecolor": "black",
         "linewidth": 1,
         "mirror": false,
         "showexponent": "all",
         "showline": true,
         "side": "bottom",
         "ticks": "outside",
         "title": {
          "text": "0th"
         },
         "type": "linear",
         "zeroline": true
        },
        "yaxis": {
         "anchor": "y",
         "exponentformat": "e",
         "linecolor": "black",
         "linewidth": 1,
         "mirror": false,
         "showexponent": "all",
         "showline": true,
         "side": "left",
         "ticks": "outside",
         "title": {
          "text": "1st"
         },
         "type": "linear",
         "zeroline": true
        }
       }
      }
     },
     "metadata": {},
     "output_type": "display_data"
    }
   ],
   "source": [
    "import numpy as np\n",
    "import plotly.graph_objects as go\n",
    "from gtda.time_series import SingleTakensEmbedding\n",
    "from gtda.plotting import plot_point_cloud\n",
    "import matplotlib.pyplot as plt\n",
    "\n",
    "# Graficar los datos históricos de precio de cierre\n",
    "# Convertimos a array y usamos el índice como timestamp para simplificar\n",
    "close_prices = df_clean[['Close', 'Diff_MA30', 'Diff_STD30']].copy()\n",
    "timestamps = np.arange(len(close_prices))\n",
    "\n",
    "# Creando gráfico interactivo con plotly\n",
    "fig = go.Figure(data=go.Scatter(x=timestamps, y=close_prices['Close'].values))\n",
    "fig.update_layout(\n",
    "    title=\"Precio de Cierre Histórico de Bitcoin\",\n",
    "    xaxis_title=\"Índice de Tiempo (Días)\",\n",
    "    yaxis_title=\"Precio de Cierre (USD)\"\n",
    ")\n",
    "# Display the figure directly\n",
    "fig.show()\n",
    "\n",
    "# Creando gráfico interactivo con plotly\n",
    "fig = go.Figure(data=go.Scatter(x=timestamps, y=close_prices['Diff_MA30'].values))\n",
    "fig.update_layout(\n",
    "    title=\"Valores de Diff_MA30\",\n",
    "    xaxis_title=\"Índice de Tiempo (Días)\",\n",
    "    yaxis_title=\"Precio de Cierre (USD)\"\n",
    ")\n",
    "# Display the figure directly\n",
    "fig.show()\n",
    "\n",
    "# Creando gráfico interactivo con plotly\n",
    "fig = go.Figure(data=go.Scatter(x=timestamps, y=close_prices['Diff_STD30'].values))\n",
    "fig.update_layout(\n",
    "    title=\"Valores de Diff_STD30\",\n",
    "    xaxis_title=\"Índice de Tiempo (Días)\",\n",
    "    yaxis_title=\"Precio de Cierre (USD)\"\n",
    ")\n",
    "# Display the figure directly\n",
    "fig.show()\n",
    "\n",
    "# Configuración del Takens Embedding (Parametros de óptimos)\n",
    "embedding_dimension = 5\n",
    "embedding_time_delay = 35\n",
    "stride = 5\n",
    "\n",
    "# Crear el objeto de embedding\n",
    "embedder = SingleTakensEmbedding(\n",
    "    parameters_type=\"search\",\n",
    "    n_jobs=2,\n",
    "    time_delay=embedding_time_delay,\n",
    "    dimension=embedding_dimension,\n",
    "    stride=stride,\n",
    ")\n",
    "\n",
    "# Aplicar el embedding a variables\n",
    "\n",
    "diff_STD30_embedded = embedder.fit_transform(close_prices[\"Diff_STD30\"])\n",
    "diff_MA30_embedded = embedder.fit_transform(close_prices[\"Diff_MA30\"])\n",
    "\n",
    "print(\"Encaje de takens para Diff_STD30\")\n",
    "plot_point_cloud(diff_STD30_embedded)"
   ]
  },
  {
   "cell_type": "markdown",
   "id": "73fe448b",
   "metadata": {},
   "source": [
    "Imagenes estáticas\n",
    "\n",
    "<center>\n",
    "    <img src=\"images/Precio de Cierre Histórico de Bitcoin.png\" alt=\"Precio de Cierre Histórico de Bitcoin.png\">\n",
    "</center>\n",
    "\n",
    "<center>\n",
    "    <img src=\"images/Valores de Diff_MA30.png\" alt=\"Valores de Diff_MA30.png\">\n",
    "</center>\n",
    "\n",
    "<center>\n",
    "    <img src=\"images/Valores de Diff_STD30.png\" alt=\"Valores de Diff_STD30.png\">\n",
    "</center>\n",
    "\n",
    "<center>\n",
    "    <img src=\"images/Encaje de takens para Diff_STD30.png\" alt=\"Encaje de takens para Diff_STD30.png\">\n",
    "</center>"
   ]
  },
  {
   "cell_type": "code",
   "execution_count": 20,
   "id": "5009a5dd",
   "metadata": {},
   "outputs": [
    {
     "name": "stdout",
     "output_type": "stream",
     "text": [
      "Encaje de takens para Diff_MA30\n"
     ]
    },
    {
     "data": {
      "application/vnd.plotly.v1+json": {
       "config": {
        "plotlyServerURL": "https://plot.ly"
       },
       "data": [
        {
         "marker": {
          "color": [
           0,
           1,
           2,
           3,
           4,
           5,
           6,
           7,
           8,
           9,
           10,
           11,
           12,
           13,
           14,
           15,
           16,
           17,
           18,
           19,
           20,
           21,
           22,
           23,
           24,
           25,
           26,
           27,
           28,
           29,
           30,
           31,
           32,
           33,
           34,
           35,
           36,
           37,
           38,
           39,
           40,
           41,
           42,
           43,
           44,
           45,
           46,
           47,
           48,
           49,
           50,
           51,
           52,
           53,
           54,
           55,
           56,
           57,
           58,
           59,
           60,
           61,
           62,
           63,
           64,
           65,
           66,
           67,
           68,
           69,
           70,
           71,
           72,
           73,
           74,
           75,
           76,
           77,
           78,
           79,
           80,
           81,
           82,
           83,
           84,
           85,
           86,
           87,
           88,
           89,
           90,
           91,
           92,
           93,
           94,
           95,
           96,
           97,
           98,
           99,
           100,
           101,
           102,
           103,
           104,
           105,
           106,
           107,
           108,
           109,
           110,
           111,
           112,
           113,
           114,
           115,
           116,
           117,
           118,
           119,
           120,
           121,
           122,
           123,
           124,
           125,
           126,
           127,
           128,
           129,
           130,
           131,
           132,
           133,
           134,
           135,
           136,
           137,
           138,
           139,
           140,
           141,
           142,
           143,
           144,
           145,
           146,
           147,
           148,
           149,
           150,
           151,
           152,
           153,
           154,
           155,
           156,
           157,
           158,
           159,
           160,
           161,
           162,
           163,
           164,
           165,
           166,
           167,
           168,
           169,
           170,
           171,
           172,
           173,
           174,
           175,
           176,
           177,
           178,
           179,
           180,
           181,
           182,
           183,
           184,
           185,
           186,
           187,
           188,
           189,
           190,
           191,
           192,
           193,
           194,
           195,
           196,
           197,
           198,
           199,
           200,
           201,
           202,
           203,
           204,
           205,
           206,
           207,
           208,
           209,
           210,
           211,
           212,
           213,
           214,
           215,
           216,
           217,
           218,
           219,
           220,
           221,
           222,
           223,
           224,
           225,
           226,
           227,
           228,
           229,
           230,
           231,
           232,
           233,
           234,
           235,
           236,
           237,
           238,
           239,
           240,
           241,
           242,
           243,
           244,
           245,
           246,
           247,
           248,
           249,
           250,
           251,
           252,
           253,
           254,
           255,
           256,
           257,
           258,
           259,
           260,
           261,
           262,
           263,
           264,
           265,
           266,
           267,
           268,
           269,
           270,
           271,
           272,
           273,
           274,
           275,
           276,
           277,
           278,
           279,
           280,
           281,
           282,
           283,
           284,
           285,
           286,
           287,
           288,
           289,
           290,
           291,
           292,
           293,
           294,
           295,
           296,
           297,
           298,
           299,
           300,
           301,
           302,
           303,
           304,
           305,
           306,
           307,
           308,
           309,
           310,
           311,
           312,
           313,
           314,
           315,
           316,
           317,
           318,
           319,
           320,
           321,
           322,
           323,
           324,
           325,
           326,
           327,
           328,
           329,
           330,
           331,
           332,
           333,
           334,
           335,
           336,
           337,
           338,
           339,
           340,
           341,
           342,
           343,
           344,
           345,
           346,
           347,
           348,
           349,
           350,
           351,
           352,
           353,
           354,
           355,
           356,
           357,
           358,
           359,
           360,
           361,
           362,
           363,
           364,
           365,
           366,
           367,
           368,
           369,
           370,
           371,
           372,
           373,
           374,
           375,
           376,
           377,
           378,
           379,
           380,
           381,
           382,
           383,
           384,
           385,
           386,
           387,
           388,
           389,
           390,
           391,
           392,
           393,
           394,
           395,
           396,
           397,
           398,
           399,
           400,
           401,
           402,
           403,
           404,
           405,
           406,
           407,
           408,
           409,
           410,
           411,
           412,
           413,
           414,
           415,
           416,
           417,
           418,
           419,
           420,
           421,
           422,
           423,
           424,
           425,
           426,
           427,
           428,
           429,
           430,
           431,
           432,
           433,
           434,
           435,
           436,
           437,
           438,
           439,
           440,
           441,
           442,
           443,
           444,
           445,
           446,
           447,
           448,
           449,
           450,
           451,
           452,
           453,
           454,
           455,
           456,
           457,
           458,
           459,
           460,
           461,
           462,
           463,
           464,
           465,
           466,
           467,
           468,
           469,
           470,
           471,
           472,
           473,
           474,
           475,
           476,
           477,
           478,
           479,
           480,
           481,
           482,
           483,
           484,
           485,
           486,
           487,
           488,
           489,
           490,
           491,
           492,
           493,
           494,
           495,
           496,
           497,
           498,
           499,
           500,
           501,
           502,
           503,
           504,
           505,
           506,
           507,
           508,
           509,
           510,
           511,
           512,
           513,
           514,
           515,
           516,
           517,
           518,
           519,
           520,
           521,
           522,
           523,
           524,
           525,
           526,
           527,
           528,
           529,
           530,
           531,
           532,
           533,
           534,
           535,
           536,
           537,
           538,
           539,
           540,
           541,
           542,
           543,
           544,
           545,
           546,
           547,
           548,
           549,
           550,
           551,
           552,
           553,
           554,
           555,
           556,
           557,
           558,
           559,
           560,
           561,
           562,
           563,
           564,
           565,
           566,
           567,
           568,
           569
          ],
          "colorscale": [
           [
            0,
            "#440154"
           ],
           [
            0.1111111111111111,
            "#482878"
           ],
           [
            0.2222222222222222,
            "#3e4989"
           ],
           [
            0.3333333333333333,
            "#31688e"
           ],
           [
            0.4444444444444444,
            "#26828e"
           ],
           [
            0.5555555555555556,
            "#1f9e89"
           ],
           [
            0.6666666666666666,
            "#35b779"
           ],
           [
            0.7777777777777778,
            "#6ece58"
           ],
           [
            0.8888888888888888,
            "#b5de2b"
           ],
           [
            1,
            "#fde725"
           ]
          ],
          "opacity": 0.8,
          "size": 4
         },
         "mode": "markers",
         "type": "scatter3d",
         "x": {
          "bdata": "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",
          "dtype": "f8"
         },
         "y": {
          "bdata": "sEfheiaxK0D0KFyPJ+81QEjhehQEVjNAgBSuRwGa6r8AUbgeRQrXPyCuR+G4HhLAUOF6FBQuJ8CA61G4rYcmwIDrUbgehRPAeBSuR+F6IcAI16NwPQolwCCF61E7nyXAcGZmZtejJcBQuB6FhWszwEAK16MK1xDA2KNwPZqZIsBwPQrXexQSwACPwvUoM+O/oJmZmVG4EMDI9ShcAAAuQCCuR+FajwJAgML1KOxRFsCgcD0K16MtwOR6FC6PQkvAaGZmZrgeR8AAAAAACvdFwLgehetRuFTAhetRODM7YMAeheuRwuVmwArXo7AeeXjA+ChcD1zffsBACtcjCsd3wEjhehR7RF7AoHA9Co/CVMA8CtejZj5kQChcj4JmdnBAQArXo7guVUCwR+F6zMxEQGhmZmZcP2XAIIXrUXC9WcAI16Nw1xNXwEjhehR7NFDAgML1KIQrNsCgcD0KJ5w5QMAehevJTC5APArXo6NQYUAAAAAApDBfQCCF61HM3F9AxPUo3FEgZEBQuB6F4ZpYQAAAAAAoXD7AQArXo5jZMcCA61G4RmEywMAeheuZWUJAQArXo7jpOkB8FK4H2QJhQMD1KNyC2FhAmJmZ2fdzZECgcD0K2/kxwPAoXI/EYDHAwMzMzAQBE0DAHoXrFW4rQDDhehRKDDpAgJmZmTHeGUAgrkfhchMqQGhmZmYSg0DAAAAAAKIVXMA+Ctcj16dgwFC4HoU3eV/AmJmZmcaDWMAAcD0Kl+n6PwCuR+HKyxRA8ChcjxAIQEDA9Shcd1QpQMCjcD1auS/AwEfheqwyLMAAAAAAkEIZwMAehesBQCfAoEfhenAyM0AAAAAANGNCQGC4HoVrZzlAQOF6FD6gKUBQuB6FsR1JQEAK1yMAgFxAWI/C9Y5STUBYj8L11nNBQPAoXI87n0hA8P///9P4OkAgrkfh8pIuQEDhehQssj9AXI/CdW6SUUBwPQrXFK5MQEAK16M51E9AIIXrUcByU0CQmZmZDY0wQAAfheuxyADAAIXrUYDAEsDA9ShcL8guQLBH4Xo1DkJAANejcMH1KEDA61G4zkwcwNCjcD3UeDnA4HoUrhuvIUAAKVyPonAZwEAK16PguibAABDXo3Azs7/AHoXrxzY4QChcj8IFIUNAGK5H4ZMIQkAQrkfh7ic2QAAAAACYzjNAYI/C9XyfSUAoXI/CEoNDQPQoXI++L1VApHA9Cq4vUEBgPQrXZ5EeQBiuR+GtZzdA0KNwPU4iKUCQmZmZR2EhQEAK16OeTzzAoJmZmWW7GcDAcD0Ke5QSwEjhehRkuznAMDMzM0ksPsCwR+F6l55FwGCPwvX28zvAwHA9Cj+KHECYmZmZaBE1QNCjcD2yHTlAgJmZmUE1FEAoXI/ChhY3QAApXI+DYDlAyB6F6w/YMUAAAAAAUrgoQAC3HoXL9eS/wITrUYgWDMDwKFyPUA0iwKD1KFwTLhLAAJDC9ajI5j+AzczMXI/2v8D1KFz//w5A4HoUrmM7JkBgFK5HuUkRQAAyMzNT4/e/AAAAAEY2JcBAMzMzj0IWwMD1KFzxEjTAwPUoXF9lMsDQzMzMKoczwNCjcD3STTvA4FG4HuUlIMBgj8L1VOMwwGCPwvU8CibAANijcH1o9z9QCtejNP42QEDhehS6ni5AKFyPQtneT0B4FK5HP0VDQLgehevx0jdAKFyPwkHgMEAAj8L1yHbqvwDXo3A9Xua/gM3MzAzX8z8ANDMz86XbPwBQuB6FILA/AML1KGznCMDAHoXrkZgewAAAAACyHSLAIIXrUZDCPcBQuB6Fzxc7wLBH4XrxMkPAaGZmZpFdTMBcj8J1PVpUwACkcD3KJuk/QArXo3g+GsAArkfhOl8eQMDMzMwAKyXAwPUoXGu8KMAYrkfhs5hEwChcj8L9hFfAkML1qCJ7U8CQwvUoJ4FEwABdj8I1i/C/AHsUrt8lEMBAj8L1IIUSQAAAAADI9hrA7FG4HlY2UkAAUrge/f8aQAAAAAAkhjtAAAAAAFz/QEBgj8L1CCwqQCAK16OYLi5AsEfhevaoNcCA61G4FI4/wCCF61Eykz3AoHA9Cg49QcDAehSub70jQAA0MzNzZOe/wB6F62lmEEBA4XoUjkIdQAC4HoXrfPU/ALgehYtD+z9AXI/Cne8SwAAK16Pw0PS/wEfhetzOE8CAFK5Hff8qwCCuR+GOIj/AAClcj5bONcCAuB6Fk0MhwFC4HoWRjTDAAClcj9qkGsAgXI/C4borQEDhehQmWxZAPArXo1lcUcC4HoXruzRYwHwUrkcpRFbA4HoUrk/dZsCkcD2KGotnwADXo3BZBDHAwMzMzEzNKMAApHA96iYFwIAehevBoBFAwMzMzPzUNECA61G4ZrsgwIDC9Sj8VRpAgBSuRxFXHkCYmZmZ1ptaQIDrUbjMTEdAULgehV2KRECgcD0KMQhEQEAK16PouylAwPUoXB/QMEAArkfhOt4cQOBRuB4hmzvAANejcE0CM8BAj8L1WE4rwAD0KFwP/uA/gLgehft9GcAA16NwzfgawAAK16NwaA7AYGZmZtY4P8CgmZmZIbs6wEC4HoXbeSrAcD0K1413SMCAFK5HSzdMwEDhehQw/UTAYGZmZsCKQ8AAAAAAeJ43wIAUrkeJwTjAAClcj+abNcBgZmZmSlczwGC4HoUfRTfAQArXo9ijPcAgrkfhAms1wDBcj8IVGULAULgehaENW8AghevRVTZhwML1KFw95nHAgLgehdt5IMDoUbgeJxFVQCCuR+HKgTBAgBSuRwGLO0CAKVyPovETwOhRuB7DBV/A7FG4HsItYcCAFK5HD21CwOB6FK4pjFLApHA9CuFCY8BQuB6F/09fwJiZmZlw7WTAAHE9CpfCG0DA9ShcmflVwDAzMzN7pFxAQArXI4PMZkBQuB6FZTZaQECPwvUonDrAMDMzM+EqVcBA4XoUPqpRwAAAAACQMlfA0MzMzGamWMCgcD0KZxZfwBSuR2Ezr3HAKFyPQrheesDgehQu1193wJiZmZn12HvAUrgeBQoLh8CkcD0Kmg15wFC4HoWFp3/AmJmZmY9Ig8BQuB6FPVZ2wOB6FK7X81HAsEfhejKbZ8DAzMzMrGdFQKBwPQr/z1JAQFyPwm1dRkBgj8L1XG9nQJDC9Sg0C2RAiOtRuIQDcMAI16NwZs5zwFC4HoVbD2bAkML1KOGkh8DsUbgeXMKQwChcj0K4O5LAULgehRSyhcDsUbgej+yFwLgehetlHIzAEK5H4WaSd8AghetRFJZmQEjhehRcbYNAMDMzM+G+gUCgR+F64DJrQNijcD3iMnbAiOtRuBSidcBcj8L1/+OGwAzXo3CZVpTA7FG4nuv+k8AAAAAApGiJwDQzM7PM0ZDAzMzMzHAamMCAFK5HHyV2wGhmZma4MIzApHA9CmZflsDE9ShcPTKZwArXo3Dw6KLAcD0KVwqQqsAehevR3l+1wNijcL3wXrfA7FG4HjiaqMBgj8L1kOJ9QGhmZub/l6JAYGZmZjL/cUC4HoXrtx+VQPgoXI/CappAfBSuRxSjpUBI4XoU4cOjQGCPwvWOjp9AmJmZmceOqUCkcD0KqaOlQFC4HoWuxJdA4HoUrq3dhcDQzMzMmDuCwIDrUbhSfovAKFyPwihem8CgcD0K192TQMD1KFwef51AsEfhelLqjUDQzMzMrVCQQFC4HkXhVaFA4HoUrusYmEBcj8J1PQGSQDAzMzMLe3LASOF6FCgyhMAghetRuEGfwHwUrkcz1JbAIIXrUcIRlcAghetRKI6AwKBH4XpwHXFAsEfheqT8h0C4HoXr9auTQIjrUbjCvZBA8Chcj8IfgEDwKFyPCr9yQChcj0Jcx5NAaGZmZtedgkBwPQrXzJaMQJiZmZkUMI5AQOF6FM7sYkCA61G4RqFuwCCF61EgFWtA0MzMzAlti8CwR+H6hIGQwEjhehRIo5LAIIXrUbhydMCwR+F6FPyAQDgzMzMzK45A6FG4HoWpg0BwPQrXo4yEQIDrUbgedVfA4HoUrkfDgMDAo3A9CrdfQGCPwvUo3HRAQLgehes5ZEAACtejcJ1IwKBwPQrXK2VAAAApXI/C7T8AexSuRzFTwNDMzMzMPHJAgFG4HoWrTsAAAAAAAMBMQIAehetROEdAQFyPwvWAZEAAKVyPwjU/QAAK16Nw/ThAODMzMzP9hkBoZmZmZtyaQF6PwvUo7ptA4qSTGe2rlUB8bGhW3I2TQKi7DHvppI9AeAgEtqqNiUAgO+sqDwt1wMD1BE/CHlDAgDKFta6pYsAwpRbGzbJkwCjpHgJsSHDAAPXDQkxdXkCg7HXeyIdYQLCP3eT7k2RA8Mnswc7hcEDARCDqQD9oQCCpZ2J27VfAgAs/Wa1ZTsBIz2cf30x1wODnGXfKI3/AAIyQTwLcY8AAJMO/woFhwMC0o7y/RV7AIP6cQOCsVcAQiISt4R9jwIDY0oKbvTvAoEpYfs3cYMCotPdvT8CJwFBo7ltEJ4zAUD93m/qYhMAY/MO3lLaCwOBjoAB0cIDAAEpwVR+ZW8AgiHepnqyAwLgG0DF4gofAPlfXeDtUocBICeopFDKfwJjpHAs/c5XAODa/iqFLl8BIY80r61qBwACKiAc58TpAQNPg8OEdYMCQtTMKOVeIwNDr9CjxEqHAPBOaJAbnqMAkLkoavdihwNh+MsaXgJ/AwF1F623xfcBAdtIMEw18QPhQHaOb1JNAiIdC9GWmk0AAs4+6QiJXQPgHFPtF3ZTAoMofws6BicAgdSrPsr12QMD2pF12Wn1A4HmSz2Zyf0AgDIU6eiCLQIA+qDBbe15AALE49zIIVEAA1GpZCAY2wIBFocBWmmdAZFPwDMVmnUDIy6uEiD6WQKwX4A5WzpVAcC3v5GIth0CILiWBtNeEQAA3HscqOl9AcFlCZ3+Wj8CAwGYt64qIwOANgvEYM4fAoO+jfWCJdcCAJ6u3IHhyQHBhQKPa8YhAiLKOFarql0CgEr/ehB+JQAgQb4RCsoJAYBW/zlJ0f0CA96gBu4l3QACy5jI7MFhAgJ3/aMlKRkAAyNdcPdwXwIAsqUVKFmLAgFF71yEfgcDciYtpf5eUwPgbUnczLozAUH6eDv35esCQUp1pUTKQwIBxl9Sbd4TAkIne89UTjcCQVVv7rD+OwKCYvAE24oXAgGv8NuKMcsAghhQL9ZmOQJAoPwx5j4hA6FFMOdKllkDe4VVav5urQHCCiDcHzptAYHhvVqbBhEAkl6TX0y6QQGCkSjmEAWDAOOoq1fzLjsBwytQLCy54wJC5jqsow4DAWDeErmXVgcAIJ3iW8vyGwDSb2I2ssZbArHUsABt0n8CwHr0CjTORwGCCCZJ1oJHAAKonNcySbcAA71C5DlN0wEAXf/whIGjAwNT8Qpkid8AAeIxulOktQABgUvPRufS/QFYgYRUkZMAAEj9SBhd+QEBc53yED3RAgDJzYD0+WkAAuK5W9dE2QADCq92dlVlAYKEd5AMtcsC49EZSp7yZwJznmaiLK6DAwOT8A0vemsAgEvdYKuONwMACZa6XfI/AYLy+INP7cMCAfbcvViJbQAC7nBIQAEDA2BdCziuylUAA9dK59x6OQMDBKFKLGnRAAJyyiYLjO0CA0JKNqGRYQIDzPX6KDV/AwPiZgi47ZcCQzKCQc7uBwHBq2qSOHIPA0EndpY85jcAwqnd+srKZwKgI06S66prAUGr19nfJm8DgdiXyMHehwJAqL57gY6HA+NJnSVy7p8DEbI//IHWqwBBsrbM2+prAwB+NlqlFlcCg1A7arniDwKCJP2n0rYrAqMFVGtowssCgTDguOBqtwGD12zJtILfAqgzbfdJ6wsC2AmTkbGHMwMBTCWhCMr/ATMswauressCwZqs/MBiWQECUJULUAo9AgFOCk+fxesDgyRsekNurwPz7c25hqsTA6C0OfAzMycAUvXSP58rGwMBfvLRn7ZDAIJnED/zCkMCQh6UehyO0wACQwN2v/b3ASKSOCqKztMCAJyk0qS52QPBJ/pJwHKrAYA0Wb+AFl8DAorCLfm2QwMBZWng/C7fA",
          "dtype": "f8"
         },
         "z": {
          "bdata": "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",
          "dtype": "f8"
         }
        }
       ],
       "layout": {
        "scene": {
         "xaxis": {
          "exponentformat": "e",
          "showexponent": "all",
          "title": {
           "text": "0th"
          },
          "type": "linear"
         },
         "yaxis": {
          "exponentformat": "e",
          "showexponent": "all",
          "title": {
           "text": "1st"
          },
          "type": "linear"
         },
         "zaxis": {
          "exponentformat": "e",
          "showexponent": "all",
          "title": {
           "text": "2nd"
          },
          "type": "linear"
         }
        },
        "template": {
         "data": {
          "bar": [
           {
            "error_x": {
             "color": "#2a3f5f"
            },
            "error_y": {
             "color": "#2a3f5f"
            },
            "marker": {
             "line": {
              "color": "#E5ECF6",
              "width": 0.5
             },
             "pattern": {
              "fillmode": "overlay",
              "size": 10,
              "solidity": 0.2
             }
            },
            "type": "bar"
           }
          ],
          "barpolar": [
           {
            "marker": {
             "line": {
              "color": "#E5ECF6",
              "width": 0.5
             },
             "pattern": {
              "fillmode": "overlay",
              "size": 10,
              "solidity": 0.2
             }
            },
            "type": "barpolar"
           }
          ],
          "carpet": [
           {
            "aaxis": {
             "endlinecolor": "#2a3f5f",
             "gridcolor": "white",
             "linecolor": "white",
             "minorgridcolor": "white",
             "startlinecolor": "#2a3f5f"
            },
            "baxis": {
             "endlinecolor": "#2a3f5f",
             "gridcolor": "white",
             "linecolor": "white",
             "minorgridcolor": "white",
             "startlinecolor": "#2a3f5f"
            },
            "type": "carpet"
           }
          ],
          "choropleth": [
           {
            "colorbar": {
             "outlinewidth": 0,
             "ticks": ""
            },
            "type": "choropleth"
           }
          ],
          "contour": [
           {
            "colorbar": {
             "outlinewidth": 0,
             "ticks": ""
            },
            "colorscale": [
             [
              0,
              "#0d0887"
             ],
             [
              0.1111111111111111,
              "#46039f"
             ],
             [
              0.2222222222222222,
              "#7201a8"
             ],
             [
              0.3333333333333333,
              "#9c179e"
             ],
             [
              0.4444444444444444,
              "#bd3786"
             ],
             [
              0.5555555555555556,
              "#d8576b"
             ],
             [
              0.6666666666666666,
              "#ed7953"
             ],
             [
              0.7777777777777778,
              "#fb9f3a"
             ],
             [
              0.8888888888888888,
              "#fdca26"
             ],
             [
              1,
              "#f0f921"
             ]
            ],
            "type": "contour"
           }
          ],
          "contourcarpet": [
           {
            "colorbar": {
             "outlinewidth": 0,
             "ticks": ""
            },
            "type": "contourcarpet"
           }
          ],
          "heatmap": [
           {
            "colorbar": {
             "outlinewidth": 0,
             "ticks": ""
            },
            "colorscale": [
             [
              0,
              "#0d0887"
             ],
             [
              0.1111111111111111,
              "#46039f"
             ],
             [
              0.2222222222222222,
              "#7201a8"
             ],
             [
              0.3333333333333333,
              "#9c179e"
             ],
             [
              0.4444444444444444,
              "#bd3786"
             ],
             [
              0.5555555555555556,
              "#d8576b"
             ],
             [
              0.6666666666666666,
              "#ed7953"
             ],
             [
              0.7777777777777778,
              "#fb9f3a"
             ],
             [
              0.8888888888888888,
              "#fdca26"
             ],
             [
              1,
              "#f0f921"
             ]
            ],
            "type": "heatmap"
           }
          ],
          "histogram": [
           {
            "marker": {
             "pattern": {
              "fillmode": "overlay",
              "size": 10,
              "solidity": 0.2
             }
            },
            "type": "histogram"
           }
          ],
          "histogram2d": [
           {
            "colorbar": {
             "outlinewidth": 0,
             "ticks": ""
            },
            "colorscale": [
             [
              0,
              "#0d0887"
             ],
             [
              0.1111111111111111,
              "#46039f"
             ],
             [
              0.2222222222222222,
              "#7201a8"
             ],
             [
              0.3333333333333333,
              "#9c179e"
             ],
             [
              0.4444444444444444,
              "#bd3786"
             ],
             [
              0.5555555555555556,
              "#d8576b"
             ],
             [
              0.6666666666666666,
              "#ed7953"
             ],
             [
              0.7777777777777778,
              "#fb9f3a"
             ],
             [
              0.8888888888888888,
              "#fdca26"
             ],
             [
              1,
              "#f0f921"
             ]
            ],
            "type": "histogram2d"
           }
          ],
          "histogram2dcontour": [
           {
            "colorbar": {
             "outlinewidth": 0,
             "ticks": ""
            },
            "colorscale": [
             [
              0,
              "#0d0887"
             ],
             [
              0.1111111111111111,
              "#46039f"
             ],
             [
              0.2222222222222222,
              "#7201a8"
             ],
             [
              0.3333333333333333,
              "#9c179e"
             ],
             [
              0.4444444444444444,
              "#bd3786"
             ],
             [
              0.5555555555555556,
              "#d8576b"
             ],
             [
              0.6666666666666666,
              "#ed7953"
             ],
             [
              0.7777777777777778,
              "#fb9f3a"
             ],
             [
              0.8888888888888888,
              "#fdca26"
             ],
             [
              1,
              "#f0f921"
             ]
            ],
            "type": "histogram2dcontour"
           }
          ],
          "mesh3d": [
           {
            "colorbar": {
             "outlinewidth": 0,
             "ticks": ""
            },
            "type": "mesh3d"
           }
          ],
          "parcoords": [
           {
            "line": {
             "colorbar": {
              "outlinewidth": 0,
              "ticks": ""
             }
            },
            "type": "parcoords"
           }
          ],
          "pie": [
           {
            "automargin": true,
            "type": "pie"
           }
          ],
          "scatter": [
           {
            "fillpattern": {
             "fillmode": "overlay",
             "size": 10,
             "solidity": 0.2
            },
            "type": "scatter"
           }
          ],
          "scatter3d": [
           {
            "line": {
             "colorbar": {
              "outlinewidth": 0,
              "ticks": ""
             }
            },
            "marker": {
             "colorbar": {
              "outlinewidth": 0,
              "ticks": ""
             }
            },
            "type": "scatter3d"
           }
          ],
          "scattercarpet": [
           {
            "marker": {
             "colorbar": {
              "outlinewidth": 0,
              "ticks": ""
             }
            },
            "type": "scattercarpet"
           }
          ],
          "scattergeo": [
           {
            "marker": {
             "colorbar": {
              "outlinewidth": 0,
              "ticks": ""
             }
            },
            "type": "scattergeo"
           }
          ],
          "scattergl": [
           {
            "marker": {
             "colorbar": {
              "outlinewidth": 0,
              "ticks": ""
             }
            },
            "type": "scattergl"
           }
          ],
          "scattermap": [
           {
            "marker": {
             "colorbar": {
              "outlinewidth": 0,
              "ticks": ""
             }
            },
            "type": "scattermap"
           }
          ],
          "scattermapbox": [
           {
            "marker": {
             "colorbar": {
              "outlinewidth": 0,
              "ticks": ""
             }
            },
            "type": "scattermapbox"
           }
          ],
          "scatterpolar": [
           {
            "marker": {
             "colorbar": {
              "outlinewidth": 0,
              "ticks": ""
             }
            },
            "type": "scatterpolar"
           }
          ],
          "scatterpolargl": [
           {
            "marker": {
             "colorbar": {
              "outlinewidth": 0,
              "ticks": ""
             }
            },
            "type": "scatterpolargl"
           }
          ],
          "scatterternary": [
           {
            "marker": {
             "colorbar": {
              "outlinewidth": 0,
              "ticks": ""
             }
            },
            "type": "scatterternary"
           }
          ],
          "surface": [
           {
            "colorbar": {
             "outlinewidth": 0,
             "ticks": ""
            },
            "colorscale": [
             [
              0,
              "#0d0887"
             ],
             [
              0.1111111111111111,
              "#46039f"
             ],
             [
              0.2222222222222222,
              "#7201a8"
             ],
             [
              0.3333333333333333,
              "#9c179e"
             ],
             [
              0.4444444444444444,
              "#bd3786"
             ],
             [
              0.5555555555555556,
              "#d8576b"
             ],
             [
              0.6666666666666666,
              "#ed7953"
             ],
             [
              0.7777777777777778,
              "#fb9f3a"
             ],
             [
              0.8888888888888888,
              "#fdca26"
             ],
             [
              1,
              "#f0f921"
             ]
            ],
            "type": "surface"
           }
          ],
          "table": [
           {
            "cells": {
             "fill": {
              "color": "#EBF0F8"
             },
             "line": {
              "color": "white"
             }
            },
            "header": {
             "fill": {
              "color": "#C8D4E3"
             },
             "line": {
              "color": "white"
             }
            },
            "type": "table"
           }
          ]
         },
         "layout": {
          "annotationdefaults": {
           "arrowcolor": "#2a3f5f",
           "arrowhead": 0,
           "arrowwidth": 1
          },
          "autotypenumbers": "strict",
          "coloraxis": {
           "colorbar": {
            "outlinewidth": 0,
            "ticks": ""
           }
          },
          "colorscale": {
           "diverging": [
            [
             0,
             "#8e0152"
            ],
            [
             0.1,
             "#c51b7d"
            ],
            [
             0.2,
             "#de77ae"
            ],
            [
             0.3,
             "#f1b6da"
            ],
            [
             0.4,
             "#fde0ef"
            ],
            [
             0.5,
             "#f7f7f7"
            ],
            [
             0.6,
             "#e6f5d0"
            ],
            [
             0.7,
             "#b8e186"
            ],
            [
             0.8,
             "#7fbc41"
            ],
            [
             0.9,
             "#4d9221"
            ],
            [
             1,
             "#276419"
            ]
           ],
           "sequential": [
            [
             0,
             "#0d0887"
            ],
            [
             0.1111111111111111,
             "#46039f"
            ],
            [
             0.2222222222222222,
             "#7201a8"
            ],
            [
             0.3333333333333333,
             "#9c179e"
            ],
            [
             0.4444444444444444,
             "#bd3786"
            ],
            [
             0.5555555555555556,
             "#d8576b"
            ],
            [
             0.6666666666666666,
             "#ed7953"
            ],
            [
             0.7777777777777778,
             "#fb9f3a"
            ],
            [
             0.8888888888888888,
             "#fdca26"
            ],
            [
             1,
             "#f0f921"
            ]
           ],
           "sequentialminus": [
            [
             0,
             "#0d0887"
            ],
            [
             0.1111111111111111,
             "#46039f"
            ],
            [
             0.2222222222222222,
             "#7201a8"
            ],
            [
             0.3333333333333333,
             "#9c179e"
            ],
            [
             0.4444444444444444,
             "#bd3786"
            ],
            [
             0.5555555555555556,
             "#d8576b"
            ],
            [
             0.6666666666666666,
             "#ed7953"
            ],
            [
             0.7777777777777778,
             "#fb9f3a"
            ],
            [
             0.8888888888888888,
             "#fdca26"
            ],
            [
             1,
             "#f0f921"
            ]
           ]
          },
          "colorway": [
           "#636efa",
           "#EF553B",
           "#00cc96",
           "#ab63fa",
           "#FFA15A",
           "#19d3f3",
           "#FF6692",
           "#B6E880",
           "#FF97FF",
           "#FECB52"
          ],
          "font": {
           "color": "#2a3f5f"
          },
          "geo": {
           "bgcolor": "white",
           "lakecolor": "white",
           "landcolor": "#E5ECF6",
           "showlakes": true,
           "showland": true,
           "subunitcolor": "white"
          },
          "hoverlabel": {
           "align": "left"
          },
          "hovermode": "closest",
          "mapbox": {
           "style": "light"
          },
          "paper_bgcolor": "white",
          "plot_bgcolor": "#E5ECF6",
          "polar": {
           "angularaxis": {
            "gridcolor": "white",
            "linecolor": "white",
            "ticks": ""
           },
           "bgcolor": "#E5ECF6",
           "radialaxis": {
            "gridcolor": "white",
            "linecolor": "white",
            "ticks": ""
           }
          },
          "scene": {
           "xaxis": {
            "backgroundcolor": "#E5ECF6",
            "gridcolor": "white",
            "gridwidth": 2,
            "linecolor": "white",
            "showbackground": true,
            "ticks": "",
            "zerolinecolor": "white"
           },
           "yaxis": {
            "backgroundcolor": "#E5ECF6",
            "gridcolor": "white",
            "gridwidth": 2,
            "linecolor": "white",
            "showbackground": true,
            "ticks": "",
            "zerolinecolor": "white"
           },
           "zaxis": {
            "backgroundcolor": "#E5ECF6",
            "gridcolor": "white",
            "gridwidth": 2,
            "linecolor": "white",
            "showbackground": true,
            "ticks": "",
            "zerolinecolor": "white"
           }
          },
          "shapedefaults": {
           "line": {
            "color": "#2a3f5f"
           }
          },
          "ternary": {
           "aaxis": {
            "gridcolor": "white",
            "linecolor": "white",
            "ticks": ""
           },
           "baxis": {
            "gridcolor": "white",
            "linecolor": "white",
            "ticks": ""
           },
           "bgcolor": "#E5ECF6",
           "caxis": {
            "gridcolor": "white",
            "linecolor": "white",
            "ticks": ""
           }
          },
          "title": {
           "x": 0.05
          },
          "xaxis": {
           "automargin": true,
           "gridcolor": "white",
           "linecolor": "white",
           "ticks": "",
           "title": {
            "standoff": 15
           },
           "zerolinecolor": "white",
           "zerolinewidth": 2
          },
          "yaxis": {
           "automargin": true,
           "gridcolor": "white",
           "linecolor": "white",
           "ticks": "",
           "title": {
            "standoff": 15
           },
           "zerolinecolor": "white",
           "zerolinewidth": 2
          }
         }
        }
       }
      }
     },
     "metadata": {},
     "output_type": "display_data"
    }
   ],
   "source": [
    "print(\"Encaje de takens para Diff_MA30\")\n",
    "plot_point_cloud(diff_MA30_embedded)"
   ]
  },
  {
   "cell_type": "markdown",
   "id": "5d3a36bd",
   "metadata": {},
   "source": [
    "Imagen estática\n",
    "\n",
    "<center>\n",
    "    <img src=\"images/Encaje de takens para Diff_MA30.png\" alt=\"Encaje de takens para Diff_MA30.png\">\n",
    "</center>"
   ]
  },
  {
   "cell_type": "markdown",
   "id": "cf949850",
   "metadata": {},
   "source": [
    "Se puede observar una nubes de puntos que representa en gran medida una periodicidad"
   ]
  },
  {
   "cell_type": "markdown",
   "id": "4ad8611b",
   "metadata": {},
   "source": [
    "## **2.- Aplicación de diagrama de persistencia (Con Vietoris-Rips)**"
   ]
  },
  {
   "cell_type": "code",
   "execution_count": 21,
   "id": "977ea994",
   "metadata": {},
   "outputs": [
    {
     "name": "stdout",
     "output_type": "stream",
     "text": [
      "Diagrama de Persistencia para diff_MA30\n"
     ]
    },
    {
     "data": {
      "application/vnd.plotly.v1+json": {
       "config": {
        "plotlyServerURL": "https://plot.ly"
       },
       "data": [
        {
         "hoverinfo": "none",
         "line": {
          "color": "black",
          "dash": "dash",
          "width": 1
         },
         "mode": "lines",
         "showlegend": false,
         "type": "scatter",
         "x": [
          -278.49140625,
          14203.06171875
         ],
         "y": [
          -278.49140625,
          14203.06171875
         ]
        },
        {
         "hoverinfo": "text",
         "hovertext": [
          "(0.0, 8.329157829284668)",
          "(0.0, 11.096940994262695)",
          "(0.0, 11.402070999145508)",
          "(0.0, 11.645669937133789)",
          "(0.0, 11.750885009765625)",
          "(0.0, 12.958565711975098)",
          "(0.0, 13.159320831298828)",
          "(0.0, 13.190157890319824)",
          "(0.0, 13.363737106323242)",
          "(0.0, 13.65405559539795)",
          "(0.0, 13.79804515838623)",
          "(0.0, 14.012689590454102)",
          "(0.0, 14.297218322753906)",
          "(0.0, 14.644654273986816)",
          "(0.0, 14.772421836853027)",
          "(0.0, 15.132853507995605)",
          "(0.0, 15.655610084533691)",
          "(0.0, 15.780745506286621)",
          "(0.0, 15.797018051147461)",
          "(0.0, 15.938254356384277)",
          "(0.0, 16.28722381591797)",
          "(0.0, 16.374649047851562)",
          "(0.0, 16.42546272277832)",
          "(0.0, 16.915267944335938)",
          "(0.0, 16.99056053161621)",
          "(0.0, 17.091411590576172)",
          "(0.0, 17.377918243408203)",
          "(0.0, 17.480201721191406)",
          "(0.0, 17.603408813476562)",
          "(0.0, 18.020679473876953)",
          "(0.0, 18.118642807006836)",
          "(0.0, 18.160749435424805)",
          "(0.0, 18.367542266845703)",
          "(0.0, 18.5743408203125)",
          "(0.0, 18.749570846557617)",
          "(0.0, 19.293231964111328)",
          "(0.0, 19.388105392456055)",
          "(0.0, 19.430543899536133)",
          "(0.0, 19.645647048950195)",
          "(0.0, 20.282514572143555)",
          "(0.0, 20.413185119628906)",
          "(0.0, 20.867137908935547)",
          "(0.0, 20.958200454711914)",
          "(0.0, 20.995433807373047)",
          "(0.0, 21.0261287689209)",
          "(0.0, 21.176435470581055)",
          "(0.0, 21.18817710876465)",
          "(0.0, 21.6008243560791)",
          "(0.0, 21.680545806884766)",
          "(0.0, 21.68552589416504)",
          "(0.0, 21.91476058959961)",
          "(0.0, 22.146526336669922)",
          "(0.0, 22.204246520996094)",
          "(0.0, 22.32695770263672)",
          "(0.0, 22.4964542388916)",
          "(0.0, 22.551136016845703)",
          "(0.0, 22.595582962036133)",
          "(0.0, 22.852313995361328)",
          "(0.0, 23.046350479125977)",
          "(0.0, 23.095378875732422)",
          "(0.0, 23.135419845581055)",
          "(0.0, 23.140670776367188)",
          "(0.0, 23.38201141357422)",
          "(0.0, 23.429946899414062)",
          "(0.0, 23.52115249633789)",
          "(0.0, 23.55400276184082)",
          "(0.0, 23.572389602661133)",
          "(0.0, 23.77373504638672)",
          "(0.0, 23.97541618347168)",
          "(0.0, 24.1121883392334)",
          "(0.0, 24.164819717407227)",
          "(0.0, 24.597652435302734)",
          "(0.0, 24.657686233520508)",
          "(0.0, 24.69605827331543)",
          "(0.0, 24.742273330688477)",
          "(0.0, 24.903064727783203)",
          "(0.0, 25.10244369506836)",
          "(0.0, 25.117721557617188)",
          "(0.0, 25.123422622680664)",
          "(0.0, 25.153799057006836)",
          "(0.0, 25.371919631958008)",
          "(0.0, 25.58481216430664)",
          "(0.0, 25.695405960083008)",
          "(0.0, 25.709707260131836)",
          "(0.0, 25.764610290527344)",
          "(0.0, 25.78655433654785)",
          "(0.0, 26.243144989013672)",
          "(0.0, 26.298418045043945)",
          "(0.0, 26.468196868896484)",
          "(0.0, 27.13467788696289)",
          "(0.0, 27.265132904052734)",
          "(0.0, 27.60896873474121)",
          "(0.0, 27.966136932373047)",
          "(0.0, 28.079090118408203)",
          "(0.0, 28.13993263244629)",
          "(0.0, 28.148691177368164)",
          "(0.0, 28.24985694885254)",
          "(0.0, 28.25531005859375)",
          "(0.0, 28.310535430908203)",
          "(0.0, 28.55371856689453)",
          "(0.0, 28.562240600585938)",
          "(0.0, 28.655961990356445)",
          "(0.0, 28.856632232666016)",
          "(0.0, 29.35458755493164)",
          "(0.0, 29.36957359313965)",
          "(0.0, 29.3705997467041)",
          "(0.0, 29.454326629638672)",
          "(0.0, 29.731149673461914)",
          "(0.0, 30.100839614868164)",
          "(0.0, 30.76285171508789)",
          "(0.0, 30.799116134643555)",
          "(0.0, 30.972869873046875)",
          "(0.0, 31.037424087524414)",
          "(0.0, 31.19192123413086)",
          "(0.0, 31.323251724243164)",
          "(0.0, 31.34811019897461)",
          "(0.0, 31.426380157470703)",
          "(0.0, 31.57649040222168)",
          "(0.0, 32.12709045410156)",
          "(0.0, 32.14429473876953)",
          "(0.0, 32.82807540893555)",
          "(0.0, 33.1026496887207)",
          "(0.0, 33.37282943725586)",
          "(0.0, 33.50312805175781)",
          "(0.0, 33.63662338256836)",
          "(0.0, 33.68165588378906)",
          "(0.0, 34.18095779418945)",
          "(0.0, 34.8531608581543)",
          "(0.0, 35.06481170654297)",
          "(0.0, 35.44658279418945)",
          "(0.0, 35.525726318359375)",
          "(0.0, 36.04165267944336)",
          "(0.0, 36.525726318359375)",
          "(0.0, 36.614036560058594)",
          "(0.0, 36.66157913208008)",
          "(0.0, 37.3884162902832)",
          "(0.0, 37.70967102050781)",
          "(0.0, 37.84210205078125)",
          "(0.0, 38.230289459228516)",
          "(0.0, 38.28134536743164)",
          "(0.0, 38.28692626953125)",
          "(0.0, 38.72475814819336)",
          "(0.0, 39.138309478759766)",
          "(0.0, 39.18568420410156)",
          "(0.0, 40.297603607177734)",
          "(0.0, 40.479183197021484)",
          "(0.0, 40.779571533203125)",
          "(0.0, 41.475528717041016)",
          "(0.0, 41.51726531982422)",
          "(0.0, 41.58729934692383)",
          "(0.0, 42.140403747558594)",
          "(0.0, 42.37723159790039)",
          "(0.0, 42.40309143066406)",
          "(0.0, 43.28648376464844)",
          "(0.0, 43.82640075683594)",
          "(0.0, 44.37966537475586)",
          "(0.0, 45.268367767333984)",
          "(0.0, 45.36170959472656)",
          "(0.0, 45.8400764465332)",
          "(0.0, 46.07307434082031)",
          "(0.0, 46.13187789916992)",
          "(0.0, 46.935611724853516)",
          "(0.0, 46.971073150634766)",
          "(0.0, 47.38782501220703)",
          "(0.0, 47.54129409790039)",
          "(0.0, 47.65007019042969)",
          "(0.0, 47.668601989746094)",
          "(0.0, 47.723812103271484)",
          "(0.0, 48.1884765625)",
          "(0.0, 48.481990814208984)",
          "(0.0, 48.54130554199219)",
          "(0.0, 48.578269958496094)",
          "(0.0, 49.129940032958984)",
          "(0.0, 49.327518463134766)",
          "(0.0, 49.52073287963867)",
          "(0.0, 49.67519760131836)",
          "(0.0, 49.74627685546875)",
          "(0.0, 51.20164489746094)",
          "(0.0, 51.21184539794922)",
          "(0.0, 51.277164459228516)",
          "(0.0, 51.57966232299805)",
          "(0.0, 51.8316535949707)",
          "(0.0, 52.778602600097656)",
          "(0.0, 53.51078414916992)",
          "(0.0, 53.564430236816406)",
          "(0.0, 54.94639205932617)",
          "(0.0, 55.05076217651367)",
          "(0.0, 55.096317291259766)",
          "(0.0, 55.124263763427734)",
          "(0.0, 56.364341735839844)",
          "(0.0, 56.425453186035156)",
          "(0.0, 56.432579040527344)",
          "(0.0, 56.8708610534668)",
          "(0.0, 57.676204681396484)",
          "(0.0, 59.113685607910156)",
          "(0.0, 59.351898193359375)",
          "(0.0, 59.76940155029297)",
          "(0.0, 60.334922790527344)",
          "(0.0, 60.39739227294922)",
          "(0.0, 60.792301177978516)",
          "(0.0, 62.301815032958984)",
          "(0.0, 62.622127532958984)",
          "(0.0, 63.04258728027344)",
          "(0.0, 65.1055679321289)",
          "(0.0, 65.30705261230469)",
          "(0.0, 67.20510864257812)",
          "(0.0, 67.56167602539062)",
          "(0.0, 68.34661102294922)",
          "(0.0, 69.31776428222656)",
          "(0.0, 69.564453125)",
          "(0.0, 70.05878448486328)",
          "(0.0, 71.04035186767578)",
          "(0.0, 71.74986267089844)",
          "(0.0, 72.09571075439453)",
          "(0.0, 73.88684844970703)",
          "(0.0, 74.10579681396484)",
          "(0.0, 75.62936401367188)",
          "(0.0, 77.18927764892578)",
          "(0.0, 78.42437744140625)",
          "(0.0, 81.1550064086914)",
          "(0.0, 82.9290542602539)",
          "(0.0, 83.18270111083984)",
          "(0.0, 84.14974212646484)",
          "(0.0, 87.81166076660156)",
          "(0.0, 87.85027313232422)",
          "(0.0, 88.67980194091797)",
          "(0.0, 88.76899719238281)",
          "(0.0, 90.23535919189453)",
          "(0.0, 91.35411071777344)",
          "(0.0, 91.89115905761719)",
          "(0.0, 95.61781311035156)",
          "(0.0, 97.30814361572266)",
          "(0.0, 98.6592788696289)",
          "(0.0, 99.66419219970703)",
          "(0.0, 101.05137634277344)",
          "(0.0, 105.7494125366211)",
          "(0.0, 107.96561431884766)",
          "(0.0, 109.52135467529297)",
          "(0.0, 110.28863525390625)",
          "(0.0, 112.0390396118164)",
          "(0.0, 112.60839080810547)",
          "(0.0, 114.87260437011719)",
          "(0.0, 117.84248352050781)",
          "(0.0, 120.28384399414062)",
          "(0.0, 121.1665267944336)",
          "(0.0, 124.76302337646484)",
          "(0.0, 127.71491241455078)",
          "(0.0, 128.1926727294922)",
          "(0.0, 128.69174194335938)",
          "(0.0, 135.26214599609375)",
          "(0.0, 136.94113159179688)",
          "(0.0, 141.47027587890625)",
          "(0.0, 142.23826599121094)",
          "(0.0, 143.8998565673828)",
          "(0.0, 147.1676483154297)",
          "(0.0, 147.8023681640625)",
          "(0.0, 156.60169982910156)",
          "(0.0, 157.48118591308594)",
          "(0.0, 161.0088653564453)",
          "(0.0, 166.65484619140625)",
          "(0.0, 170.15545654296875)",
          "(0.0, 174.4880828857422)",
          "(0.0, 186.53607177734375)",
          "(0.0, 189.0706329345703)",
          "(0.0, 189.54698181152344)",
          "(0.0, 190.48773193359375)",
          "(0.0, 190.97361755371094)",
          "(0.0, 191.22927856445312)",
          "(0.0, 195.4668426513672)",
          "(0.0, 200.74009704589844)",
          "(0.0, 201.26087951660156)",
          "(0.0, 202.92428588867188)",
          "(0.0, 206.3368377685547)",
          "(0.0, 207.58824157714844)",
          "(0.0, 214.8524627685547)",
          "(0.0, 218.06617736816406)",
          "(0.0, 224.86737060546875)",
          "(0.0, 226.11874389648438)",
          "(0.0, 230.11386108398438)",
          "(0.0, 244.7425537109375)",
          "(0.0, 250.98890686035156)",
          "(0.0, 257.34283447265625)",
          "(0.0, 266.6981201171875)",
          "(0.0, 267.59600830078125)",
          "(0.0, 271.0282287597656)",
          "(0.0, 271.8600769042969)",
          "(0.0, 274.6806335449219)",
          "(0.0, 274.69183349609375)",
          "(0.0, 278.0639953613281)",
          "(0.0, 284.49969482421875)",
          "(0.0, 307.294921875)",
          "(0.0, 310.1973876953125)",
          "(0.0, 315.7399597167969)",
          "(0.0, 317.1875915527344)",
          "(0.0, 317.82830810546875)",
          "(0.0, 319.3910217285156)",
          "(0.0, 319.7093505859375)",
          "(0.0, 321.9996032714844)",
          "(0.0, 323.1169128417969)",
          "(0.0, 326.7214050292969)",
          "(0.0, 336.1048278808594)",
          "(0.0, 351.1214294433594)",
          "(0.0, 356.68023681640625)",
          "(0.0, 360.0218811035156)",
          "(0.0, 380.73541259765625)",
          "(0.0, 396.4735412597656)",
          "(0.0, 398.1060485839844)",
          "(0.0, 399.8758850097656)",
          "(0.0, 403.3037109375)",
          "(0.0, 405.3675231933594)",
          "(0.0, 423.43792724609375)",
          "(0.0, 438.50244140625)",
          "(0.0, 442.7298583984375)",
          "(0.0, 443.5755615234375)",
          "(0.0, 443.7363586425781)",
          "(0.0, 443.8717956542969)",
          "(0.0, 445.7538146972656)",
          "(0.0, 469.915771484375)",
          "(0.0, 475.2076416015625)",
          "(0.0, 476.79168701171875)",
          "(0.0, 483.7415466308594)",
          "(0.0, 488.29693603515625)",
          "(0.0, 488.3756408691406)",
          "(0.0, 494.4749755859375)",
          "(0.0, 495.0977478027344)",
          "(0.0, 496.4122314453125)",
          "(0.0, 499.1617126464844)",
          "(0.0, 503.6107177734375)",
          "(0.0, 506.1944580078125)",
          "(0.0, 509.77996826171875)",
          "(0.0, 520.4872436523438)",
          "(0.0, 524.0779418945312)",
          "(0.0, 526.7882690429688)",
          "(0.0, 529.488525390625)",
          "(0.0, 533.2122802734375)",
          "(0.0, 534.4291381835938)",
          "(0.0, 536.2595825195312)",
          "(0.0, 548.0685424804688)",
          "(0.0, 548.164794921875)",
          "(0.0, 548.3190307617188)",
          "(0.0, 554.3934326171875)",
          "(0.0, 555.67822265625)",
          "(0.0, 566.13671875)",
          "(0.0, 566.4783325195312)",
          "(0.0, 571.1751708984375)",
          "(0.0, 576.1317749023438)",
          "(0.0, 578.470947265625)",
          "(0.0, 584.1114501953125)",
          "(0.0, 587.1246948242188)",
          "(0.0, 594.45068359375)",
          "(0.0, 594.4652709960938)",
          "(0.0, 596.38525390625)",
          "(0.0, 597.88916015625)",
          "(0.0, 598.7761840820312)",
          "(0.0, 605.466064453125)",
          "(0.0, 608.8607177734375)",
          "(0.0, 617.30859375)",
          "(0.0, 617.6843872070312)",
          "(0.0, 629.0435791015625)",
          "(0.0, 630.4429931640625)",
          "(0.0, 631.6065063476562)",
          "(0.0, 633.6140747070312)",
          "(0.0, 635.703857421875)",
          "(0.0, 638.5421752929688)",
          "(0.0, 646.6361083984375)",
          "(0.0, 649.7762451171875)",
          "(0.0, 652.6092529296875)",
          "(0.0, 655.7573852539062)",
          "(0.0, 660.1327514648438)",
          "(0.0, 661.2376098632812)",
          "(0.0, 668.4508666992188)",
          "(0.0, 672.488037109375)",
          "(0.0, 678.1725463867188)",
          "(0.0, 678.6674194335938)",
          "(0.0, 681.6783447265625)",
          "(0.0, 682.77490234375)",
          "(0.0, 684.9141845703125)",
          "(0.0, 695.9606323242188)",
          "(0.0, 695.9615478515625)",
          "(0.0, 700.0985107421875)",
          "(0.0, 703.6539306640625)",
          "(0.0, 707.6525268554688)",
          "(0.0, 716.0554809570312)",
          "(0.0, 716.9632568359375)",
          "(0.0, 720.0869750976562)",
          "(0.0, 732.0721435546875)",
          "(0.0, 736.0282592773438)",
          "(0.0, 738.3841552734375)",
          "(0.0, 740.4067993164062)",
          "(0.0, 740.6485595703125)",
          "(0.0, 746.5247192382812)",
          "(0.0, 746.9567260742188)",
          "(0.0, 748.6517944335938)",
          "(0.0, 753.3798217773438)",
          "(0.0, 753.4052734375)",
          "(0.0, 753.477783203125)",
          "(0.0, 761.3486328125)",
          "(0.0, 761.4895629882812)",
          "(0.0, 763.4826049804688)",
          "(0.0, 767.1788330078125)",
          "(0.0, 773.7662353515625)",
          "(0.0, 775.2191162109375)",
          "(0.0, 777.927734375)",
          "(0.0, 787.7012329101562)",
          "(0.0, 788.8512573242188)",
          "(0.0, 791.5721435546875)",
          "(0.0, 803.666015625)",
          "(0.0, 805.7431030273438)",
          "(0.0, 811.8621826171875)",
          "(0.0, 814.1294555664062)",
          "(0.0, 814.4683227539062)",
          "(0.0, 815.38232421875)",
          "(0.0, 829.0711059570312)",
          "(0.0, 835.5062866210938)",
          "(0.0, 836.3120727539062)",
          "(0.0, 840.669189453125)",
          "(0.0, 842.9675903320312)",
          "(0.0, 846.130126953125)",
          "(0.0, 847.06787109375)",
          "(0.0, 851.136962890625)",
          "(0.0, 851.543701171875)",
          "(0.0, 851.6433715820312)",
          "(0.0, 852.2084350585938)",
          "(0.0, 853.749755859375)",
          "(0.0, 854.5325927734375)",
          "(0.0, 854.681396484375)",
          "(0.0, 860.9833984375)",
          "(0.0, 861.6528930664062)",
          "(0.0, 868.062255859375)",
          "(0.0, 869.9487915039062)",
          "(0.0, 880.9259033203125)",
          "(0.0, 889.8241577148438)",
          "(0.0, 893.7909545898438)",
          "(0.0, 894.0220336914062)",
          "(0.0, 894.25634765625)",
          "(0.0, 896.0618896484375)",
          "(0.0, 898.8505249023438)",
          "(0.0, 900.1176147460938)",
          "(0.0, 906.7498779296875)",
          "(0.0, 907.9946899414062)",
          "(0.0, 916.7308959960938)",
          "(0.0, 917.3130493164062)",
          "(0.0, 921.0906982421875)",
          "(0.0, 932.2501220703125)",
          "(0.0, 944.6478271484375)",
          "(0.0, 958.322265625)",
          "(0.0, 988.3753662109375)",
          "(0.0, 988.69921875)",
          "(0.0, 998.2999877929688)",
          "(0.0, 1000.5513916015625)",
          "(0.0, 1012.1395874023438)",
          "(0.0, 1015.8795776367188)",
          "(0.0, 1016.899169921875)",
          "(0.0, 1020.8450317382812)",
          "(0.0, 1028.7203369140625)",
          "(0.0, 1032.258544921875)",
          "(0.0, 1035.42529296875)",
          "(0.0, 1054.7176513671875)",
          "(0.0, 1055.7337646484375)",
          "(0.0, 1059.9190673828125)",
          "(0.0, 1067.9349365234375)",
          "(0.0, 1082.5986328125)",
          "(0.0, 1098.0418701171875)",
          "(0.0, 1121.419921875)",
          "(0.0, 1121.4407958984375)",
          "(0.0, 1143.4259033203125)",
          "(0.0, 1144.6837158203125)",
          "(0.0, 1150.2095947265625)",
          "(0.0, 1162.22021484375)",
          "(0.0, 1163.804931640625)",
          "(0.0, 1169.9298095703125)",
          "(0.0, 1178.2489013671875)",
          "(0.0, 1203.2554931640625)",
          "(0.0, 1204.4124755859375)",
          "(0.0, 1225.3914794921875)",
          "(0.0, 1228.6728515625)",
          "(0.0, 1237.0928955078125)",
          "(0.0, 1256.207763671875)",
          "(0.0, 1272.4007568359375)",
          "(0.0, 1276.00830078125)",
          "(0.0, 1292.53955078125)",
          "(0.0, 1297.5185546875)",
          "(0.0, 1307.9727783203125)",
          "(0.0, 1371.6171875)",
          "(0.0, 1389.6949462890625)",
          "(0.0, 1424.4942626953125)",
          "(0.0, 1427.3162841796875)",
          "(0.0, 1439.143798828125)",
          "(0.0, 1474.0611572265625)",
          "(0.0, 1501.6505126953125)",
          "(0.0, 1512.679931640625)",
          "(0.0, 1519.3731689453125)",
          "(0.0, 1537.19091796875)",
          "(0.0, 1544.243896484375)",
          "(0.0, 1581.043701171875)",
          "(0.0, 1586.9813232421875)",
          "(0.0, 1601.2581787109375)",
          "(0.0, 1614.30419921875)",
          "(0.0, 1628.3902587890625)",
          "(0.0, 1649.89501953125)",
          "(0.0, 1667.7921142578125)",
          "(0.0, 1680.544677734375)",
          "(0.0, 1693.3067626953125)",
          "(0.0, 1696.409912109375)",
          "(0.0, 1721.26611328125)",
          "(0.0, 1737.14990234375)",
          "(0.0, 1739.64208984375)",
          "(0.0, 1764.3037109375)",
          "(0.0, 1776.82568359375)",
          "(0.0, 1873.8966064453125)",
          "(0.0, 1922.216552734375)",
          "(0.0, 1927.8240966796875)",
          "(0.0, 1932.0203857421875)",
          "(0.0, 1942.830810546875)",
          "(0.0, 1970.2890625)",
          "(0.0, 2019.47802734375)",
          "(0.0, 2055.9921875)",
          "(0.0, 2057.281982421875)",
          "(0.0, 2107.134765625)",
          "(0.0, 2110.29052734375)",
          "(0.0, 2185.855224609375)",
          "(0.0, 2225.263427734375)",
          "(0.0, 2257.37158203125)",
          "(0.0, 2320.62158203125)",
          "(0.0, 2439.0107421875)",
          "(0.0, 2485.581298828125)",
          "(0.0, 2542.363037109375)",
          "(0.0, 2566.314208984375)",
          "(0.0, 2586.65234375)",
          "(0.0, 2791.322021484375)",
          "(0.0, 2862.048828125)",
          "(0.0, 2960.738037109375)",
          "(0.0, 3029.30810546875)",
          "(0.0, 3033.33544921875)",
          "(0.0, 3132.619384765625)",
          "(0.0, 3493.2265625)",
          "(0.0, 3501.24462890625)",
          "(0.0, 3650.79638671875)",
          "(0.0, 3788.527587890625)",
          "(0.0, 3808.95263671875)",
          "(0.0, 4262.28369140625)",
          "(0.0, 4278.2685546875)",
          "(0.0, 4789.14208984375)",
          "(0.0, 4904.515625)",
          "(0.0, 5198.6806640625)",
          "(0.0, 5244.47119140625)",
          "(0.0, 5322.7978515625)",
          "(0.0, 5394.6953125)",
          "(0.0, 5560.251953125)",
          "(0.0, 5757.56982421875)",
          "(0.0, 5790.56689453125)",
          "(0.0, 5828.39599609375)",
          "(0.0, 5986.61328125)",
          "(0.0, 6012.5078125)",
          "(0.0, 6065.310546875)",
          "(0.0, 6261.98828125)",
          "(0.0, 6320.4453125)",
          "(0.0, 6631.81103515625)",
          "(0.0, 7242.42724609375)",
          "(0.0, 7361.2919921875)",
          "(0.0, 7374.9248046875)",
          "(0.0, 7375.6474609375)",
          "(0.0, 7423.8203125)",
          "(0.0, 7524.7724609375)",
          "(0.0, 7663.41015625)",
          "(0.0, 8340.58203125)",
          "(0.0, 8586.0478515625)",
          "(0.0, 9300.3779296875)",
          "(0.0, 10755.8564453125)"
         ],
         "mode": "markers",
         "name": "H0",
         "type": "scatter",
         "x": {
          "bdata": "AAAAAAAAAAAAAAAAAAAAAAAAAAAAAAAAAAAAAAAAAAAAAAAAAAAAAAAAAAAAAAAAAAAAAAAAAAAAAAAAAAAAAAAAAAAAAAAAAAAAAAAAAAAAAAAAAAAAAAAAAAAAAAAAAAAAAAAAAAAAAAAAAAAAAAAAAAAAAAAAAAAAAAAAAAAAAAAAAAAAAAAAAAAAAAAAAAAAAAAAAAAAAAAAAAAAAAAAAAAAAAAAAAAAAAAAAAAAAAAAAAAAAAAAAAAAAAAAAAAAAAAAAAAAAAAAAAAAAAAAAAAAAAAAAAAAAAAAAAAAAAAAAAAAAAAAAAAAAAAAAAAAAAAAAAAAAAAAAAAAAAAAAAAAAAAAAAAAAAAAAAAAAAAAAAAAAAAAAAAAAAAAAAAAAAAAAAAAAAAAAAAAAAAAAAAAAAAAAAAAAAAAAAAAAAAAAAAAAAAAAAAAAAAAAAAAAAAAAAAAAAAAAAAAAAAAAAAAAAAAAAAAAAAAAAAAAAAAAAAAAAAAAAAAAAAAAAAAAAAAAAAAAAAAAAAAAAAAAAAAAAAAAAAAAAAAAAAAAAAAAAAAAAAAAAAAAAAAAAAAAAAAAAAAAAAAAAAAAAAAAAAAAAAAAAAAAAAAAAAAAAAAAAAAAAAAAAAAAAAAAAAAAAAAAAAAAAAAAAAAAAAAAAAAAAAAAAAAAAAAAAAAAAAAAAAAAAAAAAAAAAAAAAAAAAAAAAAAAAAAAAAAAAAAAAAAAAAAAAAAAAAAAAAAAAAAAAAAAAAAAAAAAAAAAAAAAAAAAAAAAAAAAAAAAAAAAAAAAAAAAAAAAAAAAAAAAAAAAAAAAAAAAAAAAAAAAAAAAAAAAAAAAAAAAAAAAAAAAAAAAAAAAAAAAAAAAAAAAAAAAAAAAAAAAAAAAAAAAAAAAAAAAAAAAAAAAAAAAAAAAAAAAAAAAAAAAAAAAAAAAAAAAAAAAAAAAAAAAAAAAAAAAAAAAAAAAAAAAAAAAAAAAAAAAAAAAAAAAAAAAAAAAAAAAAAAAAAAAAAAAAAAAAAAAAAAAAAAAAAAAAAAAAAAAAAAAAAAAAAAAAAAAAAAAAAAAAAAAAAAAAAAAAAAAAAAAAAAAAAAAAAAAAAAAAAAAAAAAAAAAAAAAAAAAAAAAAAAAAAAAAAAAAAAAAAAAAAAAAAAAAAAAAAAAAAAAAAAAAAAAAAAAAAAAAAAAAAAAAAAAAAAAAAAAAAAAAAAAAAAAAAAAAAAAAAAAAAAAAAAAAAAAAAAAAAAAAAAAAAAAAAAAAAAAAAAAAAAAAAAAAAAAAAAAAAAAAAAAAAAAAAAAAAAAAAAAAAAAAAAAAAAAAAAAAAAAAAAAAAAAAAAAAAAAAAAAAAAAAAAAAAAAAAAAAAAAAAAAAAAAAAAAAAAAAAAAAAAAAAAAAAAAAAAAAAAAAAAAAAAAAAAAAAAAAAAAAAAAAAAAAAAAAAAAAAAAAAAAAAAAAAAAAAAAAAAAAAAAAAAAAAAAAAAAAAAAAAAAAAAAAAAAAAAAAAAAAAAAAAAAAAAAAAAAAAAAAAAAAAAAAAAAAAAAAAAAAAAAAAAAAAAAAAAAAAAAAAAAAAAAAAAAAAAAAAAAAAAAAAAAAAAAAAAAAAAAAAAAAAAAAAAAAAAAAAAAAAAAAAAAAAAAAAAAAAAAAAAAAAAAAAAAAAAAAAAAAAAAAAAAAAAAAAAAAAAAAAAAAAAAAAAAAAAAAAAAAAAAAAAAAAAAAAAAAAAAAAAAAAAAAAAAAAAAAAAAAAAAAAAAAAAAAAAAAAAAAAAAAAAAAAAAAAAAAAAAAAAAAAAAAAAAAAAAAAAAAAAAAAAAAAAAAAAAAAAAAAAAAAAAAAAAAAAAAAAAAAAAAAAAAAAAAAAAAAAAAAAAAAAAAAAAAAAAAAAAAAAAAAAAAAAAAAAAAAAAAAAAAAAAAAAAAAAAAAAAAAAAAAAAAAAAAAAAAAAAAAAAAAAAAAAAAAAAAAAAAAAAAAAAAAAAAAAAAAAAAAAAAAAAAAAAAAAAAAAAAAAAAAAAAAAAAAAAAAAAAAAAAAAAAAAAAAAAAAAAAAAAAAAAAAAAAAAAAAAAAAAAAAAAAAAAAAAAAAAAAAAAAAAAAAAAAAAAAAAAAAAAAAAAAAAAAAAAAAAAAAAAAAAAAAAAAAAAAAAAAAAAAAAAAAAAAAAAAAAAAAAAAAAAAAAAAAAAAAAAAAAAAAAAAAAAAAAAAAAAAAAAAAAAAAAAAAAAAAAAAAAAAAAAAAAAAAAAAAAAAAAAAAAAAAAAAAAAAAAAAAAAAAAAAAAAAAAAAAAAAAAAAAAAAAAAAAAAAAAAAAAAAAAAAAAAAAAAAAAAAAAAAAAAAAAAAAAAAAAAAAAAAAAAAAAAAAAAAAAAAAAAAAAAAAAAAAAAAAAAAAAAAAAAAAAAAAAAAAAAAAAAAAAAAAAAAAAAAAAAAAAAAAAAAAAAAAAAAAAAAAAAAAAAAAAAAAAAAAAAAAAAAAAAAAAAAAAAAAAAAAAAAAAAAAAAAAAAAAAAAAAAAAAAAAAAAAAAAAAAAAAAAAAAAAAAAAAAAAAAAAAAAAAAAAAAAAAAAAAAAAAAAAAAAAAAAAAAAAAAAAAAAAAAAAAAAAAAAAAAAAAAAAAAAAAAAAAAAAAAAAAAAAAAAAAAAAAAAAAAAAAAAAAAAAAAAAAAAAAAAAAAAAAAAAAAAAAAAAAAAAAAAAAAAAAAAAAAAAAAAAAAAAAAAAAAAAAAAAAAAAAAAAAAAAAAAAAAAAAAAAAAAAAAAAAAAAAAAAAAAAAAAAAAAAAAAAAAAAAAAAAAAAAAAAAAAAAAAAAAAAAAAAAAAAAAAAAAAAAAAAAAAAAAAAAAAAAAAAAAAAAAAAAAAAAAAAAAAAAAAAAAAAAAAAAAAAAAAAAAAAAAAAAAAAAAAAAAAAAAAAAAAAAAAAAAAAAAAAAAAAAAAAAAAAAAAAAAAAAAAAAAAAAAAAAAAAAAAAAAAAAAAAAAAAAAAAAAAAAAAAAAAAAAAAAAAAAAAAAAAAAAAAAAAAAAAAAAAAAAAAAAAAAAAAAAAAAAAAAAAAAAAAAAAAAAAAAAAAAAAAAAAAAAAAAAAAAAAAAAAAAAAAAAAAAAAAAAAAAAAAAAAAAAAAAAAAAAAAAAAAAAAAAAAAAAAAAAAAAAAAAAAAAAAAAAAAAAAAAAAAAAAAAAAAAAAAAAAAAAAAAAAAAAAAAAAAAAAAAAAAAAAAAAAAAAAAAAAAAAAAAAAAAAAAAAAAAAAAAAAAAAAAAAAAAAAAAAAAAAAAAAAAAAAAAAAAAAAAAAAAAAAAAAAAAAAAAAAAAAAAAAAAAAAAAAAAAAAAAAAAAAAAAAAAAAAAAAAAAAAAAAAAAAAAAAAAAAAAAAAAAAAAAAAAAAAAAAAAAAAAAAAAAAAAAAAAAAAAAAAAAAAAAAAAAAAAAAAAAAAAAAAAAAAAAAAAAAAAAAAAAAAAAAAAAAAAAAAAAAAAAAAAAAAAAAAAAAAAAAAAAAAAAAAAAAAAAAAAAAAAAAAAAAAAAAAAAAAAAAAAAAAAAAAAAAAAAAAAAAAAAAAAAAAAAAAAAAAAAAAAAAAAAAAAAAAAAAAAAAAAAAAAAAAAAAAAAAAAAAAAAAAAAAAAAAAAAAAAAAAAAAAAAAAAAAAAAAAAAAAAAAAAAAAAAAAAAAAAAAAAAAAAAAAAAAAAAAAAAAAAAAAAAAAAAAAAAAAAAAAAAAAAAAAAAAAAAAAAAAAAAAAAAAAAAAAAAAAAAAAAAAAAAAAAAAAAAAAAAAAAAAAAAAAAAAAAAAAAAAAAAAAAAAAAAAAAAAAAAAAAAAAAAAAAAAAAAAAAAAAAAAAAAAAAAAAAAAAAAAAAAAAAAAAAAAAAAAAAAAAAAAAAAAAAAAAAAAAAAAAAAAAAAAAAAAAAAAAAAAAAAAAAAAAAAAAAAAAAAAAAAAAAAAAAAAAAAAAAAAAAAAAAAAAAAAAAAAAAAAAAAAAAAAAAAAAAAAAAAAAAAAAAAAAAAAAAAAAAAAAAAAAAAAAAAAAAAAAAAAAAAAAAAAAAAAAAAAAAAAAAAAAAAAAAAAAAAAAAAAAAAAAAAAAAAAAAAAAAAAAAAAAAAAAAAAAAAAAAAAAAAAAAAAAAAAAAAAAAAAAAAAAAAAAAAAAAAAAAAAAAAAAAAAAAAAAAAAAAAAAAAAAAAAAAAAAAAAAAAAAAAAAAAAAAAAAAAAAAAAAAAAAAAAAAAAAAAAAAAAAAAAAAAAAAAAAAAAAAAAAAAAAAAAAAAAAAAAAAAAAAAAAAAAAAAAAAAAAAAAAAAAAAAAAAAAAAAAAAAAAAAAAAAAAAAAAAAAAAAAAAAAAAAAAAAAAAAAAAAAAAAAAAAAAAAAAAAAAAAAAAAAAAAAAAAAAAAAAAAAAAAAAAAAAAAAAAAAAAAAAAAAAAAAAAAAAAAAAAAAAAAAAAAAAAAAAAAAAAAAAAAAAAAAAAAAAAAAAAAAAAAAAAAAAAAAAAAAAAAAAAAAAAAAAAAAAAAAAAAAAAAAAAAAAAAAAAAAAAAAAAAAAAAAAAAAAAAAAAAAAAAAAAAAAAAAAAAAAAAAAAAAAAAAAAAAAAAAAAAAAAAAAAAAAAAAAAAAAAAAAAAAAAAAAAAAAAAAAAAAAAAAAAAAAAAAAAAAAAAAAAAAAAAAAAAAAAAAAAAAAAAAAAAAAAAAAAAAAAAAAAAAAAAAAAAAAAAAAAAAAAAAAAAAAAAAAAAAAAAAAAAAAAAAAAAAAAAAAAAAAAAAAAAAAAAAAAAAAAAAAAAAAAAAAAAAAAAAAAAAAAAAAAAAAAAAAAAAAAAAAAAAAAAAAAAAAAAAAAAAAAAAAAAAAAAAAAAAAAAAAAAAAAAAAAAAAAAAAAAAAAAAAAAAAAAAAAAAAAAAAAAAAAAAAAAAAAAAAAAAAAAAAAAAAAAAAAAAAAAAAAAAAAAAAAAAAAAAAAAAAAAAAAAAAAAAAAAAAAAAAAAAAAAAAAAAAAAAAAAAAAAAAAAAAAAAAAAAAAAAAAAAAAAAAAAAAAAAAAAAAAAAAAAAAAAAAAAAAAAAAAAAAAAAAAAAAAAAAAAAAAAAAAAAAAAAAAAAAAAAAAAAAAAAAAAAAAAAAAAAAAAAAAAAAAAAAAAAAAAAAAAAAAAAAAAAAAAAAAAAAAAAAAAAAAAAAAAAAAAAAAAAAAAAAAAAAAAAAAAAAAAAAAAAAAAAAAAAAAAAAAAAAAAAAAAAAAAAAAAAAAAAAAAAAAAAAAAAAAAAAAAAAAAAAAAAAAAAAAAAAAAAAAAAAAAAAAAAAAAAAAAAAAAAAAAAAAAAAAAAAAAAAAAAAAAAAAAAAAAAAAAAAAAAAAAAAAAAAAAAAAAAAAAAAAAAAAAAAAAAAAAAAAAAAAAAAAAAAAAAAAAAAAAAAAAAAAAAAAAAAAAAAAAAAAAAAAAAAAAAAAAAAAAAAAAAAAAAAAAAAAAAAAAAAAAAAAAAAAAAAAAAAAAAAAAAAAAAAAAAAAAAAAAAAAAAAAAAAAAAAAAAAAAAAAAAAAAAAAAAAAAAAAAAAAAAAAAAAAAAAAAAAAAAAAAAAAAAAAAAAAAAAAAAAAAAAAAAAAAAAAAAAAAAAAAAAAAAAAAAAAAAAAAAAAAAAAAAAAAAAAAAAAAAAAAAAAAAAAAAAAAAAAAAAAAAAAAAAAAAAAAAAAAAAAAAAAAAAAAAAAAAAAAAAAAAAAAAAAAAAAAAAAAAAAAAAAAAAAAAAAAAAAAAAAAAAAAAAAAAAAAAAAAAAAAAAAAAAAAAAAAAAAAAAAAAAAAAAAAAAAAAAAAAAAAAAAAAAAAAAAAAAAAAAAAAAAAAAAAAAAAAAAAAAAAAAAAAAAAAAAAAAAAAAAAAAAAAAAAAAAAAAAAAAAAAAAAAAAAAAAAAAAAAAAAAAAAAAAAAAAAAAAAAAAAAAAAAAAAAAAAAAAAAAAAAAAAAAAAAAAAAAAAAAAAAAAAAAAAAAAAAAAAAAAAAAAAAAAAAAAAAAAAAAAAAAAAAAAAAAAAAAAAAAAAAAAAAAAAAAAAAAAAAAAAAAAAAAAAAAAAAAAAAAAAAAAAAA==",
          "dtype": "f8"
         },
         "y": {
          "bdata": "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",
          "dtype": "f8"
         }
        },
        {
         "hoverinfo": "text",
         "hovertext": [
          "(11675.1025390625, 12054.033203125)",
          "(11366.7138671875, 13924.5703125)",
          "(11201.2021484375, 11680.9423828125)",
          "(9514.2138671875, 9876.59765625)",
          "(9355.6298828125, 9985.0263671875)",
          "(8927.94921875, 11239.4677734375)",
          "(8264.5361328125, 8539.8935546875)",
          "(8245.2568359375, 9285.251953125)",
          "(8104.3408203125, 10082.0634765625)",
          "(7731.05908203125, 8516.0625)",
          "(7471.048828125, 7511.95361328125)",
          "(7119.10888671875, 7566.97021484375)",
          "(6316.4775390625, 7194.48828125)",
          "(3170.134765625, 3190.816650390625)",
          "(2650.111572265625, 2999.015869140625)",
          "(2512.6533203125, 2586.82666015625)",
          "(2450.708740234375, 2576.11083984375)",
          "(2316.443359375, 2562.531005859375)",
          "(2140.26806640625, 2390.38720703125)",
          "(2073.1806640625, 2127.670654296875)",
          "(1886.711669921875, 2206.81298828125)",
          "(1829.5361328125, 2092.95263671875)",
          "(1801.8624267578125, 1854.3497314453125)",
          "(1800.2835693359375, 2060.177490234375)",
          "(1766.3243408203125, 1940.859130859375)",
          "(1762.068359375, 1877.542236328125)",
          "(1637.3563232421875, 1663.189697265625)",
          "(1628.7042236328125, 1734.5802001953125)",
          "(1599.7139892578125, 1772.563232421875)",
          "(1508.22998046875, 1630.062255859375)",
          "(1417.3555908203125, 1531.051513671875)",
          "(1416.1221923828125, 1443.42822265625)",
          "(1389.630859375, 1476.0751953125)",
          "(1375.97802734375, 1490.5753173828125)",
          "(1364.2760009765625, 1419.296875)",
          "(1344.8399658203125, 1512.991455078125)",
          "(1287.7178955078125, 1340.724609375)",
          "(1282.4920654296875, 1317.9302978515625)",
          "(1273.1544189453125, 1428.87890625)",
          "(1241.4251708984375, 1299.9327392578125)",
          "(1223.0106201171875, 1279.2613525390625)",
          "(1211.316650390625, 1366.625732421875)",
          "(1208.10498046875, 1252.5540771484375)",
          "(1201.0750732421875, 1387.5062255859375)",
          "(1195.6776123046875, 1343.147705078125)",
          "(1191.6513671875, 1320.5343017578125)",
          "(1184.4451904296875, 1321.28369140625)",
          "(1169.080810546875, 1225.362060546875)",
          "(1165.7740478515625, 1256.067138671875)",
          "(1165.5521240234375, 1298.98193359375)",
          "(1146.5986328125, 1173.105224609375)",
          "(1122.904541015625, 1264.5155029296875)",
          "(1099.817138671875, 1392.812744140625)",
          "(1089.8856201171875, 1130.5841064453125)",
          "(1075.5181884765625, 1172.290283203125)",
          "(1071.79833984375, 1459.514892578125)",
          "(1070.914794921875, 1094.390380859375)",
          "(1064.984375, 1216.053466796875)",
          "(1062.9608154296875, 1117.2574462890625)",
          "(1062.5689697265625, 1255.5726318359375)",
          "(1062.505126953125, 1177.7342529296875)",
          "(1060.5665283203125, 1072.8985595703125)",
          "(1053.6800537109375, 1237.210205078125)",
          "(1047.9244384765625, 1066.177734375)",
          "(1031.1241455078125, 1071.9696044921875)",
          "(1027.0806884765625, 1076.160888671875)",
          "(1016.8255004882812, 1078.1815185546875)",
          "(972.8848266601562, 984.1979370117188)",
          "(971.3853149414062, 1032.6468505859375)",
          "(969.5208129882812, 1032.433837890625)",
          "(944.2366943359375, 986.43359375)",
          "(940.7031860351562, 1066.4088134765625)",
          "(921.75537109375, 1010.4789428710938)",
          "(909.5004272460938, 971.0908203125)",
          "(908.7039794921875, 965.1641235351562)",
          "(901.0490112304688, 904.925048828125)",
          "(900.9766845703125, 951.8968505859375)",
          "(898.3875732421875, 927.452392578125)",
          "(897.7960205078125, 923.8667602539062)",
          "(889.6659545898438, 961.29345703125)",
          "(886.7841186523438, 1263.9676513671875)",
          "(882.8048706054688, 1088.2393798828125)",
          "(877.0263671875, 923.7140502929688)",
          "(873.49462890625, 976.0916137695312)",
          "(870.5897216796875, 873.79443359375)",
          "(869.7347412109375, 1014.8644409179688)",
          "(859.19189453125, 1078.617919921875)",
          "(858.7103271484375, 866.4682006835938)",
          "(857.9236450195312, 950.1906127929688)",
          "(842.3741455078125, 986.0670776367188)",
          "(835.897216796875, 889.1558837890625)",
          "(811.7123413085938, 961.29345703125)",
          "(806.2403564453125, 842.9076538085938)",
          "(803.9072265625, 820.06982421875)",
          "(784.4095458984375, 863.4367065429688)",
          "(770.1163940429688, 779.3839721679688)",
          "(768.0440673828125, 976.0916137695312)",
          "(754.8302001953125, 804.5274658203125)",
          "(739.4536743164062, 775.3739624023438)",
          "(724.5515747070312, 910.1181030273438)",
          "(722.0106811523438, 1011.669921875)",
          "(676.839599609375, 831.5277709960938)",
          "(676.041259765625, 696.3721313476562)",
          "(675.2354736328125, 781.2849731445312)",
          "(671.5507202148438, 719.3328857421875)",
          "(661.1175537109375, 819.2864990234375)",
          "(641.2640380859375, 734.0661010742188)",
          "(632.88525390625, 677.9859008789062)",
          "(632.8547973632812, 645.9680786132812)",
          "(626.2643432617188, 661.1278686523438)",
          "(617.6082763671875, 820.06982421875)",
          "(577.1591186523438, 601.1315307617188)",
          "(574.7803955078125, 605.3740234375)",
          "(569.7221069335938, 607.0584106445312)",
          "(514.5475463867188, 570.4415283203125)",
          "(395.9214172363281, 400.7902526855469)",
          "(349.2048645019531, 368.9221496582031)",
          "(338.0304260253906, 340.1138610839844)",
          "(334.821533203125, 340.8572082519531)",
          "(322.6385803222656, 405.369384765625)",
          "(305.9270324707031, 330.7361145019531)",
          "(291.4833984375, 292.8108825683594)",
          "(272.41510009765625, 288.4976806640625)",
          "(241.90435791015625, 257.16339111328125)",
          "(183.84390258789062, 205.7589111328125)",
          "(165.8333740234375, 173.38253784179688)",
          "(148.08694458007812, 178.7853546142578)",
          "(134.71849060058594, 141.2653350830078)",
          "(133.048828125, 137.49607849121094)",
          "(117.70552062988281, 119.13136291503906)",
          "(111.75177764892578, 121.09396362304688)",
          "(109.97559356689453, 113.30506134033203)",
          "(109.2215805053711, 122.75173950195312)",
          "(108.166015625, 120.15980529785156)",
          "(106.14154815673828, 110.6851577758789)",
          "(103.46292114257812, 103.59236145019531)",
          "(102.28826141357422, 103.92117309570312)",
          "(99.7334976196289, 100.97207641601562)",
          "(95.60929107666016, 99.75778198242188)",
          "(95.5645980834961, 103.3753662109375)",
          "(81.66757202148438, 82.18759155273438)",
          "(78.27835845947266, 79.90982055664062)",
          "(76.8328857421875, 76.8537826538086)",
          "(73.54389953613281, 83.73981475830078)",
          "(73.4686508178711, 75.65796661376953)",
          "(73.0923843383789, 80.94328308105469)",
          "(71.46985626220703, 75.91765594482422)",
          "(71.08262634277344, 74.57007598876953)",
          "(70.32630157470703, 74.65000915527344)",
          "(70.12714385986328, 76.48173522949219)",
          "(68.80509185791016, 78.53524780273438)",
          "(65.42174530029297, 67.35822296142578)",
          "(63.293025970458984, 73.3624267578125)",
          "(62.757408142089844, 64.79296112060547)",
          "(59.49008560180664, 62.88351821899414)",
          "(59.07068634033203, 61.915225982666016)",
          "(58.56855392456055, 64.32061767578125)",
          "(58.23191452026367, 59.761810302734375)",
          "(57.89157485961914, 60.328189849853516)",
          "(56.60517501831055, 61.70792770385742)",
          "(56.24977111816406, 56.65617752075195)",
          "(54.88761520385742, 55.76334762573242)",
          "(54.30145263671875, 55.456634521484375)",
          "(54.28255081176758, 58.402587890625)",
          "(53.69013977050781, 56.750877380371094)",
          "(52.33456039428711, 53.0513801574707)",
          "(52.022159576416016, 57.26209259033203)",
          "(50.97605514526367, 53.04751968383789)",
          "(50.4127082824707, 51.512542724609375)",
          "(50.40141296386719, 62.21028137207031)",
          "(49.39010238647461, 53.946102142333984)",
          "(49.34175491333008, 52.814910888671875)",
          "(48.89192199707031, 50.913116455078125)",
          "(48.8809700012207, 49.47742462158203)",
          "(48.75856399536133, 57.71608352661133)",
          "(48.184837341308594, 48.34433364868164)",
          "(48.00457763671875, 52.07963180541992)",
          "(47.50989532470703, 48.25211715698242)",
          "(47.066829681396484, 50.33791732788086)",
          "(46.88400650024414, 55.69676208496094)",
          "(46.66148376464844, 57.98316192626953)",
          "(44.25452423095703, 48.79608917236328)",
          "(43.69560623168945, 48.80674362182617)",
          "(43.20320510864258, 45.66994857788086)",
          "(41.2599983215332, 43.62042999267578)",
          "(41.25270080566406, 44.23029327392578)",
          "(40.94887161254883, 43.224205017089844)",
          "(40.514461517333984, 47.606903076171875)",
          "(40.50290298461914, 40.996376037597656)",
          "(40.4449348449707, 43.72938919067383)",
          "(39.886714935302734, 40.08672332763672)",
          "(39.35330581665039, 49.31904220581055)",
          "(38.23429489135742, 41.51520538330078)",
          "(38.06013107299805, 38.56906509399414)",
          "(37.81235122680664, 39.21147537231445)",
          "(37.688419342041016, 37.891536712646484)",
          "(36.80384826660156, 47.56685256958008)",
          "(35.80063247680664, 43.01017761230469)",
          "(35.650726318359375, 36.22199249267578)",
          "(35.425045013427734, 39.61754608154297)",
          "(35.363189697265625, 37.5400390625)",
          "(33.755332946777344, 37.08832550048828)",
          "(33.75138473510742, 33.791839599609375)",
          "(33.541725158691406, 40.65473556518555)",
          "(33.357505798339844, 34.62743377685547)",
          "(32.574771881103516, 38.56906509399414)",
          "(31.82665252685547, 36.87691879272461)",
          "(31.27065086364746, 35.669532775878906)",
          "(30.944509506225586, 31.656896591186523)",
          "(30.056970596313477, 32.348487854003906)",
          "(29.60711097717285, 37.02444839477539)",
          "(29.536230087280273, 31.552907943725586)",
          "(29.533262252807617, 33.20467758178711)",
          "(28.940141677856445, 30.84285545349121)",
          "(28.716642379760742, 36.874847412109375)",
          "(27.97635269165039, 31.46171760559082)",
          "(26.929210662841797, 33.8045539855957)",
          "(26.360288619995117, 34.59855270385742)",
          "(25.559371948242188, 28.271650314331055)",
          "(23.64919662475586, 30.022489547729492)",
          "(23.40892791748047, 24.973922729492188)",
          "(22.221582412719727, 23.546798706054688)",
          "(22.132993698120117, 22.700551986694336)",
          "(21.62078094482422, 27.9504337310791)",
          "(20.725000381469727, 21.102323532104492)",
          "(20.3094482421875, 20.882366180419922)"
         ],
         "mode": "markers",
         "name": "H1",
         "type": "scatter",
         "x": {
          "bdata": "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",
          "dtype": "f8"
         },
         "y": {
          "bdata": "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",
          "dtype": "f8"
         }
        },
        {
         "hoverinfo": "text",
         "hovertext": [
          "(11437.626953125, 11441.1767578125), multiplicity: 2",
          "(11437.626953125, 11441.1767578125), multiplicity: 2",
          "(10107.490234375, 10340.1181640625)",
          "(9772.03125, 10540.9013671875)",
          "(1849.40625, 1861.0777587890625)",
          "(1753.9722900390625, 1764.3538818359375)",
          "(1643.7445068359375, 1660.4161376953125)",
          "(1560.29345703125, 1588.79248046875)",
          "(1410.9151611328125, 1420.1640625)",
          "(1326.4652099609375, 1328.8885498046875)",
          "(1302.9139404296875, 1312.592529296875)",
          "(1279.9461669921875, 1312.237548828125)",
          "(1254.5386962890625, 1258.281982421875)",
          "(1195.2760009765625, 1202.5455322265625)",
          "(1177.5826416015625, 1194.968017578125)",
          "(1097.1009521484375, 1213.48681640625)",
          "(1063.5433349609375, 1064.4007568359375)",
          "(1062.716552734375, 1080.905517578125)",
          "(1014.3119506835938, 1038.151123046875)",
          "(989.349609375, 993.6944580078125)",
          "(965.09130859375, 967.7328491210938)",
          "(924.5747680664062, 975.4071655273438)",
          "(894.45263671875, 961.6690673828125)",
          "(329.4624328613281, 350.89263916015625)",
          "(169.5734405517578, 171.72463989257812)",
          "(107.10743713378906, 115.70681762695312)",
          "(85.63143157958984, 87.37435913085938)",
          "(84.97382354736328, 86.62773895263672)",
          "(82.95661926269531, 84.6354751586914)",
          "(77.35043334960938, 77.99853515625)",
          "(66.10480499267578, 68.38005828857422)",
          "(66.10480499267578, 67.90492248535156)",
          "(64.0394058227539, 65.58361053466797)",
          "(61.99850845336914, 62.12034225463867)",
          "(59.42536163330078, 61.61680221557617)",
          "(59.09302520751953, 61.297725677490234)",
          "(56.738441467285156, 57.567588806152344)",
          "(52.391082763671875, 54.0650520324707)",
          "(46.27326202392578, 46.5774040222168)",
          "(45.94548416137695, 46.287628173828125)",
          "(44.49394226074219, 45.11492156982422)",
          "(40.27452087402344, 42.81275939941406)",
          "(39.44493865966797, 41.58992385864258)",
          "(37.08582305908203, 37.408931732177734)"
         ],
         "mode": "markers",
         "name": "H2",
         "type": "scatter",
         "x": {
          "bdata": "AAAAQNBWxkAAAABA0FbGQAAAAMC+vcNAAAAAAAQWw0AAAAAAoOWcQAAAAKDjZ5tAAAAAYPqumUAAAACALGGYQAAAACCpC5ZAAAAAYNy5lEAAAADgp1uUQAAAAODI/5NAAAAAoCeak0AAAACgGq2SQAAAAKBUZpJAAAAAYGckkUAAAABgLJ6QQAAAAMDdmpBAAAAA4H6yj0AAAAAAzOqOQAAAAAC7KI5AAAAAIJnkjEAAAAAAn/OLQAAAACBml3RAAAAAoFkyZUAAAABA4MZaQAAAAGBpaFVAAAAAIFM+VUAAAABAOb1UQAAAAIBtVlNAAAAAILWGUEAAAAAgtYZQQAAAAKCFAlBAAAAAIM//TkAAAABAcrZNQAAAAEDoi01AAAAAQIVeTEAAAAAADzJKQAAAAED6IkdAAAAAoAX5RkAAAACAOT9GQAAAAIAjI0RAAAAAwPO4Q0AAAABA/IpCQA==",
          "dtype": "f8"
         },
         "y": {
          "bdata": "AAAAoJZYxkAAAACglljGQAAAACAPMsRAAAAAYHOWxEAAAACgTxSdQAAAAGBqkZtAAAAAIKrxmUAAAACAK9OYQAAAAACoMJZAAAAA4I3DlEAAAADAXoKUQAAAAEDzgJRAAAAAwCCpk0AAAACgLsqSQAAAAEDfq5JAAAAAgPL1kkAAAABgmqGQQAAAAECf45BAAAAAwJo4kEAAAABAjg2PQAAAAODcPY5AAAAA4EF7jkAAAABAWg2OQAAAAEBI7nVAAAAAQDB3ZUAAAACAPO1cQAAAAID111VAAAAA4CyoVUAAAACgqyhVQAAAAADof1NAAAAA4FIYUUAAAABA6vlQQAAAAOBZZVBAAAAAYGcPT0AAAABg885OQAAAAOAbpk5AAAAAwKbITEAAAACgUwhLQAAAAGDoSUdAAAAAANEkR0AAAADAtY5GQAAAAIAIaEVAAAAAoILLREAAAADgV7RCQA==",
          "dtype": "f8"
         }
        }
       ],
       "layout": {
        "height": 500,
        "plot_bgcolor": "white",
        "template": {
         "data": {
          "bar": [
           {
            "error_x": {
             "color": "#2a3f5f"
            },
            "error_y": {
             "color": "#2a3f5f"
            },
            "marker": {
             "line": {
              "color": "#E5ECF6",
              "width": 0.5
             },
             "pattern": {
              "fillmode": "overlay",
              "size": 10,
              "solidity": 0.2
             }
            },
            "type": "bar"
           }
          ],
          "barpolar": [
           {
            "marker": {
             "line": {
              "color": "#E5ECF6",
              "width": 0.5
             },
             "pattern": {
              "fillmode": "overlay",
              "size": 10,
              "solidity": 0.2
             }
            },
            "type": "barpolar"
           }
          ],
          "carpet": [
           {
            "aaxis": {
             "endlinecolor": "#2a3f5f",
             "gridcolor": "white",
             "linecolor": "white",
             "minorgridcolor": "white",
             "startlinecolor": "#2a3f5f"
            },
            "baxis": {
             "endlinecolor": "#2a3f5f",
             "gridcolor": "white",
             "linecolor": "white",
             "minorgridcolor": "white",
             "startlinecolor": "#2a3f5f"
            },
            "type": "carpet"
           }
          ],
          "choropleth": [
           {
            "colorbar": {
             "outlinewidth": 0,
             "ticks": ""
            },
            "type": "choropleth"
           }
          ],
          "contour": [
           {
            "colorbar": {
             "outlinewidth": 0,
             "ticks": ""
            },
            "colorscale": [
             [
              0,
              "#0d0887"
             ],
             [
              0.1111111111111111,
              "#46039f"
             ],
             [
              0.2222222222222222,
              "#7201a8"
             ],
             [
              0.3333333333333333,
              "#9c179e"
             ],
             [
              0.4444444444444444,
              "#bd3786"
             ],
             [
              0.5555555555555556,
              "#d8576b"
             ],
             [
              0.6666666666666666,
              "#ed7953"
             ],
             [
              0.7777777777777778,
              "#fb9f3a"
             ],
             [
              0.8888888888888888,
              "#fdca26"
             ],
             [
              1,
              "#f0f921"
             ]
            ],
            "type": "contour"
           }
          ],
          "contourcarpet": [
           {
            "colorbar": {
             "outlinewidth": 0,
             "ticks": ""
            },
            "type": "contourcarpet"
           }
          ],
          "heatmap": [
           {
            "colorbar": {
             "outlinewidth": 0,
             "ticks": ""
            },
            "colorscale": [
             [
              0,
              "#0d0887"
             ],
             [
              0.1111111111111111,
              "#46039f"
             ],
             [
              0.2222222222222222,
              "#7201a8"
             ],
             [
              0.3333333333333333,
              "#9c179e"
             ],
             [
              0.4444444444444444,
              "#bd3786"
             ],
             [
              0.5555555555555556,
              "#d8576b"
             ],
             [
              0.6666666666666666,
              "#ed7953"
             ],
             [
              0.7777777777777778,
              "#fb9f3a"
             ],
             [
              0.8888888888888888,
              "#fdca26"
             ],
             [
              1,
              "#f0f921"
             ]
            ],
            "type": "heatmap"
           }
          ],
          "histogram": [
           {
            "marker": {
             "pattern": {
              "fillmode": "overlay",
              "size": 10,
              "solidity": 0.2
             }
            },
            "type": "histogram"
           }
          ],
          "histogram2d": [
           {
            "colorbar": {
             "outlinewidth": 0,
             "ticks": ""
            },
            "colorscale": [
             [
              0,
              "#0d0887"
             ],
             [
              0.1111111111111111,
              "#46039f"
             ],
             [
              0.2222222222222222,
              "#7201a8"
             ],
             [
              0.3333333333333333,
              "#9c179e"
             ],
             [
              0.4444444444444444,
              "#bd3786"
             ],
             [
              0.5555555555555556,
              "#d8576b"
             ],
             [
              0.6666666666666666,
              "#ed7953"
             ],
             [
              0.7777777777777778,
              "#fb9f3a"
             ],
             [
              0.8888888888888888,
              "#fdca26"
             ],
             [
              1,
              "#f0f921"
             ]
            ],
            "type": "histogram2d"
           }
          ],
          "histogram2dcontour": [
           {
            "colorbar": {
             "outlinewidth": 0,
             "ticks": ""
            },
            "colorscale": [
             [
              0,
              "#0d0887"
             ],
             [
              0.1111111111111111,
              "#46039f"
             ],
             [
              0.2222222222222222,
              "#7201a8"
             ],
             [
              0.3333333333333333,
              "#9c179e"
             ],
             [
              0.4444444444444444,
              "#bd3786"
             ],
             [
              0.5555555555555556,
              "#d8576b"
             ],
             [
              0.6666666666666666,
              "#ed7953"
             ],
             [
              0.7777777777777778,
              "#fb9f3a"
             ],
             [
              0.8888888888888888,
              "#fdca26"
             ],
             [
              1,
              "#f0f921"
             ]
            ],
            "type": "histogram2dcontour"
           }
          ],
          "mesh3d": [
           {
            "colorbar": {
             "outlinewidth": 0,
             "ticks": ""
            },
            "type": "mesh3d"
           }
          ],
          "parcoords": [
           {
            "line": {
             "colorbar": {
              "outlinewidth": 0,
              "ticks": ""
             }
            },
            "type": "parcoords"
           }
          ],
          "pie": [
           {
            "automargin": true,
            "type": "pie"
           }
          ],
          "scatter": [
           {
            "fillpattern": {
             "fillmode": "overlay",
             "size": 10,
             "solidity": 0.2
            },
            "type": "scatter"
           }
          ],
          "scatter3d": [
           {
            "line": {
             "colorbar": {
              "outlinewidth": 0,
              "ticks": ""
             }
            },
            "marker": {
             "colorbar": {
              "outlinewidth": 0,
              "ticks": ""
             }
            },
            "type": "scatter3d"
           }
          ],
          "scattercarpet": [
           {
            "marker": {
             "colorbar": {
              "outlinewidth": 0,
              "ticks": ""
             }
            },
            "type": "scattercarpet"
           }
          ],
          "scattergeo": [
           {
            "marker": {
             "colorbar": {
              "outlinewidth": 0,
              "ticks": ""
             }
            },
            "type": "scattergeo"
           }
          ],
          "scattergl": [
           {
            "marker": {
             "colorbar": {
              "outlinewidth": 0,
              "ticks": ""
             }
            },
            "type": "scattergl"
           }
          ],
          "scattermap": [
           {
            "marker": {
             "colorbar": {
              "outlinewidth": 0,
              "ticks": ""
             }
            },
            "type": "scattermap"
           }
          ],
          "scattermapbox": [
           {
            "marker": {
             "colorbar": {
              "outlinewidth": 0,
              "ticks": ""
             }
            },
            "type": "scattermapbox"
           }
          ],
          "scatterpolar": [
           {
            "marker": {
             "colorbar": {
              "outlinewidth": 0,
              "ticks": ""
             }
            },
            "type": "scatterpolar"
           }
          ],
          "scatterpolargl": [
           {
            "marker": {
             "colorbar": {
              "outlinewidth": 0,
              "ticks": ""
             }
            },
            "type": "scatterpolargl"
           }
          ],
          "scatterternary": [
           {
            "marker": {
             "colorbar": {
              "outlinewidth": 0,
              "ticks": ""
             }
            },
            "type": "scatterternary"
           }
          ],
          "surface": [
           {
            "colorbar": {
             "outlinewidth": 0,
             "ticks": ""
            },
            "colorscale": [
             [
              0,
              "#0d0887"
             ],
             [
              0.1111111111111111,
              "#46039f"
             ],
             [
              0.2222222222222222,
              "#7201a8"
             ],
             [
              0.3333333333333333,
              "#9c179e"
             ],
             [
              0.4444444444444444,
              "#bd3786"
             ],
             [
              0.5555555555555556,
              "#d8576b"
             ],
             [
              0.6666666666666666,
              "#ed7953"
             ],
             [
              0.7777777777777778,
              "#fb9f3a"
             ],
             [
              0.8888888888888888,
              "#fdca26"
             ],
             [
              1,
              "#f0f921"
             ]
            ],
            "type": "surface"
           }
          ],
          "table": [
           {
            "cells": {
             "fill": {
              "color": "#EBF0F8"
             },
             "line": {
              "color": "white"
             }
            },
            "header": {
             "fill": {
              "color": "#C8D4E3"
             },
             "line": {
              "color": "white"
             }
            },
            "type": "table"
           }
          ]
         },
         "layout": {
          "annotationdefaults": {
           "arrowcolor": "#2a3f5f",
           "arrowhead": 0,
           "arrowwidth": 1
          },
          "autotypenumbers": "strict",
          "coloraxis": {
           "colorbar": {
            "outlinewidth": 0,
            "ticks": ""
           }
          },
          "colorscale": {
           "diverging": [
            [
             0,
             "#8e0152"
            ],
            [
             0.1,
             "#c51b7d"
            ],
            [
             0.2,
             "#de77ae"
            ],
            [
             0.3,
             "#f1b6da"
            ],
            [
             0.4,
             "#fde0ef"
            ],
            [
             0.5,
             "#f7f7f7"
            ],
            [
             0.6,
             "#e6f5d0"
            ],
            [
             0.7,
             "#b8e186"
            ],
            [
             0.8,
             "#7fbc41"
            ],
            [
             0.9,
             "#4d9221"
            ],
            [
             1,
             "#276419"
            ]
           ],
           "sequential": [
            [
             0,
             "#0d0887"
            ],
            [
             0.1111111111111111,
             "#46039f"
            ],
            [
             0.2222222222222222,
             "#7201a8"
            ],
            [
             0.3333333333333333,
             "#9c179e"
            ],
            [
             0.4444444444444444,
             "#bd3786"
            ],
            [
             0.5555555555555556,
             "#d8576b"
            ],
            [
             0.6666666666666666,
             "#ed7953"
            ],
            [
             0.7777777777777778,
             "#fb9f3a"
            ],
            [
             0.8888888888888888,
             "#fdca26"
            ],
            [
             1,
             "#f0f921"
            ]
           ],
           "sequentialminus": [
            [
             0,
             "#0d0887"
            ],
            [
             0.1111111111111111,
             "#46039f"
            ],
            [
             0.2222222222222222,
             "#7201a8"
            ],
            [
             0.3333333333333333,
             "#9c179e"
            ],
            [
             0.4444444444444444,
             "#bd3786"
            ],
            [
             0.5555555555555556,
             "#d8576b"
            ],
            [
             0.6666666666666666,
             "#ed7953"
            ],
            [
             0.7777777777777778,
             "#fb9f3a"
            ],
            [
             0.8888888888888888,
             "#fdca26"
            ],
            [
             1,
             "#f0f921"
            ]
           ]
          },
          "colorway": [
           "#636efa",
           "#EF553B",
           "#00cc96",
           "#ab63fa",
           "#FFA15A",
           "#19d3f3",
           "#FF6692",
           "#B6E880",
           "#FF97FF",
           "#FECB52"
          ],
          "font": {
           "color": "#2a3f5f"
          },
          "geo": {
           "bgcolor": "white",
           "lakecolor": "white",
           "landcolor": "#E5ECF6",
           "showlakes": true,
           "showland": true,
           "subunitcolor": "white"
          },
          "hoverlabel": {
           "align": "left"
          },
          "hovermode": "closest",
          "mapbox": {
           "style": "light"
          },
          "paper_bgcolor": "white",
          "plot_bgcolor": "#E5ECF6",
          "polar": {
           "angularaxis": {
            "gridcolor": "white",
            "linecolor": "white",
            "ticks": ""
           },
           "bgcolor": "#E5ECF6",
           "radialaxis": {
            "gridcolor": "white",
            "linecolor": "white",
            "ticks": ""
           }
          },
          "scene": {
           "xaxis": {
            "backgroundcolor": "#E5ECF6",
            "gridcolor": "white",
            "gridwidth": 2,
            "linecolor": "white",
            "showbackground": true,
            "ticks": "",
            "zerolinecolor": "white"
           },
           "yaxis": {
            "backgroundcolor": "#E5ECF6",
            "gridcolor": "white",
            "gridwidth": 2,
            "linecolor": "white",
            "showbackground": true,
            "ticks": "",
            "zerolinecolor": "white"
           },
           "zaxis": {
            "backgroundcolor": "#E5ECF6",
            "gridcolor": "white",
            "gridwidth": 2,
            "linecolor": "white",
            "showbackground": true,
            "ticks": "",
            "zerolinecolor": "white"
           }
          },
          "shapedefaults": {
           "line": {
            "color": "#2a3f5f"
           }
          },
          "ternary": {
           "aaxis": {
            "gridcolor": "white",
            "linecolor": "white",
            "ticks": ""
           },
           "baxis": {
            "gridcolor": "white",
            "linecolor": "white",
            "ticks": ""
           },
           "bgcolor": "#E5ECF6",
           "caxis": {
            "gridcolor": "white",
            "linecolor": "white",
            "ticks": ""
           }
          },
          "title": {
           "x": 0.05
          },
          "xaxis": {
           "automargin": true,
           "gridcolor": "white",
           "linecolor": "white",
           "ticks": "",
           "title": {
            "standoff": 15
           },
           "zerolinecolor": "white",
           "zerolinewidth": 2
          },
          "yaxis": {
           "automargin": true,
           "gridcolor": "white",
           "linecolor": "white",
           "ticks": "",
           "title": {
            "standoff": 15
           },
           "zerolinecolor": "white",
           "zerolinewidth": 2
          }
         }
        },
        "width": 500,
        "xaxis": {
         "autorange": false,
         "exponentformat": "e",
         "linecolor": "black",
         "linewidth": 1,
         "mirror": false,
         "range": [
          -278.49140625,
          14203.06171875
         ],
         "showexponent": "all",
         "showline": true,
         "side": "bottom",
         "ticks": "outside",
         "title": {
          "text": "Birth"
         },
         "type": "linear",
         "zeroline": true
        },
        "yaxis": {
         "autorange": false,
         "exponentformat": "e",
         "linecolor": "black",
         "linewidth": 1,
         "mirror": false,
         "range": [
          -278.49140625,
          14203.06171875
         ],
         "scaleanchor": "x",
         "scaleratio": 1,
         "showexponent": "all",
         "showline": true,
         "side": "left",
         "ticks": "outside",
         "title": {
          "text": "Death"
         },
         "type": "linear",
         "zeroline": true
        }
       }
      }
     },
     "metadata": {},
     "output_type": "display_data"
    },
    {
     "name": "stdout",
     "output_type": "stream",
     "text": [
      "Diagrama de Persistencia para diff_STD30\n"
     ]
    },
    {
     "data": {
      "application/vnd.plotly.v1+json": {
       "config": {
        "plotlyServerURL": "https://plot.ly"
       },
       "data": [
        {
         "hoverinfo": "none",
         "line": {
          "color": "black",
          "dash": "dash",
          "width": 1
         },
         "mode": "lines",
         "showlegend": false,
         "type": "scatter",
         "x": [
          -297.959375,
          15195.928125
         ],
         "y": [
          -297.959375,
          15195.928125
         ]
        },
        {
         "hoverinfo": "text",
         "hovertext": [
          "(0.0, 0.28501442074775696)",
          "(0.0, 0.625283420085907)",
          "(0.0, 1.9254114627838135)",
          "(0.0, 1.98158860206604)",
          "(0.0, 2.0169167518615723)",
          "(0.0, 2.018878221511841)",
          "(0.0, 2.313649892807007)",
          "(0.0, 2.333320140838623)",
          "(0.0, 2.8963961601257324)",
          "(0.0, 2.9377384185791016)",
          "(0.0, 2.99544358253479)",
          "(0.0, 3.3951380252838135)",
          "(0.0, 3.7551989555358887)",
          "(0.0, 3.9695892333984375)",
          "(0.0, 3.9772472381591797)",
          "(0.0, 3.993281126022339)",
          "(0.0, 4.096648693084717)",
          "(0.0, 4.173349380493164)",
          "(0.0, 4.31783390045166)",
          "(0.0, 4.389583110809326)",
          "(0.0, 4.396665573120117)",
          "(0.0, 4.42466926574707)",
          "(0.0, 4.451861381530762)",
          "(0.0, 4.498527526855469)",
          "(0.0, 4.57579231262207)",
          "(0.0, 4.660667896270752)",
          "(0.0, 4.853831768035889)",
          "(0.0, 4.855128288269043)",
          "(0.0, 5.047391414642334)",
          "(0.0, 5.092804908752441)",
          "(0.0, 5.099415302276611)",
          "(0.0, 5.144865989685059)",
          "(0.0, 5.2624945640563965)",
          "(0.0, 5.3559722900390625)",
          "(0.0, 5.364231586456299)",
          "(0.0, 5.41443395614624)",
          "(0.0, 5.51456880569458)",
          "(0.0, 5.5403032302856445)",
          "(0.0, 5.553715229034424)",
          "(0.0, 5.778134346008301)",
          "(0.0, 5.830939769744873)",
          "(0.0, 5.8396687507629395)",
          "(0.0, 5.899178981781006)",
          "(0.0, 6.022188663482666)",
          "(0.0, 6.34303617477417)",
          "(0.0, 6.499642372131348)",
          "(0.0, 6.5067596435546875)",
          "(0.0, 6.606574535369873)",
          "(0.0, 6.717530727386475)",
          "(0.0, 6.757905960083008)",
          "(0.0, 6.759881973266602)",
          "(0.0, 6.806848049163818)",
          "(0.0, 6.862135887145996)",
          "(0.0, 6.883680820465088)",
          "(0.0, 6.910813808441162)",
          "(0.0, 6.919822692871094)",
          "(0.0, 6.976922035217285)",
          "(0.0, 7.092386245727539)",
          "(0.0, 7.294236660003662)",
          "(0.0, 7.317273139953613)",
          "(0.0, 7.3254547119140625)",
          "(0.0, 7.5268402099609375)",
          "(0.0, 7.534999847412109)",
          "(0.0, 8.027565956115723)",
          "(0.0, 8.041370391845703)",
          "(0.0, 8.256482124328613)",
          "(0.0, 8.272218704223633)",
          "(0.0, 8.284348487854004)",
          "(0.0, 8.310932159423828)",
          "(0.0, 8.32320499420166)",
          "(0.0, 8.335466384887695)",
          "(0.0, 8.362719535827637)",
          "(0.0, 8.433923721313477)",
          "(0.0, 8.587318420410156)",
          "(0.0, 8.624835014343262)",
          "(0.0, 8.633159637451172)",
          "(0.0, 8.735724449157715)",
          "(0.0, 8.758044242858887)",
          "(0.0, 8.76246166229248)",
          "(0.0, 8.884721755981445)",
          "(0.0, 8.996312141418457)",
          "(0.0, 8.997081756591797)",
          "(0.0, 9.01888370513916)",
          "(0.0, 9.033578872680664)",
          "(0.0, 9.067262649536133)",
          "(0.0, 9.091361045837402)",
          "(0.0, 9.098435401916504)",
          "(0.0, 9.195343017578125)",
          "(0.0, 9.291297912597656)",
          "(0.0, 9.35043716430664)",
          "(0.0, 9.783750534057617)",
          "(0.0, 9.78913688659668)",
          "(0.0, 9.834911346435547)",
          "(0.0, 9.861013412475586)",
          "(0.0, 9.883947372436523)",
          "(0.0, 9.893707275390625)",
          "(0.0, 9.955506324768066)",
          "(0.0, 10.18708324432373)",
          "(0.0, 10.250791549682617)",
          "(0.0, 10.357281684875488)",
          "(0.0, 10.364361763000488)",
          "(0.0, 10.36948299407959)",
          "(0.0, 10.39237117767334)",
          "(0.0, 10.444977760314941)",
          "(0.0, 10.470857620239258)",
          "(0.0, 10.506278991699219)",
          "(0.0, 10.532621383666992)",
          "(0.0, 10.579994201660156)",
          "(0.0, 10.65932846069336)",
          "(0.0, 10.666688919067383)",
          "(0.0, 10.66744327545166)",
          "(0.0, 10.685208320617676)",
          "(0.0, 10.700983047485352)",
          "(0.0, 10.716955184936523)",
          "(0.0, 10.775200843811035)",
          "(0.0, 10.808893203735352)",
          "(0.0, 10.994136810302734)",
          "(0.0, 11.106122016906738)",
          "(0.0, 11.173134803771973)",
          "(0.0, 11.277525901794434)",
          "(0.0, 11.51784610748291)",
          "(0.0, 11.632128715515137)",
          "(0.0, 11.69611644744873)",
          "(0.0, 11.87941837310791)",
          "(0.0, 11.90723705291748)",
          "(0.0, 11.95284652709961)",
          "(0.0, 11.993796348571777)",
          "(0.0, 12.14000129699707)",
          "(0.0, 12.238579750061035)",
          "(0.0, 12.329044342041016)",
          "(0.0, 12.455143928527832)",
          "(0.0, 12.511693000793457)",
          "(0.0, 12.61384105682373)",
          "(0.0, 12.68342399597168)",
          "(0.0, 12.736292839050293)",
          "(0.0, 12.813380241394043)",
          "(0.0, 12.957846641540527)",
          "(0.0, 13.04231071472168)",
          "(0.0, 13.064316749572754)",
          "(0.0, 13.130168914794922)",
          "(0.0, 13.169443130493164)",
          "(0.0, 13.202571868896484)",
          "(0.0, 13.624061584472656)",
          "(0.0, 13.896751403808594)",
          "(0.0, 14.17579174041748)",
          "(0.0, 14.221015930175781)",
          "(0.0, 14.448993682861328)",
          "(0.0, 14.776419639587402)",
          "(0.0, 14.855280876159668)",
          "(0.0, 14.87403392791748)",
          "(0.0, 15.246319770812988)",
          "(0.0, 15.440091133117676)",
          "(0.0, 15.521453857421875)",
          "(0.0, 15.5420503616333)",
          "(0.0, 15.572443962097168)",
          "(0.0, 15.758951187133789)",
          "(0.0, 15.786083221435547)",
          "(0.0, 15.853289604187012)",
          "(0.0, 15.885210037231445)",
          "(0.0, 15.97680377960205)",
          "(0.0, 16.02595329284668)",
          "(0.0, 16.1251220703125)",
          "(0.0, 16.397247314453125)",
          "(0.0, 16.61289405822754)",
          "(0.0, 16.748205184936523)",
          "(0.0, 16.9138126373291)",
          "(0.0, 16.991188049316406)",
          "(0.0, 17.029577255249023)",
          "(0.0, 17.171140670776367)",
          "(0.0, 17.2678279876709)",
          "(0.0, 17.436382293701172)",
          "(0.0, 17.583187103271484)",
          "(0.0, 17.852537155151367)",
          "(0.0, 18.332395553588867)",
          "(0.0, 18.470895767211914)",
          "(0.0, 18.64047622680664)",
          "(0.0, 18.713972091674805)",
          "(0.0, 18.91109848022461)",
          "(0.0, 18.912996292114258)",
          "(0.0, 19.00773811340332)",
          "(0.0, 19.114730834960938)",
          "(0.0, 19.150341033935547)",
          "(0.0, 19.62666130065918)",
          "(0.0, 19.712499618530273)",
          "(0.0, 20.27872657775879)",
          "(0.0, 20.35689353942871)",
          "(0.0, 20.374982833862305)",
          "(0.0, 20.490863800048828)",
          "(0.0, 21.17608642578125)",
          "(0.0, 21.682085037231445)",
          "(0.0, 21.71066665649414)",
          "(0.0, 21.891902923583984)",
          "(0.0, 21.905546188354492)",
          "(0.0, 22.06441307067871)",
          "(0.0, 22.16197395324707)",
          "(0.0, 22.39264678955078)",
          "(0.0, 22.770288467407227)",
          "(0.0, 23.47128677368164)",
          "(0.0, 23.722320556640625)",
          "(0.0, 23.781225204467773)",
          "(0.0, 24.227155685424805)",
          "(0.0, 24.311914443969727)",
          "(0.0, 24.335044860839844)",
          "(0.0, 24.46967887878418)",
          "(0.0, 25.100658416748047)",
          "(0.0, 25.271942138671875)",
          "(0.0, 25.291919708251953)",
          "(0.0, 25.562955856323242)",
          "(0.0, 25.962642669677734)",
          "(0.0, 27.09320068359375)",
          "(0.0, 27.117565155029297)",
          "(0.0, 27.551355361938477)",
          "(0.0, 27.685626983642578)",
          "(0.0, 28.357200622558594)",
          "(0.0, 28.855703353881836)",
          "(0.0, 28.86277198791504)",
          "(0.0, 28.90487289428711)",
          "(0.0, 29.020307540893555)",
          "(0.0, 29.455326080322266)",
          "(0.0, 29.694746017456055)",
          "(0.0, 29.794702529907227)",
          "(0.0, 30.69698715209961)",
          "(0.0, 31.322290420532227)",
          "(0.0, 31.603286743164062)",
          "(0.0, 31.76839256286621)",
          "(0.0, 31.931272506713867)",
          "(0.0, 32.39250946044922)",
          "(0.0, 33.61460876464844)",
          "(0.0, 34.52870178222656)",
          "(0.0, 34.62944412231445)",
          "(0.0, 35.09843444824219)",
          "(0.0, 35.32200241088867)",
          "(0.0, 37.70345687866211)",
          "(0.0, 38.1218376159668)",
          "(0.0, 38.26788330078125)",
          "(0.0, 38.9074592590332)",
          "(0.0, 38.99580383300781)",
          "(0.0, 40.454280853271484)",
          "(0.0, 40.8424072265625)",
          "(0.0, 41.1989631652832)",
          "(0.0, 41.77809524536133)",
          "(0.0, 42.948341369628906)",
          "(0.0, 43.042884826660156)",
          "(0.0, 44.35752487182617)",
          "(0.0, 44.445064544677734)",
          "(0.0, 44.82712936401367)",
          "(0.0, 44.95830535888672)",
          "(0.0, 45.31306457519531)",
          "(0.0, 45.55500030517578)",
          "(0.0, 45.5954475402832)",
          "(0.0, 45.60973358154297)",
          "(0.0, 46.13991165161133)",
          "(0.0, 46.72019577026367)",
          "(0.0, 47.578125)",
          "(0.0, 48.556766510009766)",
          "(0.0, 48.70598602294922)",
          "(0.0, 50.43984603881836)",
          "(0.0, 51.148109436035156)",
          "(0.0, 52.53907012939453)",
          "(0.0, 55.38141632080078)",
          "(0.0, 55.939266204833984)",
          "(0.0, 55.9667854309082)",
          "(0.0, 56.08025360107422)",
          "(0.0, 56.68548583984375)",
          "(0.0, 57.27387619018555)",
          "(0.0, 61.665103912353516)",
          "(0.0, 63.6043815612793)",
          "(0.0, 65.8802719116211)",
          "(0.0, 66.25940704345703)",
          "(0.0, 66.39161682128906)",
          "(0.0, 68.13728332519531)",
          "(0.0, 69.24818420410156)",
          "(0.0, 69.90528106689453)",
          "(0.0, 70.12533569335938)",
          "(0.0, 71.22712707519531)",
          "(0.0, 71.78465270996094)",
          "(0.0, 72.00331115722656)",
          "(0.0, 72.95944213867188)",
          "(0.0, 74.58610534667969)",
          "(0.0, 74.80731964111328)",
          "(0.0, 76.05000305175781)",
          "(0.0, 77.38256072998047)",
          "(0.0, 77.51335906982422)",
          "(0.0, 80.24896240234375)",
          "(0.0, 80.97834777832031)",
          "(0.0, 81.40182495117188)",
          "(0.0, 83.38471221923828)",
          "(0.0, 85.22399139404297)",
          "(0.0, 85.64875030517578)",
          "(0.0, 86.53350067138672)",
          "(0.0, 87.16242218017578)",
          "(0.0, 89.00190734863281)",
          "(0.0, 90.40076446533203)",
          "(0.0, 90.90396118164062)",
          "(0.0, 92.62781524658203)",
          "(0.0, 93.99674987792969)",
          "(0.0, 94.33500671386719)",
          "(0.0, 94.70675659179688)",
          "(0.0, 94.82196044921875)",
          "(0.0, 96.2298355102539)",
          "(0.0, 98.00130462646484)",
          "(0.0, 99.15686798095703)",
          "(0.0, 101.72942352294922)",
          "(0.0, 102.65522766113281)",
          "(0.0, 105.65750885009766)",
          "(0.0, 106.06471252441406)",
          "(0.0, 108.2022705078125)",
          "(0.0, 111.95747375488281)",
          "(0.0, 113.88013458251953)",
          "(0.0, 115.4800033569336)",
          "(0.0, 115.65435028076172)",
          "(0.0, 116.64912414550781)",
          "(0.0, 116.69129943847656)",
          "(0.0, 117.49727630615234)",
          "(0.0, 117.76823425292969)",
          "(0.0, 118.57030487060547)",
          "(0.0, 119.11016082763672)",
          "(0.0, 122.72554779052734)",
          "(0.0, 122.78350830078125)",
          "(0.0, 123.31658172607422)",
          "(0.0, 126.56905364990234)",
          "(0.0, 127.22549438476562)",
          "(0.0, 128.07470703125)",
          "(0.0, 130.05206298828125)",
          "(0.0, 132.0463409423828)",
          "(0.0, 132.61795043945312)",
          "(0.0, 132.94802856445312)",
          "(0.0, 134.8765411376953)",
          "(0.0, 135.06964111328125)",
          "(0.0, 136.24879455566406)",
          "(0.0, 140.607421875)",
          "(0.0, 141.64169311523438)",
          "(0.0, 142.58387756347656)",
          "(0.0, 143.7084503173828)",
          "(0.0, 144.67044067382812)",
          "(0.0, 145.04884338378906)",
          "(0.0, 145.302978515625)",
          "(0.0, 145.9172821044922)",
          "(0.0, 148.70069885253906)",
          "(0.0, 150.93055725097656)",
          "(0.0, 151.94252014160156)",
          "(0.0, 153.4173126220703)",
          "(0.0, 154.5323486328125)",
          "(0.0, 158.13046264648438)",
          "(0.0, 158.62957763671875)",
          "(0.0, 162.32794189453125)",
          "(0.0, 162.42918395996094)",
          "(0.0, 163.3975372314453)",
          "(0.0, 164.28871154785156)",
          "(0.0, 164.3699493408203)",
          "(0.0, 164.5514678955078)",
          "(0.0, 167.64242553710938)",
          "(0.0, 170.3142852783203)",
          "(0.0, 170.75448608398438)",
          "(0.0, 171.61831665039062)",
          "(0.0, 172.09390258789062)",
          "(0.0, 173.5485076904297)",
          "(0.0, 173.61936950683594)",
          "(0.0, 173.7347869873047)",
          "(0.0, 174.8434600830078)",
          "(0.0, 176.85191345214844)",
          "(0.0, 176.85934448242188)",
          "(0.0, 178.52117919921875)",
          "(0.0, 179.02749633789062)",
          "(0.0, 179.59385681152344)",
          "(0.0, 180.58529663085938)",
          "(0.0, 182.58969116210938)",
          "(0.0, 183.74234008789062)",
          "(0.0, 185.3070526123047)",
          "(0.0, 185.46945190429688)",
          "(0.0, 186.0210418701172)",
          "(0.0, 189.15330505371094)",
          "(0.0, 190.89442443847656)",
          "(0.0, 192.12185668945312)",
          "(0.0, 192.46954345703125)",
          "(0.0, 193.1003875732422)",
          "(0.0, 194.4051055908203)",
          "(0.0, 195.48663330078125)",
          "(0.0, 196.15101623535156)",
          "(0.0, 196.3102264404297)",
          "(0.0, 196.42669677734375)",
          "(0.0, 198.410888671875)",
          "(0.0, 203.1815643310547)",
          "(0.0, 205.80580139160156)",
          "(0.0, 208.30731201171875)",
          "(0.0, 208.7611541748047)",
          "(0.0, 209.47280883789062)",
          "(0.0, 214.4180450439453)",
          "(0.0, 215.2284393310547)",
          "(0.0, 216.52191162109375)",
          "(0.0, 216.94378662109375)",
          "(0.0, 221.9339141845703)",
          "(0.0, 223.58702087402344)",
          "(0.0, 225.38760375976562)",
          "(0.0, 225.58871459960938)",
          "(0.0, 227.2394561767578)",
          "(0.0, 228.15182495117188)",
          "(0.0, 228.53128051757812)",
          "(0.0, 228.8347930908203)",
          "(0.0, 230.2290802001953)",
          "(0.0, 230.3787841796875)",
          "(0.0, 232.01109313964844)",
          "(0.0, 236.47219848632812)",
          "(0.0, 236.77334594726562)",
          "(0.0, 238.71519470214844)",
          "(0.0, 239.191650390625)",
          "(0.0, 239.65647888183594)",
          "(0.0, 249.7442626953125)",
          "(0.0, 250.10507202148438)",
          "(0.0, 251.0170440673828)",
          "(0.0, 251.22889709472656)",
          "(0.0, 251.34915161132812)",
          "(0.0, 251.69717407226562)",
          "(0.0, 253.30795288085938)",
          "(0.0, 254.9681396484375)",
          "(0.0, 255.15187072753906)",
          "(0.0, 257.73553466796875)",
          "(0.0, 258.5159606933594)",
          "(0.0, 259.23724365234375)",
          "(0.0, 263.14990234375)",
          "(0.0, 272.1035461425781)",
          "(0.0, 272.81549072265625)",
          "(0.0, 274.3492126464844)",
          "(0.0, 274.37420654296875)",
          "(0.0, 275.767578125)",
          "(0.0, 279.2190856933594)",
          "(0.0, 282.1501159667969)",
          "(0.0, 282.9250183105469)",
          "(0.0, 284.028564453125)",
          "(0.0, 287.22625732421875)",
          "(0.0, 288.3513488769531)",
          "(0.0, 291.1689758300781)",
          "(0.0, 292.7417907714844)",
          "(0.0, 294.124267578125)",
          "(0.0, 295.09417724609375)",
          "(0.0, 295.599365234375)",
          "(0.0, 296.76690673828125)",
          "(0.0, 297.2385559082031)",
          "(0.0, 298.05084228515625)",
          "(0.0, 298.0789489746094)",
          "(0.0, 300.5530700683594)",
          "(0.0, 302.7818298339844)",
          "(0.0, 309.2030944824219)",
          "(0.0, 309.223388671875)",
          "(0.0, 311.697998046875)",
          "(0.0, 312.93389892578125)",
          "(0.0, 316.16162109375)",
          "(0.0, 317.93182373046875)",
          "(0.0, 323.31390380859375)",
          "(0.0, 327.6498107910156)",
          "(0.0, 331.8645324707031)",
          "(0.0, 338.0610046386719)",
          "(0.0, 342.2074279785156)",
          "(0.0, 344.7332458496094)",
          "(0.0, 347.5214538574219)",
          "(0.0, 347.75372314453125)",
          "(0.0, 349.557861328125)",
          "(0.0, 354.1856689453125)",
          "(0.0, 354.1867370605469)",
          "(0.0, 354.81365966796875)",
          "(0.0, 356.51727294921875)",
          "(0.0, 358.80413818359375)",
          "(0.0, 359.62261962890625)",
          "(0.0, 362.3821105957031)",
          "(0.0, 364.3647766113281)",
          "(0.0, 367.3455810546875)",
          "(0.0, 368.8122253417969)",
          "(0.0, 369.2574157714844)",
          "(0.0, 371.6126708984375)",
          "(0.0, 374.9176940917969)",
          "(0.0, 376.3150939941406)",
          "(0.0, 378.39508056640625)",
          "(0.0, 381.1937255859375)",
          "(0.0, 387.2886047363281)",
          "(0.0, 387.6019592285156)",
          "(0.0, 398.0894470214844)",
          "(0.0, 400.8816833496094)",
          "(0.0, 405.5352478027344)",
          "(0.0, 408.35101318359375)",
          "(0.0, 414.05047607421875)",
          "(0.0, 415.0136413574219)",
          "(0.0, 420.6638488769531)",
          "(0.0, 424.335693359375)",
          "(0.0, 425.8913269042969)",
          "(0.0, 426.07635498046875)",
          "(0.0, 429.86090087890625)",
          "(0.0, 442.798095703125)",
          "(0.0, 448.478515625)",
          "(0.0, 457.7594909667969)",
          "(0.0, 459.5188903808594)",
          "(0.0, 459.8734130859375)",
          "(0.0, 462.7619323730469)",
          "(0.0, 463.37103271484375)",
          "(0.0, 473.0227966308594)",
          "(0.0, 477.23974609375)",
          "(0.0, 493.95697021484375)",
          "(0.0, 494.3797912597656)",
          "(0.0, 501.0624694824219)",
          "(0.0, 503.6911926269531)",
          "(0.0, 506.8459167480469)",
          "(0.0, 507.2328186035156)",
          "(0.0, 519.8800048828125)",
          "(0.0, 520.170654296875)",
          "(0.0, 523.5570068359375)",
          "(0.0, 527.4138793945312)",
          "(0.0, 530.468017578125)",
          "(0.0, 546.1205444335938)",
          "(0.0, 547.6154174804688)",
          "(0.0, 550.8602905273438)",
          "(0.0, 557.582763671875)",
          "(0.0, 568.6508178710938)",
          "(0.0, 633.87060546875)",
          "(0.0, 671.29296875)",
          "(0.0, 679.0046997070312)",
          "(0.0, 686.382568359375)",
          "(0.0, 702.2789306640625)",
          "(0.0, 715.83642578125)",
          "(0.0, 723.1259155273438)",
          "(0.0, 760.7279663085938)",
          "(0.0, 770.0075073242188)",
          "(0.0, 810.8109741210938)",
          "(0.0, 836.751953125)",
          "(0.0, 838.9422607421875)",
          "(0.0, 842.1970825195312)",
          "(0.0, 859.5040893554688)",
          "(0.0, 890.0676879882812)",
          "(0.0, 965.4347534179688)",
          "(0.0, 988.4727172851562)",
          "(0.0, 1039.8538818359375)",
          "(0.0, 1048.5924072265625)",
          "(0.0, 1088.9630126953125)",
          "(0.0, 1109.6546630859375)",
          "(0.0, 1122.8724365234375)",
          "(0.0, 1133.2843017578125)",
          "(0.0, 1141.5147705078125)",
          "(0.0, 1174.028076171875)",
          "(0.0, 1178.4364013671875)",
          "(0.0, 1192.951416015625)",
          "(0.0, 1245.7171630859375)",
          "(0.0, 1370.96240234375)",
          "(0.0, 1435.52783203125)",
          "(0.0, 1465.6846923828125)",
          "(0.0, 1484.1875)",
          "(0.0, 1505.373046875)",
          "(0.0, 1516.5804443359375)",
          "(0.0, 1578.5723876953125)",
          "(0.0, 1603.7965087890625)",
          "(0.0, 1605.713134765625)",
          "(0.0, 1614.5010986328125)",
          "(0.0, 1662.3060302734375)",
          "(0.0, 1734.241455078125)",
          "(0.0, 1906.1444091796875)",
          "(0.0, 2064.86083984375)",
          "(0.0, 2271.22021484375)",
          "(0.0, 2277.37158203125)",
          "(0.0, 2292.366943359375)",
          "(0.0, 2538.60009765625)",
          "(0.0, 2590.4248046875)",
          "(0.0, 3002.514892578125)",
          "(0.0, 3298.886474609375)",
          "(0.0, 3307.155029296875)",
          "(0.0, 3395.138916015625)",
          "(0.0, 3450.377197265625)",
          "(0.0, 3594.8642578125)",
          "(0.0, 3638.91064453125)",
          "(0.0, 3832.4833984375)",
          "(0.0, 3861.09228515625)",
          "(0.0, 3976.44384765625)",
          "(0.0, 4093.312255859375)",
          "(0.0, 4201.55224609375)",
          "(0.0, 4327.12109375)",
          "(0.0, 4416.2822265625)",
          "(0.0, 4601.45068359375)",
          "(0.0, 4668.62353515625)",
          "(0.0, 4799.6298828125)",
          "(0.0, 4831.64794921875)",
          "(0.0, 5211.7685546875)",
          "(0.0, 5229.46044921875)",
          "(0.0, 5330.21142578125)",
          "(0.0, 5931.0732421875)",
          "(0.0, 6937.986328125)",
          "(0.0, 6984.443359375)",
          "(0.0, 7810.443359375)",
          "(0.0, 8751.0947265625)",
          "(0.0, 8754.4052734375)"
         ],
         "mode": "markers",
         "name": "H0",
         "type": "scatter",
         "x": {
          "bdata": "AAAAAAAAAAAAAAAAAAAAAAAAAAAAAAAAAAAAAAAAAAAAAAAAAAAAAAAAAAAAAAAAAAAAAAAAAAAAAAAAAAAAAAAAAAAAAAAAAAAAAAAAAAAAAAAAAAAAAAAAAAAAAAAAAAAAAAAAAAAAAAAAAAAAAAAAAAAAAAAAAAAAAAAAAAAAAAAAAAAAAAAAAAAAAAAAAAAAAAAAAAAAAAAAAAAAAAAAAAAAAAAAAAAAAAAAAAAAAAAAAAAAAAAAAAAAAAAAAAAAAAAAAAAAAAAAAAAAAAAAAAAAAAAAAAAAAAAAAAAAAAAAAAAAAAAAAAAAAAAAAAAAAAAAAAAAAAAAAAAAAAAAAAAAAAAAAAAAAAAAAAAAAAAAAAAAAAAAAAAAAAAAAAAAAAAAAAAAAAAAAAAAAAAAAAAAAAAAAAAAAAAAAAAAAAAAAAAAAAAAAAAAAAAAAAAAAAAAAAAAAAAAAAAAAAAAAAAAAAAAAAAAAAAAAAAAAAAAAAAAAAAAAAAAAAAAAAAAAAAAAAAAAAAAAAAAAAAAAAAAAAAAAAAAAAAAAAAAAAAAAAAAAAAAAAAAAAAAAAAAAAAAAAAAAAAAAAAAAAAAAAAAAAAAAAAAAAAAAAAAAAAAAAAAAAAAAAAAAAAAAAAAAAAAAAAAAAAAAAAAAAAAAAAAAAAAAAAAAAAAAAAAAAAAAAAAAAAAAAAAAAAAAAAAAAAAAAAAAAAAAAAAAAAAAAAAAAAAAAAAAAAAAAAAAAAAAAAAAAAAAAAAAAAAAAAAAAAAAAAAAAAAAAAAAAAAAAAAAAAAAAAAAAAAAAAAAAAAAAAAAAAAAAAAAAAAAAAAAAAAAAAAAAAAAAAAAAAAAAAAAAAAAAAAAAAAAAAAAAAAAAAAAAAAAAAAAAAAAAAAAAAAAAAAAAAAAAAAAAAAAAAAAAAAAAAAAAAAAAAAAAAAAAAAAAAAAAAAAAAAAAAAAAAAAAAAAAAAAAAAAAAAAAAAAAAAAAAAAAAAAAAAAAAAAAAAAAAAAAAAAAAAAAAAAAAAAAAAAAAAAAAAAAAAAAAAAAAAAAAAAAAAAAAAAAAAAAAAAAAAAAAAAAAAAAAAAAAAAAAAAAAAAAAAAAAAAAAAAAAAAAAAAAAAAAAAAAAAAAAAAAAAAAAAAAAAAAAAAAAAAAAAAAAAAAAAAAAAAAAAAAAAAAAAAAAAAAAAAAAAAAAAAAAAAAAAAAAAAAAAAAAAAAAAAAAAAAAAAAAAAAAAAAAAAAAAAAAAAAAAAAAAAAAAAAAAAAAAAAAAAAAAAAAAAAAAAAAAAAAAAAAAAAAAAAAAAAAAAAAAAAAAAAAAAAAAAAAAAAAAAAAAAAAAAAAAAAAAAAAAAAAAAAAAAAAAAAAAAAAAAAAAAAAAAAAAAAAAAAAAAAAAAAAAAAAAAAAAAAAAAAAAAAAAAAAAAAAAAAAAAAAAAAAAAAAAAAAAAAAAAAAAAAAAAAAAAAAAAAAAAAAAAAAAAAAAAAAAAAAAAAAAAAAAAAAAAAAAAAAAAAAAAAAAAAAAAAAAAAAAAAAAAAAAAAAAAAAAAAAAAAAAAAAAAAAAAAAAAAAAAAAAAAAAAAAAAAAAAAAAAAAAAAAAAAAAAAAAAAAAAAAAAAAAAAAAAAAAAAAAAAAAAAAAAAAAAAAAAAAAAAAAAAAAAAAAAAAAAAAAAAAAAAAAAAAAAAAAAAAAAAAAAAAAAAAAAAAAAAAAAAAAAAAAAAAAAAAAAAAAAAAAAAAAAAAAAAAAAAAAAAAAAAAAAAAAAAAAAAAAAAAAAAAAAAAAAAAAAAAAAAAAAAAAAAAAAAAAAAAAAAAAAAAAAAAAAAAAAAAAAAAAAAAAAAAAAAAAAAAAAAAAAAAAAAAAAAAAAAAAAAAAAAAAAAAAAAAAAAAAAAAAAAAAAAAAAAAAAAAAAAAAAAAAAAAAAAAAAAAAAAAAAAAAAAAAAAAAAAAAAAAAAAAAAAAAAAAAAAAAAAAAAAAAAAAAAAAAAAAAAAAAAAAAAAAAAAAAAAAAAAAAAAAAAAAAAAAAAAAAAAAAAAAAAAAAAAAAAAAAAAAAAAAAAAAAAAAAAAAAAAAAAAAAAAAAAAAAAAAAAAAAAAAAAAAAAAAAAAAAAAAAAAAAAAAAAAAAAAAAAAAAAAAAAAAAAAAAAAAAAAAAAAAAAAAAAAAAAAAAAAAAAAAAAAAAAAAAAAAAAAAAAAAAAAAAAAAAAAAAAAAAAAAAAAAAAAAAAAAAAAAAAAAAAAAAAAAAAAAAAAAAAAAAAAAAAAAAAAAAAAAAAAAAAAAAAAAAAAAAAAAAAAAAAAAAAAAAAAAAAAAAAAAAAAAAAAAAAAAAAAAAAAAAAAAAAAAAAAAAAAAAAAAAAAAAAAAAAAAAAAAAAAAAAAAAAAAAAAAAAAAAAAAAAAAAAAAAAAAAAAAAAAAAAAAAAAAAAAAAAAAAAAAAAAAAAAAAAAAAAAAAAAAAAAAAAAAAAAAAAAAAAAAAAAAAAAAAAAAAAAAAAAAAAAAAAAAAAAAAAAAAAAAAAAAAAAAAAAAAAAAAAAAAAAAAAAAAAAAAAAAAAAAAAAAAAAAAAAAAAAAAAAAAAAAAAAAAAAAAAAAAAAAAAAAAAAAAAAAAAAAAAAAAAAAAAAAAAAAAAAAAAAAAAAAAAAAAAAAAAAAAAAAAAAAAAAAAAAAAAAAAAAAAAAAAAAAAAAAAAAAAAAAAAAAAAAAAAAAAAAAAAAAAAAAAAAAAAAAAAAAAAAAAAAAAAAAAAAAAAAAAAAAAAAAAAAAAAAAAAAAAAAAAAAAAAAAAAAAAAAAAAAAAAAAAAAAAAAAAAAAAAAAAAAAAAAAAAAAAAAAAAAAAAAAAAAAAAAAAAAAAAAAAAAAAAAAAAAAAAAAAAAAAAAAAAAAAAAAAAAAAAAAAAAAAAAAAAAAAAAAAAAAAAAAAAAAAAAAAAAAAAAAAAAAAAAAAAAAAAAAAAAAAAAAAAAAAAAAAAAAAAAAAAAAAAAAAAAAAAAAAAAAAAAAAAAAAAAAAAAAAAAAAAAAAAAAAAAAAAAAAAAAAAAAAAAAAAAAAAAAAAAAAAAAAAAAAAAAAAAAAAAAAAAAAAAAAAAAAAAAAAAAAAAAAAAAAAAAAAAAAAAAAAAAAAAAAAAAAAAAAAAAAAAAAAAAAAAAAAAAAAAAAAAAAAAAAAAAAAAAAAAAAAAAAAAAAAAAAAAAAAAAAAAAAAAAAAAAAAAAAAAAAAAAAAAAAAAAAAAAAAAAAAAAAAAAAAAAAAAAAAAAAAAAAAAAAAAAAAAAAAAAAAAAAAAAAAAAAAAAAAAAAAAAAAAAAAAAAAAAAAAAAAAAAAAAAAAAAAAAAAAAAAAAAAAAAAAAAAAAAAAAAAAAAAAAAAAAAAAAAAAAAAAAAAAAAAAAAAAAAAAAAAAAAAAAAAAAAAAAAAAAAAAAAAAAAAAAAAAAAAAAAAAAAAAAAAAAAAAAAAAAAAAAAAAAAAAAAAAAAAAAAAAAAAAAAAAAAAAAAAAAAAAAAAAAAAAAAAAAAAAAAAAAAAAAAAAAAAAAAAAAAAAAAAAAAAAAAAAAAAAAAAAAAAAAAAAAAAAAAAAAAAAAAAAAAAAAAAAAAAAAAAAAAAAAAAAAAAAAAAAAAAAAAAAAAAAAAAAAAAAAAAAAAAAAAAAAAAAAAAAAAAAAAAAAAAAAAAAAAAAAAAAAAAAAAAAAAAAAAAAAAAAAAAAAAAAAAAAAAAAAAAAAAAAAAAAAAAAAAAAAAAAAAAAAAAAAAAAAAAAAAAAAAAAAAAAAAAAAAAAAAAAAAAAAAAAAAAAAAAAAAAAAAAAAAAAAAAAAAAAAAAAAAAAAAAAAAAAAAAAAAAAAAAAAAAAAAAAAAAAAAAAAAAAAAAAAAAAAAAAAAAAAAAAAAAAAAAAAAAAAAAAAAAAAAAAAAAAAAAAAAAAAAAAAAAAAAAAAAAAAAAAAAAAAAAAAAAAAAAAAAAAAAAAAAAAAAAAAAAAAAAAAAAAAAAAAAAAAAAAAAAAAAAAAAAAAAAAAAAAAAAAAAAAAAAAAAAAAAAAAAAAAAAAAAAAAAAAAAAAAAAAAAAAAAAAAAAAAAAAAAAAAAAAAAAAAAAAAAAAAAAAAAAAAAAAAAAAAAAAAAAAAAAAAAAAAAAAAAAAAAAAAAAAAAAAAAAAAAAAAAAAAAAAAAAAAAAAAAAAAAAAAAAAAAAAAAAAAAAAAAAAAAAAAAAAAAAAAAAAAAAAAAAAAAAAAAAAAAAAAAAAAAAAAAAAAAAAAAAAAAAAAAAAAAAAAAAAAAAAAAAAAAAAAAAAAAAAAAAAAAAAAAAAAAAAAAAAAAAAAAAAAAAAAAAAAAAAAAAAAAAAAAAAAAAAAAAAAAAAAAAAAAAAAAAAAAAAAAAAAAAAAAAAAAAAAAAAAAAAAAAAAAAAAAAAAAAAAAAAAAAAAAAAAAAAAAAAAAAAAAAAAAAAAAAAAAAAAAAAAAAAAAAAAAAAAAAAAAAAAAAAAAAAAAAAAAAAAAAAAAAAAAAAAAAAAAAAAAAAAAAAAAAAAAAAAAAAAAAAAAAAAAAAAAAAAAAAAAAAAAAAAAAAAAAAAAAAAAAAAAAAAAAAAAAAAAAAAAAAAAAAAAAAAAAAAAAAAAAAAAAAAAAAAAAAAAAAAAAAAAAAAAAAAAAAAAAAAAAAAAAAAAAAAAAAAAAAAAAAAAAAAAAAAAAAAAAAAAAAAAAAAAAAAAAAAAAAAAAAAAAAAAAAAAAAAAAAAAAAAAAAAAAAAAAAAAAAAAAAAAAAAAAAAAAAAAAAAAAAAAAAAAAAAAAAAAAAAAAAAAAAAAAAAAAAAAAAAAAAAAAAAAAAAAAAAAAAAAAAAAAAAAAAAAAAAAAAAAAAAAAAAAAAAAAAAAAAAAAAAAAAAAAAAAAAAAAAAAAAAAAAAAAAAAAAAAAAAAAAAAAAAAAAAAAAAAAAAAAAAAAAAAAAAAAAAAAAAAAAAAAAAAAAAAAAAAAAAAAAAAAAAAAAAAAAAAAAAAAAAAAAAAAAAAAAAAAAAAAAAAAAAAAAAAAAAAAAAAAAAAAAAAAAAAAAAAAAAAAAAAAAAAAAAAAAAAAAAAAAAAAAAAAAAAAAAAAAAAAAAAAAAAAAAAAAAAAAAAAAAAAAAAAAAAAAAAAAAAAAAAAAAAAAAAAAAAAAAAAAAAAAAAAAAAAAAAAAAAAAAAAAAAAAAAAAAAAAAAAAAAAAAAAAAAAAAAAAAAAAAAAAAAAAAAAAAAAAAAAAAAAAAAAAAAAAAAAAAAAAAAAAAAAAAAAAAAAAAAAAAAAAAAAAAAAAAAAAAAAAAAAAAAAAAAAAAAAAAAAAAAAAAAAAAAAAAAAAAAAAAAAAAAAAAAAAAAAAAAAAAAAAAAAAAAAAAAAAAAAAAAAAAAAAAAAAAAAAAAAAAAAAAAAAAAAAAAAAAAAAAAAAAAAAAAAAAAAAAAAAAAAAAAAAAAAAAAAAAAAAAAAAAAAAAAAAAAAAAAAAAAAAAAAAAAAAAAAAAAAAAAAAAAAAAAAAAAAAAAAAAAAAAAAAAAAAAAAAAAAAAAAAAAAAAAAAAAAAAAAAAAAAAAAAAAAAAAAAAAAAAAAAAAAAAAAAAAAAAAAAAAAAAAAAAAAAAAAAAAAAAAAAAAAAAAAAAAAAAAAAAAAAAAAAAAAAAAAAAAAAAAAAAAAAAAAAAAAAAAAAAAAAAAAAAAAAAAAAAAAAAAAAAAAAAAAAAAAAAAAAAAAAAAAAAAAAAAAAAAAAAAAAAAAAAAAAAAAAAAAAAAAAAAAAAAAAAAAAAAAAAAAAAAAAAAAAAAAAAAAAAAAAAAAAAAAAAAAAAAAAAAAAAAAAAAAAAAAAAAAAAAAAAAAAAAAAAAAAAAAAAAAAAAAAAAAAAAAAAAAAAAAAAAAAAAAAAAAAAAAAAAAAAAAAAAAAAAAAAAAAAAAAAAAAAAAAAAAAAAAAAAAAAAAAAAAAAAAAAAAAAAAAAAAAAAAAAAAAAAAAAAAAAAAAAAAAAAAAAAAAAAAAAAAAAAAAAAAAAAAAAAAAAAAAAAAAAAAAAAAAAAAAAAAAAAAAAAAAAAAAAAAAAAAAAAAAAAAAAAAAAAAAAAAAAAAAAAAAAAAAAAAAAAAAAAAAAAAAAAAAAAAAAAAAAAAAAAAAAAAAAAAAAAAAAAAAAAAAAAAAAAAAAAAAAAAAAAAAAAAAAAAAAAAAAAAAAAAAAAAAAAAAAAAAAAAAAAAAAAAAAAAAAAAAAAAAAA",
          "dtype": "f8"
         },
         "y": {
          "bdata": "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",
          "dtype": "f8"
         }
        },
        {
         "hoverinfo": "text",
         "hovertext": [
          "(13639.5224609375, 14068.6455078125)",
          "(11410.08203125, 12193.8076171875)",
          "(10326.4892578125, 14897.96875)",
          "(6135.29345703125, 6502.109375)",
          "(5877.658203125, 6107.7587890625)",
          "(1920.44970703125, 3114.19921875)",
          "(1835.4041748046875, 2249.120361328125)",
          "(1213.9986572265625, 2136.75732421875)",
          "(1042.6494140625, 1279.2713623046875)",
          "(984.4902954101562, 1031.3067626953125)",
          "(826.2136840820312, 882.1621704101562)",
          "(798.0978393554688, 889.50927734375)",
          "(794.73193359375, 829.9491577148438)",
          "(765.3330688476562, 1220.2615966796875)",
          "(759.5990600585938, 777.8914184570312)",
          "(692.2245483398438, 1072.52880859375)",
          "(691.4656982421875, 702.4682006835938)",
          "(688.6221313476562, 732.6148071289062)",
          "(621.4517822265625, 660.1065673828125)",
          "(618.8028564453125, 1225.612060546875)",
          "(586.7659912109375, 590.978515625)",
          "(585.0975952148438, 817.3241577148438)",
          "(572.4202880859375, 580.9886474609375)",
          "(561.1757202148438, 806.3980712890625)",
          "(549.1221923828125, 606.9930419921875)",
          "(544.6787109375, 564.0960083007812)",
          "(537.1962890625, 573.1121215820312)",
          "(521.0657958984375, 585.4525756835938)",
          "(513.6712646484375, 522.966064453125)",
          "(511.4482421875, 569.2529907226562)",
          "(504.8478698730469, 567.1998291015625)",
          "(503.6772155761719, 703.4527587890625)",
          "(501.95611572265625, 516.2218017578125)",
          "(500.17657470703125, 570.3822021484375)",
          "(489.5950927734375, 673.4099731445312)",
          "(480.36053466796875, 516.9485473632812)",
          "(478.1496276855469, 505.6005859375)",
          "(434.54608154296875, 466.2135009765625)",
          "(431.3627014160156, 608.1629638671875)",
          "(418.5297546386719, 431.0375671386719)",
          "(400.5382080078125, 505.8677062988281)",
          "(370.9554748535156, 538.9747924804688)",
          "(370.4610900878906, 389.0439147949219)",
          "(365.19970703125, 405.0784606933594)",
          "(280.32958984375, 302.4606628417969)",
          "(272.1462707519531, 308.3544616699219)",
          "(272.00372314453125, 279.4126281738281)",
          "(221.09104919433594, 224.32391357421875)",
          "(176.11009216308594, 236.1910858154297)",
          "(134.9928741455078, 136.45677185058594)",
          "(125.50568389892578, 129.01393127441406)",
          "(125.04792785644531, 169.8449249267578)",
          "(104.7919692993164, 155.0150909423828)",
          "(104.2103271484375, 124.59551239013672)",
          "(101.69757080078125, 124.82015228271484)",
          "(97.81382751464844, 137.73890686035156)",
          "(92.15423583984375, 100.02267456054688)",
          "(86.1174545288086, 90.56607818603516)",
          "(76.26832580566406, 77.8379135131836)",
          "(66.89166259765625, 111.67300415039062)",
          "(66.20932006835938, 70.17008972167969)",
          "(63.02635955810547, 66.52386474609375)",
          "(62.91391372680664, 64.01805877685547)",
          "(62.5633430480957, 67.5149917602539)",
          "(56.82407760620117, 79.82926177978516)",
          "(46.67422103881836, 47.59827423095703)",
          "(39.16850662231445, 39.712303161621094)",
          "(37.388450622558594, 38.05533981323242)",
          "(36.73705291748047, 44.476348876953125)",
          "(34.48187255859375, 42.639488220214844)",
          "(34.07606506347656, 40.1986083984375)",
          "(31.88283348083496, 44.796138763427734)",
          "(31.15378189086914, 31.269380569458008)",
          "(27.547508239746094, 29.320539474487305)",
          "(26.579252243041992, 30.323280334472656)",
          "(26.498327255249023, 33.400489807128906)",
          "(23.45267677307129, 29.128753662109375)",
          "(20.947452545166016, 24.883201599121094)",
          "(20.943490982055664, 30.85027313232422)",
          "(20.28095054626465, 22.613988876342773)",
          "(19.692628860473633, 21.711200714111328)",
          "(19.347780227661133, 20.471343994140625)",
          "(18.004728317260742, 18.523073196411133)",
          "(17.58302116394043, 18.85544204711914)",
          "(15.480949401855469, 16.105581283569336)",
          "(14.890080451965332, 19.94852638244629)",
          "(14.315722465515137, 16.15337562561035)",
          "(13.510465621948242, 14.603757858276367)",
          "(12.852005004882812, 13.85527229309082)",
          "(11.416834831237793, 13.78042221069336)",
          "(10.751953125, 12.751607894897461)",
          "(8.035767555236816, 9.82670783996582)",
          "(7.704080104827881, 8.049748420715332)"
         ],
         "mode": "markers",
         "name": "H1",
         "type": "scatter",
         "x": {
          "bdata": "AAAA4MKjykAAAACACknGQAAAAKA+K8RAAAAAIEv3t0AAAACAqPW2QAAAAIDMAZ5AAAAA4J2tnEAAAACg/veSQAAAAACZSpBAAAAAIOzDjkAAAACgtdGJQAAAAGDI8IhAAAAAANvViEAAAAAgquqHQAAAAODKvIdAAAAA4MuhhUAAAADAuZuFQAAAACD6hIVAAAAAQJ1rg0AAAABAbFaDQAAAAMAgVoJAAAAA4MdIgkAAAADAXOOBQAAAAOBniYFAAAAAQPoogUAAAAAAbgWBQAAAAACSyYBAAAAAwIZIgEAAAADAXg2AQAAAAAAs939AAAAA4JCNf0AAAADg1Xp/QAAAAEBMX39AAAAAQNNCf0AAAACAhZl+QAAAAMDEBX5AAAAA4GTifUAAAADAvCh7QAAAAKDN9XpAAAAA4HkoekAAAACAnAh5QAAAAKBJL3dAAAAAoGAnd0AAAAAAMtN2QAAAAABGhXFAAAAAIFcCcUAAAABADwBxQAAAAODpomtAAAAA4IUDZkAAAACgxd9gQAAAACBdYF9AAAAAQBFDX0AAAACgrzJaQAAAAAB2DVpAAAAAAKVsWUAAAADAFXRYQAAAAADfCVdAAAAAYISHVUAAAABALBFTQAAAAAARuVBAAAAAgGWNUEAAAADAX4NPQAAAACD7dE9AAAAAoBtIT0AAAABge2lMQAAAAOBMVkdAAAAAoJGVQ0AAAADAuLFCQAAAAMBXXkJAAAAAAK49QUAAAACAvAlBQAAAAGAB4j9AAAAAQF4nP0AAAACAKYw7QAAAAOBJlDpAAAAAYJJ/OkAAAACg4nM3QAAAAECM8jRAAAAAoIjxNEAAAABg7Ec0QAAAACBQsTNAAAAAIAhZM0AAAADgNQEyQAAAAOBAlTFAAAAAAD/2LkAAAACguMctQAAAAGCmoSxAAAAAwFsFK0AAAAAAOrQpQAAAAGBr1SZAAAAAAACBJUAAAAAgUBIgQAAAAGD60B5A",
          "dtype": "f8"
         },
         "y": {
          "bdata": "AAAAoFJ6y0AAAABg59DHQAAAAAD8GM1AAAAAABxmuUAAAABAwtu3QAAAAABmVKhAAAAAoD2SoUAAAADAg7GgQAAAAOAV/ZNAAAAAIDodkEAAAAAgTJGLQAAAAAATzItAAAAA4JfviUAAAADgCxGTQAAAAKAhT4hAAAAAgB3CkEAAAADgvvOFQAAAACDr5IZAAAAAQNqghEAAAADAciaTQAAAAADUd4JAAAAA4JeKiUAAAADA6CeCQAAAAEAvM4lAAAAAwPH3gkAAAACgxKCBQAAAAKDl6IFAAAAA4J5LgkAAAACAuleAQAAAACAGyoFAAAAAQJm5gUAAAABAn/uFQAAAAEDGIYBAAAAAwA7TgUAAAACgRwuFQAAAAKCWJ4BAAAAAAJyZf0AAAACAaiN9QAAAAMBNAYNAAAAA4JnwekAAAAAg4p1/QAAAAGDM14BAAAAA4LNQeEAAAABgQVF5QAAAAOBe53JAAAAA4KtFc0AAAAAgmnZxQAAAAIBdCmxAAAAAYB2GbUAAAADgnQ5hQAAAACByIGBAAAAAoAk7ZUAAAACge2BjQAAAAOAcJl9AAAAAYH00X0AAAAAgpTdhQAAAAIBzAVlAAAAAoDqkVkAAAABgoHVTQAAAAIAS61tAAAAAwOKKUUAAAAAAh6FQQAAAAOAnAVBAAAAAoPXgUEAAAACgEvVTQAAAAECUzEdAAAAAwCzbQ0AAAABgFQdDQAAAAAD5PEZAAAAAwNpRRUAAAAAAbBlEQAAAAODnZUZAAAAAIPZEP0AAAADgDlI9QAAAAIDCUj5AAAAAQEOzQEAAAAAA9iA9QAAAAIAZ4jhAAAAAgKvZPkAAAABgLp02QAAAAEARtjVAAAAAAKp4NEAAAAAg6IUyQAAAAED+2jJAAAAAYAcbMEAAAACg0vIzQAAAAKBDJzBAAAAAwB81LUAAAABA5rUrQAAAAICTjytAAAAAwNKAKUAAAABARqcjQAAAAKB4GSBA",
          "dtype": "f8"
         }
        },
        {
         "hoverinfo": "text",
         "hovertext": [
          "(2285.344970703125, 2379.410888671875)"
         ],
         "mode": "markers",
         "name": "H2",
         "type": "scatter",
         "x": {
          "bdata": "AAAAoLDaoUA=",
          "dtype": "f8"
         },
         "y": {
          "bdata": "AAAAYNKWokA=",
          "dtype": "f8"
         }
        }
       ],
       "layout": {
        "height": 500,
        "plot_bgcolor": "white",
        "template": {
         "data": {
          "bar": [
           {
            "error_x": {
             "color": "#2a3f5f"
            },
            "error_y": {
             "color": "#2a3f5f"
            },
            "marker": {
             "line": {
              "color": "#E5ECF6",
              "width": 0.5
             },
             "pattern": {
              "fillmode": "overlay",
              "size": 10,
              "solidity": 0.2
             }
            },
            "type": "bar"
           }
          ],
          "barpolar": [
           {
            "marker": {
             "line": {
              "color": "#E5ECF6",
              "width": 0.5
             },
             "pattern": {
              "fillmode": "overlay",
              "size": 10,
              "solidity": 0.2
             }
            },
            "type": "barpolar"
           }
          ],
          "carpet": [
           {
            "aaxis": {
             "endlinecolor": "#2a3f5f",
             "gridcolor": "white",
             "linecolor": "white",
             "minorgridcolor": "white",
             "startlinecolor": "#2a3f5f"
            },
            "baxis": {
             "endlinecolor": "#2a3f5f",
             "gridcolor": "white",
             "linecolor": "white",
             "minorgridcolor": "white",
             "startlinecolor": "#2a3f5f"
            },
            "type": "carpet"
           }
          ],
          "choropleth": [
           {
            "colorbar": {
             "outlinewidth": 0,
             "ticks": ""
            },
            "type": "choropleth"
           }
          ],
          "contour": [
           {
            "colorbar": {
             "outlinewidth": 0,
             "ticks": ""
            },
            "colorscale": [
             [
              0,
              "#0d0887"
             ],
             [
              0.1111111111111111,
              "#46039f"
             ],
             [
              0.2222222222222222,
              "#7201a8"
             ],
             [
              0.3333333333333333,
              "#9c179e"
             ],
             [
              0.4444444444444444,
              "#bd3786"
             ],
             [
              0.5555555555555556,
              "#d8576b"
             ],
             [
              0.6666666666666666,
              "#ed7953"
             ],
             [
              0.7777777777777778,
              "#fb9f3a"
             ],
             [
              0.8888888888888888,
              "#fdca26"
             ],
             [
              1,
              "#f0f921"
             ]
            ],
            "type": "contour"
           }
          ],
          "contourcarpet": [
           {
            "colorbar": {
             "outlinewidth": 0,
             "ticks": ""
            },
            "type": "contourcarpet"
           }
          ],
          "heatmap": [
           {
            "colorbar": {
             "outlinewidth": 0,
             "ticks": ""
            },
            "colorscale": [
             [
              0,
              "#0d0887"
             ],
             [
              0.1111111111111111,
              "#46039f"
             ],
             [
              0.2222222222222222,
              "#7201a8"
             ],
             [
              0.3333333333333333,
              "#9c179e"
             ],
             [
              0.4444444444444444,
              "#bd3786"
             ],
             [
              0.5555555555555556,
              "#d8576b"
             ],
             [
              0.6666666666666666,
              "#ed7953"
             ],
             [
              0.7777777777777778,
              "#fb9f3a"
             ],
             [
              0.8888888888888888,
              "#fdca26"
             ],
             [
              1,
              "#f0f921"
             ]
            ],
            "type": "heatmap"
           }
          ],
          "histogram": [
           {
            "marker": {
             "pattern": {
              "fillmode": "overlay",
              "size": 10,
              "solidity": 0.2
             }
            },
            "type": "histogram"
           }
          ],
          "histogram2d": [
           {
            "colorbar": {
             "outlinewidth": 0,
             "ticks": ""
            },
            "colorscale": [
             [
              0,
              "#0d0887"
             ],
             [
              0.1111111111111111,
              "#46039f"
             ],
             [
              0.2222222222222222,
              "#7201a8"
             ],
             [
              0.3333333333333333,
              "#9c179e"
             ],
             [
              0.4444444444444444,
              "#bd3786"
             ],
             [
              0.5555555555555556,
              "#d8576b"
             ],
             [
              0.6666666666666666,
              "#ed7953"
             ],
             [
              0.7777777777777778,
              "#fb9f3a"
             ],
             [
              0.8888888888888888,
              "#fdca26"
             ],
             [
              1,
              "#f0f921"
             ]
            ],
            "type": "histogram2d"
           }
          ],
          "histogram2dcontour": [
           {
            "colorbar": {
             "outlinewidth": 0,
             "ticks": ""
            },
            "colorscale": [
             [
              0,
              "#0d0887"
             ],
             [
              0.1111111111111111,
              "#46039f"
             ],
             [
              0.2222222222222222,
              "#7201a8"
             ],
             [
              0.3333333333333333,
              "#9c179e"
             ],
             [
              0.4444444444444444,
              "#bd3786"
             ],
             [
              0.5555555555555556,
              "#d8576b"
             ],
             [
              0.6666666666666666,
              "#ed7953"
             ],
             [
              0.7777777777777778,
              "#fb9f3a"
             ],
             [
              0.8888888888888888,
              "#fdca26"
             ],
             [
              1,
              "#f0f921"
             ]
            ],
            "type": "histogram2dcontour"
           }
          ],
          "mesh3d": [
           {
            "colorbar": {
             "outlinewidth": 0,
             "ticks": ""
            },
            "type": "mesh3d"
           }
          ],
          "parcoords": [
           {
            "line": {
             "colorbar": {
              "outlinewidth": 0,
              "ticks": ""
             }
            },
            "type": "parcoords"
           }
          ],
          "pie": [
           {
            "automargin": true,
            "type": "pie"
           }
          ],
          "scatter": [
           {
            "fillpattern": {
             "fillmode": "overlay",
             "size": 10,
             "solidity": 0.2
            },
            "type": "scatter"
           }
          ],
          "scatter3d": [
           {
            "line": {
             "colorbar": {
              "outlinewidth": 0,
              "ticks": ""
             }
            },
            "marker": {
             "colorbar": {
              "outlinewidth": 0,
              "ticks": ""
             }
            },
            "type": "scatter3d"
           }
          ],
          "scattercarpet": [
           {
            "marker": {
             "colorbar": {
              "outlinewidth": 0,
              "ticks": ""
             }
            },
            "type": "scattercarpet"
           }
          ],
          "scattergeo": [
           {
            "marker": {
             "colorbar": {
              "outlinewidth": 0,
              "ticks": ""
             }
            },
            "type": "scattergeo"
           }
          ],
          "scattergl": [
           {
            "marker": {
             "colorbar": {
              "outlinewidth": 0,
              "ticks": ""
             }
            },
            "type": "scattergl"
           }
          ],
          "scattermap": [
           {
            "marker": {
             "colorbar": {
              "outlinewidth": 0,
              "ticks": ""
             }
            },
            "type": "scattermap"
           }
          ],
          "scattermapbox": [
           {
            "marker": {
             "colorbar": {
              "outlinewidth": 0,
              "ticks": ""
             }
            },
            "type": "scattermapbox"
           }
          ],
          "scatterpolar": [
           {
            "marker": {
             "colorbar": {
              "outlinewidth": 0,
              "ticks": ""
             }
            },
            "type": "scatterpolar"
           }
          ],
          "scatterpolargl": [
           {
            "marker": {
             "colorbar": {
              "outlinewidth": 0,
              "ticks": ""
             }
            },
            "type": "scatterpolargl"
           }
          ],
          "scatterternary": [
           {
            "marker": {
             "colorbar": {
              "outlinewidth": 0,
              "ticks": ""
             }
            },
            "type": "scatterternary"
           }
          ],
          "surface": [
           {
            "colorbar": {
             "outlinewidth": 0,
             "ticks": ""
            },
            "colorscale": [
             [
              0,
              "#0d0887"
             ],
             [
              0.1111111111111111,
              "#46039f"
             ],
             [
              0.2222222222222222,
              "#7201a8"
             ],
             [
              0.3333333333333333,
              "#9c179e"
             ],
             [
              0.4444444444444444,
              "#bd3786"
             ],
             [
              0.5555555555555556,
              "#d8576b"
             ],
             [
              0.6666666666666666,
              "#ed7953"
             ],
             [
              0.7777777777777778,
              "#fb9f3a"
             ],
             [
              0.8888888888888888,
              "#fdca26"
             ],
             [
              1,
              "#f0f921"
             ]
            ],
            "type": "surface"
           }
          ],
          "table": [
           {
            "cells": {
             "fill": {
              "color": "#EBF0F8"
             },
             "line": {
              "color": "white"
             }
            },
            "header": {
             "fill": {
              "color": "#C8D4E3"
             },
             "line": {
              "color": "white"
             }
            },
            "type": "table"
           }
          ]
         },
         "layout": {
          "annotationdefaults": {
           "arrowcolor": "#2a3f5f",
           "arrowhead": 0,
           "arrowwidth": 1
          },
          "autotypenumbers": "strict",
          "coloraxis": {
           "colorbar": {
            "outlinewidth": 0,
            "ticks": ""
           }
          },
          "colorscale": {
           "diverging": [
            [
             0,
             "#8e0152"
            ],
            [
             0.1,
             "#c51b7d"
            ],
            [
             0.2,
             "#de77ae"
            ],
            [
             0.3,
             "#f1b6da"
            ],
            [
             0.4,
             "#fde0ef"
            ],
            [
             0.5,
             "#f7f7f7"
            ],
            [
             0.6,
             "#e6f5d0"
            ],
            [
             0.7,
             "#b8e186"
            ],
            [
             0.8,
             "#7fbc41"
            ],
            [
             0.9,
             "#4d9221"
            ],
            [
             1,
             "#276419"
            ]
           ],
           "sequential": [
            [
             0,
             "#0d0887"
            ],
            [
             0.1111111111111111,
             "#46039f"
            ],
            [
             0.2222222222222222,
             "#7201a8"
            ],
            [
             0.3333333333333333,
             "#9c179e"
            ],
            [
             0.4444444444444444,
             "#bd3786"
            ],
            [
             0.5555555555555556,
             "#d8576b"
            ],
            [
             0.6666666666666666,
             "#ed7953"
            ],
            [
             0.7777777777777778,
             "#fb9f3a"
            ],
            [
             0.8888888888888888,
             "#fdca26"
            ],
            [
             1,
             "#f0f921"
            ]
           ],
           "sequentialminus": [
            [
             0,
             "#0d0887"
            ],
            [
             0.1111111111111111,
             "#46039f"
            ],
            [
             0.2222222222222222,
             "#7201a8"
            ],
            [
             0.3333333333333333,
             "#9c179e"
            ],
            [
             0.4444444444444444,
             "#bd3786"
            ],
            [
             0.5555555555555556,
             "#d8576b"
            ],
            [
             0.6666666666666666,
             "#ed7953"
            ],
            [
             0.7777777777777778,
             "#fb9f3a"
            ],
            [
             0.8888888888888888,
             "#fdca26"
            ],
            [
             1,
             "#f0f921"
            ]
           ]
          },
          "colorway": [
           "#636efa",
           "#EF553B",
           "#00cc96",
           "#ab63fa",
           "#FFA15A",
           "#19d3f3",
           "#FF6692",
           "#B6E880",
           "#FF97FF",
           "#FECB52"
          ],
          "font": {
           "color": "#2a3f5f"
          },
          "geo": {
           "bgcolor": "white",
           "lakecolor": "white",
           "landcolor": "#E5ECF6",
           "showlakes": true,
           "showland": true,
           "subunitcolor": "white"
          },
          "hoverlabel": {
           "align": "left"
          },
          "hovermode": "closest",
          "mapbox": {
           "style": "light"
          },
          "paper_bgcolor": "white",
          "plot_bgcolor": "#E5ECF6",
          "polar": {
           "angularaxis": {
            "gridcolor": "white",
            "linecolor": "white",
            "ticks": ""
           },
           "bgcolor": "#E5ECF6",
           "radialaxis": {
            "gridcolor": "white",
            "linecolor": "white",
            "ticks": ""
           }
          },
          "scene": {
           "xaxis": {
            "backgroundcolor": "#E5ECF6",
            "gridcolor": "white",
            "gridwidth": 2,
            "linecolor": "white",
            "showbackground": true,
            "ticks": "",
            "zerolinecolor": "white"
           },
           "yaxis": {
            "backgroundcolor": "#E5ECF6",
            "gridcolor": "white",
            "gridwidth": 2,
            "linecolor": "white",
            "showbackground": true,
            "ticks": "",
            "zerolinecolor": "white"
           },
           "zaxis": {
            "backgroundcolor": "#E5ECF6",
            "gridcolor": "white",
            "gridwidth": 2,
            "linecolor": "white",
            "showbackground": true,
            "ticks": "",
            "zerolinecolor": "white"
           }
          },
          "shapedefaults": {
           "line": {
            "color": "#2a3f5f"
           }
          },
          "ternary": {
           "aaxis": {
            "gridcolor": "white",
            "linecolor": "white",
            "ticks": ""
           },
           "baxis": {
            "gridcolor": "white",
            "linecolor": "white",
            "ticks": ""
           },
           "bgcolor": "#E5ECF6",
           "caxis": {
            "gridcolor": "white",
            "linecolor": "white",
            "ticks": ""
           }
          },
          "title": {
           "x": 0.05
          },
          "xaxis": {
           "automargin": true,
           "gridcolor": "white",
           "linecolor": "white",
           "ticks": "",
           "title": {
            "standoff": 15
           },
           "zerolinecolor": "white",
           "zerolinewidth": 2
          },
          "yaxis": {
           "automargin": true,
           "gridcolor": "white",
           "linecolor": "white",
           "ticks": "",
           "title": {
            "standoff": 15
           },
           "zerolinecolor": "white",
           "zerolinewidth": 2
          }
         }
        },
        "width": 500,
        "xaxis": {
         "autorange": false,
         "exponentformat": "e",
         "linecolor": "black",
         "linewidth": 1,
         "mirror": false,
         "range": [
          -297.959375,
          15195.928125
         ],
         "showexponent": "all",
         "showline": true,
         "side": "bottom",
         "ticks": "outside",
         "title": {
          "text": "Birth"
         },
         "type": "linear",
         "zeroline": true
        },
        "yaxis": {
         "autorange": false,
         "exponentformat": "e",
         "linecolor": "black",
         "linewidth": 1,
         "mirror": false,
         "range": [
          -297.959375,
          15195.928125
         ],
         "scaleanchor": "x",
         "scaleratio": 1,
         "showexponent": "all",
         "showline": true,
         "side": "left",
         "ticks": "outside",
         "title": {
          "text": "Death"
         },
         "type": "linear",
         "zeroline": true
        }
       }
      }
     },
     "metadata": {},
     "output_type": "display_data"
    },
    {
     "data": {
      "text/plain": [
       "array([[[0.00000000e+00, 2.85014421e-01, 0.00000000e+00],\n",
       "        [0.00000000e+00, 6.25283420e-01, 0.00000000e+00],\n",
       "        [0.00000000e+00, 1.92541146e+00, 0.00000000e+00],\n",
       "        ...,\n",
       "        [8.03576756e+00, 9.82670784e+00, 1.00000000e+00],\n",
       "        [7.70408010e+00, 8.04974842e+00, 1.00000000e+00],\n",
       "        [2.28534497e+03, 2.37941089e+03, 2.00000000e+00]]])"
      ]
     },
     "execution_count": 21,
     "metadata": {},
     "output_type": "execute_result"
    }
   ],
   "source": [
    "from gtda.homology import VietorisRipsPersistence\n",
    "from gtda.plotting import plot_diagram\n",
    "\n",
    "# Primero, necesitamos reformatear el embedding para el formato que espera VietorisRipsPersistence\n",
    "# El formato debe ser (n_samples, n_points, n_dimensions)\n",
    "diff_MA30_embedded_reshaped = diff_MA30_embedded.reshape(1, -1, diff_MA30_embedded.shape[1])\n",
    "diff_STD30_embedded_reshaped = diff_STD30_embedded.reshape(1, -1, diff_STD30_embedded.shape[1])\n",
    "\n",
    "# Definimos las dimensiones de homología que queremos calcular\n",
    "# 0 - componentes conectados, 1 - ciclos, 2 - cavidades\n",
    "homology_dimensions = [0, 1, 2]\n",
    "\n",
    "# Creamos y aplicamos el cálculo de persistencia\n",
    "btc_persistence = VietorisRipsPersistence(\n",
    "    homology_dimensions=homology_dimensions, \n",
    "    n_jobs=2  # Ajusta según los núcleos disponibles en tu máquina\n",
    ")\n",
    "\n",
    "\n",
    "print(\"Diagrama de Persistencia para diff_MA30\")\n",
    "btc_persistence.fit_transform_plot(diff_MA30_embedded_reshaped)\n",
    "\n",
    "print(\"Diagrama de Persistencia para diff_STD30\")\n",
    "btc_persistence.fit_transform_plot(diff_STD30_embedded_reshaped)"
   ]
  },
  {
   "cell_type": "markdown",
   "id": "d906448a",
   "metadata": {},
   "source": [
    "## **3.- Mapper Topológico**"
   ]
  },
  {
   "cell_type": "code",
   "execution_count": 22,
   "id": "f4b129ce",
   "metadata": {},
   "outputs": [
    {
     "name": "stdout",
     "output_type": "stream",
     "text": [
      "KeplerMapper(verbose=1)\n",
      "..Composing projection pipeline of length 1:\n",
      "\tProjections: l2norm\n",
      "\tDistance matrices: False\n",
      "\tScalers: MinMaxScaler()\n",
      "..Projecting on data shaped (2961, 3)\n",
      "\n",
      "..Projecting data using: l2norm\n",
      "\n",
      "..Scaling with: MinMaxScaler()\n",
      "\n",
      "Mapping on data shaped (2961, 3) using lens shaped (2961, 1)\n",
      "\n",
      "Creating 10 hypercubes.\n",
      "\n",
      "Created 76 edges and 80 nodes in 0:00:02.620024.\n",
      "\n",
      "Created 76 edges and 80 nodes in 0:00:02.620024.\n",
      "Wrote visualization to: bitcoin_mapper.html\n",
      "Wrote visualization to: bitcoin_mapper.html\n"
     ]
    }
   ],
   "source": [
    "import kmapper as km\n",
    "import numpy as np\n",
    "from sklearn.preprocessing import StandardScaler\n",
    "from sklearn.cluster import KMeans\n",
    "\n",
    "# Preparación de datos para el mapper\n",
    "# Usamos tanto la media móvil como la varianza móvil\n",
    "mapper_data = df_clean[['Diff_MA30', 'Diff_STD30', 'Rolling_Log_Return']].values\n",
    "\n",
    "# Escalar los datos\n",
    "scaler = StandardScaler()\n",
    "mapper_data_scaled = scaler.fit_transform(mapper_data)\n",
    "\n",
    "# Crear y ajustar el mapper\n",
    "mapper = km.KeplerMapper(verbose=1)\n",
    "\n",
    "# Proyección - Utilizamos la suma de características \n",
    "lens = mapper.fit_transform(mapper_data_scaled, projection=\"l2norm\")\n",
    "\n",
    "# Definir el clustering que queremos usar (KMeans con 10 clusters)\n",
    "kmeans_clusterer = KMeans(n_clusters=10, random_state=42, n_init=10)\n",
    "\n",
    "# Crear el grafo con KMeans como algoritmo de clustering\n",
    "graph = mapper.map(\n",
    "    lens,\n",
    "    mapper_data_scaled,\n",
    "    cover=km.Cover(n_cubes=10, perc_overlap=0.4),\n",
    "    clusterer=kmeans_clusterer\n",
    ")\n",
    "\n",
    "# Visualizar el grafo sin coloración personalizada\n",
    "html = mapper.visualize(\n",
    "    graph,\n",
    "    title=\"Mapper Topológico - Bitcoin\",\n",
    "    path_html=\"bitcoin_mapper.html\"\n",
    ")"
   ]
  },
  {
   "cell_type": "markdown",
   "id": "88b0dc9c",
   "metadata": {},
   "source": [
    "<center>\n",
    "    <img src=\"images/Mapper.png\" alt=\"Mapper.png\">\n",
    "</center>"
   ]
  },
  {
   "cell_type": "markdown",
   "id": "75d6bf3f",
   "metadata": {},
   "source": [
    "## **4.- Observar el histórico con resultados**\n",
    "\n",
    "Aquí se tomarán en cuenta aquellos nodos interconectados y que estén en su misma \"nube de puntos\" como si fuera un clúster, es decir componentes conexas del mapper, para que todos aquellos registros pertenecientes a sus componentes sean los tomados en cuenta y así graficar la serie de tiempo de estos con colores distintos para visualizar mejor los resultados."
   ]
  },
  {
   "cell_type": "code",
   "execution_count": 23,
   "id": "34e8e9e6",
   "metadata": {},
   "outputs": [
    {
     "data": {
      "application/vnd.plotly.v1+json": {
       "config": {
        "plotlyServerURL": "https://plot.ly"
       },
       "data": [
        {
         "marker": {
          "size": 6
         },
         "mode": "markers",
         "name": "Grupo 1",
         "type": "scatter",
         "x": [
          "2013-05-31T23:59:59.000000000",
          "2013-06-03T23:59:59.000000000",
          "2013-06-04T23:59:59.000000000",
          "2013-06-05T23:59:59.000000000",
          "2013-06-06T23:59:59.000000000",
          "2013-07-28T23:59:59.000000000",
          "2013-07-29T23:59:59.000000000",
          "2013-08-12T23:59:59.000000000",
          "2013-08-16T23:59:59.000000000",
          "2013-09-18T23:59:59.000000000",
          "2013-09-19T23:59:59.000000000",
          "2013-09-20T23:59:59.000000000",
          "2013-09-21T23:59:59.000000000",
          "2013-09-22T23:59:59.000000000",
          "2013-09-23T23:59:59.000000000",
          "2013-09-24T23:59:59.000000000",
          "2013-09-25T23:59:59.000000000",
          "2013-09-26T23:59:59.000000000",
          "2013-09-27T23:59:59.000000000",
          "2013-09-28T23:59:59.000000000",
          "2013-09-29T23:59:59.000000000",
          "2013-10-04T23:59:59.000000000",
          "2013-10-05T23:59:59.000000000",
          "2013-10-06T23:59:59.000000000",
          "2013-10-07T23:59:59.000000000",
          "2013-10-08T23:59:59.000000000",
          "2013-10-09T23:59:59.000000000",
          "2013-10-10T23:59:59.000000000",
          "2013-10-12T23:59:59.000000000",
          "2013-10-13T23:59:59.000000000",
          "2013-10-14T23:59:59.000000000",
          "2013-10-16T23:59:59.000000000",
          "2013-12-20T23:59:59.000000000",
          "2014-01-07T23:59:59.000000000",
          "2014-01-11T23:59:59.000000000",
          "2014-01-27T23:59:59.000000000",
          "2014-01-28T23:59:59.000000000",
          "2014-01-29T23:59:59.000000000",
          "2014-01-30T23:59:59.000000000",
          "2014-01-31T23:59:59.000000000",
          "2014-02-01T23:59:59.000000000",
          "2014-02-02T23:59:59.000000000",
          "2014-03-15T23:59:59.000000000",
          "2014-03-22T23:59:59.000000000",
          "2014-03-26T23:59:59.000000000",
          "2014-05-02T23:59:59.000000000",
          "2014-05-09T23:59:59.000000000",
          "2014-05-11T23:59:59.000000000",
          "2014-05-12T23:59:59.000000000",
          "2014-05-13T23:59:59.000000000",
          "2014-05-22T23:59:59.000000000",
          "2014-05-23T23:59:59.000000000",
          "2014-05-24T23:59:59.000000000",
          "2014-06-24T23:59:59.000000000",
          "2014-06-26T23:59:59.000000000",
          "2014-06-27T23:59:59.000000000",
          "2014-06-28T23:59:59.000000000",
          "2014-06-30T23:59:59.000000000",
          "2014-07-01T23:59:59.000000000",
          "2014-07-12T23:59:59.000000000",
          "2014-07-13T23:59:59.000000000",
          "2014-07-14T23:59:59.000000000",
          "2014-07-15T23:59:59.000000000",
          "2014-07-16T23:59:59.000000000",
          "2014-07-17T23:59:59.000000000",
          "2014-07-18T23:59:59.000000000",
          "2014-07-19T23:59:59.000000000",
          "2014-07-20T23:59:59.000000000",
          "2014-07-21T23:59:59.000000000",
          "2014-07-22T23:59:59.000000000",
          "2014-07-23T23:59:59.000000000",
          "2014-07-24T23:59:59.000000000",
          "2014-07-25T23:59:59.000000000",
          "2014-07-26T23:59:59.000000000",
          "2014-11-04T23:59:59.000000000",
          "2014-11-05T23:59:59.000000000",
          "2014-11-06T23:59:59.000000000",
          "2014-11-09T23:59:59.000000000",
          "2014-11-10T23:59:59.000000000",
          "2014-11-12T23:59:59.000000000",
          "2014-11-13T23:59:59.000000000",
          "2014-11-14T23:59:59.000000000",
          "2014-11-16T23:59:59.000000000",
          "2014-11-23T23:59:59.000000000",
          "2014-11-24T23:59:59.000000000",
          "2014-11-25T23:59:59.000000000",
          "2014-11-26T23:59:59.000000000",
          "2014-11-27T23:59:59.000000000",
          "2014-11-29T23:59:59.000000000",
          "2014-12-06T23:59:59.000000000",
          "2014-12-07T23:59:59.000000000",
          "2014-12-08T23:59:59.000000000",
          "2015-02-18T23:59:59.000000000",
          "2015-02-20T23:59:59.000000000",
          "2015-02-21T23:59:59.000000000",
          "2015-02-22T23:59:59.000000000",
          "2015-02-27T23:59:59.000000000",
          "2015-02-28T23:59:59.000000000",
          "2015-03-18T23:59:59.000000000",
          "2015-03-19T23:59:59.000000000",
          "2015-03-20T23:59:59.000000000",
          "2015-03-21T23:59:59.000000000",
          "2015-03-22T23:59:59.000000000",
          "2015-03-23T23:59:59.000000000",
          "2015-03-24T23:59:59.000000000",
          "2015-03-25T23:59:59.000000000",
          "2015-03-26T23:59:59.000000000",
          "2015-03-27T23:59:59.000000000",
          "2015-03-28T23:59:59.000000000",
          "2015-05-10T23:59:59.000000000",
          "2015-05-11T23:59:59.000000000",
          "2015-05-12T23:59:59.000000000",
          "2015-05-13T23:59:59.000000000",
          "2015-05-14T23:59:59.000000000",
          "2015-05-15T23:59:59.000000000",
          "2015-05-16T23:59:59.000000000",
          "2015-05-17T23:59:59.000000000",
          "2015-05-18T23:59:59.000000000",
          "2015-05-19T23:59:59.000000000",
          "2015-05-20T23:59:59.000000000",
          "2015-05-21T23:59:59.000000000",
          "2015-05-22T23:59:59.000000000",
          "2015-05-23T23:59:59.000000000",
          "2015-05-24T23:59:59.000000000",
          "2015-05-25T23:59:59.000000000",
          "2015-05-26T23:59:59.000000000",
          "2015-05-27T23:59:59.000000000",
          "2015-05-28T23:59:59.000000000",
          "2015-05-29T23:59:59.000000000",
          "2015-06-15T23:59:59.000000000",
          "2015-06-16T23:59:59.000000000",
          "2015-06-17T23:59:59.000000000",
          "2015-06-18T23:59:59.000000000",
          "2015-06-19T23:59:59.000000000",
          "2015-06-20T23:59:59.000000000",
          "2015-06-21T23:59:59.000000000",
          "2015-06-22T23:59:59.000000000",
          "2015-06-23T23:59:59.000000000",
          "2015-06-24T23:59:59.000000000",
          "2015-06-25T23:59:59.000000000",
          "2015-06-26T23:59:59.000000000",
          "2015-06-27T23:59:59.000000000",
          "2015-06-28T23:59:59.000000000",
          "2015-06-29T23:59:59.000000000",
          "2015-07-16T23:59:59.000000000",
          "2015-07-18T23:59:59.000000000",
          "2015-07-30T23:59:59.000000000",
          "2015-07-31T23:59:59.000000000",
          "2015-08-01T23:59:59.000000000",
          "2015-08-02T23:59:59.000000000",
          "2015-08-03T23:59:59.000000000",
          "2015-08-04T23:59:59.000000000",
          "2015-08-05T23:59:59.000000000",
          "2015-08-06T23:59:59.000000000",
          "2015-08-07T23:59:59.000000000",
          "2015-09-17T23:59:59.000000000",
          "2015-09-18T23:59:59.000000000",
          "2015-09-22T23:59:59.000000000",
          "2015-09-23T23:59:59.000000000",
          "2015-09-24T23:59:59.000000000",
          "2015-09-25T23:59:59.000000000",
          "2015-09-26T23:59:59.000000000",
          "2015-09-27T23:59:59.000000000",
          "2015-09-28T23:59:59.000000000",
          "2015-09-29T23:59:59.000000000",
          "2015-09-30T23:59:59.000000000",
          "2015-10-01T23:59:59.000000000",
          "2015-10-02T23:59:59.000000000",
          "2015-10-03T23:59:59.000000000",
          "2015-10-04T23:59:59.000000000",
          "2015-10-05T23:59:59.000000000",
          "2015-10-06T23:59:59.000000000",
          "2015-10-07T23:59:59.000000000",
          "2015-10-09T23:59:59.000000000",
          "2015-10-10T23:59:59.000000000",
          "2015-10-11T23:59:59.000000000",
          "2015-10-12T23:59:59.000000000",
          "2015-10-13T23:59:59.000000000",
          "2015-10-14T23:59:59.000000000",
          "2015-10-15T23:59:59.000000000",
          "2015-12-05T23:59:59.000000000",
          "2015-12-06T23:59:59.000000000",
          "2015-12-07T23:59:59.000000000",
          "2015-12-09T23:59:59.000000000",
          "2016-01-06T23:59:59.000000000",
          "2016-01-07T23:59:59.000000000",
          "2016-01-08T23:59:59.000000000",
          "2016-01-09T23:59:59.000000000",
          "2016-01-11T23:59:59.000000000",
          "2016-01-12T23:59:59.000000000",
          "2016-02-15T23:59:59.000000000",
          "2016-02-16T23:59:59.000000000",
          "2016-02-17T23:59:59.000000000",
          "2016-02-19T23:59:59.000000000",
          "2016-02-20T23:59:59.000000000",
          "2016-02-23T23:59:59.000000000",
          "2016-02-24T23:59:59.000000000",
          "2016-02-25T23:59:59.000000000",
          "2016-02-26T23:59:59.000000000",
          "2016-03-05T23:59:59.000000000",
          "2016-03-06T23:59:59.000000000",
          "2016-03-07T23:59:59.000000000",
          "2016-03-08T23:59:59.000000000",
          "2016-03-11T23:59:59.000000000",
          "2016-03-12T23:59:59.000000000",
          "2016-03-13T23:59:59.000000000",
          "2016-03-14T23:59:59.000000000",
          "2016-03-15T23:59:59.000000000",
          "2016-03-16T23:59:59.000000000",
          "2016-03-17T23:59:59.000000000",
          "2016-04-03T23:59:59.000000000",
          "2016-04-04T23:59:59.000000000",
          "2016-04-05T23:59:59.000000000",
          "2016-04-06T23:59:59.000000000",
          "2016-04-07T23:59:59.000000000",
          "2016-04-08T23:59:59.000000000",
          "2016-04-09T23:59:59.000000000",
          "2016-04-10T23:59:59.000000000",
          "2016-04-11T23:59:59.000000000",
          "2016-04-12T23:59:59.000000000",
          "2016-04-13T23:59:59.000000000",
          "2016-04-14T23:59:59.000000000",
          "2016-04-15T23:59:59.000000000",
          "2016-04-16T23:59:59.000000000",
          "2016-04-17T23:59:59.000000000",
          "2016-04-18T23:59:59.000000000",
          "2016-04-19T23:59:59.000000000",
          "2016-04-20T23:59:59.000000000",
          "2016-04-21T23:59:59.000000000",
          "2016-04-22T23:59:59.000000000",
          "2016-04-23T23:59:59.000000000",
          "2016-04-24T23:59:59.000000000",
          "2016-04-25T23:59:59.000000000",
          "2016-04-26T23:59:59.000000000",
          "2016-04-27T23:59:59.000000000",
          "2016-04-28T23:59:59.000000000",
          "2016-04-29T23:59:59.000000000",
          "2016-04-30T23:59:59.000000000",
          "2016-05-01T23:59:59.000000000",
          "2016-05-02T23:59:59.000000000",
          "2016-05-03T23:59:59.000000000",
          "2016-05-04T23:59:59.000000000",
          "2016-05-05T23:59:59.000000000",
          "2016-05-06T23:59:59.000000000",
          "2016-05-07T23:59:59.000000000",
          "2016-05-08T23:59:59.000000000",
          "2016-05-09T23:59:59.000000000",
          "2016-05-10T23:59:59.000000000",
          "2016-05-11T23:59:59.000000000",
          "2016-05-12T23:59:59.000000000",
          "2016-05-13T23:59:59.000000000",
          "2016-05-14T23:59:59.000000000",
          "2016-05-15T23:59:59.000000000",
          "2016-05-16T23:59:59.000000000",
          "2016-05-17T23:59:59.000000000",
          "2016-05-18T23:59:59.000000000",
          "2016-05-19T23:59:59.000000000",
          "2016-05-20T23:59:59.000000000",
          "2016-05-27T23:59:59.000000000",
          "2016-07-11T23:59:59.000000000",
          "2016-07-22T23:59:59.000000000",
          "2016-07-23T23:59:59.000000000",
          "2016-07-26T23:59:59.000000000",
          "2016-07-28T23:59:59.000000000",
          "2016-07-29T23:59:59.000000000",
          "2016-09-01T23:59:59.000000000",
          "2016-09-02T23:59:59.000000000",
          "2016-09-03T23:59:59.000000000",
          "2016-09-04T23:59:59.000000000",
          "2016-09-05T23:59:59.000000000",
          "2016-09-06T23:59:59.000000000",
          "2016-09-07T23:59:59.000000000",
          "2016-09-08T23:59:59.000000000",
          "2016-09-09T23:59:59.000000000",
          "2016-09-10T23:59:59.000000000",
          "2016-09-11T23:59:59.000000000",
          "2016-09-12T23:59:59.000000000",
          "2016-09-13T23:59:59.000000000",
          "2016-09-14T23:59:59.000000000",
          "2016-09-15T23:59:59.000000000",
          "2016-09-16T23:59:59.000000000",
          "2016-09-17T23:59:59.000000000",
          "2016-09-18T23:59:59.000000000",
          "2016-09-19T23:59:59.000000000",
          "2016-09-20T23:59:59.000000000",
          "2016-09-21T23:59:59.000000000",
          "2016-09-22T23:59:59.000000000",
          "2016-09-23T23:59:59.000000000",
          "2016-09-24T23:59:59.000000000",
          "2016-09-25T23:59:59.000000000",
          "2016-09-26T23:59:59.000000000",
          "2016-09-27T23:59:59.000000000",
          "2016-09-28T23:59:59.000000000",
          "2016-09-29T23:59:59.000000000",
          "2016-09-30T23:59:59.000000000",
          "2016-10-01T23:59:59.000000000",
          "2016-10-02T23:59:59.000000000",
          "2016-10-03T23:59:59.000000000",
          "2016-10-04T23:59:59.000000000",
          "2016-10-05T23:59:59.000000000",
          "2016-10-06T23:59:59.000000000",
          "2016-10-07T23:59:59.000000000",
          "2016-10-11T23:59:59.000000000",
          "2016-10-12T23:59:59.000000000",
          "2016-10-13T23:59:59.000000000",
          "2016-10-14T23:59:59.000000000",
          "2016-10-15T23:59:59.000000000",
          "2016-10-16T23:59:59.000000000",
          "2016-10-17T23:59:59.000000000",
          "2016-10-18T23:59:59.000000000",
          "2016-10-19T23:59:59.000000000",
          "2016-10-20T23:59:59.000000000",
          "2016-10-21T23:59:59.000000000",
          "2016-10-22T23:59:59.000000000",
          "2016-10-23T23:59:59.000000000",
          "2016-10-24T23:59:59.000000000",
          "2016-10-25T23:59:59.000000000",
          "2016-11-12T23:59:59.000000000",
          "2016-11-13T23:59:59.000000000",
          "2016-11-14T23:59:59.000000000",
          "2016-11-15T23:59:59.000000000",
          "2016-11-25T23:59:59.000000000",
          "2016-11-26T23:59:59.000000000",
          "2016-11-27T23:59:59.000000000",
          "2016-11-28T23:59:59.000000000",
          "2016-11-29T23:59:59.000000000",
          "2016-11-30T23:59:59.000000000",
          "2016-12-01T23:59:59.000000000",
          "2016-12-02T23:59:59.000000000",
          "2016-12-04T23:59:59.000000000",
          "2016-12-05T23:59:59.000000000",
          "2016-12-06T23:59:59.000000000",
          "2016-12-07T23:59:59.000000000",
          "2016-12-08T23:59:59.000000000",
          "2016-12-09T23:59:59.000000000",
          "2016-12-10T23:59:59.000000000",
          "2016-12-11T23:59:59.000000000",
          "2016-12-12T23:59:59.000000000",
          "2016-12-14T23:59:59.000000000",
          "2016-12-15T23:59:59.000000000",
          "2016-12-16T23:59:59.000000000",
          "2016-12-17T23:59:59.000000000",
          "2016-12-18T23:59:59.000000000",
          "2016-12-19T23:59:59.000000000",
          "2016-12-20T23:59:59.000000000",
          "2017-01-12T23:59:59.000000000",
          "2017-01-13T23:59:59.000000000",
          "2017-01-14T23:59:59.000000000",
          "2017-01-15T23:59:59.000000000",
          "2017-01-16T23:59:59.000000000",
          "2017-01-20T23:59:59.000000000",
          "2017-01-21T23:59:59.000000000",
          "2017-01-22T23:59:59.000000000",
          "2017-01-23T23:59:59.000000000",
          "2017-02-04T23:59:59.000000000",
          "2017-02-09T23:59:59.000000000",
          "2017-03-08T23:59:59.000000000",
          "2017-03-10T23:59:59.000000000",
          "2017-03-17T23:59:59.000000000",
          "2017-03-21T23:59:59.000000000",
          "2017-04-07T23:59:59.000000000",
          "2017-04-09T23:59:59.000000000",
          "2017-04-10T23:59:59.000000000",
          "2017-04-16T23:59:59.000000000",
          "2017-04-20T23:59:59.000000000",
          "2017-06-30T23:59:59.000000000",
          "2017-07-01T23:59:59.000000000",
          "2017-07-02T23:59:59.000000000",
          "2017-07-03T23:59:59.000000000",
          "2017-07-04T23:59:59.000000000",
          "2017-07-20T23:59:59.000000000",
          "2017-07-22T23:59:59.000000000",
          "2017-07-24T23:59:59.000000000",
          "2017-07-26T23:59:59.000000000",
          "2017-07-27T23:59:59.000000000",
          "2017-07-28T23:59:59.000000000",
          "2017-07-29T23:59:59.000000000",
          "2017-08-01T23:59:59.000000000",
          "2017-08-02T23:59:59.000000000",
          "2017-08-03T23:59:59.000000000",
          "2017-09-11T23:59:59.000000000",
          "2017-09-12T23:59:59.000000000",
          "2017-10-08T23:59:59.000000000",
          "2018-12-24T23:59:59.000000000",
          "2018-12-26T23:59:59.000000000",
          "2019-01-02T23:59:59.000000000",
          "2019-01-04T23:59:59.000000000",
          "2019-01-05T23:59:59.000000000",
          "2019-01-10T23:59:59.000000000",
          "2019-01-11T23:59:59.000000000",
          "2019-01-12T23:59:59.000000000",
          "2019-01-13T23:59:59.000000000",
          "2019-01-16T23:59:59.000000000",
          "2019-02-12T23:59:59.000000000",
          "2019-02-17T23:59:59.000000000",
          "2019-02-18T23:59:59.000000000",
          "2019-02-19T23:59:59.000000000",
          "2019-02-21T23:59:59.000000000",
          "2019-02-24T23:59:59.000000000",
          "2019-02-25T23:59:59.000000000",
          "2019-02-26T23:59:59.000000000",
          "2019-03-01T23:59:59.000000000",
          "2019-03-03T23:59:59.000000000",
          "2019-03-04T23:59:59.000000000",
          "2019-03-10T23:59:59.000000000",
          "2019-03-11T23:59:59.000000000",
          "2019-03-12T23:59:59.000000000",
          "2019-03-13T23:59:59.000000000",
          "2019-03-14T23:59:59.000000000",
          "2019-03-15T23:59:59.000000000",
          "2019-03-19T23:59:59.000000000",
          "2019-03-20T23:59:59.000000000",
          "2019-03-21T23:59:59.000000000",
          "2019-03-22T23:59:59.000000000",
          "2019-03-23T23:59:59.000000000",
          "2019-03-24T23:59:59.000000000",
          "2019-03-26T23:59:59.000000000",
          "2019-03-27T23:59:59.000000000",
          "2019-03-28T23:59:59.000000000",
          "2019-03-29T23:59:59.000000000",
          "2019-03-30T23:59:59.000000000",
          "2019-03-31T23:59:59.000000000",
          "2019-04-01T23:59:59.000000000"
         ],
         "y": {
          "bdata": "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",
          "dtype": "f8"
         }
        },
        {
         "marker": {
          "size": 6
         },
         "mode": "markers",
         "name": "Grupo 2",
         "type": "scatter",
         "x": [
          "2013-05-29T23:59:59.000000000",
          "2013-05-30T23:59:59.000000000",
          "2013-06-07T23:59:59.000000000",
          "2013-06-08T23:59:59.000000000",
          "2013-06-09T23:59:59.000000000",
          "2013-06-10T23:59:59.000000000",
          "2013-06-11T23:59:59.000000000",
          "2013-06-12T23:59:59.000000000",
          "2013-06-13T23:59:59.000000000",
          "2013-06-14T23:59:59.000000000",
          "2013-06-15T23:59:59.000000000",
          "2013-06-16T23:59:59.000000000",
          "2013-06-17T23:59:59.000000000",
          "2013-06-18T23:59:59.000000000",
          "2013-06-19T23:59:59.000000000",
          "2013-06-20T23:59:59.000000000",
          "2013-06-21T23:59:59.000000000",
          "2013-06-22T23:59:59.000000000",
          "2013-06-23T23:59:59.000000000",
          "2013-06-24T23:59:59.000000000",
          "2013-06-25T23:59:59.000000000",
          "2013-06-26T23:59:59.000000000",
          "2013-06-27T23:59:59.000000000",
          "2013-06-28T23:59:59.000000000",
          "2013-06-29T23:59:59.000000000",
          "2013-06-30T23:59:59.000000000",
          "2013-07-01T23:59:59.000000000",
          "2013-07-02T23:59:59.000000000",
          "2013-07-03T23:59:59.000000000",
          "2013-07-04T23:59:59.000000000",
          "2013-07-05T23:59:59.000000000",
          "2013-07-06T23:59:59.000000000",
          "2013-07-07T23:59:59.000000000",
          "2013-07-08T23:59:59.000000000",
          "2013-07-09T23:59:59.000000000",
          "2013-07-10T23:59:59.000000000",
          "2013-07-11T23:59:59.000000000",
          "2013-07-12T23:59:59.000000000",
          "2013-07-13T23:59:59.000000000",
          "2013-07-14T23:59:59.000000000",
          "2013-07-15T23:59:59.000000000",
          "2013-07-16T23:59:59.000000000",
          "2013-07-17T23:59:59.000000000",
          "2013-07-18T23:59:59.000000000",
          "2013-07-19T23:59:59.000000000",
          "2013-07-20T23:59:59.000000000",
          "2013-07-21T23:59:59.000000000",
          "2013-07-22T23:59:59.000000000",
          "2013-07-23T23:59:59.000000000",
          "2013-07-24T23:59:59.000000000",
          "2013-07-25T23:59:59.000000000",
          "2013-07-26T23:59:59.000000000",
          "2013-07-27T23:59:59.000000000",
          "2013-09-30T23:59:59.000000000",
          "2013-10-01T23:59:59.000000000",
          "2013-10-02T23:59:59.000000000",
          "2013-10-03T23:59:59.000000000",
          "2013-10-11T23:59:59.000000000",
          "2013-12-18T23:59:59.000000000",
          "2013-12-21T23:59:59.000000000",
          "2013-12-22T23:59:59.000000000",
          "2013-12-23T23:59:59.000000000",
          "2013-12-24T23:59:59.000000000",
          "2013-12-25T23:59:59.000000000",
          "2013-12-26T23:59:59.000000000",
          "2013-12-27T23:59:59.000000000",
          "2013-12-28T23:59:59.000000000",
          "2013-12-29T23:59:59.000000000",
          "2013-12-30T23:59:59.000000000",
          "2013-12-31T23:59:59.000000000",
          "2014-01-01T23:59:59.000000000",
          "2014-01-02T23:59:59.000000000",
          "2014-01-03T23:59:59.000000000",
          "2014-01-04T23:59:59.000000000",
          "2014-01-08T23:59:59.000000000",
          "2014-01-09T23:59:59.000000000",
          "2014-01-10T23:59:59.000000000",
          "2014-01-12T23:59:59.000000000",
          "2014-01-13T23:59:59.000000000",
          "2014-01-14T23:59:59.000000000",
          "2014-02-03T23:59:59.000000000",
          "2014-02-04T23:59:59.000000000",
          "2014-02-05T23:59:59.000000000",
          "2014-02-06T23:59:59.000000000",
          "2014-02-07T23:59:59.000000000",
          "2014-02-08T23:59:59.000000000",
          "2014-02-09T23:59:59.000000000",
          "2014-02-10T23:59:59.000000000",
          "2014-02-11T23:59:59.000000000",
          "2014-02-12T23:59:59.000000000",
          "2014-02-13T23:59:59.000000000",
          "2014-02-14T23:59:59.000000000",
          "2014-02-15T23:59:59.000000000",
          "2014-02-16T23:59:59.000000000",
          "2014-02-17T23:59:59.000000000",
          "2014-02-18T23:59:59.000000000",
          "2014-02-19T23:59:59.000000000",
          "2014-02-20T23:59:59.000000000",
          "2014-02-21T23:59:59.000000000",
          "2014-02-22T23:59:59.000000000",
          "2014-02-23T23:59:59.000000000",
          "2014-02-24T23:59:59.000000000",
          "2014-02-25T23:59:59.000000000",
          "2014-02-26T23:59:59.000000000",
          "2014-02-27T23:59:59.000000000",
          "2014-02-28T23:59:59.000000000",
          "2014-03-01T23:59:59.000000000",
          "2014-03-02T23:59:59.000000000",
          "2014-03-03T23:59:59.000000000",
          "2014-03-04T23:59:59.000000000",
          "2014-03-05T23:59:59.000000000",
          "2014-03-06T23:59:59.000000000",
          "2014-03-07T23:59:59.000000000",
          "2014-03-08T23:59:59.000000000",
          "2014-03-09T23:59:59.000000000",
          "2014-03-10T23:59:59.000000000",
          "2014-03-11T23:59:59.000000000",
          "2014-03-12T23:59:59.000000000",
          "2014-03-13T23:59:59.000000000",
          "2014-03-14T23:59:59.000000000",
          "2014-03-16T23:59:59.000000000",
          "2014-03-17T23:59:59.000000000",
          "2014-03-18T23:59:59.000000000",
          "2014-03-19T23:59:59.000000000",
          "2014-03-20T23:59:59.000000000",
          "2014-03-21T23:59:59.000000000",
          "2014-03-23T23:59:59.000000000",
          "2014-03-24T23:59:59.000000000",
          "2014-03-25T23:59:59.000000000",
          "2014-03-27T23:59:59.000000000",
          "2014-03-28T23:59:59.000000000",
          "2014-03-29T23:59:59.000000000",
          "2014-03-30T23:59:59.000000000",
          "2014-03-31T23:59:59.000000000",
          "2014-04-01T23:59:59.000000000",
          "2014-04-02T23:59:59.000000000",
          "2014-04-03T23:59:59.000000000",
          "2014-04-04T23:59:59.000000000",
          "2014-04-05T23:59:59.000000000",
          "2014-04-06T23:59:59.000000000",
          "2014-04-07T23:59:59.000000000",
          "2014-04-08T23:59:59.000000000",
          "2014-04-09T23:59:59.000000000",
          "2014-04-10T23:59:59.000000000",
          "2014-04-11T23:59:59.000000000",
          "2014-04-12T23:59:59.000000000",
          "2014-04-13T23:59:59.000000000",
          "2014-04-14T23:59:59.000000000",
          "2014-04-15T23:59:59.000000000",
          "2014-04-16T23:59:59.000000000",
          "2014-04-17T23:59:59.000000000",
          "2014-04-18T23:59:59.000000000",
          "2014-04-19T23:59:59.000000000",
          "2014-04-20T23:59:59.000000000",
          "2014-04-21T23:59:59.000000000",
          "2014-04-22T23:59:59.000000000",
          "2014-04-23T23:59:59.000000000",
          "2014-04-24T23:59:59.000000000",
          "2014-04-25T23:59:59.000000000",
          "2014-04-26T23:59:59.000000000",
          "2014-04-27T23:59:59.000000000",
          "2014-04-28T23:59:59.000000000",
          "2014-04-29T23:59:59.000000000",
          "2014-04-30T23:59:59.000000000",
          "2014-05-01T23:59:59.000000000",
          "2014-05-03T23:59:59.000000000",
          "2014-05-04T23:59:59.000000000",
          "2014-05-05T23:59:59.000000000",
          "2014-05-06T23:59:59.000000000",
          "2014-05-07T23:59:59.000000000",
          "2014-05-08T23:59:59.000000000",
          "2014-05-14T23:59:59.000000000",
          "2014-05-15T23:59:59.000000000",
          "2014-05-16T23:59:59.000000000",
          "2014-05-17T23:59:59.000000000",
          "2014-05-18T23:59:59.000000000",
          "2014-05-19T23:59:59.000000000",
          "2014-05-20T23:59:59.000000000",
          "2014-05-21T23:59:59.000000000",
          "2014-06-25T23:59:59.000000000",
          "2014-06-29T23:59:59.000000000",
          "2014-07-02T23:59:59.000000000",
          "2014-07-03T23:59:59.000000000",
          "2014-07-04T23:59:59.000000000",
          "2014-07-05T23:59:59.000000000",
          "2014-07-06T23:59:59.000000000",
          "2014-07-07T23:59:59.000000000",
          "2014-07-08T23:59:59.000000000",
          "2014-07-09T23:59:59.000000000",
          "2014-07-10T23:59:59.000000000",
          "2014-07-11T23:59:59.000000000",
          "2014-07-27T23:59:59.000000000",
          "2014-07-28T23:59:59.000000000",
          "2014-07-29T23:59:59.000000000",
          "2014-07-30T23:59:59.000000000",
          "2014-07-31T23:59:59.000000000",
          "2014-08-01T23:59:59.000000000",
          "2014-08-02T23:59:59.000000000",
          "2014-08-03T23:59:59.000000000",
          "2014-08-04T23:59:59.000000000",
          "2014-08-05T23:59:59.000000000",
          "2014-08-06T23:59:59.000000000",
          "2014-08-07T23:59:59.000000000",
          "2014-08-08T23:59:59.000000000",
          "2014-08-09T23:59:59.000000000",
          "2014-08-10T23:59:59.000000000",
          "2014-08-11T23:59:59.000000000",
          "2014-08-12T23:59:59.000000000",
          "2014-08-13T23:59:59.000000000",
          "2014-08-14T23:59:59.000000000",
          "2014-08-15T23:59:59.000000000",
          "2014-08-16T23:59:59.000000000",
          "2014-08-17T23:59:59.000000000",
          "2014-08-18T23:59:59.000000000",
          "2014-08-19T23:59:59.000000000",
          "2014-08-20T23:59:59.000000000",
          "2014-08-21T23:59:59.000000000",
          "2014-08-22T23:59:59.000000000",
          "2014-08-23T23:59:59.000000000",
          "2014-08-24T23:59:59.000000000",
          "2014-08-25T23:59:59.000000000",
          "2014-08-26T23:59:59.000000000",
          "2014-08-27T23:59:59.000000000",
          "2014-08-28T23:59:59.000000000",
          "2014-08-29T23:59:59.000000000",
          "2014-08-30T23:59:59.000000000",
          "2014-08-31T23:59:59.000000000",
          "2014-09-01T23:59:59.000000000",
          "2014-09-02T23:59:59.000000000",
          "2014-09-03T23:59:59.000000000",
          "2014-09-04T23:59:59.000000000",
          "2014-09-05T23:59:59.000000000",
          "2014-09-06T23:59:59.000000000",
          "2014-09-07T23:59:59.000000000",
          "2014-09-08T23:59:59.000000000",
          "2014-09-09T23:59:59.000000000",
          "2014-09-10T23:59:59.000000000",
          "2014-09-11T23:59:59.000000000",
          "2014-09-12T23:59:59.000000000",
          "2014-09-13T23:59:59.000000000",
          "2014-09-14T23:59:59.000000000",
          "2014-09-15T23:59:59.000000000",
          "2014-09-16T23:59:59.000000000",
          "2014-09-17T23:59:59.000000000",
          "2014-09-18T23:59:59.000000000",
          "2014-09-19T23:59:59.000000000",
          "2014-09-20T23:59:59.000000000",
          "2014-09-21T23:59:59.000000000",
          "2014-09-22T23:59:59.000000000",
          "2014-09-23T23:59:59.000000000",
          "2014-09-24T23:59:59.000000000",
          "2014-09-25T23:59:59.000000000",
          "2014-09-26T23:59:59.000000000",
          "2014-09-27T23:59:59.000000000",
          "2014-09-28T23:59:59.000000000",
          "2014-09-29T23:59:59.000000000",
          "2014-09-30T23:59:59.000000000",
          "2014-10-01T23:59:59.000000000",
          "2014-10-02T23:59:59.000000000",
          "2014-10-03T23:59:59.000000000",
          "2014-10-04T23:59:59.000000000",
          "2014-10-05T23:59:59.000000000",
          "2014-10-06T23:59:59.000000000",
          "2014-10-07T23:59:59.000000000",
          "2014-10-08T23:59:59.000000000",
          "2014-10-09T23:59:59.000000000",
          "2014-10-10T23:59:59.000000000",
          "2014-10-11T23:59:59.000000000",
          "2014-10-12T23:59:59.000000000",
          "2014-10-13T23:59:59.000000000",
          "2014-10-14T23:59:59.000000000",
          "2014-10-15T23:59:59.000000000",
          "2014-10-16T23:59:59.000000000",
          "2014-10-17T23:59:59.000000000",
          "2014-10-18T23:59:59.000000000",
          "2014-10-19T23:59:59.000000000",
          "2014-10-20T23:59:59.000000000",
          "2014-10-21T23:59:59.000000000",
          "2014-10-22T23:59:59.000000000",
          "2014-10-23T23:59:59.000000000",
          "2014-10-24T23:59:59.000000000",
          "2014-10-25T23:59:59.000000000",
          "2014-10-26T23:59:59.000000000",
          "2014-10-27T23:59:59.000000000",
          "2014-10-28T23:59:59.000000000",
          "2014-10-29T23:59:59.000000000",
          "2014-10-30T23:59:59.000000000",
          "2014-10-31T23:59:59.000000000",
          "2014-11-01T23:59:59.000000000",
          "2014-11-02T23:59:59.000000000",
          "2014-11-03T23:59:59.000000000",
          "2014-11-07T23:59:59.000000000",
          "2014-11-08T23:59:59.000000000",
          "2014-11-11T23:59:59.000000000",
          "2014-11-15T23:59:59.000000000",
          "2014-11-17T23:59:59.000000000",
          "2014-11-18T23:59:59.000000000",
          "2014-11-19T23:59:59.000000000",
          "2014-11-20T23:59:59.000000000",
          "2014-11-21T23:59:59.000000000",
          "2014-11-22T23:59:59.000000000",
          "2014-12-09T23:59:59.000000000",
          "2014-12-10T23:59:59.000000000",
          "2014-12-11T23:59:59.000000000",
          "2014-12-12T23:59:59.000000000",
          "2014-12-13T23:59:59.000000000",
          "2014-12-14T23:59:59.000000000",
          "2014-12-15T23:59:59.000000000",
          "2014-12-16T23:59:59.000000000",
          "2014-12-17T23:59:59.000000000",
          "2014-12-18T23:59:59.000000000",
          "2014-12-19T23:59:59.000000000",
          "2014-12-20T23:59:59.000000000",
          "2014-12-21T23:59:59.000000000",
          "2014-12-22T23:59:59.000000000",
          "2014-12-23T23:59:59.000000000",
          "2014-12-24T23:59:59.000000000",
          "2014-12-25T23:59:59.000000000",
          "2014-12-26T23:59:59.000000000",
          "2014-12-27T23:59:59.000000000",
          "2014-12-28T23:59:59.000000000",
          "2014-12-29T23:59:59.000000000",
          "2014-12-30T23:59:59.000000000",
          "2014-12-31T23:59:59.000000000",
          "2015-01-01T23:59:59.000000000",
          "2015-01-02T23:59:59.000000000",
          "2015-01-03T23:59:59.000000000",
          "2015-01-04T23:59:59.000000000",
          "2015-01-05T23:59:59.000000000",
          "2015-01-06T23:59:59.000000000",
          "2015-01-07T23:59:59.000000000",
          "2015-01-08T23:59:59.000000000",
          "2015-01-09T23:59:59.000000000",
          "2015-01-10T23:59:59.000000000",
          "2015-01-11T23:59:59.000000000",
          "2015-01-12T23:59:59.000000000",
          "2015-01-13T23:59:59.000000000",
          "2015-01-14T23:59:59.000000000",
          "2015-01-15T23:59:59.000000000",
          "2015-01-16T23:59:59.000000000",
          "2015-01-17T23:59:59.000000000",
          "2015-01-18T23:59:59.000000000",
          "2015-01-19T23:59:59.000000000",
          "2015-01-20T23:59:59.000000000",
          "2015-01-21T23:59:59.000000000",
          "2015-01-22T23:59:59.000000000",
          "2015-01-23T23:59:59.000000000",
          "2015-01-24T23:59:59.000000000",
          "2015-01-25T23:59:59.000000000",
          "2015-01-26T23:59:59.000000000",
          "2015-01-27T23:59:59.000000000",
          "2015-01-28T23:59:59.000000000",
          "2015-01-29T23:59:59.000000000",
          "2015-01-30T23:59:59.000000000",
          "2015-01-31T23:59:59.000000000",
          "2015-02-01T23:59:59.000000000",
          "2015-02-02T23:59:59.000000000",
          "2015-02-03T23:59:59.000000000",
          "2015-02-04T23:59:59.000000000",
          "2015-02-05T23:59:59.000000000",
          "2015-02-06T23:59:59.000000000",
          "2015-02-07T23:59:59.000000000",
          "2015-02-08T23:59:59.000000000",
          "2015-02-09T23:59:59.000000000",
          "2015-02-10T23:59:59.000000000",
          "2015-02-11T23:59:59.000000000",
          "2015-02-12T23:59:59.000000000",
          "2015-02-23T23:59:59.000000000",
          "2015-02-24T23:59:59.000000000",
          "2015-02-25T23:59:59.000000000",
          "2015-02-26T23:59:59.000000000",
          "2015-03-29T23:59:59.000000000",
          "2015-03-30T23:59:59.000000000",
          "2015-03-31T23:59:59.000000000",
          "2015-04-01T23:59:59.000000000",
          "2015-04-02T23:59:59.000000000",
          "2015-04-03T23:59:59.000000000",
          "2015-04-04T23:59:59.000000000",
          "2015-04-05T23:59:59.000000000",
          "2015-04-06T23:59:59.000000000",
          "2015-04-07T23:59:59.000000000",
          "2015-04-08T23:59:59.000000000",
          "2015-04-09T23:59:59.000000000",
          "2015-04-10T23:59:59.000000000",
          "2015-04-11T23:59:59.000000000",
          "2015-04-12T23:59:59.000000000",
          "2015-04-13T23:59:59.000000000",
          "2015-04-14T23:59:59.000000000",
          "2015-04-15T23:59:59.000000000",
          "2015-04-16T23:59:59.000000000",
          "2015-04-17T23:59:59.000000000",
          "2015-04-18T23:59:59.000000000",
          "2015-04-19T23:59:59.000000000",
          "2015-04-20T23:59:59.000000000",
          "2015-04-21T23:59:59.000000000",
          "2015-04-22T23:59:59.000000000",
          "2015-04-23T23:59:59.000000000",
          "2015-04-24T23:59:59.000000000",
          "2015-04-25T23:59:59.000000000",
          "2015-04-26T23:59:59.000000000",
          "2015-04-27T23:59:59.000000000",
          "2015-04-28T23:59:59.000000000",
          "2015-04-29T23:59:59.000000000",
          "2015-04-30T23:59:59.000000000",
          "2015-05-01T23:59:59.000000000",
          "2015-05-02T23:59:59.000000000",
          "2015-05-03T23:59:59.000000000",
          "2015-05-04T23:59:59.000000000",
          "2015-05-05T23:59:59.000000000",
          "2015-05-06T23:59:59.000000000",
          "2015-05-07T23:59:59.000000000",
          "2015-05-08T23:59:59.000000000",
          "2015-05-09T23:59:59.000000000",
          "2015-05-30T23:59:59.000000000",
          "2015-05-31T23:59:59.000000000",
          "2015-06-01T23:59:59.000000000",
          "2015-06-02T23:59:59.000000000",
          "2015-06-03T23:59:59.000000000",
          "2015-06-04T23:59:59.000000000",
          "2015-06-05T23:59:59.000000000",
          "2015-06-06T23:59:59.000000000",
          "2015-06-07T23:59:59.000000000",
          "2015-06-08T23:59:59.000000000",
          "2015-06-09T23:59:59.000000000",
          "2015-06-10T23:59:59.000000000",
          "2015-06-11T23:59:59.000000000",
          "2015-06-12T23:59:59.000000000",
          "2015-06-13T23:59:59.000000000",
          "2015-06-14T23:59:59.000000000",
          "2015-08-08T23:59:59.000000000",
          "2015-08-09T23:59:59.000000000",
          "2015-08-10T23:59:59.000000000",
          "2015-08-11T23:59:59.000000000",
          "2015-08-12T23:59:59.000000000",
          "2015-08-13T23:59:59.000000000",
          "2015-08-14T23:59:59.000000000",
          "2015-08-15T23:59:59.000000000",
          "2015-08-16T23:59:59.000000000",
          "2015-08-17T23:59:59.000000000",
          "2015-08-18T23:59:59.000000000",
          "2015-08-19T23:59:59.000000000",
          "2015-08-20T23:59:59.000000000",
          "2015-08-21T23:59:59.000000000",
          "2015-08-22T23:59:59.000000000",
          "2015-08-23T23:59:59.000000000",
          "2015-08-24T23:59:59.000000000",
          "2015-08-25T23:59:59.000000000",
          "2015-08-26T23:59:59.000000000",
          "2015-08-27T23:59:59.000000000",
          "2015-08-28T23:59:59.000000000",
          "2015-08-29T23:59:59.000000000",
          "2015-08-30T23:59:59.000000000",
          "2015-08-31T23:59:59.000000000",
          "2015-09-01T23:59:59.000000000",
          "2015-09-02T23:59:59.000000000",
          "2015-09-03T23:59:59.000000000",
          "2015-09-04T23:59:59.000000000",
          "2015-09-05T23:59:59.000000000",
          "2015-09-06T23:59:59.000000000",
          "2015-09-07T23:59:59.000000000",
          "2015-09-08T23:59:59.000000000",
          "2015-09-09T23:59:59.000000000",
          "2015-09-10T23:59:59.000000000",
          "2015-09-11T23:59:59.000000000",
          "2015-09-12T23:59:59.000000000",
          "2015-09-13T23:59:59.000000000",
          "2015-09-14T23:59:59.000000000",
          "2015-09-15T23:59:59.000000000",
          "2015-09-16T23:59:59.000000000",
          "2015-09-19T23:59:59.000000000",
          "2015-09-20T23:59:59.000000000",
          "2015-09-21T23:59:59.000000000",
          "2015-10-08T23:59:59.000000000",
          "2015-12-02T23:59:59.000000000",
          "2015-12-03T23:59:59.000000000",
          "2015-12-04T23:59:59.000000000",
          "2016-01-10T23:59:59.000000000",
          "2016-01-13T23:59:59.000000000",
          "2016-01-14T23:59:59.000000000",
          "2016-01-15T23:59:59.000000000",
          "2016-01-16T23:59:59.000000000",
          "2016-01-17T23:59:59.000000000",
          "2016-01-18T23:59:59.000000000",
          "2016-01-19T23:59:59.000000000",
          "2016-01-20T23:59:59.000000000",
          "2016-01-21T23:59:59.000000000",
          "2016-01-22T23:59:59.000000000",
          "2016-01-23T23:59:59.000000000",
          "2016-01-24T23:59:59.000000000",
          "2016-01-25T23:59:59.000000000",
          "2016-01-26T23:59:59.000000000",
          "2016-01-27T23:59:59.000000000",
          "2016-01-28T23:59:59.000000000",
          "2016-01-29T23:59:59.000000000",
          "2016-01-30T23:59:59.000000000",
          "2016-01-31T23:59:59.000000000",
          "2016-02-01T23:59:59.000000000",
          "2016-02-02T23:59:59.000000000",
          "2016-02-03T23:59:59.000000000",
          "2016-02-04T23:59:59.000000000",
          "2016-02-05T23:59:59.000000000",
          "2016-02-06T23:59:59.000000000",
          "2016-02-07T23:59:59.000000000",
          "2016-02-08T23:59:59.000000000",
          "2016-02-09T23:59:59.000000000",
          "2016-02-10T23:59:59.000000000",
          "2016-02-11T23:59:59.000000000",
          "2016-02-12T23:59:59.000000000",
          "2016-02-13T23:59:59.000000000",
          "2016-03-18T23:59:59.000000000",
          "2016-03-19T23:59:59.000000000",
          "2016-03-20T23:59:59.000000000",
          "2016-03-21T23:59:59.000000000",
          "2016-03-22T23:59:59.000000000",
          "2016-03-23T23:59:59.000000000",
          "2016-03-24T23:59:59.000000000",
          "2016-03-25T23:59:59.000000000",
          "2016-03-26T23:59:59.000000000",
          "2016-03-27T23:59:59.000000000",
          "2016-03-28T23:59:59.000000000",
          "2016-03-29T23:59:59.000000000",
          "2016-03-30T23:59:59.000000000",
          "2016-03-31T23:59:59.000000000",
          "2016-04-01T23:59:59.000000000",
          "2016-04-02T23:59:59.000000000",
          "2016-05-21T23:59:59.000000000",
          "2016-05-22T23:59:59.000000000",
          "2016-05-23T23:59:59.000000000",
          "2016-05-24T23:59:59.000000000",
          "2016-05-25T23:59:59.000000000",
          "2016-05-26T23:59:59.000000000",
          "2016-07-12T23:59:59.000000000",
          "2016-07-13T23:59:59.000000000",
          "2016-07-14T23:59:59.000000000",
          "2016-07-15T23:59:59.000000000",
          "2016-07-16T23:59:59.000000000",
          "2016-07-17T23:59:59.000000000",
          "2016-07-18T23:59:59.000000000",
          "2016-07-19T23:59:59.000000000",
          "2016-07-20T23:59:59.000000000",
          "2016-07-21T23:59:59.000000000",
          "2016-07-24T23:59:59.000000000",
          "2016-07-25T23:59:59.000000000",
          "2016-07-27T23:59:59.000000000",
          "2016-07-30T23:59:59.000000000",
          "2016-07-31T23:59:59.000000000",
          "2016-08-01T23:59:59.000000000",
          "2016-08-02T23:59:59.000000000",
          "2016-08-03T23:59:59.000000000",
          "2016-08-04T23:59:59.000000000",
          "2016-08-05T23:59:59.000000000",
          "2016-08-06T23:59:59.000000000",
          "2016-08-07T23:59:59.000000000",
          "2016-08-08T23:59:59.000000000",
          "2016-08-09T23:59:59.000000000",
          "2016-08-10T23:59:59.000000000",
          "2016-08-11T23:59:59.000000000",
          "2016-08-12T23:59:59.000000000",
          "2016-08-13T23:59:59.000000000",
          "2016-08-14T23:59:59.000000000",
          "2016-08-15T23:59:59.000000000",
          "2016-08-16T23:59:59.000000000",
          "2016-08-17T23:59:59.000000000",
          "2016-08-18T23:59:59.000000000",
          "2016-08-19T23:59:59.000000000",
          "2016-08-20T23:59:59.000000000",
          "2016-08-21T23:59:59.000000000",
          "2016-08-22T23:59:59.000000000",
          "2016-08-23T23:59:59.000000000",
          "2016-08-24T23:59:59.000000000",
          "2016-08-25T23:59:59.000000000",
          "2016-08-26T23:59:59.000000000",
          "2016-08-27T23:59:59.000000000",
          "2016-08-28T23:59:59.000000000",
          "2016-08-29T23:59:59.000000000",
          "2016-08-30T23:59:59.000000000",
          "2016-08-31T23:59:59.000000000",
          "2016-10-08T23:59:59.000000000",
          "2016-10-09T23:59:59.000000000",
          "2016-10-10T23:59:59.000000000",
          "2017-01-11T23:59:59.000000000",
          "2017-01-24T23:59:59.000000000",
          "2017-01-25T23:59:59.000000000",
          "2017-01-26T23:59:59.000000000",
          "2017-01-27T23:59:59.000000000",
          "2017-01-28T23:59:59.000000000",
          "2017-01-29T23:59:59.000000000",
          "2017-01-30T23:59:59.000000000",
          "2017-01-31T23:59:59.000000000",
          "2017-02-01T23:59:59.000000000",
          "2017-02-02T23:59:59.000000000",
          "2017-02-03T23:59:59.000000000",
          "2017-03-18T23:59:59.000000000",
          "2017-03-19T23:59:59.000000000",
          "2017-03-20T23:59:59.000000000",
          "2017-03-22T23:59:59.000000000",
          "2017-03-23T23:59:59.000000000",
          "2017-03-24T23:59:59.000000000",
          "2017-03-25T23:59:59.000000000",
          "2017-03-26T23:59:59.000000000",
          "2017-03-27T23:59:59.000000000",
          "2017-03-28T23:59:59.000000000",
          "2017-03-29T23:59:59.000000000",
          "2017-03-30T23:59:59.000000000",
          "2017-03-31T23:59:59.000000000",
          "2017-04-01T23:59:59.000000000",
          "2017-04-02T23:59:59.000000000",
          "2017-04-03T23:59:59.000000000",
          "2017-04-04T23:59:59.000000000",
          "2017-04-05T23:59:59.000000000",
          "2017-04-06T23:59:59.000000000",
          "2017-04-08T23:59:59.000000000",
          "2017-04-11T23:59:59.000000000",
          "2017-04-12T23:59:59.000000000",
          "2017-04-13T23:59:59.000000000",
          "2017-04-14T23:59:59.000000000",
          "2017-04-15T23:59:59.000000000",
          "2017-07-05T23:59:59.000000000",
          "2017-07-06T23:59:59.000000000",
          "2017-07-07T23:59:59.000000000",
          "2017-07-08T23:59:59.000000000",
          "2017-07-09T23:59:59.000000000",
          "2017-07-10T23:59:59.000000000",
          "2017-07-11T23:59:59.000000000",
          "2017-07-12T23:59:59.000000000",
          "2017-07-13T23:59:59.000000000",
          "2017-07-14T23:59:59.000000000",
          "2017-07-15T23:59:59.000000000",
          "2017-07-16T23:59:59.000000000",
          "2017-07-17T23:59:59.000000000",
          "2017-07-18T23:59:59.000000000",
          "2017-07-19T23:59:59.000000000",
          "2017-07-21T23:59:59.000000000",
          "2017-07-23T23:59:59.000000000",
          "2017-07-25T23:59:59.000000000",
          "2017-09-13T23:59:59.000000000",
          "2017-09-14T23:59:59.000000000",
          "2017-09-15T23:59:59.000000000",
          "2017-09-16T23:59:59.000000000",
          "2017-09-17T23:59:59.000000000",
          "2017-09-18T23:59:59.000000000",
          "2017-09-19T23:59:59.000000000",
          "2017-09-20T23:59:59.000000000",
          "2017-09-21T23:59:59.000000000",
          "2017-09-22T23:59:59.000000000",
          "2017-09-23T23:59:59.000000000",
          "2017-09-24T23:59:59.000000000",
          "2017-09-25T23:59:59.000000000",
          "2017-09-26T23:59:59.000000000",
          "2017-09-27T23:59:59.000000000",
          "2017-09-28T23:59:59.000000000",
          "2017-09-29T23:59:59.000000000",
          "2017-09-30T23:59:59.000000000",
          "2017-10-01T23:59:59.000000000",
          "2017-10-02T23:59:59.000000000",
          "2017-10-03T23:59:59.000000000",
          "2017-10-04T23:59:59.000000000",
          "2017-10-05T23:59:59.000000000",
          "2017-10-06T23:59:59.000000000",
          "2017-10-07T23:59:59.000000000",
          "2017-11-12T23:59:59.000000000",
          "2017-12-30T23:59:59.000000000",
          "2018-01-01T23:59:59.000000000",
          "2018-01-08T23:59:59.000000000",
          "2018-01-09T23:59:59.000000000",
          "2018-01-10T23:59:59.000000000",
          "2018-01-11T23:59:59.000000000",
          "2018-01-12T23:59:59.000000000",
          "2018-01-13T23:59:59.000000000",
          "2018-01-14T23:59:59.000000000",
          "2018-01-15T23:59:59.000000000",
          "2018-01-16T23:59:59.000000000",
          "2018-01-17T23:59:59.000000000",
          "2018-01-18T23:59:59.000000000",
          "2018-01-19T23:59:59.000000000",
          "2018-01-20T23:59:59.000000000",
          "2018-01-21T23:59:59.000000000",
          "2018-01-22T23:59:59.000000000",
          "2018-01-23T23:59:59.000000000",
          "2018-01-24T23:59:59.000000000",
          "2018-01-25T23:59:59.000000000",
          "2018-01-26T23:59:59.000000000",
          "2018-01-27T23:59:59.000000000",
          "2018-01-28T23:59:59.000000000",
          "2018-01-29T23:59:59.000000000",
          "2018-01-30T23:59:59.000000000",
          "2018-01-31T23:59:59.000000000",
          "2018-02-01T23:59:59.000000000",
          "2018-02-02T23:59:59.000000000",
          "2018-02-03T23:59:59.000000000",
          "2018-02-04T23:59:59.000000000",
          "2018-02-05T23:59:59.000000000",
          "2018-02-06T23:59:59.000000000",
          "2018-02-07T23:59:59.000000000",
          "2018-02-08T23:59:59.000000000",
          "2018-02-09T23:59:59.000000000",
          "2018-02-10T23:59:59.000000000",
          "2018-02-11T23:59:59.000000000",
          "2018-02-12T23:59:59.000000000",
          "2018-02-13T23:59:59.000000000",
          "2018-02-14T23:59:59.000000000",
          "2018-02-15T23:59:59.000000000",
          "2018-02-16T23:59:59.000000000",
          "2018-02-18T23:59:59.000000000",
          "2018-02-19T23:59:59.000000000",
          "2018-02-22T23:59:59.000000000",
          "2018-02-23T23:59:59.000000000",
          "2018-02-24T23:59:59.000000000",
          "2018-02-25T23:59:59.000000000",
          "2018-02-26T23:59:59.000000000",
          "2018-02-27T23:59:59.000000000",
          "2018-02-28T23:59:59.000000000",
          "2018-03-10T23:59:59.000000000",
          "2018-03-11T23:59:59.000000000",
          "2018-03-12T23:59:59.000000000",
          "2018-03-13T23:59:59.000000000",
          "2018-03-14T23:59:59.000000000",
          "2018-03-15T23:59:59.000000000",
          "2018-03-16T23:59:59.000000000",
          "2018-03-17T23:59:59.000000000",
          "2018-03-18T23:59:59.000000000",
          "2018-03-19T23:59:59.000000000",
          "2018-03-20T23:59:59.000000000",
          "2018-03-21T23:59:59.000000000",
          "2018-03-22T23:59:59.000000000",
          "2018-03-23T23:59:59.000000000",
          "2018-03-24T23:59:59.000000000",
          "2018-03-25T23:59:59.000000000",
          "2018-03-26T23:59:59.000000000",
          "2018-03-27T23:59:59.000000000",
          "2018-03-28T23:59:59.000000000",
          "2018-03-29T23:59:59.000000000",
          "2018-03-30T23:59:59.000000000",
          "2018-03-31T23:59:59.000000000",
          "2018-04-01T23:59:59.000000000",
          "2018-04-02T23:59:59.000000000",
          "2018-04-03T23:59:59.000000000",
          "2018-04-04T23:59:59.000000000",
          "2018-04-05T23:59:59.000000000",
          "2018-04-06T23:59:59.000000000",
          "2018-04-07T23:59:59.000000000",
          "2018-04-08T23:59:59.000000000",
          "2018-04-09T23:59:59.000000000",
          "2018-04-10T23:59:59.000000000",
          "2018-04-11T23:59:59.000000000",
          "2018-04-12T23:59:59.000000000",
          "2018-04-13T23:59:59.000000000",
          "2018-04-14T23:59:59.000000000",
          "2018-04-15T23:59:59.000000000",
          "2018-04-16T23:59:59.000000000",
          "2018-04-17T23:59:59.000000000",
          "2018-04-18T23:59:59.000000000",
          "2018-04-19T23:59:59.000000000",
          "2018-05-12T23:59:59.000000000",
          "2018-05-15T23:59:59.000000000",
          "2018-05-16T23:59:59.000000000",
          "2018-05-17T23:59:59.000000000",
          "2018-05-18T23:59:59.000000000",
          "2018-05-19T23:59:59.000000000",
          "2018-05-20T23:59:59.000000000",
          "2018-05-21T23:59:59.000000000",
          "2018-05-22T23:59:59.000000000",
          "2018-05-23T23:59:59.000000000",
          "2018-05-24T23:59:59.000000000",
          "2018-05-25T23:59:59.000000000",
          "2018-05-26T23:59:59.000000000",
          "2018-05-27T23:59:59.000000000",
          "2018-05-28T23:59:59.000000000",
          "2018-05-29T23:59:59.000000000",
          "2018-05-30T23:59:59.000000000",
          "2018-05-31T23:59:59.000000000",
          "2018-06-01T23:59:59.000000000",
          "2018-06-02T23:59:59.000000000",
          "2018-06-03T23:59:59.000000000",
          "2018-06-04T23:59:59.000000000",
          "2018-06-05T23:59:59.000000000",
          "2018-06-06T23:59:59.000000000",
          "2018-06-07T23:59:59.000000000",
          "2018-06-08T23:59:59.000000000",
          "2018-06-09T23:59:59.000000000",
          "2018-06-10T23:59:59.000000000",
          "2018-06-11T23:59:59.000000000",
          "2018-06-12T23:59:59.000000000",
          "2018-06-13T23:59:59.000000000",
          "2018-06-14T23:59:59.000000000",
          "2018-06-15T23:59:59.000000000",
          "2018-06-16T23:59:59.000000000",
          "2018-06-17T23:59:59.000000000",
          "2018-06-18T23:59:59.000000000",
          "2018-06-19T23:59:59.000000000",
          "2018-06-20T23:59:59.000000000",
          "2018-06-21T23:59:59.000000000",
          "2018-06-22T23:59:59.000000000",
          "2018-06-23T23:59:59.000000000",
          "2018-06-24T23:59:59.000000000",
          "2018-06-25T23:59:59.000000000",
          "2018-06-26T23:59:59.000000000",
          "2018-06-27T23:59:59.000000000",
          "2018-06-28T23:59:59.000000000",
          "2018-06-29T23:59:59.000000000",
          "2018-06-30T23:59:59.000000000",
          "2018-07-01T23:59:59.000000000",
          "2018-07-02T23:59:59.000000000",
          "2018-07-03T23:59:59.000000000",
          "2018-07-04T23:59:59.000000000",
          "2018-07-05T23:59:59.000000000",
          "2018-07-06T23:59:59.000000000",
          "2018-07-07T23:59:59.000000000",
          "2018-07-08T23:59:59.000000000",
          "2018-07-09T23:59:59.000000000",
          "2018-07-10T23:59:59.000000000",
          "2018-07-11T23:59:59.000000000",
          "2018-07-12T23:59:59.000000000",
          "2018-07-13T23:59:59.000000000",
          "2018-07-14T23:59:59.000000000",
          "2018-07-15T23:59:59.000000000",
          "2018-07-16T23:59:59.000000000",
          "2018-08-04T23:59:59.000000000",
          "2018-08-05T23:59:59.000000000",
          "2018-08-06T23:59:59.000000000",
          "2018-08-07T23:59:59.000000000",
          "2018-08-08T23:59:59.000000000",
          "2018-08-09T23:59:59.000000000",
          "2018-08-10T23:59:59.000000000",
          "2018-08-11T23:59:59.000000000",
          "2018-08-12T23:59:59.000000000",
          "2018-08-13T23:59:59.000000000",
          "2018-08-14T23:59:59.000000000",
          "2018-08-15T23:59:59.000000000",
          "2018-08-16T23:59:59.000000000",
          "2018-08-17T23:59:59.000000000",
          "2018-08-18T23:59:59.000000000",
          "2018-08-19T23:59:59.000000000",
          "2018-08-20T23:59:59.000000000",
          "2018-08-21T23:59:59.000000000",
          "2018-08-22T23:59:59.000000000",
          "2018-08-23T23:59:59.000000000",
          "2018-08-24T23:59:59.000000000",
          "2018-08-25T23:59:59.000000000",
          "2018-08-26T23:59:59.000000000",
          "2018-08-27T23:59:59.000000000",
          "2018-08-28T23:59:59.000000000",
          "2018-08-29T23:59:59.000000000",
          "2018-08-30T23:59:59.000000000",
          "2018-08-31T23:59:59.000000000",
          "2018-09-01T23:59:59.000000000",
          "2018-09-02T23:59:59.000000000",
          "2018-09-05T23:59:59.000000000",
          "2018-09-06T23:59:59.000000000",
          "2018-09-07T23:59:59.000000000",
          "2018-09-08T23:59:59.000000000",
          "2018-09-09T23:59:59.000000000",
          "2018-09-10T23:59:59.000000000",
          "2018-09-11T23:59:59.000000000",
          "2018-09-12T23:59:59.000000000",
          "2018-09-13T23:59:59.000000000",
          "2018-09-14T23:59:59.000000000",
          "2018-09-15T23:59:59.000000000",
          "2018-09-16T23:59:59.000000000",
          "2018-09-17T23:59:59.000000000",
          "2018-09-18T23:59:59.000000000",
          "2018-09-19T23:59:59.000000000",
          "2018-09-20T23:59:59.000000000",
          "2018-09-21T23:59:59.000000000",
          "2018-09-22T23:59:59.000000000",
          "2018-09-23T23:59:59.000000000",
          "2018-09-24T23:59:59.000000000",
          "2018-09-25T23:59:59.000000000",
          "2018-09-26T23:59:59.000000000",
          "2018-09-27T23:59:59.000000000",
          "2018-09-28T23:59:59.000000000",
          "2018-09-29T23:59:59.000000000",
          "2018-09-30T23:59:59.000000000",
          "2018-10-01T23:59:59.000000000",
          "2018-10-02T23:59:59.000000000",
          "2018-10-03T23:59:59.000000000",
          "2018-10-04T23:59:59.000000000",
          "2018-10-05T23:59:59.000000000",
          "2018-10-06T23:59:59.000000000",
          "2018-10-07T23:59:59.000000000",
          "2018-10-09T23:59:59.000000000",
          "2018-10-10T23:59:59.000000000",
          "2018-10-11T23:59:59.000000000",
          "2018-10-12T23:59:59.000000000",
          "2018-10-13T23:59:59.000000000",
          "2018-10-14T23:59:59.000000000",
          "2018-10-15T23:59:59.000000000",
          "2018-10-16T23:59:59.000000000",
          "2018-10-17T23:59:59.000000000",
          "2018-10-18T23:59:59.000000000",
          "2018-10-19T23:59:59.000000000",
          "2018-10-20T23:59:59.000000000",
          "2018-10-21T23:59:59.000000000",
          "2018-10-22T23:59:59.000000000",
          "2018-10-23T23:59:59.000000000",
          "2018-10-24T23:59:59.000000000",
          "2018-10-25T23:59:59.000000000",
          "2018-10-26T23:59:59.000000000",
          "2018-10-27T23:59:59.000000000",
          "2018-10-28T23:59:59.000000000",
          "2018-10-29T23:59:59.000000000",
          "2018-10-30T23:59:59.000000000",
          "2018-10-31T23:59:59.000000000",
          "2018-11-01T23:59:59.000000000",
          "2018-11-02T23:59:59.000000000",
          "2018-11-03T23:59:59.000000000",
          "2018-11-04T23:59:59.000000000",
          "2018-11-05T23:59:59.000000000",
          "2018-11-06T23:59:59.000000000",
          "2018-11-07T23:59:59.000000000",
          "2018-11-08T23:59:59.000000000",
          "2018-11-09T23:59:59.000000000",
          "2018-11-10T23:59:59.000000000",
          "2018-11-11T23:59:59.000000000",
          "2018-11-12T23:59:59.000000000",
          "2018-11-13T23:59:59.000000000",
          "2018-11-14T23:59:59.000000000",
          "2018-11-15T23:59:59.000000000",
          "2018-11-16T23:59:59.000000000",
          "2018-11-17T23:59:59.000000000",
          "2018-11-18T23:59:59.000000000",
          "2018-11-19T23:59:59.000000000",
          "2018-11-20T23:59:59.000000000",
          "2018-11-21T23:59:59.000000000",
          "2018-11-22T23:59:59.000000000",
          "2018-11-23T23:59:59.000000000",
          "2018-11-24T23:59:59.000000000",
          "2018-11-25T23:59:59.000000000",
          "2018-11-26T23:59:59.000000000",
          "2018-11-27T23:59:59.000000000",
          "2018-11-28T23:59:59.000000000",
          "2018-11-29T23:59:59.000000000",
          "2018-11-30T23:59:59.000000000",
          "2018-12-01T23:59:59.000000000",
          "2018-12-02T23:59:59.000000000",
          "2018-12-03T23:59:59.000000000",
          "2018-12-04T23:59:59.000000000",
          "2018-12-05T23:59:59.000000000",
          "2018-12-06T23:59:59.000000000",
          "2018-12-07T23:59:59.000000000",
          "2018-12-08T23:59:59.000000000",
          "2018-12-09T23:59:59.000000000",
          "2018-12-10T23:59:59.000000000",
          "2018-12-11T23:59:59.000000000",
          "2018-12-12T23:59:59.000000000",
          "2018-12-13T23:59:59.000000000",
          "2018-12-14T23:59:59.000000000",
          "2018-12-15T23:59:59.000000000",
          "2018-12-16T23:59:59.000000000",
          "2018-12-17T23:59:59.000000000",
          "2018-12-18T23:59:59.000000000",
          "2018-12-19T23:59:59.000000000",
          "2018-12-20T23:59:59.000000000",
          "2018-12-21T23:59:59.000000000",
          "2018-12-22T23:59:59.000000000",
          "2018-12-23T23:59:59.000000000",
          "2018-12-25T23:59:59.000000000",
          "2018-12-27T23:59:59.000000000",
          "2018-12-28T23:59:59.000000000",
          "2018-12-29T23:59:59.000000000",
          "2018-12-30T23:59:59.000000000",
          "2018-12-31T23:59:59.000000000",
          "2019-01-01T23:59:59.000000000",
          "2019-01-03T23:59:59.000000000",
          "2019-01-17T23:59:59.000000000",
          "2019-01-18T23:59:59.000000000",
          "2019-01-19T23:59:59.000000000",
          "2019-01-20T23:59:59.000000000",
          "2019-01-21T23:59:59.000000000",
          "2019-01-22T23:59:59.000000000",
          "2019-01-23T23:59:59.000000000",
          "2019-01-24T23:59:59.000000000",
          "2019-01-25T23:59:59.000000000",
          "2019-01-26T23:59:59.000000000",
          "2019-01-27T23:59:59.000000000",
          "2019-01-28T23:59:59.000000000",
          "2019-01-29T23:59:59.000000000",
          "2019-01-30T23:59:59.000000000",
          "2019-01-31T23:59:59.000000000",
          "2019-02-01T23:59:59.000000000",
          "2019-02-02T23:59:59.000000000",
          "2019-02-03T23:59:59.000000000",
          "2019-02-04T23:59:59.000000000",
          "2019-02-05T23:59:59.000000000",
          "2019-02-06T23:59:59.000000000",
          "2019-02-07T23:59:59.000000000",
          "2019-02-08T23:59:59.000000000",
          "2019-02-09T23:59:59.000000000",
          "2019-02-10T23:59:59.000000000",
          "2019-02-11T23:59:59.000000000",
          "2019-02-13T23:59:59.000000000",
          "2019-02-14T23:59:59.000000000",
          "2019-02-15T23:59:59.000000000",
          "2019-02-16T23:59:59.000000000",
          "2019-03-25T23:59:59.000000000",
          "2019-06-12T23:59:59.000000000",
          "2019-06-13T23:59:59.000000000",
          "2019-07-16T23:59:59.000000000",
          "2019-07-17T23:59:59.000000000",
          "2019-07-21T23:59:59.000000000",
          "2019-07-22T23:59:59.000000000",
          "2019-07-23T23:59:59.000000000",
          "2019-07-24T23:59:59.000000000",
          "2019-07-25T23:59:59.000000000",
          "2019-07-26T23:59:59.000000000",
          "2019-07-27T23:59:59.000000000",
          "2019-07-28T23:59:59.000000000",
          "2019-07-29T23:59:59.000000000",
          "2019-07-30T23:59:59.000000000",
          "2019-07-31T23:59:59.000000000",
          "2019-08-01T23:59:59.000000000",
          "2019-08-02T23:59:59.000000000",
          "2019-08-03T23:59:59.000000000",
          "2019-08-04T23:59:59.000000000",
          "2019-08-14T23:59:59.000000000",
          "2019-08-16T23:59:59.000000000",
          "2019-08-17T23:59:59.000000000",
          "2019-08-18T23:59:59.000000000",
          "2019-08-19T23:59:59.000000000",
          "2019-08-20T23:59:59.000000000",
          "2019-08-21T23:59:59.000000000",
          "2019-08-22T23:59:59.000000000",
          "2019-08-23T23:59:59.000000000",
          "2019-08-24T23:59:59.000000000",
          "2019-08-25T23:59:59.000000000",
          "2019-08-27T23:59:59.000000000",
          "2019-08-28T23:59:59.000000000",
          "2019-08-29T23:59:59.000000000",
          "2019-08-30T23:59:59.000000000",
          "2019-08-31T23:59:59.000000000",
          "2019-09-01T23:59:59.000000000",
          "2019-09-02T23:59:59.000000000",
          "2019-09-03T23:59:59.000000000",
          "2019-09-04T23:59:59.000000000",
          "2019-09-05T23:59:59.000000000",
          "2019-09-06T23:59:59.000000000",
          "2019-09-07T23:59:59.000000000",
          "2019-09-08T23:59:59.000000000",
          "2019-09-09T23:59:59.000000000",
          "2019-09-10T23:59:59.000000000",
          "2019-09-11T23:59:59.000000000",
          "2019-09-12T23:59:59.000000000",
          "2019-09-13T23:59:59.000000000",
          "2019-09-14T23:59:59.000000000",
          "2019-09-15T23:59:59.000000000",
          "2019-09-16T23:59:59.000000000",
          "2019-09-17T23:59:59.000000000",
          "2019-09-18T23:59:59.000000000",
          "2019-09-19T23:59:59.000000000",
          "2019-09-20T23:59:59.000000000",
          "2019-09-21T23:59:59.000000000",
          "2019-09-22T23:59:59.000000000",
          "2019-09-23T23:59:59.000000000",
          "2019-09-24T23:59:59.000000000",
          "2019-09-25T23:59:59.000000000",
          "2019-09-26T23:59:59.000000000",
          "2019-09-27T23:59:59.000000000",
          "2019-09-28T23:59:59.000000000",
          "2019-09-29T23:59:59.000000000",
          "2019-09-30T23:59:59.000000000",
          "2019-10-01T23:59:59.000000000",
          "2019-10-02T23:59:59.000000000",
          "2019-10-03T23:59:59.000000000",
          "2019-10-04T23:59:59.000000000",
          "2019-10-05T23:59:59.000000000",
          "2019-10-06T23:59:59.000000000",
          "2019-10-07T23:59:59.000000000",
          "2019-10-08T23:59:59.000000000",
          "2019-10-09T23:59:59.000000000",
          "2019-10-10T23:59:59.000000000",
          "2019-10-11T23:59:59.000000000",
          "2019-10-12T23:59:59.000000000",
          "2019-10-13T23:59:59.000000000",
          "2019-10-14T23:59:59.000000000",
          "2019-10-15T23:59:59.000000000",
          "2019-10-16T23:59:59.000000000",
          "2019-10-17T23:59:59.000000000",
          "2019-10-18T23:59:59.000000000",
          "2019-10-19T23:59:59.000000000",
          "2019-10-20T23:59:59.000000000",
          "2019-10-21T23:59:59.000000000",
          "2019-10-22T23:59:59.000000000",
          "2019-10-23T23:59:59.000000000",
          "2019-10-24T23:59:59.000000000",
          "2019-11-08T23:59:59.000000000",
          "2019-11-09T23:59:59.000000000",
          "2019-11-11T23:59:59.000000000",
          "2019-11-13T23:59:59.000000000",
          "2019-11-14T23:59:59.000000000",
          "2019-11-15T23:59:59.000000000",
          "2019-11-16T23:59:59.000000000",
          "2019-11-17T23:59:59.000000000",
          "2019-11-18T23:59:59.000000000",
          "2019-11-19T23:59:59.000000000",
          "2019-11-20T23:59:59.000000000",
          "2019-11-21T23:59:59.000000000",
          "2019-11-22T23:59:59.000000000",
          "2019-11-23T23:59:59.000000000",
          "2019-11-24T23:59:59.000000000",
          "2019-11-25T23:59:59.000000000",
          "2019-11-26T23:59:59.000000000",
          "2019-11-27T23:59:59.000000000",
          "2019-11-28T23:59:59.000000000",
          "2019-11-29T23:59:59.000000000",
          "2019-11-30T23:59:59.000000000",
          "2019-12-01T23:59:59.000000000",
          "2019-12-02T23:59:59.000000000",
          "2019-12-03T23:59:59.000000000",
          "2019-12-04T23:59:59.000000000",
          "2019-12-05T23:59:59.000000000",
          "2019-12-06T23:59:59.000000000",
          "2019-12-07T23:59:59.000000000",
          "2019-12-08T23:59:59.000000000",
          "2019-12-09T23:59:59.000000000",
          "2019-12-10T23:59:59.000000000",
          "2019-12-11T23:59:59.000000000",
          "2019-12-12T23:59:59.000000000",
          "2019-12-13T23:59:59.000000000",
          "2019-12-14T23:59:59.000000000",
          "2019-12-15T23:59:59.000000000",
          "2019-12-16T23:59:59.000000000",
          "2019-12-17T23:59:59.000000000",
          "2019-12-18T23:59:59.000000000",
          "2019-12-19T23:59:59.000000000",
          "2019-12-20T23:59:59.000000000",
          "2019-12-21T23:59:59.000000000",
          "2019-12-22T23:59:59.000000000",
          "2019-12-23T23:59:59.000000000",
          "2019-12-24T23:59:59.000000000",
          "2019-12-25T23:59:59.000000000",
          "2019-12-26T23:59:59.000000000",
          "2019-12-27T23:59:59.000000000",
          "2019-12-28T23:59:59.000000000",
          "2019-12-29T23:59:59.000000000",
          "2019-12-30T23:59:59.000000000",
          "2019-12-31T23:59:59.000000000",
          "2020-01-01T23:59:59.000000000",
          "2020-01-02T23:59:59.000000000",
          "2020-01-03T23:59:59.000000000",
          "2020-01-04T23:59:59.000000000",
          "2020-01-05T23:59:59.000000000",
          "2020-02-25T23:59:59.000000000",
          "2020-02-26T23:59:59.000000000",
          "2020-02-27T23:59:59.000000000",
          "2020-02-28T23:59:59.000000000",
          "2020-02-29T23:59:59.000000000",
          "2020-03-01T23:59:59.000000000",
          "2020-03-02T23:59:59.000000000",
          "2020-03-03T23:59:59.000000000",
          "2020-03-04T23:59:59.000000000",
          "2020-03-05T23:59:59.000000000",
          "2020-03-06T23:59:59.000000000",
          "2020-03-07T23:59:59.000000000",
          "2020-03-08T23:59:59.000000000",
          "2020-03-09T23:59:59.000000000",
          "2020-03-10T23:59:59.000000000",
          "2020-03-11T23:59:59.000000000",
          "2020-03-12T23:59:59.000000000",
          "2020-03-13T23:59:59.000000000",
          "2020-03-14T23:59:59.000000000",
          "2020-03-15T23:59:59.000000000",
          "2020-03-16T23:59:59.000000000",
          "2020-03-17T23:59:59.000000000",
          "2020-03-18T23:59:59.000000000",
          "2020-03-19T23:59:59.000000000",
          "2020-03-20T23:59:59.000000000",
          "2020-03-21T23:59:59.000000000",
          "2020-03-22T23:59:59.000000000",
          "2020-03-23T23:59:59.000000000",
          "2020-03-24T23:59:59.000000000",
          "2020-03-25T23:59:59.000000000",
          "2020-03-26T23:59:59.000000000",
          "2020-03-27T23:59:59.000000000",
          "2020-03-28T23:59:59.000000000",
          "2020-03-29T23:59:59.000000000",
          "2020-03-30T23:59:59.000000000",
          "2020-03-31T23:59:59.000000000",
          "2020-04-01T23:59:59.000000000",
          "2020-04-02T23:59:59.000000000",
          "2020-04-03T23:59:59.000000000",
          "2020-04-04T23:59:59.000000000",
          "2020-04-05T23:59:59.000000000",
          "2020-04-06T23:59:59.000000000",
          "2020-04-07T23:59:59.000000000",
          "2020-04-08T23:59:59.000000000",
          "2020-04-09T23:59:59.000000000",
          "2020-04-10T23:59:59.000000000",
          "2020-06-06T23:59:59.000000000",
          "2020-06-07T23:59:59.000000000",
          "2020-06-08T23:59:59.000000000",
          "2020-06-11T23:59:59.000000000",
          "2020-06-12T23:59:59.000000000",
          "2020-06-13T23:59:59.000000000",
          "2020-06-14T23:59:59.000000000",
          "2020-06-15T23:59:59.000000000",
          "2020-06-16T23:59:59.000000000",
          "2020-06-17T23:59:59.000000000",
          "2020-06-18T23:59:59.000000000",
          "2020-06-19T23:59:59.000000000",
          "2020-06-20T23:59:59.000000000",
          "2020-06-21T23:59:59.000000000",
          "2020-06-24T23:59:59.000000000",
          "2020-06-25T23:59:59.000000000",
          "2020-06-26T23:59:59.000000000",
          "2020-06-27T23:59:59.000000000",
          "2020-06-28T23:59:59.000000000",
          "2020-06-29T23:59:59.000000000",
          "2020-06-30T23:59:59.000000000",
          "2020-07-01T23:59:59.000000000",
          "2020-07-02T23:59:59.000000000",
          "2020-07-03T23:59:59.000000000",
          "2020-07-04T23:59:59.000000000",
          "2020-07-05T23:59:59.000000000",
          "2020-07-06T23:59:59.000000000",
          "2020-07-07T23:59:59.000000000",
          "2020-07-08T23:59:59.000000000",
          "2020-07-09T23:59:59.000000000",
          "2020-07-10T23:59:59.000000000",
          "2020-07-11T23:59:59.000000000",
          "2020-07-12T23:59:59.000000000",
          "2020-07-13T23:59:59.000000000",
          "2020-07-14T23:59:59.000000000",
          "2020-07-15T23:59:59.000000000",
          "2020-07-16T23:59:59.000000000",
          "2020-07-17T23:59:59.000000000",
          "2020-07-18T23:59:59.000000000",
          "2020-07-19T23:59:59.000000000",
          "2020-07-20T23:59:59.000000000",
          "2020-07-21T23:59:59.000000000",
          "2020-07-22T23:59:59.000000000",
          "2020-07-23T23:59:59.000000000",
          "2020-07-24T23:59:59.000000000",
          "2020-08-26T23:59:59.000000000",
          "2020-08-27T23:59:59.000000000",
          "2020-08-28T23:59:59.000000000",
          "2020-08-29T23:59:59.000000000",
          "2020-08-30T23:59:59.000000000",
          "2020-08-31T23:59:59.000000000",
          "2020-09-02T23:59:59.000000000",
          "2020-09-03T23:59:59.000000000",
          "2020-09-04T23:59:59.000000000",
          "2020-09-05T23:59:59.000000000",
          "2020-09-06T23:59:59.000000000",
          "2020-09-07T23:59:59.000000000",
          "2020-09-08T23:59:59.000000000",
          "2020-09-09T23:59:59.000000000",
          "2020-09-10T23:59:59.000000000",
          "2020-09-11T23:59:59.000000000",
          "2020-09-12T23:59:59.000000000",
          "2020-09-13T23:59:59.000000000",
          "2020-09-14T23:59:59.000000000",
          "2020-09-15T23:59:59.000000000",
          "2020-09-16T23:59:59.000000000",
          "2020-09-17T23:59:59.000000000",
          "2020-09-18T23:59:59.000000000",
          "2020-09-19T23:59:59.000000000",
          "2020-09-20T23:59:59.000000000",
          "2020-09-21T23:59:59.000000000",
          "2020-09-22T23:59:59.000000000",
          "2020-09-23T23:59:59.000000000",
          "2020-09-24T23:59:59.000000000",
          "2020-09-25T23:59:59.000000000",
          "2020-09-26T23:59:59.000000000",
          "2020-09-27T23:59:59.000000000",
          "2020-09-28T23:59:59.000000000",
          "2020-09-29T23:59:59.000000000",
          "2020-09-30T23:59:59.000000000",
          "2020-10-01T23:59:59.000000000",
          "2020-10-02T23:59:59.000000000",
          "2020-10-03T23:59:59.000000000",
          "2020-10-04T23:59:59.000000000",
          "2020-10-06T23:59:59.000000000",
          "2020-10-07T23:59:59.000000000"
         ],
         "y": {
          "bdata": "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",
          "dtype": "f8"
         }
        },
        {
         "marker": {
          "size": 6
         },
         "mode": "markers",
         "name": "Grupo 3",
         "type": "scatter",
         "x": [
          "2013-06-01T23:59:59.000000000",
          "2013-06-02T23:59:59.000000000",
          "2013-07-30T23:59:59.000000000",
          "2013-07-31T23:59:59.000000000",
          "2013-08-01T23:59:59.000000000",
          "2013-08-02T23:59:59.000000000",
          "2013-08-03T23:59:59.000000000",
          "2013-08-04T23:59:59.000000000",
          "2013-08-05T23:59:59.000000000",
          "2013-08-06T23:59:59.000000000",
          "2013-08-07T23:59:59.000000000",
          "2013-08-08T23:59:59.000000000",
          "2013-08-09T23:59:59.000000000",
          "2013-08-10T23:59:59.000000000",
          "2013-08-11T23:59:59.000000000",
          "2013-08-13T23:59:59.000000000",
          "2013-08-14T23:59:59.000000000",
          "2013-08-15T23:59:59.000000000",
          "2013-08-17T23:59:59.000000000",
          "2013-08-18T23:59:59.000000000",
          "2013-08-19T23:59:59.000000000",
          "2013-08-20T23:59:59.000000000",
          "2013-08-21T23:59:59.000000000",
          "2013-08-22T23:59:59.000000000",
          "2013-08-23T23:59:59.000000000",
          "2013-08-24T23:59:59.000000000",
          "2013-08-25T23:59:59.000000000",
          "2013-08-26T23:59:59.000000000",
          "2013-08-27T23:59:59.000000000",
          "2013-08-28T23:59:59.000000000",
          "2013-08-29T23:59:59.000000000",
          "2013-08-30T23:59:59.000000000",
          "2013-08-31T23:59:59.000000000",
          "2013-09-01T23:59:59.000000000",
          "2013-09-02T23:59:59.000000000",
          "2013-09-03T23:59:59.000000000",
          "2013-09-04T23:59:59.000000000",
          "2013-09-05T23:59:59.000000000",
          "2013-09-06T23:59:59.000000000",
          "2013-09-07T23:59:59.000000000",
          "2013-09-08T23:59:59.000000000",
          "2013-09-09T23:59:59.000000000",
          "2013-09-10T23:59:59.000000000",
          "2013-09-11T23:59:59.000000000",
          "2013-09-12T23:59:59.000000000",
          "2013-09-13T23:59:59.000000000",
          "2013-09-14T23:59:59.000000000",
          "2013-09-15T23:59:59.000000000",
          "2013-09-16T23:59:59.000000000",
          "2013-09-17T23:59:59.000000000",
          "2013-10-15T23:59:59.000000000",
          "2013-10-17T23:59:59.000000000",
          "2013-10-18T23:59:59.000000000",
          "2013-10-19T23:59:59.000000000",
          "2013-10-20T23:59:59.000000000",
          "2013-10-21T23:59:59.000000000",
          "2013-10-22T23:59:59.000000000",
          "2013-10-23T23:59:59.000000000",
          "2013-10-24T23:59:59.000000000",
          "2013-10-25T23:59:59.000000000",
          "2013-10-26T23:59:59.000000000",
          "2013-10-27T23:59:59.000000000",
          "2013-10-28T23:59:59.000000000",
          "2013-10-29T23:59:59.000000000",
          "2013-10-30T23:59:59.000000000",
          "2013-10-31T23:59:59.000000000",
          "2013-11-01T23:59:59.000000000",
          "2013-11-02T23:59:59.000000000",
          "2013-11-03T23:59:59.000000000",
          "2013-11-04T23:59:59.000000000",
          "2013-11-05T23:59:59.000000000",
          "2013-12-16T23:59:59.000000000",
          "2013-12-17T23:59:59.000000000",
          "2013-12-19T23:59:59.000000000",
          "2014-01-05T23:59:59.000000000",
          "2014-01-06T23:59:59.000000000",
          "2014-01-15T23:59:59.000000000",
          "2014-01-16T23:59:59.000000000",
          "2014-01-17T23:59:59.000000000",
          "2014-01-18T23:59:59.000000000",
          "2014-01-19T23:59:59.000000000",
          "2014-01-20T23:59:59.000000000",
          "2014-01-21T23:59:59.000000000",
          "2014-01-22T23:59:59.000000000",
          "2014-01-23T23:59:59.000000000",
          "2014-01-24T23:59:59.000000000",
          "2014-01-25T23:59:59.000000000",
          "2014-01-26T23:59:59.000000000",
          "2014-05-10T23:59:59.000000000",
          "2014-05-25T23:59:59.000000000",
          "2014-05-26T23:59:59.000000000",
          "2014-05-27T23:59:59.000000000",
          "2014-05-28T23:59:59.000000000",
          "2014-05-29T23:59:59.000000000",
          "2014-05-30T23:59:59.000000000",
          "2014-05-31T23:59:59.000000000",
          "2014-06-01T23:59:59.000000000",
          "2014-06-02T23:59:59.000000000",
          "2014-06-03T23:59:59.000000000",
          "2014-06-04T23:59:59.000000000",
          "2014-06-05T23:59:59.000000000",
          "2014-06-06T23:59:59.000000000",
          "2014-06-07T23:59:59.000000000",
          "2014-06-08T23:59:59.000000000",
          "2014-06-09T23:59:59.000000000",
          "2014-06-10T23:59:59.000000000",
          "2014-06-11T23:59:59.000000000",
          "2014-06-12T23:59:59.000000000",
          "2014-06-13T23:59:59.000000000",
          "2014-06-14T23:59:59.000000000",
          "2014-06-15T23:59:59.000000000",
          "2014-06-16T23:59:59.000000000",
          "2014-06-17T23:59:59.000000000",
          "2014-06-18T23:59:59.000000000",
          "2014-06-19T23:59:59.000000000",
          "2014-06-20T23:59:59.000000000",
          "2014-06-21T23:59:59.000000000",
          "2014-06-22T23:59:59.000000000",
          "2014-06-23T23:59:59.000000000",
          "2014-11-28T23:59:59.000000000",
          "2014-11-30T23:59:59.000000000",
          "2014-12-01T23:59:59.000000000",
          "2014-12-02T23:59:59.000000000",
          "2014-12-03T23:59:59.000000000",
          "2014-12-04T23:59:59.000000000",
          "2014-12-05T23:59:59.000000000",
          "2015-02-13T23:59:59.000000000",
          "2015-02-14T23:59:59.000000000",
          "2015-02-15T23:59:59.000000000",
          "2015-02-16T23:59:59.000000000",
          "2015-02-17T23:59:59.000000000",
          "2015-02-19T23:59:59.000000000",
          "2015-03-01T23:59:59.000000000",
          "2015-03-02T23:59:59.000000000",
          "2015-03-03T23:59:59.000000000",
          "2015-03-04T23:59:59.000000000",
          "2015-03-05T23:59:59.000000000",
          "2015-03-06T23:59:59.000000000",
          "2015-03-07T23:59:59.000000000",
          "2015-03-08T23:59:59.000000000",
          "2015-03-09T23:59:59.000000000",
          "2015-03-10T23:59:59.000000000",
          "2015-03-11T23:59:59.000000000",
          "2015-03-12T23:59:59.000000000",
          "2015-03-13T23:59:59.000000000",
          "2015-03-14T23:59:59.000000000",
          "2015-03-15T23:59:59.000000000",
          "2015-03-16T23:59:59.000000000",
          "2015-03-17T23:59:59.000000000",
          "2015-06-30T23:59:59.000000000",
          "2015-07-01T23:59:59.000000000",
          "2015-07-02T23:59:59.000000000",
          "2015-07-03T23:59:59.000000000",
          "2015-07-04T23:59:59.000000000",
          "2015-07-05T23:59:59.000000000",
          "2015-07-06T23:59:59.000000000",
          "2015-07-07T23:59:59.000000000",
          "2015-07-08T23:59:59.000000000",
          "2015-07-09T23:59:59.000000000",
          "2015-07-10T23:59:59.000000000",
          "2015-07-11T23:59:59.000000000",
          "2015-07-12T23:59:59.000000000",
          "2015-07-13T23:59:59.000000000",
          "2015-07-14T23:59:59.000000000",
          "2015-07-15T23:59:59.000000000",
          "2015-07-17T23:59:59.000000000",
          "2015-07-19T23:59:59.000000000",
          "2015-07-20T23:59:59.000000000",
          "2015-07-21T23:59:59.000000000",
          "2015-07-22T23:59:59.000000000",
          "2015-07-23T23:59:59.000000000",
          "2015-07-24T23:59:59.000000000",
          "2015-07-25T23:59:59.000000000",
          "2015-07-26T23:59:59.000000000",
          "2015-07-27T23:59:59.000000000",
          "2015-07-28T23:59:59.000000000",
          "2015-07-29T23:59:59.000000000",
          "2015-10-16T23:59:59.000000000",
          "2015-10-17T23:59:59.000000000",
          "2015-10-18T23:59:59.000000000",
          "2015-10-19T23:59:59.000000000",
          "2015-10-20T23:59:59.000000000",
          "2015-10-21T23:59:59.000000000",
          "2015-10-22T23:59:59.000000000",
          "2015-10-23T23:59:59.000000000",
          "2015-10-24T23:59:59.000000000",
          "2015-10-25T23:59:59.000000000",
          "2015-10-26T23:59:59.000000000",
          "2015-10-27T23:59:59.000000000",
          "2015-10-28T23:59:59.000000000",
          "2015-10-29T23:59:59.000000000",
          "2015-10-30T23:59:59.000000000",
          "2015-10-31T23:59:59.000000000",
          "2015-11-01T23:59:59.000000000",
          "2015-11-02T23:59:59.000000000",
          "2015-11-03T23:59:59.000000000",
          "2015-11-04T23:59:59.000000000",
          "2015-11-05T23:59:59.000000000",
          "2015-11-06T23:59:59.000000000",
          "2015-11-07T23:59:59.000000000",
          "2015-11-08T23:59:59.000000000",
          "2015-11-09T23:59:59.000000000",
          "2015-11-10T23:59:59.000000000",
          "2015-11-11T23:59:59.000000000",
          "2015-11-12T23:59:59.000000000",
          "2015-11-13T23:59:59.000000000",
          "2015-11-14T23:59:59.000000000",
          "2015-11-15T23:59:59.000000000",
          "2015-11-16T23:59:59.000000000",
          "2015-11-17T23:59:59.000000000",
          "2015-11-18T23:59:59.000000000",
          "2015-11-19T23:59:59.000000000",
          "2015-11-20T23:59:59.000000000",
          "2015-11-21T23:59:59.000000000",
          "2015-11-22T23:59:59.000000000",
          "2015-11-23T23:59:59.000000000",
          "2015-11-24T23:59:59.000000000",
          "2015-11-25T23:59:59.000000000",
          "2015-11-26T23:59:59.000000000",
          "2015-11-27T23:59:59.000000000",
          "2015-11-28T23:59:59.000000000",
          "2015-11-29T23:59:59.000000000",
          "2015-11-30T23:59:59.000000000",
          "2015-12-01T23:59:59.000000000",
          "2015-12-08T23:59:59.000000000",
          "2015-12-10T23:59:59.000000000",
          "2015-12-11T23:59:59.000000000",
          "2015-12-12T23:59:59.000000000",
          "2015-12-13T23:59:59.000000000",
          "2015-12-14T23:59:59.000000000",
          "2015-12-15T23:59:59.000000000",
          "2015-12-16T23:59:59.000000000",
          "2015-12-17T23:59:59.000000000",
          "2015-12-18T23:59:59.000000000",
          "2015-12-19T23:59:59.000000000",
          "2015-12-20T23:59:59.000000000",
          "2015-12-21T23:59:59.000000000",
          "2015-12-22T23:59:59.000000000",
          "2015-12-23T23:59:59.000000000",
          "2015-12-24T23:59:59.000000000",
          "2015-12-25T23:59:59.000000000",
          "2015-12-26T23:59:59.000000000",
          "2015-12-27T23:59:59.000000000",
          "2015-12-28T23:59:59.000000000",
          "2015-12-29T23:59:59.000000000",
          "2015-12-30T23:59:59.000000000",
          "2015-12-31T23:59:59.000000000",
          "2016-01-01T23:59:59.000000000",
          "2016-01-02T23:59:59.000000000",
          "2016-01-03T23:59:59.000000000",
          "2016-01-04T23:59:59.000000000",
          "2016-01-05T23:59:59.000000000",
          "2016-02-14T23:59:59.000000000",
          "2016-02-18T23:59:59.000000000",
          "2016-02-21T23:59:59.000000000",
          "2016-02-22T23:59:59.000000000",
          "2016-02-27T23:59:59.000000000",
          "2016-02-28T23:59:59.000000000",
          "2016-02-29T23:59:59.000000000",
          "2016-03-01T23:59:59.000000000",
          "2016-03-02T23:59:59.000000000",
          "2016-03-03T23:59:59.000000000",
          "2016-03-04T23:59:59.000000000",
          "2016-03-09T23:59:59.000000000",
          "2016-03-10T23:59:59.000000000",
          "2016-05-28T23:59:59.000000000",
          "2016-05-29T23:59:59.000000000",
          "2016-05-30T23:59:59.000000000",
          "2016-05-31T23:59:59.000000000",
          "2016-06-01T23:59:59.000000000",
          "2016-06-02T23:59:59.000000000",
          "2016-06-03T23:59:59.000000000",
          "2016-06-04T23:59:59.000000000",
          "2016-06-05T23:59:59.000000000",
          "2016-06-06T23:59:59.000000000",
          "2016-06-07T23:59:59.000000000",
          "2016-06-08T23:59:59.000000000",
          "2016-06-09T23:59:59.000000000",
          "2016-06-10T23:59:59.000000000",
          "2016-06-11T23:59:59.000000000",
          "2016-06-12T23:59:59.000000000",
          "2016-06-13T23:59:59.000000000",
          "2016-06-14T23:59:59.000000000",
          "2016-06-15T23:59:59.000000000",
          "2016-06-16T23:59:59.000000000",
          "2016-06-17T23:59:59.000000000",
          "2016-06-18T23:59:59.000000000",
          "2016-06-19T23:59:59.000000000",
          "2016-06-20T23:59:59.000000000",
          "2016-06-21T23:59:59.000000000",
          "2016-06-22T23:59:59.000000000",
          "2016-06-23T23:59:59.000000000",
          "2016-06-24T23:59:59.000000000",
          "2016-06-25T23:59:59.000000000",
          "2016-06-26T23:59:59.000000000",
          "2016-06-27T23:59:59.000000000",
          "2016-06-28T23:59:59.000000000",
          "2016-06-29T23:59:59.000000000",
          "2016-06-30T23:59:59.000000000",
          "2016-07-01T23:59:59.000000000",
          "2016-07-02T23:59:59.000000000",
          "2016-07-03T23:59:59.000000000",
          "2016-07-04T23:59:59.000000000",
          "2016-07-05T23:59:59.000000000",
          "2016-07-06T23:59:59.000000000",
          "2016-07-07T23:59:59.000000000",
          "2016-07-08T23:59:59.000000000",
          "2016-07-09T23:59:59.000000000",
          "2016-07-10T23:59:59.000000000",
          "2016-10-26T23:59:59.000000000",
          "2016-10-27T23:59:59.000000000",
          "2016-10-28T23:59:59.000000000",
          "2016-10-29T23:59:59.000000000",
          "2016-10-30T23:59:59.000000000",
          "2016-10-31T23:59:59.000000000",
          "2016-11-01T23:59:59.000000000",
          "2016-11-02T23:59:59.000000000",
          "2016-11-03T23:59:59.000000000",
          "2016-11-04T23:59:59.000000000",
          "2016-11-05T23:59:59.000000000",
          "2016-11-06T23:59:59.000000000",
          "2016-11-07T23:59:59.000000000",
          "2016-11-08T23:59:59.000000000",
          "2016-11-09T23:59:59.000000000",
          "2016-11-10T23:59:59.000000000",
          "2016-11-11T23:59:59.000000000",
          "2016-11-16T23:59:59.000000000",
          "2016-11-17T23:59:59.000000000",
          "2016-11-18T23:59:59.000000000",
          "2016-11-19T23:59:59.000000000",
          "2016-11-20T23:59:59.000000000",
          "2016-11-21T23:59:59.000000000",
          "2016-11-22T23:59:59.000000000",
          "2016-11-23T23:59:59.000000000",
          "2016-11-24T23:59:59.000000000",
          "2016-12-03T23:59:59.000000000",
          "2016-12-13T23:59:59.000000000",
          "2016-12-21T23:59:59.000000000",
          "2016-12-22T23:59:59.000000000",
          "2016-12-23T23:59:59.000000000",
          "2016-12-24T23:59:59.000000000",
          "2016-12-25T23:59:59.000000000",
          "2016-12-26T23:59:59.000000000",
          "2016-12-27T23:59:59.000000000",
          "2016-12-28T23:59:59.000000000",
          "2016-12-29T23:59:59.000000000",
          "2016-12-30T23:59:59.000000000",
          "2016-12-31T23:59:59.000000000",
          "2017-01-01T23:59:59.000000000",
          "2017-01-02T23:59:59.000000000",
          "2017-01-03T23:59:59.000000000",
          "2017-01-04T23:59:59.000000000",
          "2017-01-05T23:59:59.000000000",
          "2017-01-06T23:59:59.000000000",
          "2017-01-07T23:59:59.000000000",
          "2017-01-08T23:59:59.000000000",
          "2017-01-09T23:59:59.000000000",
          "2017-01-10T23:59:59.000000000",
          "2017-01-17T23:59:59.000000000",
          "2017-01-18T23:59:59.000000000",
          "2017-01-19T23:59:59.000000000",
          "2017-02-05T23:59:59.000000000",
          "2017-02-06T23:59:59.000000000",
          "2017-02-07T23:59:59.000000000",
          "2017-02-08T23:59:59.000000000",
          "2017-02-10T23:59:59.000000000",
          "2017-02-11T23:59:59.000000000",
          "2017-02-12T23:59:59.000000000",
          "2017-02-13T23:59:59.000000000",
          "2017-02-14T23:59:59.000000000",
          "2017-02-15T23:59:59.000000000",
          "2017-02-16T23:59:59.000000000",
          "2017-02-17T23:59:59.000000000",
          "2017-02-18T23:59:59.000000000",
          "2017-02-19T23:59:59.000000000",
          "2017-02-20T23:59:59.000000000",
          "2017-02-21T23:59:59.000000000",
          "2017-02-22T23:59:59.000000000",
          "2017-02-23T23:59:59.000000000",
          "2017-02-24T23:59:59.000000000",
          "2017-02-25T23:59:59.000000000",
          "2017-02-26T23:59:59.000000000",
          "2017-02-27T23:59:59.000000000",
          "2017-02-28T23:59:59.000000000",
          "2017-03-01T23:59:59.000000000",
          "2017-03-02T23:59:59.000000000",
          "2017-03-03T23:59:59.000000000",
          "2017-03-04T23:59:59.000000000",
          "2017-03-05T23:59:59.000000000",
          "2017-03-06T23:59:59.000000000",
          "2017-03-07T23:59:59.000000000",
          "2017-03-09T23:59:59.000000000",
          "2017-03-11T23:59:59.000000000",
          "2017-03-12T23:59:59.000000000",
          "2017-03-13T23:59:59.000000000",
          "2017-03-14T23:59:59.000000000",
          "2017-03-15T23:59:59.000000000",
          "2017-03-16T23:59:59.000000000",
          "2017-04-17T23:59:59.000000000",
          "2017-04-18T23:59:59.000000000",
          "2017-04-19T23:59:59.000000000",
          "2017-04-21T23:59:59.000000000",
          "2017-04-22T23:59:59.000000000",
          "2017-04-23T23:59:59.000000000",
          "2017-04-24T23:59:59.000000000",
          "2017-04-25T23:59:59.000000000",
          "2017-04-26T23:59:59.000000000",
          "2017-04-27T23:59:59.000000000",
          "2017-04-28T23:59:59.000000000",
          "2017-04-29T23:59:59.000000000",
          "2017-04-30T23:59:59.000000000",
          "2017-05-01T23:59:59.000000000",
          "2017-05-02T23:59:59.000000000",
          "2017-05-03T23:59:59.000000000",
          "2017-05-04T23:59:59.000000000",
          "2017-05-05T23:59:59.000000000",
          "2017-05-06T23:59:59.000000000",
          "2017-05-07T23:59:59.000000000",
          "2017-05-08T23:59:59.000000000",
          "2017-05-09T23:59:59.000000000",
          "2017-05-10T23:59:59.000000000",
          "2017-05-11T23:59:59.000000000",
          "2017-05-12T23:59:59.000000000",
          "2017-05-13T23:59:59.000000000",
          "2017-05-14T23:59:59.000000000",
          "2017-05-15T23:59:59.000000000",
          "2017-05-16T23:59:59.000000000",
          "2017-05-17T23:59:59.000000000",
          "2017-05-18T23:59:59.000000000",
          "2017-05-19T23:59:59.000000000",
          "2017-05-20T23:59:59.000000000",
          "2017-05-21T23:59:59.000000000",
          "2017-05-22T23:59:59.000000000",
          "2017-05-23T23:59:59.000000000",
          "2017-05-24T23:59:59.000000000",
          "2017-05-25T23:59:59.000000000",
          "2017-05-26T23:59:59.000000000",
          "2017-05-27T23:59:59.000000000",
          "2017-05-28T23:59:59.000000000",
          "2017-05-29T23:59:59.000000000",
          "2017-05-30T23:59:59.000000000",
          "2017-05-31T23:59:59.000000000",
          "2017-06-01T23:59:59.000000000",
          "2017-06-02T23:59:59.000000000",
          "2017-06-03T23:59:59.000000000",
          "2017-06-04T23:59:59.000000000",
          "2017-06-05T23:59:59.000000000",
          "2017-06-06T23:59:59.000000000",
          "2017-06-07T23:59:59.000000000",
          "2017-06-08T23:59:59.000000000",
          "2017-06-09T23:59:59.000000000",
          "2017-06-10T23:59:59.000000000",
          "2017-06-11T23:59:59.000000000",
          "2017-06-12T23:59:59.000000000",
          "2017-06-13T23:59:59.000000000",
          "2017-06-14T23:59:59.000000000",
          "2017-06-15T23:59:59.000000000",
          "2017-06-16T23:59:59.000000000",
          "2017-06-17T23:59:59.000000000",
          "2017-06-18T23:59:59.000000000",
          "2017-06-19T23:59:59.000000000",
          "2017-06-20T23:59:59.000000000",
          "2017-06-21T23:59:59.000000000",
          "2017-06-22T23:59:59.000000000",
          "2017-06-23T23:59:59.000000000",
          "2017-06-24T23:59:59.000000000",
          "2017-06-25T23:59:59.000000000",
          "2017-06-26T23:59:59.000000000",
          "2017-06-27T23:59:59.000000000",
          "2017-06-28T23:59:59.000000000",
          "2017-06-29T23:59:59.000000000",
          "2017-07-30T23:59:59.000000000",
          "2017-07-31T23:59:59.000000000",
          "2017-08-04T23:59:59.000000000",
          "2017-08-05T23:59:59.000000000",
          "2017-08-06T23:59:59.000000000",
          "2017-08-07T23:59:59.000000000",
          "2017-08-08T23:59:59.000000000",
          "2017-08-09T23:59:59.000000000",
          "2017-08-10T23:59:59.000000000",
          "2017-08-11T23:59:59.000000000",
          "2017-08-12T23:59:59.000000000",
          "2017-08-13T23:59:59.000000000",
          "2017-08-16T23:59:59.000000000",
          "2017-08-17T23:59:59.000000000",
          "2017-08-18T23:59:59.000000000",
          "2017-08-19T23:59:59.000000000",
          "2017-08-20T23:59:59.000000000",
          "2017-08-21T23:59:59.000000000",
          "2017-08-22T23:59:59.000000000",
          "2017-08-23T23:59:59.000000000",
          "2017-08-24T23:59:59.000000000",
          "2017-08-25T23:59:59.000000000",
          "2017-08-26T23:59:59.000000000",
          "2017-08-27T23:59:59.000000000",
          "2017-08-28T23:59:59.000000000",
          "2017-08-29T23:59:59.000000000",
          "2017-08-30T23:59:59.000000000",
          "2017-08-31T23:59:59.000000000",
          "2017-09-01T23:59:59.000000000",
          "2017-09-02T23:59:59.000000000",
          "2017-09-03T23:59:59.000000000",
          "2017-09-04T23:59:59.000000000",
          "2017-09-05T23:59:59.000000000",
          "2017-09-06T23:59:59.000000000",
          "2017-09-07T23:59:59.000000000",
          "2017-09-08T23:59:59.000000000",
          "2017-09-09T23:59:59.000000000",
          "2017-09-10T23:59:59.000000000",
          "2017-10-09T23:59:59.000000000",
          "2017-10-10T23:59:59.000000000",
          "2017-10-11T23:59:59.000000000",
          "2017-10-12T23:59:59.000000000",
          "2017-10-13T23:59:59.000000000",
          "2017-10-14T23:59:59.000000000",
          "2017-10-15T23:59:59.000000000",
          "2017-10-16T23:59:59.000000000",
          "2017-10-17T23:59:59.000000000",
          "2017-10-18T23:59:59.000000000",
          "2017-10-19T23:59:59.000000000",
          "2017-10-20T23:59:59.000000000",
          "2017-10-21T23:59:59.000000000",
          "2017-10-22T23:59:59.000000000",
          "2017-10-23T23:59:59.000000000",
          "2017-10-24T23:59:59.000000000",
          "2017-10-25T23:59:59.000000000",
          "2017-10-26T23:59:59.000000000",
          "2017-10-27T23:59:59.000000000",
          "2017-10-28T23:59:59.000000000",
          "2017-10-29T23:59:59.000000000",
          "2017-10-30T23:59:59.000000000",
          "2017-10-31T23:59:59.000000000",
          "2017-11-01T23:59:59.000000000",
          "2017-11-02T23:59:59.000000000",
          "2017-11-03T23:59:59.000000000",
          "2017-11-04T23:59:59.000000000",
          "2017-11-05T23:59:59.000000000",
          "2017-11-06T23:59:59.000000000",
          "2017-11-07T23:59:59.000000000",
          "2017-11-08T23:59:59.000000000",
          "2017-11-09T23:59:59.000000000",
          "2017-11-10T23:59:59.000000000",
          "2017-11-11T23:59:59.000000000",
          "2017-11-13T23:59:59.000000000",
          "2017-11-14T23:59:59.000000000",
          "2017-11-15T23:59:59.000000000",
          "2017-11-16T23:59:59.000000000",
          "2017-11-17T23:59:59.000000000",
          "2017-11-18T23:59:59.000000000",
          "2017-11-19T23:59:59.000000000",
          "2017-11-20T23:59:59.000000000",
          "2017-11-21T23:59:59.000000000",
          "2017-11-22T23:59:59.000000000",
          "2017-11-23T23:59:59.000000000",
          "2017-11-24T23:59:59.000000000",
          "2017-11-25T23:59:59.000000000",
          "2017-11-26T23:59:59.000000000",
          "2017-11-27T23:59:59.000000000",
          "2017-11-28T23:59:59.000000000",
          "2017-11-29T23:59:59.000000000",
          "2017-11-30T23:59:59.000000000",
          "2017-12-01T23:59:59.000000000",
          "2017-12-02T23:59:59.000000000",
          "2017-12-03T23:59:59.000000000",
          "2017-12-04T23:59:59.000000000",
          "2017-12-05T23:59:59.000000000",
          "2017-12-06T23:59:59.000000000",
          "2017-12-07T23:59:59.000000000",
          "2017-12-08T23:59:59.000000000",
          "2017-12-09T23:59:59.000000000",
          "2017-12-10T23:59:59.000000000",
          "2017-12-11T23:59:59.000000000",
          "2017-12-12T23:59:59.000000000",
          "2017-12-13T23:59:59.000000000",
          "2017-12-14T23:59:59.000000000",
          "2017-12-15T23:59:59.000000000",
          "2017-12-16T23:59:59.000000000",
          "2017-12-17T23:59:59.000000000",
          "2017-12-18T23:59:59.000000000",
          "2017-12-19T23:59:59.000000000",
          "2017-12-20T23:59:59.000000000",
          "2017-12-21T23:59:59.000000000",
          "2017-12-22T23:59:59.000000000",
          "2017-12-23T23:59:59.000000000",
          "2017-12-24T23:59:59.000000000",
          "2017-12-25T23:59:59.000000000",
          "2017-12-26T23:59:59.000000000",
          "2017-12-27T23:59:59.000000000",
          "2017-12-28T23:59:59.000000000",
          "2017-12-29T23:59:59.000000000",
          "2017-12-31T23:59:59.000000000",
          "2018-01-02T23:59:59.000000000",
          "2018-01-03T23:59:59.000000000",
          "2018-01-04T23:59:59.000000000",
          "2018-01-05T23:59:59.000000000",
          "2018-01-06T23:59:59.000000000",
          "2018-01-07T23:59:59.000000000",
          "2018-02-17T23:59:59.000000000",
          "2018-02-20T23:59:59.000000000",
          "2018-02-21T23:59:59.000000000",
          "2018-03-01T23:59:59.000000000",
          "2018-03-02T23:59:59.000000000",
          "2018-03-03T23:59:59.000000000",
          "2018-03-04T23:59:59.000000000",
          "2018-03-05T23:59:59.000000000",
          "2018-03-06T23:59:59.000000000",
          "2018-03-07T23:59:59.000000000",
          "2018-03-08T23:59:59.000000000",
          "2018-03-09T23:59:59.000000000",
          "2018-04-20T23:59:59.000000000",
          "2018-04-21T23:59:59.000000000",
          "2018-04-22T23:59:59.000000000",
          "2018-04-23T23:59:59.000000000",
          "2018-04-24T23:59:59.000000000",
          "2018-04-25T23:59:59.000000000",
          "2018-04-26T23:59:59.000000000",
          "2018-04-27T23:59:59.000000000",
          "2018-04-28T23:59:59.000000000",
          "2018-04-29T23:59:59.000000000",
          "2018-04-30T23:59:59.000000000",
          "2018-05-01T23:59:59.000000000",
          "2018-05-02T23:59:59.000000000",
          "2018-05-03T23:59:59.000000000",
          "2018-05-04T23:59:59.000000000",
          "2018-05-05T23:59:59.000000000",
          "2018-05-06T23:59:59.000000000",
          "2018-05-07T23:59:59.000000000",
          "2018-05-08T23:59:59.000000000",
          "2018-05-09T23:59:59.000000000",
          "2018-05-10T23:59:59.000000000",
          "2018-05-11T23:59:59.000000000",
          "2018-05-13T23:59:59.000000000",
          "2018-05-14T23:59:59.000000000",
          "2018-07-17T23:59:59.000000000",
          "2018-07-18T23:59:59.000000000",
          "2018-07-19T23:59:59.000000000",
          "2018-07-20T23:59:59.000000000",
          "2018-07-21T23:59:59.000000000",
          "2018-07-22T23:59:59.000000000",
          "2018-07-23T23:59:59.000000000",
          "2018-07-24T23:59:59.000000000",
          "2018-07-25T23:59:59.000000000",
          "2018-07-26T23:59:59.000000000",
          "2018-07-27T23:59:59.000000000",
          "2018-07-28T23:59:59.000000000",
          "2018-07-29T23:59:59.000000000",
          "2018-07-30T23:59:59.000000000",
          "2018-07-31T23:59:59.000000000",
          "2018-08-01T23:59:59.000000000",
          "2018-08-02T23:59:59.000000000",
          "2018-08-03T23:59:59.000000000",
          "2018-09-03T23:59:59.000000000",
          "2018-09-04T23:59:59.000000000",
          "2018-10-08T23:59:59.000000000",
          "2019-01-06T23:59:59.000000000",
          "2019-01-07T23:59:59.000000000",
          "2019-01-08T23:59:59.000000000",
          "2019-01-09T23:59:59.000000000",
          "2019-01-14T23:59:59.000000000",
          "2019-01-15T23:59:59.000000000",
          "2019-02-20T23:59:59.000000000",
          "2019-02-22T23:59:59.000000000",
          "2019-02-23T23:59:59.000000000",
          "2019-02-27T23:59:59.000000000",
          "2019-02-28T23:59:59.000000000",
          "2019-03-02T23:59:59.000000000",
          "2019-03-05T23:59:59.000000000",
          "2019-03-06T23:59:59.000000000",
          "2019-03-07T23:59:59.000000000",
          "2019-03-08T23:59:59.000000000",
          "2019-03-09T23:59:59.000000000",
          "2019-03-16T23:59:59.000000000",
          "2019-03-17T23:59:59.000000000",
          "2019-03-18T23:59:59.000000000",
          "2019-04-02T23:59:59.000000000",
          "2019-04-03T23:59:59.000000000",
          "2019-04-04T23:59:59.000000000",
          "2019-04-05T23:59:59.000000000",
          "2019-04-06T23:59:59.000000000",
          "2019-04-07T23:59:59.000000000",
          "2019-04-08T23:59:59.000000000",
          "2019-04-09T23:59:59.000000000",
          "2019-04-10T23:59:59.000000000",
          "2019-04-11T23:59:59.000000000",
          "2019-04-12T23:59:59.000000000",
          "2019-04-13T23:59:59.000000000",
          "2019-04-14T23:59:59.000000000",
          "2019-04-15T23:59:59.000000000",
          "2019-04-16T23:59:59.000000000",
          "2019-04-17T23:59:59.000000000",
          "2019-04-18T23:59:59.000000000",
          "2019-04-19T23:59:59.000000000",
          "2019-04-20T23:59:59.000000000",
          "2019-04-21T23:59:59.000000000",
          "2019-04-22T23:59:59.000000000",
          "2019-04-23T23:59:59.000000000",
          "2019-04-24T23:59:59.000000000",
          "2019-04-25T23:59:59.000000000",
          "2019-04-26T23:59:59.000000000",
          "2019-04-27T23:59:59.000000000",
          "2019-04-28T23:59:59.000000000",
          "2019-04-29T23:59:59.000000000",
          "2019-04-30T23:59:59.000000000",
          "2019-05-01T23:59:59.000000000",
          "2019-05-02T23:59:59.000000000",
          "2019-05-03T23:59:59.000000000",
          "2019-05-04T23:59:59.000000000",
          "2019-05-05T23:59:59.000000000",
          "2019-05-06T23:59:59.000000000",
          "2019-05-07T23:59:59.000000000",
          "2019-05-08T23:59:59.000000000",
          "2019-05-09T23:59:59.000000000",
          "2019-05-10T23:59:59.000000000",
          "2019-05-11T23:59:59.000000000",
          "2019-05-12T23:59:59.000000000",
          "2019-05-13T23:59:59.000000000",
          "2019-05-14T23:59:59.000000000",
          "2019-05-15T23:59:59.000000000",
          "2019-05-16T23:59:59.000000000",
          "2019-05-17T23:59:59.000000000",
          "2019-05-18T23:59:59.000000000",
          "2019-05-19T23:59:59.000000000",
          "2019-05-20T23:59:59.000000000",
          "2019-05-21T23:59:59.000000000",
          "2019-05-22T23:59:59.000000000",
          "2019-05-23T23:59:59.000000000",
          "2019-05-24T23:59:59.000000000",
          "2019-05-25T23:59:59.000000000",
          "2019-05-26T23:59:59.000000000",
          "2019-05-27T23:59:59.000000000",
          "2019-05-28T23:59:59.000000000",
          "2019-05-29T23:59:59.000000000",
          "2019-05-30T23:59:59.000000000",
          "2019-05-31T23:59:59.000000000",
          "2019-06-01T23:59:59.000000000",
          "2019-06-02T23:59:59.000000000",
          "2019-06-03T23:59:59.000000000",
          "2019-06-04T23:59:59.000000000",
          "2019-06-05T23:59:59.000000000",
          "2019-06-06T23:59:59.000000000",
          "2019-06-07T23:59:59.000000000",
          "2019-06-08T23:59:59.000000000",
          "2019-06-09T23:59:59.000000000",
          "2019-06-10T23:59:59.000000000",
          "2019-06-11T23:59:59.000000000",
          "2019-06-14T23:59:59.000000000",
          "2019-06-15T23:59:59.000000000",
          "2019-06-16T23:59:59.000000000",
          "2019-06-17T23:59:59.000000000",
          "2019-06-18T23:59:59.000000000",
          "2019-06-19T23:59:59.000000000",
          "2019-06-20T23:59:59.000000000",
          "2019-06-21T23:59:59.000000000",
          "2019-06-22T23:59:59.000000000",
          "2019-06-23T23:59:59.000000000",
          "2019-06-24T23:59:59.000000000",
          "2019-06-25T23:59:59.000000000",
          "2019-06-26T23:59:59.000000000",
          "2019-06-27T23:59:59.000000000",
          "2019-06-28T23:59:59.000000000",
          "2019-06-29T23:59:59.000000000",
          "2019-06-30T23:59:59.000000000",
          "2019-07-01T23:59:59.000000000",
          "2019-07-02T23:59:59.000000000",
          "2019-07-03T23:59:59.000000000",
          "2019-07-04T23:59:59.000000000",
          "2019-07-05T23:59:59.000000000",
          "2019-07-06T23:59:59.000000000",
          "2019-07-07T23:59:59.000000000",
          "2019-07-08T23:59:59.000000000",
          "2019-07-09T23:59:59.000000000",
          "2019-07-10T23:59:59.000000000",
          "2019-07-11T23:59:59.000000000",
          "2019-07-12T23:59:59.000000000",
          "2019-07-13T23:59:59.000000000",
          "2019-07-14T23:59:59.000000000",
          "2019-07-15T23:59:59.000000000",
          "2019-07-18T23:59:59.000000000",
          "2019-07-19T23:59:59.000000000",
          "2019-07-20T23:59:59.000000000",
          "2019-08-05T23:59:59.000000000",
          "2019-08-06T23:59:59.000000000",
          "2019-08-07T23:59:59.000000000",
          "2019-08-08T23:59:59.000000000",
          "2019-08-09T23:59:59.000000000",
          "2019-08-10T23:59:59.000000000",
          "2019-08-11T23:59:59.000000000",
          "2019-08-12T23:59:59.000000000",
          "2019-08-13T23:59:59.000000000",
          "2019-08-15T23:59:59.000000000",
          "2019-08-26T23:59:59.000000000",
          "2019-10-25T23:59:59.000000000",
          "2019-10-26T23:59:59.000000000",
          "2019-10-27T23:59:59.000000000",
          "2019-10-28T23:59:59.000000000",
          "2019-10-29T23:59:59.000000000",
          "2019-10-30T23:59:59.000000000",
          "2019-10-31T23:59:59.000000000",
          "2019-11-01T23:59:59.000000000",
          "2019-11-02T23:59:59.000000000",
          "2019-11-03T23:59:59.000000000",
          "2019-11-04T23:59:59.000000000",
          "2019-11-05T23:59:59.000000000",
          "2019-11-06T23:59:59.000000000",
          "2019-11-07T23:59:59.000000000",
          "2019-11-10T23:59:59.000000000",
          "2019-11-12T23:59:59.000000000",
          "2020-01-06T23:59:59.000000000",
          "2020-01-07T23:59:59.000000000",
          "2020-01-08T23:59:59.000000000",
          "2020-01-09T23:59:59.000000000",
          "2020-01-10T23:59:59.000000000",
          "2020-01-11T23:59:59.000000000",
          "2020-01-12T23:59:59.000000000",
          "2020-01-13T23:59:59.000000000",
          "2020-01-14T23:59:59.000000000",
          "2020-01-15T23:59:59.000000000",
          "2020-01-16T23:59:59.000000000",
          "2020-01-17T23:59:59.000000000",
          "2020-01-18T23:59:59.000000000",
          "2020-01-19T23:59:59.000000000",
          "2020-01-20T23:59:59.000000000",
          "2020-01-21T23:59:59.000000000",
          "2020-01-22T23:59:59.000000000",
          "2020-01-23T23:59:59.000000000",
          "2020-01-24T23:59:59.000000000",
          "2020-01-25T23:59:59.000000000",
          "2020-01-26T23:59:59.000000000",
          "2020-01-27T23:59:59.000000000",
          "2020-01-28T23:59:59.000000000",
          "2020-01-29T23:59:59.000000000",
          "2020-01-30T23:59:59.000000000",
          "2020-01-31T23:59:59.000000000",
          "2020-02-01T23:59:59.000000000",
          "2020-02-02T23:59:59.000000000",
          "2020-02-03T23:59:59.000000000",
          "2020-02-04T23:59:59.000000000",
          "2020-02-05T23:59:59.000000000",
          "2020-02-06T23:59:59.000000000",
          "2020-02-07T23:59:59.000000000",
          "2020-02-08T23:59:59.000000000",
          "2020-02-09T23:59:59.000000000",
          "2020-02-10T23:59:59.000000000",
          "2020-02-11T23:59:59.000000000",
          "2020-02-12T23:59:59.000000000",
          "2020-02-13T23:59:59.000000000",
          "2020-02-14T23:59:59.000000000",
          "2020-02-15T23:59:59.000000000",
          "2020-02-16T23:59:59.000000000",
          "2020-02-17T23:59:59.000000000",
          "2020-02-18T23:59:59.000000000",
          "2020-02-19T23:59:59.000000000",
          "2020-02-20T23:59:59.000000000",
          "2020-02-21T23:59:59.000000000",
          "2020-02-22T23:59:59.000000000",
          "2020-02-23T23:59:59.000000000",
          "2020-02-24T23:59:59.000000000",
          "2020-04-11T23:59:59.000000000",
          "2020-04-12T23:59:59.000000000",
          "2020-04-13T23:59:59.000000000",
          "2020-04-14T23:59:59.000000000",
          "2020-04-15T23:59:59.000000000",
          "2020-04-16T23:59:59.000000000",
          "2020-04-17T23:59:59.000000000",
          "2020-04-18T23:59:59.000000000",
          "2020-04-19T23:59:59.000000000",
          "2020-04-20T23:59:59.000000000",
          "2020-04-21T23:59:59.000000000",
          "2020-04-22T23:59:59.000000000",
          "2020-04-23T23:59:59.000000000",
          "2020-04-24T23:59:59.000000000",
          "2020-04-25T23:59:59.000000000",
          "2020-04-26T23:59:59.000000000",
          "2020-04-27T23:59:59.000000000",
          "2020-04-28T23:59:59.000000000",
          "2020-04-29T23:59:59.000000000",
          "2020-04-30T23:59:59.000000000",
          "2020-05-01T23:59:59.000000000",
          "2020-05-02T23:59:59.000000000",
          "2020-05-03T23:59:59.000000000",
          "2020-05-04T23:59:59.000000000",
          "2020-05-05T23:59:59.000000000",
          "2020-05-06T23:59:59.000000000",
          "2020-05-07T23:59:59.000000000",
          "2020-05-08T23:59:59.000000000",
          "2020-05-09T23:59:59.000000000",
          "2020-05-10T23:59:59.000000000",
          "2020-05-11T23:59:59.000000000",
          "2020-05-12T23:59:59.000000000",
          "2020-05-13T23:59:59.000000000",
          "2020-05-14T23:59:59.000000000",
          "2020-05-15T23:59:59.000000000",
          "2020-05-16T23:59:59.000000000",
          "2020-05-17T23:59:59.000000000",
          "2020-05-18T23:59:59.000000000",
          "2020-05-19T23:59:59.000000000",
          "2020-05-20T23:59:59.000000000",
          "2020-05-21T23:59:59.000000000",
          "2020-05-22T23:59:59.000000000",
          "2020-05-23T23:59:59.000000000",
          "2020-05-24T23:59:59.000000000",
          "2020-05-25T23:59:59.000000000",
          "2020-05-26T23:59:59.000000000",
          "2020-05-27T23:59:59.000000000",
          "2020-05-28T23:59:59.000000000",
          "2020-05-29T23:59:59.000000000",
          "2020-05-30T23:59:59.000000000",
          "2020-05-31T23:59:59.000000000",
          "2020-06-01T23:59:59.000000000",
          "2020-06-02T23:59:59.000000000",
          "2020-06-03T23:59:59.000000000",
          "2020-06-04T23:59:59.000000000",
          "2020-06-05T23:59:59.000000000",
          "2020-06-09T23:59:59.000000000",
          "2020-06-10T23:59:59.000000000",
          "2020-06-22T23:59:59.000000000",
          "2020-06-23T23:59:59.000000000",
          "2020-07-25T23:59:59.000000000",
          "2020-07-26T23:59:59.000000000",
          "2020-07-27T23:59:59.000000000",
          "2020-07-28T23:59:59.000000000",
          "2020-07-29T23:59:59.000000000",
          "2020-07-30T23:59:59.000000000",
          "2020-07-31T23:59:59.000000000",
          "2020-08-01T23:59:59.000000000",
          "2020-08-02T23:59:59.000000000",
          "2020-08-03T23:59:59.000000000",
          "2020-08-04T23:59:59.000000000",
          "2020-08-05T23:59:59.000000000",
          "2020-08-06T23:59:59.000000000",
          "2020-08-07T23:59:59.000000000",
          "2020-08-08T23:59:59.000000000",
          "2020-08-09T23:59:59.000000000",
          "2020-08-10T23:59:59.000000000",
          "2020-08-11T23:59:59.000000000",
          "2020-08-12T23:59:59.000000000",
          "2020-08-13T23:59:59.000000000",
          "2020-08-14T23:59:59.000000000",
          "2020-08-15T23:59:59.000000000",
          "2020-08-16T23:59:59.000000000",
          "2020-08-17T23:59:59.000000000",
          "2020-08-18T23:59:59.000000000",
          "2020-08-19T23:59:59.000000000",
          "2020-08-20T23:59:59.000000000",
          "2020-08-21T23:59:59.000000000",
          "2020-08-22T23:59:59.000000000",
          "2020-08-23T23:59:59.000000000",
          "2020-08-24T23:59:59.000000000",
          "2020-08-25T23:59:59.000000000",
          "2020-09-01T23:59:59.000000000",
          "2020-10-05T23:59:59.000000000",
          "2020-10-08T23:59:59.000000000",
          "2020-10-09T23:59:59.000000000",
          "2020-10-10T23:59:59.000000000",
          "2020-10-11T23:59:59.000000000",
          "2020-10-12T23:59:59.000000000",
          "2020-10-13T23:59:59.000000000",
          "2020-10-14T23:59:59.000000000",
          "2020-10-15T23:59:59.000000000",
          "2020-10-16T23:59:59.000000000",
          "2020-10-17T23:59:59.000000000",
          "2020-10-18T23:59:59.000000000",
          "2020-10-19T23:59:59.000000000",
          "2020-10-20T23:59:59.000000000",
          "2020-10-21T23:59:59.000000000",
          "2020-10-22T23:59:59.000000000",
          "2020-10-23T23:59:59.000000000",
          "2020-10-24T23:59:59.000000000",
          "2020-10-25T23:59:59.000000000",
          "2020-10-26T23:59:59.000000000",
          "2020-10-27T23:59:59.000000000",
          "2020-10-28T23:59:59.000000000",
          "2020-10-29T23:59:59.000000000",
          "2020-10-30T23:59:59.000000000",
          "2020-10-31T23:59:59.000000000",
          "2020-11-01T23:59:59.000000000",
          "2020-11-02T23:59:59.000000000",
          "2020-11-03T23:59:59.000000000",
          "2020-11-04T23:59:59.000000000",
          "2020-11-05T23:59:59.000000000",
          "2020-11-06T23:59:59.000000000",
          "2020-11-07T23:59:59.000000000",
          "2020-11-08T23:59:59.000000000",
          "2020-11-09T23:59:59.000000000",
          "2020-11-10T23:59:59.000000000",
          "2020-11-11T23:59:59.000000000",
          "2020-11-12T23:59:59.000000000",
          "2020-11-13T23:59:59.000000000",
          "2020-11-14T23:59:59.000000000",
          "2020-11-15T23:59:59.000000000",
          "2020-11-16T23:59:59.000000000",
          "2020-11-17T23:59:59.000000000",
          "2020-11-18T23:59:59.000000000",
          "2020-11-19T23:59:59.000000000",
          "2020-11-20T23:59:59.000000000",
          "2020-11-21T23:59:59.000000000",
          "2020-11-22T23:59:59.000000000",
          "2020-11-23T23:59:59.000000000",
          "2020-11-24T23:59:59.000000000",
          "2020-11-25T23:59:59.000000000",
          "2020-11-26T23:59:59.000000000",
          "2020-11-27T23:59:59.000000000",
          "2020-11-28T23:59:59.000000000",
          "2020-11-29T23:59:59.000000000",
          "2020-11-30T23:59:59.000000000",
          "2020-12-01T23:59:59.000000000",
          "2020-12-02T23:59:59.000000000",
          "2020-12-03T23:59:59.000000000",
          "2020-12-04T23:59:59.000000000",
          "2020-12-05T23:59:59.000000000",
          "2020-12-06T23:59:59.000000000",
          "2020-12-07T23:59:59.000000000",
          "2020-12-08T23:59:59.000000000",
          "2020-12-09T23:59:59.000000000",
          "2020-12-10T23:59:59.000000000",
          "2020-12-11T23:59:59.000000000",
          "2020-12-12T23:59:59.000000000",
          "2020-12-13T23:59:59.000000000",
          "2020-12-14T23:59:59.000000000",
          "2020-12-15T23:59:59.000000000",
          "2020-12-16T23:59:59.000000000",
          "2020-12-17T23:59:59.000000000",
          "2020-12-18T23:59:59.000000000",
          "2020-12-19T23:59:59.000000000",
          "2020-12-20T23:59:59.000000000",
          "2020-12-21T23:59:59.000000000",
          "2020-12-22T23:59:59.000000000",
          "2020-12-23T23:59:59.000000000",
          "2020-12-24T23:59:59.000000000",
          "2020-12-25T23:59:59.000000000",
          "2020-12-26T23:59:59.000000000",
          "2020-12-27T23:59:59.000000000",
          "2020-12-28T23:59:59.000000000",
          "2020-12-29T23:59:59.000000000",
          "2020-12-30T23:59:59.000000000",
          "2020-12-31T23:59:59.000000000",
          "2021-01-01T23:59:59.000000000",
          "2021-01-02T23:59:59.000000000",
          "2021-01-03T23:59:59.000000000",
          "2021-01-04T23:59:59.000000000",
          "2021-01-05T23:59:59.000000000",
          "2021-01-10T23:59:59.000000000",
          "2021-01-11T23:59:59.000000000",
          "2021-01-12T23:59:59.000000000",
          "2021-01-13T23:59:59.000000000",
          "2021-01-14T23:59:59.000000000",
          "2021-01-15T23:59:59.000000000",
          "2021-01-16T23:59:59.000000000",
          "2021-01-17T23:59:59.000000000",
          "2021-01-18T23:59:59.000000000",
          "2021-01-19T23:59:59.000000000",
          "2021-01-20T23:59:59.000000000",
          "2021-02-08T23:59:59.000000000",
          "2021-02-09T23:59:59.000000000",
          "2021-02-10T23:59:59.000000000",
          "2021-02-12T23:59:59.000000000",
          "2021-02-13T23:59:59.000000000",
          "2021-02-14T23:59:59.000000000",
          "2021-02-15T23:59:59.000000000",
          "2021-02-16T23:59:59.000000000",
          "2021-02-23T23:59:59.000000000",
          "2021-02-24T23:59:59.000000000",
          "2021-03-09T23:59:59.000000000",
          "2021-03-10T23:59:59.000000000",
          "2021-03-11T23:59:59.000000000",
          "2021-03-12T23:59:59.000000000",
          "2021-03-14T23:59:59.000000000",
          "2021-03-16T23:59:59.000000000",
          "2021-03-17T23:59:59.000000000",
          "2021-03-18T23:59:59.000000000",
          "2021-03-19T23:59:59.000000000",
          "2021-03-20T23:59:59.000000000",
          "2021-04-13T23:59:59.000000000",
          "2021-04-14T23:59:59.000000000",
          "2021-04-15T23:59:59.000000000"
         ],
         "y": {
          "bdata": "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",
          "dtype": "f8"
         }
        },
        {
         "marker": {
          "size": 6
         },
         "mode": "markers",
         "name": "Grupo 4",
         "type": "scatter",
         "x": [
          "2013-11-06T23:59:59.000000000",
          "2013-11-07T23:59:59.000000000",
          "2013-11-08T23:59:59.000000000",
          "2013-11-09T23:59:59.000000000",
          "2013-11-10T23:59:59.000000000",
          "2013-11-11T23:59:59.000000000",
          "2013-11-12T23:59:59.000000000",
          "2013-11-13T23:59:59.000000000",
          "2013-11-14T23:59:59.000000000",
          "2013-11-15T23:59:59.000000000",
          "2013-11-16T23:59:59.000000000",
          "2013-11-17T23:59:59.000000000",
          "2013-11-18T23:59:59.000000000",
          "2013-11-19T23:59:59.000000000",
          "2013-11-20T23:59:59.000000000",
          "2013-11-21T23:59:59.000000000",
          "2013-11-22T23:59:59.000000000",
          "2013-11-23T23:59:59.000000000",
          "2013-11-24T23:59:59.000000000",
          "2013-11-25T23:59:59.000000000",
          "2013-11-26T23:59:59.000000000",
          "2013-11-27T23:59:59.000000000",
          "2013-11-28T23:59:59.000000000",
          "2013-11-29T23:59:59.000000000",
          "2013-11-30T23:59:59.000000000",
          "2013-12-01T23:59:59.000000000",
          "2013-12-02T23:59:59.000000000",
          "2013-12-03T23:59:59.000000000",
          "2013-12-04T23:59:59.000000000",
          "2013-12-05T23:59:59.000000000",
          "2013-12-06T23:59:59.000000000",
          "2013-12-07T23:59:59.000000000",
          "2013-12-08T23:59:59.000000000",
          "2013-12-09T23:59:59.000000000",
          "2013-12-10T23:59:59.000000000",
          "2013-12-11T23:59:59.000000000",
          "2013-12-12T23:59:59.000000000",
          "2013-12-13T23:59:59.000000000",
          "2013-12-14T23:59:59.000000000",
          "2013-12-15T23:59:59.000000000",
          "2017-08-14T23:59:59.000000000",
          "2017-08-15T23:59:59.000000000"
         ],
         "y": {
          "bdata": "AAAAAABocEAAAABgj4ZyQAAAAIDCIXVAAAAAgMIxdUAAAACA62l0QAAAAEAKZ3VAAAAAoEeFdkAAAACA63V5QAEAAEAzQ3pAAQAAQDMfekAAAAAghYN7QAAAAIDCwX5AAAAA4Hr8hUAAAABA4USCQAAAAOCjdoJAAAAAoHCThkAAAAAghRuIQAAAAGCP7ohAAAAAAAAyiEAAAABA4fiIQAEAAMDMAI1AAAAAIK5Pj0AAAADAzB+QQAAAAEDhr5FAAAAAYLilkUABAADAzN6NQAAAAOBRTZBAAAAAwB7ZkEAAAAAgrvyRQAAAAKBwVJBAAAAAoJnriUAAAAAA19GFQAAAAMD13ohAAAAAIIXpi0AAAACAFOSOQAAAAADXc4tAAAAAgBRKi0AAAADgo+SLQAAAAMDMRItAAAAAwPVgi0AAAABAIeWwQAAAACDuVbBA",
          "dtype": "f8"
         }
        },
        {
         "marker": {
          "size": 6
         },
         "mode": "markers",
         "name": "Grupo 5",
         "type": "scatter",
         "x": [
          "2021-01-21T23:59:59.000000000",
          "2021-01-22T23:59:59.000000000",
          "2021-01-23T23:59:59.000000000",
          "2021-01-24T23:59:59.000000000",
          "2021-01-25T23:59:59.000000000",
          "2021-01-26T23:59:59.000000000",
          "2021-01-27T23:59:59.000000000",
          "2021-01-28T23:59:59.000000000",
          "2021-01-29T23:59:59.000000000",
          "2021-01-30T23:59:59.000000000",
          "2021-01-31T23:59:59.000000000",
          "2021-02-01T23:59:59.000000000",
          "2021-02-02T23:59:59.000000000",
          "2021-02-03T23:59:59.000000000",
          "2021-02-04T23:59:59.000000000",
          "2021-02-05T23:59:59.000000000",
          "2021-02-06T23:59:59.000000000",
          "2021-02-07T23:59:59.000000000",
          "2021-02-25T23:59:59.000000000",
          "2021-02-26T23:59:59.000000000",
          "2021-02-27T23:59:59.000000000",
          "2021-02-28T23:59:59.000000000",
          "2021-03-01T23:59:59.000000000",
          "2021-03-02T23:59:59.000000000",
          "2021-03-03T23:59:59.000000000",
          "2021-03-04T23:59:59.000000000",
          "2021-03-05T23:59:59.000000000",
          "2021-03-06T23:59:59.000000000",
          "2021-03-07T23:59:59.000000000",
          "2021-04-22T23:59:59.000000000",
          "2021-04-23T23:59:59.000000000",
          "2021-04-24T23:59:59.000000000",
          "2021-04-25T23:59:59.000000000",
          "2021-05-12T23:59:59.000000000",
          "2021-05-13T23:59:59.000000000",
          "2021-05-14T23:59:59.000000000",
          "2021-05-15T23:59:59.000000000",
          "2021-05-16T23:59:59.000000000",
          "2021-06-03T23:59:59.000000000",
          "2021-06-09T23:59:59.000000000",
          "2021-06-10T23:59:59.000000000",
          "2021-06-11T23:59:59.000000000",
          "2021-06-12T23:59:59.000000000",
          "2021-06-13T23:59:59.000000000",
          "2021-06-14T23:59:59.000000000",
          "2021-06-15T23:59:59.000000000",
          "2021-06-16T23:59:59.000000000",
          "2021-06-17T23:59:59.000000000",
          "2021-06-18T23:59:59.000000000",
          "2021-06-19T23:59:59.000000000",
          "2021-06-20T23:59:59.000000000",
          "2021-06-21T23:59:59.000000000",
          "2021-06-22T23:59:59.000000000",
          "2021-06-23T23:59:59.000000000",
          "2021-06-24T23:59:59.000000000",
          "2021-06-25T23:59:59.000000000",
          "2021-06-26T23:59:59.000000000",
          "2021-06-27T23:59:59.000000000",
          "2021-06-28T23:59:59.000000000",
          "2021-06-29T23:59:59.000000000",
          "2021-06-30T23:59:59.000000000",
          "2021-07-01T23:59:59.000000000",
          "2021-07-02T23:59:59.000000000",
          "2021-07-03T23:59:59.000000000",
          "2021-07-04T23:59:59.000000000",
          "2021-07-05T23:59:59.000000000",
          "2021-07-06T23:59:59.000000000"
         ],
         "y": {
          "bdata": "uqJStGwa3kA16RlvuB3gQCUM+yTpUN9AbUWTMliI30CYcrYnmZvfQElxI192zt9AUtdWAyO43UAV0F0VQ1fgQNakoWeMweBASB14sLC74ECy8qpySyvgQOmTgaglYOBAsdvKP8lW4UDbHCHiAkziQN83GRDCB+JAgKnR0Qmg4kAHzfBXQCzjQIoOmiDu/uJApcvuS7v+5kBaWplSeKDmQDEW2XCOjeZArJyspzgK5kBsMU+55zvoQP0nJJ5fn+dAxBkNyket6EDT+yFRJbbnQDu16b7p4+dA4wEjNwzi50AI8Kss1gDpQHFDpbRIRulAx8Gd0rTy6EDUL2zIW3DoQGxiuxqI7edATlGBFdH/50BkppshhkboQOSdxxERW+hAhSpO+AXV5kBo3wXfAa/mQC63B4MYJeNAnwE34yM84kBYxBMu0+vhQKnD6cjMOuJAuvJ6jBBc4UBcLHeMOxfjQP7bn0pPo+NADQ+Km8i640Ce6vMFYrniQP1tLiKwlOJAGpRA1Wd54UBpXA/R+2PhQArJdnxJbuFA3iodZizv3kAmipA6ar7fQPp6Y+1gd+BA1BfX8s3s4EDBhm3sceXeQNpKXMWRbt9AGAd2oDTr4EBPA+W6StDgQNCJNeN4g+FAJS++yhoc4UAVPc/Dg2TgQPnWC44hjeBAP/mBjJHt4EB3Kdjz+DrhQB/mHhRAeuBAsnzAMGa34EA=",
          "dtype": "f8"
         }
        },
        {
         "marker": {
          "size": 6
         },
         "mode": "markers",
         "name": "Grupo 6",
         "type": "scatter",
         "x": [
          "2021-03-22T23:59:59.000000000",
          "2021-03-23T23:59:59.000000000",
          "2021-03-24T23:59:59.000000000",
          "2021-03-25T23:59:59.000000000",
          "2021-04-06T23:59:59.000000000",
          "2021-04-07T23:59:59.000000000",
          "2021-04-08T23:59:59.000000000",
          "2021-04-09T23:59:59.000000000",
          "2021-04-18T23:59:59.000000000",
          "2021-04-19T23:59:59.000000000",
          "2021-04-20T23:59:59.000000000",
          "2021-04-21T23:59:59.000000000",
          "2021-04-26T23:59:59.000000000",
          "2021-04-27T23:59:59.000000000",
          "2021-04-28T23:59:59.000000000",
          "2021-04-29T23:59:59.000000000",
          "2021-04-30T23:59:59.000000000",
          "2021-05-01T23:59:59.000000000",
          "2021-05-02T23:59:59.000000000",
          "2021-05-03T23:59:59.000000000",
          "2021-05-04T23:59:59.000000000",
          "2021-05-05T23:59:59.000000000",
          "2021-05-06T23:59:59.000000000",
          "2021-05-07T23:59:59.000000000",
          "2021-05-09T23:59:59.000000000",
          "2021-05-10T23:59:59.000000000",
          "2021-05-11T23:59:59.000000000"
         ],
         "y": {
          "bdata": "84vYqCSg6kCtgt48XrrqQNoJJ3DIxOlAzcF9LgU/6UBp/lZ6C2rsQOfMjwIeXutADK65g3567ECOuJUYoHDsQFE3iusFc+tAb0ARjIg160CJvnEIIZPrQGuCRdFCUupAs9c3J7hg6kC93sPGI9/qQBgbgI4WxepASM/CeGMm6kAevtCsxTLsQCF2x56BPOxAUuIpeuKm60CNqrJRCe7rQPQ7RTWxCupA+iG6MAAK7EDAjgd0kInrQI38LNyMAexALZ7VHQpv7ECNIHyFeUbrQIbHflYSsOtA",
          "dtype": "f8"
         }
        },
        {
         "marker": {
          "size": 6
         },
         "mode": "markers",
         "name": "Grupo 7",
         "type": "scatter",
         "x": [
          "2021-05-31T23:59:59.000000000",
          "2021-06-01T23:59:59.000000000",
          "2021-06-02T23:59:59.000000000",
          "2021-06-04T23:59:59.000000000",
          "2021-06-05T23:59:59.000000000",
          "2021-06-06T23:59:59.000000000",
          "2021-06-07T23:59:59.000000000",
          "2021-06-08T23:59:59.000000000"
         ],
         "y": {
          "bdata": "aAxrUZs64kDI+6OVnenhQFt0Fb/lWOJAjH52+MwD4kCO5eGt/lvhQE7rVxbMguFAwl+bphZj4EDdv0c3FFjgQA==",
          "dtype": "f8"
         }
        },
        {
         "marker": {
          "size": 6
         },
         "mode": "markers",
         "name": "Grupo 8",
         "type": "scatter",
         "x": [
          "2021-03-08T23:59:59.000000000",
          "2021-03-15T23:59:59.000000000",
          "2021-03-21T23:59:59.000000000",
          "2021-03-26T23:59:59.000000000",
          "2021-03-27T23:59:59.000000000",
          "2021-03-28T23:59:59.000000000",
          "2021-03-29T23:59:59.000000000",
          "2021-03-30T23:59:59.000000000",
          "2021-03-31T23:59:59.000000000",
          "2021-04-01T23:59:59.000000000",
          "2021-04-02T23:59:59.000000000",
          "2021-04-03T23:59:59.000000000",
          "2021-04-04T23:59:59.000000000",
          "2021-04-05T23:59:59.000000000",
          "2021-04-10T23:59:59.000000000",
          "2021-04-11T23:59:59.000000000",
          "2021-04-12T23:59:59.000000000",
          "2021-04-16T23:59:59.000000000",
          "2021-04-17T23:59:59.000000000",
          "2021-05-08T23:59:59.000000000"
         ],
         "y": {
          "bdata": "NFvDttCC6UA7wUBoZkzrQK0puXhtFuxAoKUKCirs6kB5wdBYsFTrQPZ7Yt3XUetAYtpYZcYy7EDl6mwttsTsQGZOl6XaxOxA88302vna7EBdnQgHCv/sQHWHHHR8IOxAdlkjzdGw7ECdDX0gPNbsQLa9eognMu1AcOKS4J5l7UAfRd91rj7tQOOmaUSZEO5AGxSLR3qh7UB3qWzTeLbsQA==",
          "dtype": "f8"
         }
        },
        {
         "marker": {
          "size": 6
         },
         "mode": "markers",
         "name": "Grupo 9",
         "type": "scatter",
         "x": [
          "2021-05-20T23:59:59.000000000",
          "2021-05-24T23:59:59.000000000",
          "2021-05-25T23:59:59.000000000",
          "2021-05-26T23:59:59.000000000",
          "2021-05-27T23:59:59.000000000",
          "2021-05-30T23:59:59.000000000"
         ],
         "y": {
          "bdata": "1JLYn9fp40AwBv9QP+biQCpZyilHwOJAhFn0UMYv40CZNz3+nsTiQF+ocCLEa+FA",
          "dtype": "f8"
         }
        },
        {
         "marker": {
          "size": 6
         },
         "mode": "markers",
         "name": "Grupo 10",
         "type": "scatter",
         "x": [
          "2021-05-17T23:59:59.000000000",
          "2021-05-18T23:59:59.000000000"
         ],
         "y": {
          "bdata": "dNdMXTBC5UCpBWHUrPPkQA==",
          "dtype": "f8"
         }
        },
        {
         "marker": {
          "size": 6
         },
         "mode": "markers",
         "name": "Grupo 11",
         "type": "scatter",
         "x": [
          "2021-01-06T23:59:59.000000000"
         ],
         "y": {
          "bdata": "XFk/qQv74UA=",
          "dtype": "f8"
         }
        },
        {
         "marker": {
          "size": 6
         },
         "mode": "markers",
         "name": "Grupo 12",
         "type": "scatter",
         "x": [
          "2021-05-28T23:59:59.000000000",
          "2021-05-29T23:59:59.000000000"
         ],
         "y": {
          "bdata": "LYGMZzNu4UD1nBUtAufgQA==",
          "dtype": "f8"
         }
        },
        {
         "marker": {
          "size": 6
         },
         "mode": "markers",
         "name": "Grupo 13",
         "type": "scatter",
         "x": [
          "2021-02-11T23:59:59.000000000",
          "2021-02-18T23:59:59.000000000",
          "2021-02-22T23:59:59.000000000"
         ],
         "y": {
          "bdata": "b+Ylmapk50BvcYV++TvpQGS0yDXqd+pA",
          "dtype": "f8"
         }
        },
        {
         "marker": {
          "size": 6
         },
         "mode": "markers",
         "name": "Grupo 14",
         "type": "scatter",
         "x": [
          "2021-03-13T23:59:59.000000000"
         ],
         "y": {
          "bdata": "By5mtmLn7UA=",
          "dtype": "f8"
         }
        },
        {
         "marker": {
          "size": 6
         },
         "mode": "markers",
         "name": "Grupo 15",
         "type": "scatter",
         "x": [
          "2021-05-22T23:59:59.000000000"
         ],
         "y": {
          "bdata": "IqcSMhRU4kA=",
          "dtype": "f8"
         }
        }
       ],
       "layout": {
        "legend": {
         "title": {
          "text": "Clusters Topológicos"
         }
        },
        "template": {
         "data": {
          "bar": [
           {
            "error_x": {
             "color": "#2a3f5f"
            },
            "error_y": {
             "color": "#2a3f5f"
            },
            "marker": {
             "line": {
              "color": "#E5ECF6",
              "width": 0.5
             },
             "pattern": {
              "fillmode": "overlay",
              "size": 10,
              "solidity": 0.2
             }
            },
            "type": "bar"
           }
          ],
          "barpolar": [
           {
            "marker": {
             "line": {
              "color": "#E5ECF6",
              "width": 0.5
             },
             "pattern": {
              "fillmode": "overlay",
              "size": 10,
              "solidity": 0.2
             }
            },
            "type": "barpolar"
           }
          ],
          "carpet": [
           {
            "aaxis": {
             "endlinecolor": "#2a3f5f",
             "gridcolor": "white",
             "linecolor": "white",
             "minorgridcolor": "white",
             "startlinecolor": "#2a3f5f"
            },
            "baxis": {
             "endlinecolor": "#2a3f5f",
             "gridcolor": "white",
             "linecolor": "white",
             "minorgridcolor": "white",
             "startlinecolor": "#2a3f5f"
            },
            "type": "carpet"
           }
          ],
          "choropleth": [
           {
            "colorbar": {
             "outlinewidth": 0,
             "ticks": ""
            },
            "type": "choropleth"
           }
          ],
          "contour": [
           {
            "colorbar": {
             "outlinewidth": 0,
             "ticks": ""
            },
            "colorscale": [
             [
              0,
              "#0d0887"
             ],
             [
              0.1111111111111111,
              "#46039f"
             ],
             [
              0.2222222222222222,
              "#7201a8"
             ],
             [
              0.3333333333333333,
              "#9c179e"
             ],
             [
              0.4444444444444444,
              "#bd3786"
             ],
             [
              0.5555555555555556,
              "#d8576b"
             ],
             [
              0.6666666666666666,
              "#ed7953"
             ],
             [
              0.7777777777777778,
              "#fb9f3a"
             ],
             [
              0.8888888888888888,
              "#fdca26"
             ],
             [
              1,
              "#f0f921"
             ]
            ],
            "type": "contour"
           }
          ],
          "contourcarpet": [
           {
            "colorbar": {
             "outlinewidth": 0,
             "ticks": ""
            },
            "type": "contourcarpet"
           }
          ],
          "heatmap": [
           {
            "colorbar": {
             "outlinewidth": 0,
             "ticks": ""
            },
            "colorscale": [
             [
              0,
              "#0d0887"
             ],
             [
              0.1111111111111111,
              "#46039f"
             ],
             [
              0.2222222222222222,
              "#7201a8"
             ],
             [
              0.3333333333333333,
              "#9c179e"
             ],
             [
              0.4444444444444444,
              "#bd3786"
             ],
             [
              0.5555555555555556,
              "#d8576b"
             ],
             [
              0.6666666666666666,
              "#ed7953"
             ],
             [
              0.7777777777777778,
              "#fb9f3a"
             ],
             [
              0.8888888888888888,
              "#fdca26"
             ],
             [
              1,
              "#f0f921"
             ]
            ],
            "type": "heatmap"
           }
          ],
          "histogram": [
           {
            "marker": {
             "pattern": {
              "fillmode": "overlay",
              "size": 10,
              "solidity": 0.2
             }
            },
            "type": "histogram"
           }
          ],
          "histogram2d": [
           {
            "colorbar": {
             "outlinewidth": 0,
             "ticks": ""
            },
            "colorscale": [
             [
              0,
              "#0d0887"
             ],
             [
              0.1111111111111111,
              "#46039f"
             ],
             [
              0.2222222222222222,
              "#7201a8"
             ],
             [
              0.3333333333333333,
              "#9c179e"
             ],
             [
              0.4444444444444444,
              "#bd3786"
             ],
             [
              0.5555555555555556,
              "#d8576b"
             ],
             [
              0.6666666666666666,
              "#ed7953"
             ],
             [
              0.7777777777777778,
              "#fb9f3a"
             ],
             [
              0.8888888888888888,
              "#fdca26"
             ],
             [
              1,
              "#f0f921"
             ]
            ],
            "type": "histogram2d"
           }
          ],
          "histogram2dcontour": [
           {
            "colorbar": {
             "outlinewidth": 0,
             "ticks": ""
            },
            "colorscale": [
             [
              0,
              "#0d0887"
             ],
             [
              0.1111111111111111,
              "#46039f"
             ],
             [
              0.2222222222222222,
              "#7201a8"
             ],
             [
              0.3333333333333333,
              "#9c179e"
             ],
             [
              0.4444444444444444,
              "#bd3786"
             ],
             [
              0.5555555555555556,
              "#d8576b"
             ],
             [
              0.6666666666666666,
              "#ed7953"
             ],
             [
              0.7777777777777778,
              "#fb9f3a"
             ],
             [
              0.8888888888888888,
              "#fdca26"
             ],
             [
              1,
              "#f0f921"
             ]
            ],
            "type": "histogram2dcontour"
           }
          ],
          "mesh3d": [
           {
            "colorbar": {
             "outlinewidth": 0,
             "ticks": ""
            },
            "type": "mesh3d"
           }
          ],
          "parcoords": [
           {
            "line": {
             "colorbar": {
              "outlinewidth": 0,
              "ticks": ""
             }
            },
            "type": "parcoords"
           }
          ],
          "pie": [
           {
            "automargin": true,
            "type": "pie"
           }
          ],
          "scatter": [
           {
            "fillpattern": {
             "fillmode": "overlay",
             "size": 10,
             "solidity": 0.2
            },
            "type": "scatter"
           }
          ],
          "scatter3d": [
           {
            "line": {
             "colorbar": {
              "outlinewidth": 0,
              "ticks": ""
             }
            },
            "marker": {
             "colorbar": {
              "outlinewidth": 0,
              "ticks": ""
             }
            },
            "type": "scatter3d"
           }
          ],
          "scattercarpet": [
           {
            "marker": {
             "colorbar": {
              "outlinewidth": 0,
              "ticks": ""
             }
            },
            "type": "scattercarpet"
           }
          ],
          "scattergeo": [
           {
            "marker": {
             "colorbar": {
              "outlinewidth": 0,
              "ticks": ""
             }
            },
            "type": "scattergeo"
           }
          ],
          "scattergl": [
           {
            "marker": {
             "colorbar": {
              "outlinewidth": 0,
              "ticks": ""
             }
            },
            "type": "scattergl"
           }
          ],
          "scattermap": [
           {
            "marker": {
             "colorbar": {
              "outlinewidth": 0,
              "ticks": ""
             }
            },
            "type": "scattermap"
           }
          ],
          "scattermapbox": [
           {
            "marker": {
             "colorbar": {
              "outlinewidth": 0,
              "ticks": ""
             }
            },
            "type": "scattermapbox"
           }
          ],
          "scatterpolar": [
           {
            "marker": {
             "colorbar": {
              "outlinewidth": 0,
              "ticks": ""
             }
            },
            "type": "scatterpolar"
           }
          ],
          "scatterpolargl": [
           {
            "marker": {
             "colorbar": {
              "outlinewidth": 0,
              "ticks": ""
             }
            },
            "type": "scatterpolargl"
           }
          ],
          "scatterternary": [
           {
            "marker": {
             "colorbar": {
              "outlinewidth": 0,
              "ticks": ""
             }
            },
            "type": "scatterternary"
           }
          ],
          "surface": [
           {
            "colorbar": {
             "outlinewidth": 0,
             "ticks": ""
            },
            "colorscale": [
             [
              0,
              "#0d0887"
             ],
             [
              0.1111111111111111,
              "#46039f"
             ],
             [
              0.2222222222222222,
              "#7201a8"
             ],
             [
              0.3333333333333333,
              "#9c179e"
             ],
             [
              0.4444444444444444,
              "#bd3786"
             ],
             [
              0.5555555555555556,
              "#d8576b"
             ],
             [
              0.6666666666666666,
              "#ed7953"
             ],
             [
              0.7777777777777778,
              "#fb9f3a"
             ],
             [
              0.8888888888888888,
              "#fdca26"
             ],
             [
              1,
              "#f0f921"
             ]
            ],
            "type": "surface"
           }
          ],
          "table": [
           {
            "cells": {
             "fill": {
              "color": "#EBF0F8"
             },
             "line": {
              "color": "white"
             }
            },
            "header": {
             "fill": {
              "color": "#C8D4E3"
             },
             "line": {
              "color": "white"
             }
            },
            "type": "table"
           }
          ]
         },
         "layout": {
          "annotationdefaults": {
           "arrowcolor": "#2a3f5f",
           "arrowhead": 0,
           "arrowwidth": 1
          },
          "autotypenumbers": "strict",
          "coloraxis": {
           "colorbar": {
            "outlinewidth": 0,
            "ticks": ""
           }
          },
          "colorscale": {
           "diverging": [
            [
             0,
             "#8e0152"
            ],
            [
             0.1,
             "#c51b7d"
            ],
            [
             0.2,
             "#de77ae"
            ],
            [
             0.3,
             "#f1b6da"
            ],
            [
             0.4,
             "#fde0ef"
            ],
            [
             0.5,
             "#f7f7f7"
            ],
            [
             0.6,
             "#e6f5d0"
            ],
            [
             0.7,
             "#b8e186"
            ],
            [
             0.8,
             "#7fbc41"
            ],
            [
             0.9,
             "#4d9221"
            ],
            [
             1,
             "#276419"
            ]
           ],
           "sequential": [
            [
             0,
             "#0d0887"
            ],
            [
             0.1111111111111111,
             "#46039f"
            ],
            [
             0.2222222222222222,
             "#7201a8"
            ],
            [
             0.3333333333333333,
             "#9c179e"
            ],
            [
             0.4444444444444444,
             "#bd3786"
            ],
            [
             0.5555555555555556,
             "#d8576b"
            ],
            [
             0.6666666666666666,
             "#ed7953"
            ],
            [
             0.7777777777777778,
             "#fb9f3a"
            ],
            [
             0.8888888888888888,
             "#fdca26"
            ],
            [
             1,
             "#f0f921"
            ]
           ],
           "sequentialminus": [
            [
             0,
             "#0d0887"
            ],
            [
             0.1111111111111111,
             "#46039f"
            ],
            [
             0.2222222222222222,
             "#7201a8"
            ],
            [
             0.3333333333333333,
             "#9c179e"
            ],
            [
             0.4444444444444444,
             "#bd3786"
            ],
            [
             0.5555555555555556,
             "#d8576b"
            ],
            [
             0.6666666666666666,
             "#ed7953"
            ],
            [
             0.7777777777777778,
             "#fb9f3a"
            ],
            [
             0.8888888888888888,
             "#fdca26"
            ],
            [
             1,
             "#f0f921"
            ]
           ]
          },
          "colorway": [
           "#636efa",
           "#EF553B",
           "#00cc96",
           "#ab63fa",
           "#FFA15A",
           "#19d3f3",
           "#FF6692",
           "#B6E880",
           "#FF97FF",
           "#FECB52"
          ],
          "font": {
           "color": "#2a3f5f"
          },
          "geo": {
           "bgcolor": "white",
           "lakecolor": "white",
           "landcolor": "#E5ECF6",
           "showlakes": true,
           "showland": true,
           "subunitcolor": "white"
          },
          "hoverlabel": {
           "align": "left"
          },
          "hovermode": "closest",
          "mapbox": {
           "style": "light"
          },
          "paper_bgcolor": "white",
          "plot_bgcolor": "#E5ECF6",
          "polar": {
           "angularaxis": {
            "gridcolor": "white",
            "linecolor": "white",
            "ticks": ""
           },
           "bgcolor": "#E5ECF6",
           "radialaxis": {
            "gridcolor": "white",
            "linecolor": "white",
            "ticks": ""
           }
          },
          "scene": {
           "xaxis": {
            "backgroundcolor": "#E5ECF6",
            "gridcolor": "white",
            "gridwidth": 2,
            "linecolor": "white",
            "showbackground": true,
            "ticks": "",
            "zerolinecolor": "white"
           },
           "yaxis": {
            "backgroundcolor": "#E5ECF6",
            "gridcolor": "white",
            "gridwidth": 2,
            "linecolor": "white",
            "showbackground": true,
            "ticks": "",
            "zerolinecolor": "white"
           },
           "zaxis": {
            "backgroundcolor": "#E5ECF6",
            "gridcolor": "white",
            "gridwidth": 2,
            "linecolor": "white",
            "showbackground": true,
            "ticks": "",
            "zerolinecolor": "white"
           }
          },
          "shapedefaults": {
           "line": {
            "color": "#2a3f5f"
           }
          },
          "ternary": {
           "aaxis": {
            "gridcolor": "white",
            "linecolor": "white",
            "ticks": ""
           },
           "baxis": {
            "gridcolor": "white",
            "linecolor": "white",
            "ticks": ""
           },
           "bgcolor": "#E5ECF6",
           "caxis": {
            "gridcolor": "white",
            "linecolor": "white",
            "ticks": ""
           }
          },
          "title": {
           "x": 0.05
          },
          "xaxis": {
           "automargin": true,
           "gridcolor": "white",
           "linecolor": "white",
           "ticks": "",
           "title": {
            "standoff": 15
           },
           "zerolinecolor": "white",
           "zerolinewidth": 2
          },
          "yaxis": {
           "automargin": true,
           "gridcolor": "white",
           "linecolor": "white",
           "ticks": "",
           "title": {
            "standoff": 15
           },
           "zerolinecolor": "white",
           "zerolinewidth": 2
          }
         }
        },
        "title": {
         "text": "Precio de Cierre de Bitcoin con Clusters del Mapper"
        },
        "xaxis": {
         "tickangle": 45,
         "tickmode": "array",
         "ticktext": [
          "2013",
          "2014",
          "2015",
          "2016",
          "2017",
          "2018",
          "2019",
          "2020",
          "2021",
          "2022"
         ],
         "tickvals": [
          "2013-01-01T00:00:00.000000000",
          "2014-01-01T00:00:00.000000000",
          "2015-01-01T00:00:00.000000000",
          "2016-01-01T00:00:00.000000000",
          "2017-01-01T00:00:00.000000000",
          "2018-01-01T00:00:00.000000000",
          "2019-01-01T00:00:00.000000000",
          "2020-01-01T00:00:00.000000000",
          "2021-01-01T00:00:00.000000000",
          "2022-01-01T00:00:00.000000000"
         ],
         "title": {
          "text": "Fecha"
         }
        },
        "yaxis": {
         "title": {
          "text": "Precio de Cierre (USD)"
         }
        }
       }
      }
     },
     "metadata": {},
     "output_type": "display_data"
    }
   ],
   "source": [
    "import kmapper as km\n",
    "import networkx as nx\n",
    "import plotly.graph_objects as go\n",
    "import numpy as np\n",
    "import pandas as pd\n",
    "\n",
    "# Componentes del grafo\n",
    "G = km.to_networkx(graph)\n",
    "componentes = list(nx.connected_components(G)) \n",
    "\n",
    "# Índices de los datos originales\n",
    "grupos_indices = []\n",
    "for comp in componentes:\n",
    "    indices_grupo = set()\n",
    "    for nodo in comp:\n",
    "        indices_grupo.update(graph['nodes'][nodo])\n",
    "    grupos_indices.append(sorted(indices_grupo))  # Ordenamos para que sea más claro visualmente\n",
    "\n",
    "# Preparar los datos base para graficar\n",
    "close_prices = df_clean['Close'].values\n",
    "dates = df_clean['Date'].values  # Usar fechas reales en lugar de índices\n",
    "\n",
    "# Graficar usando Plotly\n",
    "fig = go.Figure()\n",
    "\n",
    "for i, indices in enumerate(grupos_indices):\n",
    "    fig.add_trace(go.Scatter(\n",
    "        x=dates[indices],\n",
    "        y=close_prices[indices],\n",
    "        mode='markers',\n",
    "        name=f'Grupo {i+1}',\n",
    "        marker=dict(size=6)\n",
    "    ))\n",
    "\n",
    "# Crear lista de fechas para los ticks anuales\n",
    "min_date = df_clean['Date'].min()\n",
    "max_date = df_clean['Date'].max()\n",
    "# Generar fechas para el primer día de cada año en el rango de datos\n",
    "year_ticks = pd.date_range(\n",
    "    start=pd.Timestamp(year=min_date.year, month=1, day=1),\n",
    "    end=pd.Timestamp(year=max_date.year+1, month=1, day=1),\n",
    "    freq='YS'  # Inicio del año\n",
    ")\n",
    "\n",
    "fig.update_layout(\n",
    "    title=\"Precio de Cierre de Bitcoin con Clusters del Mapper\",\n",
    "    xaxis=dict(\n",
    "        title=\"Fecha\",\n",
    "        tickmode=\"array\",\n",
    "        tickvals=year_ticks,\n",
    "        ticktext=[d.strftime('%Y') for d in year_ticks],\n",
    "        tickangle=45\n",
    "    ),\n",
    "    yaxis_title=\"Precio de Cierre (USD)\",\n",
    "    legend_title=\"Clusters Topológicos\"\n",
    ")\n",
    "\n",
    "# Display the figure directly instead of saving/loading as image\n",
    "fig.show()"
   ]
  },
  {
   "cell_type": "markdown",
   "id": "32f55661",
   "metadata": {},
   "source": [
    "Imagen estática\n",
    "\n",
    "<center>\n",
    "    <img src=\"images/Precio de Cierre de Bitcoin con Clusters del Mapper.png\" alt=\"Precio de Cierre de Bitcoin con Clusters del Mapper.png\">\n",
    "</center>"
   ]
  },
  {
   "cell_type": "markdown",
   "id": "1773bf26",
   "metadata": {},
   "source": [
    "## **Resultados**"
   ]
  },
  {
   "cell_type": "markdown",
   "id": "426aea51",
   "metadata": {},
   "source": [
    "Fueron demasiado interesantes, satisfactorios y más de lo esperado a mí parecer, puesto que pude notar lo siguiente:\n",
    "\n",
    "### **Periodicidades**\n",
    "\n",
    "* **De diff_MA30:** A partir de la nube de puntos generada por el encaje de takens, se podía percibir que ya se podía contar con una y con el diagrama de persistencia se pudo confirmar eso mismo tras notar puntos, correspondiente al grupo de homología H1, ligeramente alejados al eje identidad (birth = death). \n",
    "* **De diff_STD30:** No se pudo detectar periodicidad en primera instancia tras observar la nube de puntos con el encaje de takens, sin embargo, al igual que diff_MA30, en el diagrama de persistencia se presenció un punto alejado al eje identidad corroborando que hay presencia de periodicidad.\n",
    "\n",
    "\n",
    "Estas hipótesis y hallazgos hasta el momento son positivos puesto que encaminan a que este análisis tenga veracidad y fundamento. A continuación,sobre la discusión de las tendencias, se puede percibir esto mismo mediante los resultados interesantes encontrados.\n",
    "\n",
    "### **Tendencias**\n",
    "\n",
    "**Alcista**\n",
    "\n",
    "El grupo 3 (Color verde claro) tuvo un rol en poder detectar comportamientos alcistas clave: Se puede observar que a medida a que se aproximan precios altos del bitcoin (Impulsos), por ejemplo alrededor del año 2018 y 2021, se tuvieron más y más presencia de estos puntos antes de esos impulsos.\n",
    "\n",
    "**Bajista**\n",
    "\n",
    "El grupo 2 (Color naranja) en cambio mostró poder determinar mayoritarimente zonas donde se va a tener un cambio de tendencia a la baja.\n",
    "\n",
    "**Colateral**\n",
    "\n",
    "Dado que los últimos datos son nuevos y no se tiene una evidencia muy larga sobre cómo se puede proseguir con la tendencia (A la baja o alza) tras romper un piso, esta resulta ser colateral: Hablando en términos de análisis técnico en donde el piso es dado por el precio que tuvo un pico en el día 17 de diciembre de 2017, cerca de 2018; poner cursor encima del punto, es decir un máximo histórico antes del gran impulso que hubo en 2021. \n",
    "\n",
    "Parece ser que el mapper logró entender este razonamiento muy bien y con el grupo 5 (Color naranja claro) pudo detectarlo. Hay otros grupos que sin duda alguna parecen modelar tendencia alcistas, bajistas y/o colaterales dentro de este tendencia desde un punto de vista multitemporal en análisis técnico, sin embargo estoy haciendo mención en esta discusión de resultados sobre la \"imágen más grande\" que modela la estructura de los precios del bitcoin.\n",
    "\n",
    "### **Mejoras y comentarios**\n",
    "\n",
    "Sin duda alguna hay áreas de mejoras que alcancé a detectar en los siguientes ámbitos:\n",
    "\n",
    "* **Selección de hiperpárametros en Mapper:** El análisis se beneficiaría de una búsqueda más sistemática y exhaustiva de los hiperparámetros óptimos para el Mapper. Por ejemplo, se podría implementar una validación cruzada adaptada a series temporales para explorar diferentes combinaciones de número de cubos (n_cubes), porcentaje de traslape (perc_overlap) y funciones de proyección o lentes. Además, evaluar diferentes algoritmos de clustering como DBSCAN o Agglomerative Clustering podría mejorar la identificación de patrones no lineales en los datos.\n",
    "\n",
    "* **Filtrado de altas frecuencias y outliers para estabilizar la estructura topológica de la serie:** Aplicar un filtrado de impulsos de alta frecuencia o valores atípicos (outliers) en la serie temporal. Estos eventos, que pueden representar ruido o errores de medición, distorsionan la estructura topológica de la señal al introducir ciclos o componentes efímeros en el diagrama de persistencia. Su eliminación mediante técnicas de suavizado o filtrado (como filtros de mediana, Hampel o wavelets) permitiría revelar patrones más estables y representativos, facilitando su identificación por el algoritmo Mapper y mejorando la calidad del análisis topológico.\n",
    "\n",
    "* **Mayor robustez usando otros métodos tradicionales de series temporales:** Se podría integrar el enfoque topológico con métodos clásicos de análisis de series de tiempo como modelos ARIMA/SARIMA o híbridos que tienden a integrar modelos de machine learning como Random Forest o Regresión Lineal usando XGBoost, entre otros.\n",
    "\n",
    "* **Ampliación de métricas y características:** Incluir indicadores técnicos adicionales como el RSI (Índice de Fuerza Relativa), MACD (Convergencia/Divergencia de Medias Móviles) o Bandas de Bollinger podrían enriquecer el análisis topológico. Asimismo, explorar la incorporación de datos exógenos como volumen de transacciones o eventos macroeconómicos relevantes podría mejorar la capacidad predictiva del modelo y la interpretación de las tendencias identificadas."
   ]
  }
 ],
 "metadata": {
  "kernelspec": {
   "display_name": "venv",
   "language": "python",
   "name": "python3"
  },
  "language_info": {
   "codemirror_mode": {
    "name": "ipython",
    "version": 3
   },
   "file_extension": ".py",
   "mimetype": "text/x-python",
   "name": "python",
   "nbconvert_exporter": "python",
   "pygments_lexer": "ipython3",
   "version": "3.10.11"
  }
 },
 "nbformat": 4,
 "nbformat_minor": 5
}
